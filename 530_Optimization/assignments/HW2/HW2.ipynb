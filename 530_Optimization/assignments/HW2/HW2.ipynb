{
 "cells": [
  {
   "cell_type": "code",
   "execution_count": 1,
   "id": "51d87a95",
   "metadata": {},
   "outputs": [],
   "source": [
    "import pandas as pd\n",
    "from pyomo.environ import *\n",
    "from pyomo.opt import SolverFactory"
   ]
  },
  {
   "cell_type": "markdown",
   "id": "2eb50736",
   "metadata": {},
   "source": [
    "## Problem 1"
   ]
  },
  {
   "cell_type": "markdown",
   "id": "fbf0496c",
   "metadata": {},
   "source": [
    "#### 1a - Using ConcreteModel"
   ]
  },
  {
   "cell_type": "code",
   "execution_count": 2,
   "id": "8476c774",
   "metadata": {},
   "outputs": [],
   "source": [
    "model = ConcreteModel()\n",
    "\n",
    "model.CROP = Set(initialize = ['cotton', 'corn'])\n",
    "\n",
    "model.Num = Var(model.CROP, domain = NonNegativeIntegers)\n",
    "\n",
    "model.fertilizer = Param(model.CROP, initialize = {'cotton': 6, 'corn': 2})\n",
    "model.labor = Param(model.CROP, initialize = {'cotton': 5,'corn': 3})\n",
    "model.profit = Param(model.CROP, initialize = {'cotton': 400, 'corn': 200})\n",
    "model.total_workers = 150\n",
    "model.total_fertilizers = 200\n",
    "model.total_land = 50\n",
    "\n",
    "def fertilizer_constraint(m, i):\n",
    "    return quicksum(m.fertilizer[i] * m.Num[i] for i in m.CROP) <= m.total_fertilizers\n",
    "\n",
    "def workers_constraint(m, i):\n",
    "    return quicksum(m.labor[i] * m.Num[i] for i in m.CROP) <= m.total_workers\n",
    "\n",
    "def total_land_constraint(m, i):\n",
    "    return quicksum(m.Num[i] for i in model.CROP) <= m.total_land\n",
    "\n",
    "def total_profit(m):\n",
    "#     return sum_product(model.profit, model.Num, index = model.CROP)\n",
    "    return quicksum(m.profit[i] * m.Num[i] for i in m.CROP)\n",
    "\n",
    "model.fertilizer_constraint = Constraint(rule = fertilizer_constraint)\n",
    "model.worker_constraint = Constraint(rule = workers_constraint)\n",
    "model.land_constraint = Constraint(rule = total_land_constraint)\n",
    "\n",
    "model.total_profit = Objective(rule = total_profit, sense = maximize)"
   ]
  },
  {
   "cell_type": "code",
   "execution_count": 3,
   "id": "fa01ad5a",
   "metadata": {},
   "outputs": [
    {
     "name": "stdout",
     "output_type": "stream",
     "text": [
      "Number of acres of cotton to plant :  30.0\n",
      "Number of acres of corn to plant :  0.0\n"
     ]
    }
   ],
   "source": [
    "opt = SolverFactory('glpk')\n",
    "opt.solve(model)\n",
    "for i in model.CROP:\n",
    "    print(f\"Number of acres of {i} to plant : \", value(model.Num[i]))"
   ]
  },
  {
   "cell_type": "markdown",
   "id": "990ca112",
   "metadata": {},
   "source": [
    "#### 1b - Using AbstractModel"
   ]
  },
  {
   "cell_type": "code",
   "execution_count": 4,
   "id": "ee0094d1",
   "metadata": {},
   "outputs": [],
   "source": [
    "m = AbstractModel()\n",
    "\n",
    "m.CROP = Set()\n",
    "\n",
    "m.Num = Var(m.CROP, domain = NonNegativeIntegers)\n",
    "\n",
    "m.fertilizer = Param(m.CROP)\n",
    "m.labor = Param(m.CROP)\n",
    "m.profit = Param(m.CROP)\n",
    "m.total_workers = 150\n",
    "m.total_fertilizers = 200\n",
    "m.total_land = 50\n",
    "\n",
    "def fertilizer_constraint(model, i):\n",
    "    return quicksum(model.fertilizer[i] * model.Num[i] for i in model.CROP) <= m.total_fertilizers\n",
    "\n",
    "def workers_constraint(model, i):\n",
    "    return quicksum(model.labor[i] * model.Num[i] for i in model.CROP) <= m.total_workers\n",
    "\n",
    "def total_land_constraint(model, i):\n",
    "    return quicksum(model.Num[i] for i in model.CROP) <= model.total_land\n",
    "\n",
    "def total_profit(model):\n",
    "#     return sum_product(model.profit, model.Num, index = model.CROP)\n",
    "    return quicksum(model.profit[i] * model.Num[i] for i in model.CROP)\n",
    "\n",
    "m.fertilizer_constraint = Constraint(rule = fertilizer_constraint)\n",
    "m.worker_constraint = Constraint(rule = workers_constraint)\n",
    "m.land_constraint = Constraint(rule = total_land_constraint)\n",
    "\n",
    "m.total_profit = Objective(rule = total_profit, sense = maximize)"
   ]
  },
  {
   "cell_type": "code",
   "execution_count": 5,
   "id": "f4ce7bb7",
   "metadata": {},
   "outputs": [],
   "source": [
    "df = pd.read_csv(\"hw2_p1b_data-1.csv\")\n",
    "instanceData = {None: {\n",
    "    'CROP': {None: df[\"Plant\"].unique()},\n",
    "    'fertilizer' : df.set_index(\"Plant\").to_dict()[\"fertilizerPerAcre\"],\n",
    "    'labor': df.set_index(\"Plant\").to_dict()[\"workersPerAcre\"],\n",
    "    'profit': df.set_index(\"Plant\").to_dict()[\"profitPerAcre\"],\n",
    "}}\n",
    "instance = m.create_instance(instanceData)"
   ]
  },
  {
   "cell_type": "code",
   "execution_count": 6,
   "id": "8210f7a9",
   "metadata": {},
   "outputs": [
    {
     "name": "stdout",
     "output_type": "stream",
     "text": [
      "Total profit in light of the newly available options:  19950.0\n",
      "Difference in profit with newly available options:  7950.0\n"
     ]
    }
   ],
   "source": [
    "opt = SolverFactory('glpk')\n",
    "opt.solve(instance)\n",
    "print(\"Total profit in light of the newly available options: \", instance.total_profit())\n",
    "\n",
    "print(\"Difference in profit with newly available options: \", instance.total_profit() - model.total_profit())"
   ]
  },
  {
   "cell_type": "markdown",
   "id": "cc703790",
   "metadata": {},
   "source": [
    "## Problem 2"
   ]
  },
  {
   "cell_type": "markdown",
   "id": "3613b101",
   "metadata": {},
   "source": [
    "#### Problem 2a - Using concrete model"
   ]
  },
  {
   "cell_type": "code",
   "execution_count": 7,
   "id": "bb20b97a",
   "metadata": {},
   "outputs": [],
   "source": [
    "pharma_model = ConcreteModel()\n",
    "\n",
    "pharma_model.PLANT = Set(initialize = ['Ohio Valley', 'Lakeview'])\n",
    "pharma_model.STORES = Set(initialize = ['Grand Rapids', 'Blue Ridge', 'Sunset'])\n",
    "\n",
    "pharma_model.boxes = Var(pharma_model.PLANT, pharma_model.STORES, domain = NonNegativeReals)\n",
    "\n",
    "pharma_model.cost = Param(pharma_model.PLANT, pharma_model.STORES, initialize = {\n",
    "    ('Ohio Valley', 'Grand Rapids'): 50,\n",
    "    ('Ohio Valley', 'Blue Ridge'): 40,\n",
    "    ('Ohio Valley', 'Sunset'): 100,\n",
    "    ('Lakeview', 'Grand Rapids'): 75,\n",
    "    ('Lakeview', 'Blue Ridge'): 50,\n",
    "    ('Lakeview', 'Sunset'): 75\n",
    "})\n",
    "\n",
    "pharma_model.production = Param(pharma_model.PLANT, initialize = {'Ohio Valley': 5000,'Lakeview': 7000})\n",
    "pharma_model.demand = Param(pharma_model.STORES, initialize = {'Grand Rapids': 3000,'Blue Ridge': 5000, 'Sunset': 4000})\n",
    "\n",
    "\n",
    "def production_constraint(m, p):\n",
    "    return quicksum(m.boxes[p, s] for s in m.STORES) <= m.production[p]\n",
    "\n",
    "def demand_constraint(m, s):\n",
    "    return quicksum(m.boxes[p, s] for p in m.PLANT) >= m.demand[s]\n",
    "\n",
    "def transportation_cost(m):\n",
    "    return quicksum(m.cost[p, s] * m.boxes[p, s] for p in m.PLANT for s in m.STORES)\n",
    "\n",
    "pharma_model.production_constraint = Constraint(pharma_model.PLANT, rule = production_constraint)\n",
    "pharma_model.demand_constraint = Constraint(pharma_model.STORES, rule = demand_constraint)\n",
    "\n",
    "pharma_model.transportation_cost = Objective(rule = transportation_cost, sense = minimize)"
   ]
  },
  {
   "cell_type": "code",
   "execution_count": 8,
   "id": "f62e3e11",
   "metadata": {},
   "outputs": [],
   "source": [
    "opt.solve(pharma_model)\n",
    "\n",
    "from collections import defaultdict\n",
    "d = defaultdict(lambda: defaultdict(str))\n",
    "for p in pharma_model.PLANT:\n",
    "    for s in pharma_model.STORES:\n",
    "        d[s][p] = value(pharma_model.boxes[p, s])  "
   ]
  },
  {
   "cell_type": "code",
   "execution_count": 9,
   "id": "13fc9e0a",
   "metadata": {},
   "outputs": [
    {
     "name": "stdout",
     "output_type": "stream",
     "text": [
      "Optimal Shipping plan: \n"
     ]
    },
    {
     "data": {
      "text/html": [
       "<div>\n",
       "<style scoped>\n",
       "    .dataframe tbody tr th:only-of-type {\n",
       "        vertical-align: middle;\n",
       "    }\n",
       "\n",
       "    .dataframe tbody tr th {\n",
       "        vertical-align: top;\n",
       "    }\n",
       "\n",
       "    .dataframe thead th {\n",
       "        text-align: right;\n",
       "    }\n",
       "</style>\n",
       "<table border=\"1\" class=\"dataframe\">\n",
       "  <thead>\n",
       "    <tr style=\"text-align: right;\">\n",
       "      <th></th>\n",
       "      <th>Grand Rapids</th>\n",
       "      <th>Blue Ridge</th>\n",
       "      <th>Sunset</th>\n",
       "    </tr>\n",
       "  </thead>\n",
       "  <tbody>\n",
       "    <tr>\n",
       "      <th>Ohio Valley</th>\n",
       "      <td>3000.0</td>\n",
       "      <td>2000.0</td>\n",
       "      <td>0.0</td>\n",
       "    </tr>\n",
       "    <tr>\n",
       "      <th>Lakeview</th>\n",
       "      <td>0.0</td>\n",
       "      <td>3000.0</td>\n",
       "      <td>4000.0</td>\n",
       "    </tr>\n",
       "  </tbody>\n",
       "</table>\n",
       "</div>"
      ],
      "text/plain": [
       "             Grand Rapids  Blue Ridge  Sunset\n",
       "Ohio Valley        3000.0      2000.0     0.0\n",
       "Lakeview              0.0      3000.0  4000.0"
      ]
     },
     "execution_count": 9,
     "metadata": {},
     "output_type": "execute_result"
    }
   ],
   "source": [
    "print(\"Optimal Shipping plan: \")\n",
    "pd.DataFrame(d).fillna('N/A')"
   ]
  },
  {
   "cell_type": "code",
   "execution_count": 10,
   "id": "f6be242d",
   "metadata": {},
   "outputs": [
    {
     "name": "stdout",
     "output_type": "stream",
     "text": [
      "Total transport cost:  680000.0\n"
     ]
    }
   ],
   "source": [
    "print(\"Total transport cost: \", pharma_model.transportation_cost())"
   ]
  },
  {
   "cell_type": "markdown",
   "id": "4006a329",
   "metadata": {},
   "source": [
    "#### Problem 2b - Using concrete model"
   ]
  },
  {
   "cell_type": "code",
   "execution_count": 11,
   "id": "5794bbe8",
   "metadata": {},
   "outputs": [],
   "source": [
    "pharma_m = AbstractModel()\n",
    "\n",
    "pharma_m.PLANT = Set()\n",
    "pharma_m.STORES = Set()\n",
    "\n",
    "pharma_m.boxes = Var(pharma_m.PLANT, pharma_m.STORES, domain = NonNegativeReals)\n",
    "\n",
    "pharma_m.cost = Param(pharma_m.PLANT, pharma_m.STORES)\n",
    "\n",
    "pharma_m.production = Param(pharma_m.PLANT)\n",
    "pharma_m.demand = Param(pharma_m.STORES)\n",
    "\n",
    "def production_constraint(m, p):\n",
    "    return quicksum(m.boxes[p, s] for s in m.STORES) <= m.production[p]\n",
    "\n",
    "def demand_constraint(m, s):\n",
    "    return quicksum(m.boxes[p, s] for p in m.PLANT) == m.demand[s]\n",
    "\n",
    "def transportation_cost(m):\n",
    "    return quicksum(m.cost[p, s] * m.boxes[p, s] for p in m.PLANT for s in m.STORES)\n",
    "\n",
    "pharma_m.production_constraint = Constraint(pharma_m.PLANT, rule = production_constraint)\n",
    "pharma_m.demand_constraint = Constraint(pharma_m.STORES, rule = demand_constraint)\n",
    "\n",
    "pharma_m.transportation_cost = Objective(rule = transportation_cost, sense = minimize)"
   ]
  },
  {
   "cell_type": "code",
   "execution_count": 12,
   "id": "154bf323",
   "metadata": {},
   "outputs": [],
   "source": [
    "df_1 = pd.read_csv(\"hw2_p2b_cost_data-1.csv\")\n",
    "df_2 = pd.read_csv(\"hw2_p2b_demand_data-1.csv\")\n",
    "df_3 = pd.read_csv(\"hw2_p2b_supply_data-1.csv\")"
   ]
  },
  {
   "cell_type": "code",
   "execution_count": 13,
   "id": "d51c2cdb",
   "metadata": {},
   "outputs": [],
   "source": [
    "instanceData = {None: {\n",
    "    'PLANT': {None: df_3['Plant_ID'].unique()},\n",
    "    'STORES': {None: df_2['Store_ID'].unique()},\n",
    "    'demand': df_2.set_index('Store_ID').to_dict()['demand'],\n",
    "    'production': df_3.set_index('Plant_ID').to_dict()['supply'],\n",
    "    'cost': df_1.set_index(['Plant_ID', 'Store_ID']).to_dict()['cost']\n",
    "}}"
   ]
  },
  {
   "cell_type": "code",
   "execution_count": 14,
   "id": "79ef0a3e",
   "metadata": {},
   "outputs": [],
   "source": [
    "pharma_instance = pharma_m.create_instance(instanceData)"
   ]
  },
  {
   "cell_type": "code",
   "execution_count": 17,
   "id": "5156c70d",
   "metadata": {},
   "outputs": [
    {
     "name": "stdout",
     "output_type": "stream",
     "text": [
      "Total transport cost:  270160.0\n"
     ]
    }
   ],
   "source": [
    "print(\"Total transport cost: \", pharma_instance.transportation_cost())"
   ]
  }
 ],
 "metadata": {
  "kernelspec": {
   "display_name": "opt",
   "language": "python",
   "name": "opt"
  },
  "language_info": {
   "codemirror_mode": {
    "name": "ipython",
    "version": 3
   },
   "file_extension": ".py",
   "mimetype": "text/x-python",
   "name": "python",
   "nbconvert_exporter": "python",
   "pygments_lexer": "ipython3",
   "version": "3.12.6"
  }
 },
 "nbformat": 4,
 "nbformat_minor": 5
}
