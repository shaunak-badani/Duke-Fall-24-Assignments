{
 "cells": [
  {
   "cell_type": "code",
   "execution_count": 7,
   "id": "9b63228f",
   "metadata": {},
   "outputs": [],
   "source": [
    "from pyomo.environ import *\n",
    "from pyomo.opt import SolverFactory"
   ]
  },
  {
   "cell_type": "code",
   "execution_count": 8,
   "id": "2a9474da",
   "metadata": {},
   "outputs": [
    {
     "name": "stdout",
     "output_type": "stream",
     "text": [
      "0.0 0.5 1.0 0.5 1.0 0.0 5.75\n"
     ]
    }
   ],
   "source": [
    "m = ConcreteModel()\n",
    "\n",
    "m.Chi2Bos = Var(domain=NonNegativeReals)\n",
    "m.Chi2New = Var(domain=NonNegativeReals)\n",
    "m.Chi2Tor = Var(domain=NonNegativeReals)\n",
    "m.Det2Bos = Var(domain=NonNegativeReals)\n",
    "m.Det2New = Var(domain=NonNegativeReals)\n",
    "m.Det2Tor = Var(domain=NonNegativeReals)\n",
    "\n",
    "m.Boston_Demand = Constraint(expr = m.Chi2Bos + m.Det2Bos >= 0.5)\n",
    "m.Newark_Demand = Constraint(expr = m.Chi2New + m.Det2New >= 1.5)\n",
    "m.Toronto_Demand = Constraint(expr = m.Chi2Tor + m.Det2Tor >= 1)\n",
    "m.Toronto_Supply = Constraint(expr = m.Chi2Bos + m.Chi2New + m.Chi2Tor <= 2)\n",
    "m.Detrit_Supply = Constraint(expr = m.Det2Bos + m.Det2New + m.Det2Tor <= 1.5)\n",
    "\n",
    "m.TotalCost = Objective(expr = 4*m.Chi2Bos + 2.5*m.Chi2New + 1.5*m.Chi2Tor + \n",
    "                        3*m.Det2Bos + 1.5*m.Det2New + m.Det2Tor, \n",
    "                        sense=minimize)\n",
    "\n",
    "opt = SolverFactory('glpk')\n",
    "sol = opt.solve(m) \n",
    "print(m.Chi2Bos(), m.Chi2New(), m.Chi2Tor(), \n",
    "      m.Det2Bos(), m.Det2New(), m.Det2Tor(),  m.TotalCost())"
   ]
  },
  {
   "cell_type": "code",
   "execution_count": 10,
   "id": "dcc51c6c-4112-45ce-b896-a17ccc2e219e",
   "metadata": {},
   "outputs": [
    {
     "name": "stdout",
     "output_type": "stream",
     "text": [
      "Model unknown\n",
      "\n",
      "  Variables:\n",
      "    Chi2Bos : Size=1, Index=None\n",
      "        Key  : Lower : Value : Upper : Fixed : Stale : Domain\n",
      "        None :     0 :   0.0 :  None : False : False : NonNegativeReals\n",
      "    Chi2New : Size=1, Index=None\n",
      "        Key  : Lower : Value : Upper : Fixed : Stale : Domain\n",
      "        None :     0 :   0.5 :  None : False : False : NonNegativeReals\n",
      "    Chi2Tor : Size=1, Index=None\n",
      "        Key  : Lower : Value : Upper : Fixed : Stale : Domain\n",
      "        None :     0 :   1.0 :  None : False : False : NonNegativeReals\n",
      "    Det2Bos : Size=1, Index=None\n",
      "        Key  : Lower : Value : Upper : Fixed : Stale : Domain\n",
      "        None :     0 :   0.5 :  None : False : False : NonNegativeReals\n",
      "    Det2New : Size=1, Index=None\n",
      "        Key  : Lower : Value : Upper : Fixed : Stale : Domain\n",
      "        None :     0 :   1.0 :  None : False : False : NonNegativeReals\n",
      "    Det2Tor : Size=1, Index=None\n",
      "        Key  : Lower : Value : Upper : Fixed : Stale : Domain\n",
      "        None :     0 :   0.0 :  None : False : False : NonNegativeReals\n",
      "\n",
      "  Objectives:\n",
      "    TotalCost : Size=1, Index=None, Active=True\n",
      "        Key  : Active : Value\n",
      "        None :   True :  5.75\n",
      "\n",
      "  Constraints:\n",
      "    Boston_Demand : Size=1\n",
      "        Key  : Lower : Body : Upper\n",
      "        None :   0.5 :  0.5 :  None\n",
      "    Newark_Demand : Size=1\n",
      "        Key  : Lower : Body : Upper\n",
      "        None :   1.5 :  1.5 :  None\n",
      "    Toronto_Demand : Size=1\n",
      "        Key  : Lower : Body : Upper\n",
      "        None :   1.0 :  1.0 :  None\n",
      "    Toronto_Supply : Size=1\n",
      "        Key  : Lower : Body : Upper\n",
      "        None :  None :  1.5 :   2.0\n",
      "    Detrit_Supply : Size=1\n",
      "        Key  : Lower : Body : Upper\n",
      "        None :  None :  1.5 :   1.5\n"
     ]
    }
   ],
   "source": [
    "m.display()"
   ]
  },
  {
   "cell_type": "code",
   "execution_count": 11,
   "id": "31ab37c1",
   "metadata": {},
   "outputs": [
    {
     "name": "stdout",
     "output_type": "stream",
     "text": [
      "[0.0, 0.5, 1.0, 0.5, 1.0, 0.0] 5.75\n"
     ]
    }
   ],
   "source": [
    "m = ConcreteModel()\n",
    "\n",
    "m.ORIGINS = Set(initialize=['Chi','Det']) \n",
    "m.DEST = Set(initialize=['Bos','New','Tor']) \n",
    "\n",
    "m.dem = Param(m.DEST, initialize={'Bos':0.5, 'New':1.5, 'Tor':1})\n",
    "m.avail = Param(m.ORIGINS, initialize={'Chi':2, 'Det':1.5})\n",
    "cost = {('Chi', 'Bos'): 4,\n",
    "        ('Chi', 'New'): 2.5,\n",
    "        ('Chi', 'Tor'): 1.5,\n",
    "        ('Det', 'Bos'): 3,\n",
    "        ('Det', 'New'): 1.5,\n",
    "        ('Det', 'Tor'): 1}\n",
    "m.cost = Param(m.ORIGINS, m.DEST, initialize=cost)\n",
    "\n",
    "m.Pounds = Var(m.ORIGINS,m.DEST,domain=NonNegativeReals)\n",
    "\n",
    "def Demand_Rule(m,d):\n",
    "    return sum(m.Pounds[o,d] for o in m.ORIGINS) >= m.dem[d]\n",
    "m.Demand = Constraint(m.DEST, rule=Demand_Rule)\n",
    "\n",
    "def Supply_Rule(m,o):\n",
    "    return sum(m.Pounds[o,d] for d in m.DEST) <= m.avail[o]\n",
    "m.Supply = Constraint(m.ORIGINS, rule=Supply_Rule)\n",
    "\n",
    "def TotalCost_Rule(m):\n",
    "    return (sum(m.cost[o,d]*m.Pounds[o,d] for o in m.ORIGINS for d in m.DEST))\n",
    "m.TotalCost = Objective(rule=TotalCost_Rule, sense=minimize)\n",
    "\n",
    "opt = SolverFactory('glpk')\n",
    "sol = opt.solve(m) \n",
    "print([value(m.Pounds[o,d]) for o in m.ORIGINS for d in m.DEST], m.TotalCost())\n"
   ]
  },
  {
   "cell_type": "code",
   "execution_count": 12,
   "id": "a3dcda2e-6348-424d-983b-022c87a5066c",
   "metadata": {},
   "outputs": [
    {
     "name": "stdout",
     "output_type": "stream",
     "text": [
      "Model unknown\n",
      "\n",
      "  Variables:\n",
      "    Pounds : Size=6, Index=ORIGINS*DEST\n",
      "        Key            : Lower : Value : Upper : Fixed : Stale : Domain\n",
      "        ('Chi', 'Bos') :     0 :   0.0 :  None : False : False : NonNegativeReals\n",
      "        ('Chi', 'New') :     0 :   0.5 :  None : False : False : NonNegativeReals\n",
      "        ('Chi', 'Tor') :     0 :   1.0 :  None : False : False : NonNegativeReals\n",
      "        ('Det', 'Bos') :     0 :   0.5 :  None : False : False : NonNegativeReals\n",
      "        ('Det', 'New') :     0 :   1.0 :  None : False : False : NonNegativeReals\n",
      "        ('Det', 'Tor') :     0 :   0.0 :  None : False : False : NonNegativeReals\n",
      "\n",
      "  Objectives:\n",
      "    TotalCost : Size=1, Index=None, Active=True\n",
      "        Key  : Active : Value\n",
      "        None :   True :  5.75\n",
      "\n",
      "  Constraints:\n",
      "    Demand : Size=3\n",
      "        Key : Lower : Body : Upper\n",
      "        Bos :   0.5 :  0.5 :  None\n",
      "        New :   1.5 :  1.5 :  None\n",
      "        Tor :   1.0 :  1.0 :  None\n",
      "    Supply : Size=2\n",
      "        Key : Lower : Body : Upper\n",
      "        Chi :  None :  1.5 :   2.0\n",
      "        Det :  None :  1.5 :   1.5\n"
     ]
    }
   ],
   "source": [
    "m.display()"
   ]
  }
 ],
 "metadata": {
  "kernelspec": {
   "display_name": "opt",
   "language": "python",
   "name": "opt"
  },
  "language_info": {
   "codemirror_mode": {
    "name": "ipython",
    "version": 3
   },
   "file_extension": ".py",
   "mimetype": "text/x-python",
   "name": "python",
   "nbconvert_exporter": "python",
   "pygments_lexer": "ipython3",
   "version": "3.12.7"
  }
 },
 "nbformat": 4,
 "nbformat_minor": 5
}
