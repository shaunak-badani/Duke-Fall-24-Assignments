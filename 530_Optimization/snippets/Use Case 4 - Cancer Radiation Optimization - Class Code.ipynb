{
 "cells": [
  {
   "cell_type": "code",
   "execution_count": 1,
   "id": "513f833d",
   "metadata": {},
   "outputs": [],
   "source": [
    "# Define package\n",
    "import pandas as pd\n",
    "from pyomo.environ import *\n",
    "from pyomo.opt import SolverFactory\n",
    "import math"
   ]
  },
  {
   "cell_type": "code",
   "execution_count": 2,
   "id": "48318cb3",
   "metadata": {},
   "outputs": [],
   "source": [
    "# Create INPUT_POINTS data\n",
    "input_points=pd.DataFrame(columns=['Point_ID','X_Coord','Y_Coord','Tumor_Flg'])\n",
    "input_points['Point_ID']=[1, 2, 3, 4, 5, 6, 7, 8, 9, 10, 11, 12, 13, 14, 15, 16]\n",
    "input_points['X_Coord']=[1, 1, 1, 1, 2, 2, 2, 2, 3, 3, 3, 3, 4, 4, 4, 4]\n",
    "input_points['Y_Coord']=[1, 2, 3, 4, 1, 2, 3, 4, 1, 2, 3, 4, 1, 2, 3, 4]\n",
    "input_points['Tumor_Flg']=[0, 1, 0, 0, 0, 1, 1, 0, 0, 0, 1, 0, 1, 0, 0, 0]"
   ]
  },
  {
   "cell_type": "code",
   "execution_count": 24,
   "id": "08e42a1a",
   "metadata": {},
   "outputs": [],
   "source": [
    "m = AbstractModel()\n",
    "\n",
    "m.SEEDS = Set(initialize = range(1, 4))\n",
    "m.CELLS = Set(initialize = range(1, 17))\n",
    "\n",
    "m.XSEED = Var(m.SEEDS, bounds = (0, 4), domain = NonNegativeReals)\n",
    "m.YSEED = Var(m.SEEDS, bounds = (0, 4), domain = NonNegativeReals)\n",
    "\n",
    "m.XCELL = Param(m.CELLS)\n",
    "m.YCELL = Param(m.CELLS)\n",
    "m.TFLAG = Param(m.CELLS)\n",
    "\n",
    "def distance(m, c, s):\n",
    "    return ((m.XSEED[s] - m.XCELL[c])**2  + (m.YSEED[s] - m.YCELL[c])**2)**0.5\n",
    "\n",
    "m.DISTANCE = Expression(m.CELLS, m.SEEDS, initialize = distance)\n",
    "\n",
    "def exposure(m, c, s):\n",
    "    return 1 / (m.DISTANCE[c, s] + 0.01)\n",
    "\n",
    "m.EXPOSURE = Expression(m.CELLS, m.SEEDS, initialize = exposure)\n",
    "\n",
    "m.minExp = 3\n",
    "def min_exposure_constraint(m, c):\n",
    "    if not m.TFLAG[c]:\n",
    "        return Constraint.Skip\n",
    "    return quicksum(m.EXPOSURE[c, s] for s in m.SEEDS) >= m.minExp\n",
    "\n",
    "m.minExposureConstraint = Constraint(m.CELLS, rule = min_exposure_constraint)\n",
    "\n",
    "def total_healthy_exposure(m):\n",
    "    return quicksum(m.EXPOSURE[c,s] * (1 - m.TFLAG[c]) for c in m.CELLS for s in m.SEEDS)\n",
    "\n",
    "m.totalHealthyExposure = Objective(rule = total_healthy_exposure, sense = minimize)"
   ]
  },
  {
   "cell_type": "code",
   "execution_count": 25,
   "id": "1909ff82-7298-486a-8169-e4bd6b6f2d0b",
   "metadata": {},
   "outputs": [
    {
     "name": "stdout",
     "output_type": "stream",
     "text": [
      "{None: {'XCELL': {1: 1, 2: 1, 3: 1, 4: 1, 5: 2, 6: 2, 7: 2, 8: 2, 9: 3, 10: 3, 11: 3, 12: 3, 13: 4, 14: 4, 15: 4, 16: 4}, 'YCELL': {1: 1, 2: 2, 3: 3, 4: 4, 5: 1, 6: 2, 7: 3, 8: 4, 9: 1, 10: 2, 11: 3, 12: 4, 13: 1, 14: 2, 15: 3, 16: 4}, 'TFLAG': {1: 0, 2: 1, 3: 0, 4: 0, 5: 0, 6: 1, 7: 1, 8: 0, 9: 0, 10: 0, 11: 1, 12: 0, 13: 1, 14: 0, 15: 0, 16: 0}}}\n"
     ]
    }
   ],
   "source": [
    "instanceData = {None: {\n",
    "    'XCELL' : input_points.set_index(['Point_ID']).to_dict()['X_Coord'],\n",
    "    'YCELL' : input_points.set_index(['Point_ID']).to_dict()['Y_Coord'],\n",
    "    'TFLAG' : input_points.set_index(['Point_ID']).to_dict()['Tumor_Flg']\n",
    "}}\n",
    "print(instanceData)\n",
    "instance = m.create_instance(instanceData)"
   ]
  },
  {
   "cell_type": "code",
   "execution_count": 26,
   "id": "53b65fd3-c25e-4eec-87eb-3430d253b593",
   "metadata": {},
   "outputs": [],
   "source": [
    "opt = SolverFactory('ipopt')\n",
    "results = opt.solve(instance)"
   ]
  },
  {
   "cell_type": "code",
   "execution_count": 27,
   "id": "a3cdbe46-06b3-4520-b3d0-f7bbed579e85",
   "metadata": {},
   "outputs": [
    {
     "name": "stdout",
     "output_type": "stream",
     "text": [
      "Model unknown\n",
      "\n",
      "  Variables:\n",
      "    XSEED : Size=3, Index=SEEDS\n",
      "        Key : Lower : Value              : Upper : Fixed : Stale : Domain\n",
      "          1 :     0 :  4.000000038158469 :     4 : False : False : NonNegativeReals\n",
      "          2 :     0 : 1.4102193180075375 :     4 : False : False : NonNegativeReals\n",
      "          3 :     0 : 2.5382688635638675 :     4 : False : False : NonNegativeReals\n",
      "    YSEED : Size=3, Index=SEEDS\n",
      "        Key : Lower : Value              : Upper : Fixed : Stale : Domain\n",
      "          1 :     0 : 0.5615295368839917 :     4 : False : False : NonNegativeReals\n",
      "          2 :     0 : 2.0428463314179064 :     4 : False : False : NonNegativeReals\n",
      "          3 :     0 : 2.9155848364250394 :     4 : False : False : NonNegativeReals\n",
      "\n",
      "  Objectives:\n",
      "    totalHealthyExposure : Size=1, Index=None, Active=True\n",
      "        Key  : Active : Value\n",
      "        None :   True : 17.93939409647452\n",
      "\n",
      "  Constraints:\n",
      "    minExposureConstraint : Size=5\n",
      "        Key : Lower : Body               : Upper\n",
      "          2 :   3.0 : 3.2223213875426535 :  None\n",
      "          6 :   3.0 : 2.9999999804998545 :  None\n",
      "          7 :   3.0 : 3.0000000082385916 :  None\n",
      "         11 :   3.0 :  2.999999981412213 :  None\n",
      "         13 :   3.0 : 2.9999999780539217 :  None\n"
     ]
    }
   ],
   "source": [
    "instance.display()"
   ]
  },
  {
   "cell_type": "code",
   "execution_count": null,
   "id": "b06bb85c-e8a0-4da3-bea7-5c1f56581998",
   "metadata": {},
   "outputs": [],
   "source": []
  }
 ],
 "metadata": {
  "kernelspec": {
   "display_name": "opt",
   "language": "python",
   "name": "opt"
  },
  "language_info": {
   "codemirror_mode": {
    "name": "ipython",
    "version": 3
   },
   "file_extension": ".py",
   "mimetype": "text/x-python",
   "name": "python",
   "nbconvert_exporter": "python",
   "pygments_lexer": "ipython3",
   "version": "3.12.7"
  }
 },
 "nbformat": 4,
 "nbformat_minor": 5
}
