{
 "cells": [
  {
   "cell_type": "code",
   "execution_count": null,
   "id": "513f833d",
   "metadata": {},
   "outputs": [],
   "source": [
    "# Define package\n",
    "import pandas as pd\n",
    "from pyomo.environ import *\n",
    "from pyomo.opt import SolverFactory\n",
    "import math"
   ]
  },
  {
   "cell_type": "code",
   "execution_count": null,
   "id": "48318cb3",
   "metadata": {},
   "outputs": [],
   "source": [
    "# Create INPUT_POINTS data\n",
    "input_points=pd.DataFrame(columns=['Point_ID','X_Coord','Y_Coord','Tumor_Flg'])\n",
    "input_points['Point_ID']=[1, 2, 3, 4, 5, 6, 7, 8, 9, 10, 11, 12, 13, 14, 15, 16]\n",
    "input_points['X_Coord']=[1, 1, 1, 1, 2, 2, 2, 2, 3, 3, 3, 3, 4, 4, 4, 4]\n",
    "input_points['Y_Coord']=[1, 2, 3, 4, 1, 2, 3, 4, 1, 2, 3, 4, 1, 2, 3, 4]\n",
    "input_points['Tumor_Flg']=[0, 1, 0, 0, 0, 1, 1, 0, 0, 0, 1, 0, 1, 0, 0, 0]"
   ]
  },
  {
   "cell_type": "code",
   "execution_count": null,
   "id": "08e42a1a",
   "metadata": {},
   "outputs": [],
   "source": []
  }
 ],
 "metadata": {
  "kernelspec": {
   "display_name": "Python 3 (ipykernel)",
   "language": "python",
   "name": "python3"
  },
  "language_info": {
   "codemirror_mode": {
    "name": "ipython",
    "version": 3
   },
   "file_extension": ".py",
   "mimetype": "text/x-python",
   "name": "python",
   "nbconvert_exporter": "python",
   "pygments_lexer": "ipython3",
   "version": "3.11.5"
  }
 },
 "nbformat": 4,
 "nbformat_minor": 5
}
