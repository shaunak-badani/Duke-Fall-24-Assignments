{
 "cells": [
  {
   "cell_type": "code",
   "execution_count": 142,
   "id": "567fb32c-defc-4fe2-84ea-22cdf93136a2",
   "metadata": {},
   "outputs": [],
   "source": [
    "import pandas as pd\n",
    "from pyomo.environ import *\n",
    "from pyomo.opt import SolverFactory"
   ]
  },
  {
   "cell_type": "markdown",
   "id": "663cab3f-dfc3-4a54-b593-3f91a64abe21",
   "metadata": {},
   "source": [
    "## Problem 1 Version 1"
   ]
  },
  {
   "cell_type": "code",
   "execution_count": 143,
   "id": "1f9f8956-8bf4-4f1d-a137-cbc37a4dd5a5",
   "metadata": {},
   "outputs": [],
   "source": [
    "m = ConcreteModel()\n",
    "\n",
    "m.GRADES = Set(initialize = ['1A', '1B', '2A'])\n",
    "m.TIMESLOTS = Set(initialize = range(8, 16))\n",
    "\n",
    "m.Assign = Var(m.GRADES, m.TIMESLOTS, domain = Binary)\n",
    "\n",
    "def one_timeslot_per_grade(model, t):\n",
    "    return quicksum(model.Assign[g, t] for g in model.GRADES) <= 1\n",
    "\n",
    "m.One_Timeslot_per_grade = Constraint(m.TIMESLOTS, rule = one_timeslot_per_grade)\n",
    "m.assign_sum = Objective(rule = lambda model: sum_product(model.Assign), sense = maximize)"
   ]
  },
  {
   "cell_type": "code",
   "execution_count": 144,
   "id": "3c9971fe-d886-4d06-a26c-8452177255cc",
   "metadata": {},
   "outputs": [
    {
     "data": {
      "text/plain": [
       "{'Problem': [{'Name': 'unknown', 'Lower bound': 8.0, 'Upper bound': 8.0, 'Number of objectives': 1, 'Number of constraints': 8, 'Number of variables': 24, 'Number of nonzeros': 24, 'Sense': 'maximize'}], 'Solver': [{'Status': 'ok', 'Termination condition': 'optimal', 'Statistics': {'Branch and bound': {'Number of bounded subproblems': '1', 'Number of created subproblems': '1'}}, 'Error rc': 0, 'Time': 0.008860349655151367}], 'Solution': [OrderedDict({'number of solutions': 0, 'number of solutions displayed': 0})]}"
      ]
     },
     "execution_count": 144,
     "metadata": {},
     "output_type": "execute_result"
    }
   ],
   "source": [
    "opt = SolverFactory('glpk')\n",
    "opt.solve(m)"
   ]
  },
  {
   "cell_type": "code",
   "execution_count": 146,
   "id": "1b594800-d0df-486c-9736-aecf422dcc0f",
   "metadata": {},
   "outputs": [
    {
     "data": {
      "text/html": [
       "<div>\n",
       "<style scoped>\n",
       "    .dataframe tbody tr th:only-of-type {\n",
       "        vertical-align: middle;\n",
       "    }\n",
       "\n",
       "    .dataframe tbody tr th {\n",
       "        vertical-align: top;\n",
       "    }\n",
       "\n",
       "    .dataframe thead th {\n",
       "        text-align: right;\n",
       "    }\n",
       "</style>\n",
       "<table border=\"1\" class=\"dataframe\">\n",
       "  <thead>\n",
       "    <tr style=\"text-align: right;\">\n",
       "      <th></th>\n",
       "      <th>0</th>\n",
       "    </tr>\n",
       "  </thead>\n",
       "  <tbody>\n",
       "    <tr>\n",
       "      <th>8</th>\n",
       "      <td>1A</td>\n",
       "    </tr>\n",
       "    <tr>\n",
       "      <th>9</th>\n",
       "      <td>1A</td>\n",
       "    </tr>\n",
       "    <tr>\n",
       "      <th>10</th>\n",
       "      <td>1A</td>\n",
       "    </tr>\n",
       "    <tr>\n",
       "      <th>11</th>\n",
       "      <td>1A</td>\n",
       "    </tr>\n",
       "    <tr>\n",
       "      <th>12</th>\n",
       "      <td>1A</td>\n",
       "    </tr>\n",
       "    <tr>\n",
       "      <th>13</th>\n",
       "      <td>1A</td>\n",
       "    </tr>\n",
       "    <tr>\n",
       "      <th>14</th>\n",
       "      <td>1A</td>\n",
       "    </tr>\n",
       "    <tr>\n",
       "      <th>15</th>\n",
       "      <td>1A</td>\n",
       "    </tr>\n",
       "  </tbody>\n",
       "</table>\n",
       "</div>"
      ],
      "text/plain": [
       "     0\n",
       "8   1A\n",
       "9   1A\n",
       "10  1A\n",
       "11  1A\n",
       "12  1A\n",
       "13  1A\n",
       "14  1A\n",
       "15  1A"
      ]
     },
     "execution_count": 146,
     "metadata": {},
     "output_type": "execute_result"
    }
   ],
   "source": [
    "d = {}\n",
    "for g in m.GRADES:\n",
    "    for t in m.TIMESLOTS:\n",
    "        if value(m.Assign[g, t]):\n",
    "            d[t] = g\n",
    "pd.DataFrame(d.values(), index = d.keys())"
   ]
  },
  {
   "cell_type": "markdown",
   "id": "05d04a44-e48d-45dd-b5db-6b4d1b0e3ae3",
   "metadata": {},
   "source": [
    "### Version 2"
   ]
  },
  {
   "cell_type": "code",
   "execution_count": 147,
   "id": "7ce3b709-3ff1-4448-978c-e1d22c0cec0d",
   "metadata": {},
   "outputs": [],
   "source": [
    "m = ConcreteModel()\n",
    "\n",
    "m.GRADES = Set(initialize = ['1A', '1B', '2A'])\n",
    "m.TIMESLOTS = Set(initialize = range(8, 16))\n",
    "\n",
    "m.Assign = Var(m.GRADES, m.TIMESLOTS, domain = Binary)\n",
    "\n",
    "def one_timeslot_per_grade(model, t):\n",
    "    return quicksum(model.Assign[g, t] for g in model.GRADES) <= 1\n",
    "\n",
    "m.One_Timeslot_per_grade = Constraint(m.TIMESLOTS, rule = one_timeslot_per_grade)\n",
    "m.assign_sum = Objective(rule = lambda model: sum_product(model.Assign), sense = maximize)\n",
    "\n",
    "def equality(model, g, g_prime):\n",
    "    if g == g_prime:\n",
    "        return Constraint.Skip\n",
    "    return quicksum(model.Assign[g, t] for t in model.TIMESLOTS) == quicksum(model.Assign[g_prime, t] for t in model.TIMESLOTS)\n",
    "\n",
    "m.equality_rule = Constraint(m.GRADES, m.GRADES, rule = equality)"
   ]
  },
  {
   "cell_type": "code",
   "execution_count": 149,
   "id": "f9f66b5e-fb21-4ce2-aca8-16ab240672de",
   "metadata": {},
   "outputs": [
    {
     "data": {
      "text/plain": [
       "{'Problem': [{'Name': 'unknown', 'Lower bound': 6.0, 'Upper bound': 6.0, 'Number of objectives': 1, 'Number of constraints': 14, 'Number of variables': 24, 'Number of nonzeros': 120, 'Sense': 'maximize'}], 'Solver': [{'Status': 'ok', 'Termination condition': 'optimal', 'Statistics': {'Branch and bound': {'Number of bounded subproblems': '587', 'Number of created subproblems': '587'}}, 'Error rc': 0, 'Time': 0.03182363510131836}], 'Solution': [OrderedDict({'number of solutions': 0, 'number of solutions displayed': 0})]}"
      ]
     },
     "execution_count": 149,
     "metadata": {},
     "output_type": "execute_result"
    }
   ],
   "source": [
    "opt.solve(m)"
   ]
  },
  {
   "cell_type": "code",
   "execution_count": 150,
   "id": "7a28e8b4-0068-447f-82df-cba519767eee",
   "metadata": {},
   "outputs": [
    {
     "data": {
      "text/html": [
       "<div>\n",
       "<style scoped>\n",
       "    .dataframe tbody tr th:only-of-type {\n",
       "        vertical-align: middle;\n",
       "    }\n",
       "\n",
       "    .dataframe tbody tr th {\n",
       "        vertical-align: top;\n",
       "    }\n",
       "\n",
       "    .dataframe thead th {\n",
       "        text-align: right;\n",
       "    }\n",
       "</style>\n",
       "<table border=\"1\" class=\"dataframe\">\n",
       "  <thead>\n",
       "    <tr style=\"text-align: right;\">\n",
       "      <th></th>\n",
       "      <th>0</th>\n",
       "    </tr>\n",
       "  </thead>\n",
       "  <tbody>\n",
       "    <tr>\n",
       "      <th>8</th>\n",
       "      <td>1A</td>\n",
       "    </tr>\n",
       "    <tr>\n",
       "      <th>14</th>\n",
       "      <td>1A</td>\n",
       "    </tr>\n",
       "    <tr>\n",
       "      <th>9</th>\n",
       "      <td>1B</td>\n",
       "    </tr>\n",
       "    <tr>\n",
       "      <th>13</th>\n",
       "      <td>1B</td>\n",
       "    </tr>\n",
       "    <tr>\n",
       "      <th>10</th>\n",
       "      <td>2A</td>\n",
       "    </tr>\n",
       "    <tr>\n",
       "      <th>11</th>\n",
       "      <td>2A</td>\n",
       "    </tr>\n",
       "  </tbody>\n",
       "</table>\n",
       "</div>"
      ],
      "text/plain": [
       "     0\n",
       "8   1A\n",
       "14  1A\n",
       "9   1B\n",
       "13  1B\n",
       "10  2A\n",
       "11  2A"
      ]
     },
     "execution_count": 150,
     "metadata": {},
     "output_type": "execute_result"
    }
   ],
   "source": [
    "d = {}\n",
    "for g in m.GRADES:\n",
    "    for t in m.TIMESLOTS:\n",
    "        if value(m.Assign[g, t]):\n",
    "            d[t] = g\n",
    "pd.DataFrame(d.values(), index = d.keys())\n"
   ]
  },
  {
   "cell_type": "markdown",
   "id": "cf6922a9-db29-4503-8dc3-75d64c830052",
   "metadata": {},
   "source": [
    "#### Using the other constraint"
   ]
  },
  {
   "cell_type": "code",
   "execution_count": 151,
   "id": "2df46eb7-458d-4319-ae33-d1f789f1da71",
   "metadata": {},
   "outputs": [],
   "source": [
    "m = ConcreteModel()\n",
    "\n",
    "m.GRADES = Set(initialize = ['1A', '1B', '2A'])\n",
    "m.TIMESLOTS = Set(initialize = range(8, 16))\n",
    "\n",
    "m.Assign = Var(m.GRADES, m.TIMESLOTS, domain = Binary)\n",
    "\n",
    "def one_timeslot_per_grade(model, t):\n",
    "    return quicksum(model.Assign[g, t] for g in model.GRADES) <= 1\n",
    "\n",
    "m.One_Timeslot_per_grade = Constraint(m.TIMESLOTS, rule = one_timeslot_per_grade)\n",
    "m.assign_sum = Objective(rule = lambda model: sum_product(model.Assign), sense = maximize)\n",
    "\n",
    "def equality(model, g, g_prime):\n",
    "    if g == g_prime:\n",
    "        return Constraint.Skip\n",
    "    return quicksum(model.Assign[g, t] for t in model.TIMESLOTS) <= len(model.TIMESLOTS) / len(model.GRADES)\n",
    "\n",
    "m.equality_rule = Constraint(m.GRADES, m.GRADES, rule = equality)"
   ]
  },
  {
   "cell_type": "code",
   "execution_count": 152,
   "id": "bf3e7458-65ec-4cc9-b560-b45cf420e471",
   "metadata": {},
   "outputs": [
    {
     "data": {
      "text/plain": [
       "{'Problem': [{'Name': 'unknown', 'Lower bound': 6.0, 'Upper bound': 6.0, 'Number of objectives': 1, 'Number of constraints': 14, 'Number of variables': 24, 'Number of nonzeros': 72, 'Sense': 'maximize'}], 'Solver': [{'Status': 'ok', 'Termination condition': 'optimal', 'Statistics': {'Branch and bound': {'Number of bounded subproblems': '1049', 'Number of created subproblems': '1049'}}, 'Error rc': 0, 'Time': 0.0295870304107666}], 'Solution': [OrderedDict({'number of solutions': 0, 'number of solutions displayed': 0})]}"
      ]
     },
     "execution_count": 152,
     "metadata": {},
     "output_type": "execute_result"
    }
   ],
   "source": [
    "opt.solve(m)"
   ]
  },
  {
   "cell_type": "code",
   "execution_count": 153,
   "id": "dc1d87f3-39bf-40ef-8b9f-3848cafafa68",
   "metadata": {},
   "outputs": [
    {
     "data": {
      "text/html": [
       "<div>\n",
       "<style scoped>\n",
       "    .dataframe tbody tr th:only-of-type {\n",
       "        vertical-align: middle;\n",
       "    }\n",
       "\n",
       "    .dataframe tbody tr th {\n",
       "        vertical-align: top;\n",
       "    }\n",
       "\n",
       "    .dataframe thead th {\n",
       "        text-align: right;\n",
       "    }\n",
       "</style>\n",
       "<table border=\"1\" class=\"dataframe\">\n",
       "  <thead>\n",
       "    <tr style=\"text-align: right;\">\n",
       "      <th></th>\n",
       "      <th>0</th>\n",
       "    </tr>\n",
       "  </thead>\n",
       "  <tbody>\n",
       "    <tr>\n",
       "      <th>8</th>\n",
       "      <td>1A</td>\n",
       "    </tr>\n",
       "    <tr>\n",
       "      <th>10</th>\n",
       "      <td>1A</td>\n",
       "    </tr>\n",
       "    <tr>\n",
       "      <th>9</th>\n",
       "      <td>1B</td>\n",
       "    </tr>\n",
       "    <tr>\n",
       "      <th>11</th>\n",
       "      <td>1B</td>\n",
       "    </tr>\n",
       "    <tr>\n",
       "      <th>13</th>\n",
       "      <td>2A</td>\n",
       "    </tr>\n",
       "    <tr>\n",
       "      <th>14</th>\n",
       "      <td>2A</td>\n",
       "    </tr>\n",
       "  </tbody>\n",
       "</table>\n",
       "</div>"
      ],
      "text/plain": [
       "     0\n",
       "8   1A\n",
       "10  1A\n",
       "9   1B\n",
       "11  1B\n",
       "13  2A\n",
       "14  2A"
      ]
     },
     "execution_count": 153,
     "metadata": {},
     "output_type": "execute_result"
    }
   ],
   "source": [
    "d = {}\n",
    "for g in m.GRADES:\n",
    "    for t in m.TIMESLOTS:\n",
    "        if value(m.Assign[g, t]):\n",
    "            d[t] = g\n",
    "pd.DataFrame(d.values(), index = d.keys())\n"
   ]
  },
  {
   "cell_type": "markdown",
   "id": "0696e956-e79a-4d21-a512-1b3a56f108f8",
   "metadata": {},
   "source": [
    "### Version 3"
   ]
  },
  {
   "cell_type": "code",
   "execution_count": 155,
   "id": "42f1c191-b5e2-43be-9cb0-d21080fe8420",
   "metadata": {},
   "outputs": [],
   "source": [
    "m = ConcreteModel()\n",
    "\n",
    "m.GRADES = Set(initialize = ['1A', '1B', '2A'])\n",
    "m.TIMESLOTS = Set(initialize = range(8, 16))\n",
    "m.ROOMS = Set(initialize = ['101', '102'])\n",
    "\n",
    "m.Assign = Var(m.GRADES, m.TIMESLOTS, m.ROOMS, domain = Binary)\n",
    "\n",
    "def one_grade_in_one_timeslot_and_one_room(model, t, r):\n",
    "    return quicksum(model.Assign[g, t, r] for g in model.GRADES) <= 1\n",
    "\n",
    "m.One_Timeslot_per_grade = Constraint(m.TIMESLOTS, m.ROOMS, rule = one_grade_in_one_timeslot_and_one_room)\n",
    "m.assign_sum = Objective(rule = lambda model: sum_product(model.Assign), sense = maximize)\n",
    "\n",
    "def equality(model, g, g_prime):\n",
    "    if g == g_prime:\n",
    "        return Constraint.Skip\n",
    "    return quicksum(model.Assign[g, t, r] for t in model.TIMESLOTS for r in model.ROOMS) == quicksum(model.Assign[g_prime, t, r] for t in model.TIMESLOTS for r in model.ROOMS)\n",
    "\n",
    "m.equality_rule = Constraint(m.GRADES, m.GRADES, rule = equality)"
   ]
  },
  {
   "cell_type": "code",
   "execution_count": 156,
   "id": "445354ad-8719-4eb8-aee1-ca692e510d11",
   "metadata": {},
   "outputs": [
    {
     "data": {
      "text/plain": [
       "{'Problem': [{'Name': 'unknown', 'Lower bound': 15.0, 'Upper bound': 15.0, 'Number of objectives': 1, 'Number of constraints': 22, 'Number of variables': 48, 'Number of nonzeros': 240, 'Sense': 'maximize'}], 'Solver': [{'Status': 'ok', 'Termination condition': 'optimal', 'Statistics': {'Branch and bound': {'Number of bounded subproblems': '131461', 'Number of created subproblems': '131461'}}, 'Error rc': 0, 'Time': 14.56630825996399}], 'Solution': [OrderedDict({'number of solutions': 0, 'number of solutions displayed': 0})]}"
      ]
     },
     "execution_count": 156,
     "metadata": {},
     "output_type": "execute_result"
    }
   ],
   "source": [
    "opt.solve(m)"
   ]
  },
  {
   "cell_type": "code",
   "execution_count": 157,
   "id": "9bc5e17d-bceb-4b86-8fb5-e7d681f04e6a",
   "metadata": {},
   "outputs": [],
   "source": [
    "from collections import defaultdict\n",
    "d = defaultdict(lambda: defaultdict(str))\n",
    "for g in m.GRADES:\n",
    "    for t in m.TIMESLOTS:\n",
    "        for r in m.ROOMS:\n",
    "            if value(m.Assign[g, t, r]):\n",
    "                d[r][t] = g"
   ]
  },
  {
   "cell_type": "code",
   "execution_count": 158,
   "id": "2a935388-abec-4cfe-9a5b-22de85de30d8",
   "metadata": {},
   "outputs": [
    {
     "data": {
      "text/html": [
       "<div>\n",
       "<style scoped>\n",
       "    .dataframe tbody tr th:only-of-type {\n",
       "        vertical-align: middle;\n",
       "    }\n",
       "\n",
       "    .dataframe tbody tr th {\n",
       "        vertical-align: top;\n",
       "    }\n",
       "\n",
       "    .dataframe thead th {\n",
       "        text-align: right;\n",
       "    }\n",
       "</style>\n",
       "<table border=\"1\" class=\"dataframe\">\n",
       "  <thead>\n",
       "    <tr style=\"text-align: right;\">\n",
       "      <th></th>\n",
       "      <th>101</th>\n",
       "      <th>102</th>\n",
       "    </tr>\n",
       "  </thead>\n",
       "  <tbody>\n",
       "    <tr>\n",
       "      <th>8</th>\n",
       "      <td>1A</td>\n",
       "      <td>1B</td>\n",
       "    </tr>\n",
       "    <tr>\n",
       "      <th>9</th>\n",
       "      <td>1B</td>\n",
       "      <td>1A</td>\n",
       "    </tr>\n",
       "    <tr>\n",
       "      <th>10</th>\n",
       "      <td>2A</td>\n",
       "      <td>2A</td>\n",
       "    </tr>\n",
       "    <tr>\n",
       "      <th>11</th>\n",
       "      <td>1A</td>\n",
       "      <td>1B</td>\n",
       "    </tr>\n",
       "    <tr>\n",
       "      <th>12</th>\n",
       "      <td>1B</td>\n",
       "      <td>1A</td>\n",
       "    </tr>\n",
       "    <tr>\n",
       "      <th>13</th>\n",
       "      <td>2A</td>\n",
       "      <td>1A</td>\n",
       "    </tr>\n",
       "    <tr>\n",
       "      <th>14</th>\n",
       "      <td>1B</td>\n",
       "      <td>2A</td>\n",
       "    </tr>\n",
       "    <tr>\n",
       "      <th>15</th>\n",
       "      <td>N/A</td>\n",
       "      <td>2A</td>\n",
       "    </tr>\n",
       "  </tbody>\n",
       "</table>\n",
       "</div>"
      ],
      "text/plain": [
       "    101 102\n",
       "8    1A  1B\n",
       "9    1B  1A\n",
       "10   2A  2A\n",
       "11   1A  1B\n",
       "12   1B  1A\n",
       "13   2A  1A\n",
       "14   1B  2A\n",
       "15  N/A  2A"
      ]
     },
     "execution_count": 158,
     "metadata": {},
     "output_type": "execute_result"
    }
   ],
   "source": [
    "pd.DataFrame(d).fillna('N/A').sort_index()"
   ]
  },
  {
   "cell_type": "markdown",
   "id": "411df75c-c918-4924-92cf-3d59a0f0d212",
   "metadata": {},
   "source": [
    "#### Uing alternate math condition"
   ]
  },
  {
   "cell_type": "code",
   "execution_count": 159,
   "id": "9fe0644c-fb3f-422b-a1eb-f3661bbb3da2",
   "metadata": {},
   "outputs": [],
   "source": [
    "m = ConcreteModel()\n",
    "\n",
    "m.GRADES = Set(initialize = ['1A', '1B', '2A'])\n",
    "m.TIMESLOTS = Set(initialize = range(8, 16))\n",
    "m.ROOMS = Set(initialize = ['101', '102'])\n",
    "\n",
    "m.Assign = Var(m.GRADES, m.TIMESLOTS, m.ROOMS, domain = Binary)\n",
    "\n",
    "def one_grade_in_one_timeslot_and_one_room(model, t, r):\n",
    "    return quicksum(model.Assign[g, t, r] for g in model.GRADES) <= 1\n",
    "\n",
    "def one_room_with_one_grade(model, g, t):\n",
    "    return quicksum(model.Assign[g, t, r] for r in model.ROOMS) <= 1\n",
    "    \n",
    "\n",
    "m.One_Timeslot_per_grade = Constraint(m.TIMESLOTS, m.ROOMS, rule = one_grade_in_one_timeslot_and_one_room)\n",
    "m.One_Room_with_one_grade = Constraint(m.GRADES, m.TIMESLOTS, rule = one_room_with_one_grade)\n",
    "\n",
    "m.assign_sum = Objective(rule = lambda model: sum_product(model.Assign), sense = maximize)\n",
    "\n",
    "def equality(model, g):\n",
    "    return quicksum(model.Assign[g, t, r] for t in model.TIMESLOTS for r in model.ROOMS) <= len(model.TIMESLOTS) * len(model.ROOMS) / len(model.GRADES)\n",
    "\n",
    "m.equality_rule = Constraint(m.GRADES, rule = equality)"
   ]
  },
  {
   "cell_type": "code",
   "execution_count": 160,
   "id": "d6ddd4b2-90da-4248-829b-ddea37a8faf7",
   "metadata": {},
   "outputs": [
    {
     "data": {
      "text/plain": [
       "{'Problem': [{'Name': 'unknown', 'Lower bound': 15.0, 'Upper bound': 15.0, 'Number of objectives': 1, 'Number of constraints': 43, 'Number of variables': 48, 'Number of nonzeros': 144, 'Sense': 'maximize'}], 'Solver': [{'Status': 'ok', 'Termination condition': 'optimal', 'Statistics': {'Branch and bound': {'Number of bounded subproblems': '25191', 'Number of created subproblems': '25191'}}, 'Error rc': 0, 'Time': 1.7218620777130127}], 'Solution': [OrderedDict({'number of solutions': 0, 'number of solutions displayed': 0})]}"
      ]
     },
     "execution_count": 160,
     "metadata": {},
     "output_type": "execute_result"
    }
   ],
   "source": [
    "opt.solve(m)"
   ]
  },
  {
   "cell_type": "code",
   "execution_count": 161,
   "id": "28810a17-8cd6-4836-8bc1-5384c16ec52a",
   "metadata": {},
   "outputs": [],
   "source": [
    "from collections import defaultdict\n",
    "d = defaultdict(lambda: defaultdict(str))\n",
    "for g in m.GRADES:\n",
    "    for t in m.TIMESLOTS:\n",
    "        for r in m.ROOMS:\n",
    "            if value(m.Assign[g, t, r]):\n",
    "                d[r][t] = g"
   ]
  },
  {
   "cell_type": "code",
   "execution_count": 162,
   "id": "eaa4e831-c9b9-4b6d-8dca-61b303d857e1",
   "metadata": {},
   "outputs": [
    {
     "data": {
      "text/html": [
       "<div>\n",
       "<style scoped>\n",
       "    .dataframe tbody tr th:only-of-type {\n",
       "        vertical-align: middle;\n",
       "    }\n",
       "\n",
       "    .dataframe tbody tr th {\n",
       "        vertical-align: top;\n",
       "    }\n",
       "\n",
       "    .dataframe thead th {\n",
       "        text-align: right;\n",
       "    }\n",
       "</style>\n",
       "<table border=\"1\" class=\"dataframe\">\n",
       "  <thead>\n",
       "    <tr style=\"text-align: right;\">\n",
       "      <th></th>\n",
       "      <th>101</th>\n",
       "      <th>102</th>\n",
       "    </tr>\n",
       "  </thead>\n",
       "  <tbody>\n",
       "    <tr>\n",
       "      <th>8</th>\n",
       "      <td>1A</td>\n",
       "      <td>2A</td>\n",
       "    </tr>\n",
       "    <tr>\n",
       "      <th>9</th>\n",
       "      <td>1A</td>\n",
       "      <td>N/A</td>\n",
       "    </tr>\n",
       "    <tr>\n",
       "      <th>10</th>\n",
       "      <td>1A</td>\n",
       "      <td>1B</td>\n",
       "    </tr>\n",
       "    <tr>\n",
       "      <th>11</th>\n",
       "      <td>1A</td>\n",
       "      <td>1B</td>\n",
       "    </tr>\n",
       "    <tr>\n",
       "      <th>12</th>\n",
       "      <td>2A</td>\n",
       "      <td>1B</td>\n",
       "    </tr>\n",
       "    <tr>\n",
       "      <th>13</th>\n",
       "      <td>1B</td>\n",
       "      <td>2A</td>\n",
       "    </tr>\n",
       "    <tr>\n",
       "      <th>14</th>\n",
       "      <td>2A</td>\n",
       "      <td>1B</td>\n",
       "    </tr>\n",
       "    <tr>\n",
       "      <th>15</th>\n",
       "      <td>1A</td>\n",
       "      <td>2A</td>\n",
       "    </tr>\n",
       "  </tbody>\n",
       "</table>\n",
       "</div>"
      ],
      "text/plain": [
       "   101  102\n",
       "8   1A   2A\n",
       "9   1A  N/A\n",
       "10  1A   1B\n",
       "11  1A   1B\n",
       "12  2A   1B\n",
       "13  1B   2A\n",
       "14  2A   1B\n",
       "15  1A   2A"
      ]
     },
     "execution_count": 162,
     "metadata": {},
     "output_type": "execute_result"
    }
   ],
   "source": [
    "pd.DataFrame(d).fillna('N/A').sort_index()"
   ]
  },
  {
   "cell_type": "markdown",
   "id": "dfc57f9b-6c1d-4b0c-8252-80d42e9f4e00",
   "metadata": {},
   "source": [
    "### Version 4 - with the constraint of len(TIMESLOTS) * len(ROOMS) / len(GRADES)"
   ]
  },
  {
   "cell_type": "code",
   "execution_count": 163,
   "id": "07c7f925-be41-4c57-9c58-7773b21133b3",
   "metadata": {},
   "outputs": [],
   "source": [
    "m = AbstractModel()\n",
    "\n",
    "m.GRADES = Set()\n",
    "m.TIMESLOTS = Set()\n",
    "m.ROOMS = Set()\n",
    "\n",
    "m.pop = Param(m.GRADES)\n",
    "m.cap = Param(m.ROOMS)\n",
    "\n",
    "m.Assign = Var(m.GRADES, m.TIMESLOTS, m.ROOMS, domain = Binary)\n",
    "\n",
    "def one_grade_in_one_timeslot_and_one_room(model, t, r):\n",
    "    return quicksum(model.Assign[g, t, r] for g in model.GRADES) <= 1\n",
    "\n",
    "def one_room_with_one_grade(model, g, t):\n",
    "    return quicksum(model.Assign[g, t, r] for r in model.ROOMS) <= 1\n",
    "\n",
    "def capacity_of_room(model, g, t, r):\n",
    "    return model.Assign[g, t, r] * model.pop[g] <= model.cap[r]\n",
    "\n",
    "m.One_Timeslot_per_grade = Constraint(m.TIMESLOTS, m.ROOMS, rule = one_grade_in_one_timeslot_and_one_room)\n",
    "m.One_Room_with_one_grade = Constraint(m.GRADES, m.TIMESLOTS, rule = one_room_with_one_grade)\n",
    "m.capacity_of_room = Constraint(m.GRADES, m.TIMESLOTS, m.ROOMS, rule = capacity_of_room)\n",
    "\n",
    "m.assign_sum = Objective(rule = lambda model: sum_product(model.Assign), sense = maximize)\n",
    "\n",
    "# This does not work because, len(TIMESLOTS) * len(ROOMS) / len(GRADES) = 5.33\n",
    "# This means that grade 1A could have a total time of 5, and grade 1B could have a total time of 0.\n",
    "# 5.33 is the MAXIMUM amount of face-to-face time ONE grade can have, if all timeslots across all rooms were divided equally,\n",
    "# but it doesn't assert that two grades should have the same face-to-face time.\n",
    "def wrong_equality(model, g):\n",
    "    return quicksum(model.Assign[g, t, r] for t in model.TIMESLOTS for r in model.ROOMS) <= len(model.TIMESLOTS) * len(model.ROOMS) / len(model.GRADES)\n",
    "\n",
    "\n",
    "m.equality_rule = Constraint(m.GRADES, rule = equality)"
   ]
  },
  {
   "cell_type": "code",
   "execution_count": 164,
   "id": "472ac7a2-85eb-49d7-b083-9633ef067b9f",
   "metadata": {},
   "outputs": [],
   "source": [
    "instanceData = { None: {\n",
    "    'GRADES': {None: ['1A', '1B', '2A']},\n",
    "    'TIMESLOTS': {None: range(8, 16)},\n",
    "    'ROOMS': {None: ['101', '102']},\n",
    "    'pop': {'1A': 31, '1B': 36, '2A': 39},\n",
    "    'cap': {'101': 35, '102': 50}\n",
    "}}"
   ]
  },
  {
   "cell_type": "code",
   "execution_count": 165,
   "id": "6f458ba6-a3fd-4d85-981d-27c1c12b92df",
   "metadata": {},
   "outputs": [],
   "source": [
    "instance = m.create_instance(instanceData)"
   ]
  },
  {
   "cell_type": "code",
   "execution_count": 167,
   "id": "47edd4e9-df5e-4abb-95b2-1c1bdc47f97c",
   "metadata": {},
   "outputs": [
    {
     "data": {
      "text/plain": [
       "{'Problem': [{'Name': 'unknown', 'Lower bound': 13.0, 'Upper bound': 13.0, 'Number of objectives': 1, 'Number of constraints': 91, 'Number of variables': 48, 'Number of nonzeros': 192, 'Sense': 'maximize'}], 'Solver': [{'Status': 'ok', 'Termination condition': 'optimal', 'Statistics': {'Branch and bound': {'Number of bounded subproblems': '1', 'Number of created subproblems': '1'}}, 'Error rc': 0, 'Time': 0.004607677459716797}], 'Solution': [OrderedDict({'number of solutions': 0, 'number of solutions displayed': 0})]}"
      ]
     },
     "execution_count": 167,
     "metadata": {},
     "output_type": "execute_result"
    }
   ],
   "source": [
    "opt.solve(instance)"
   ]
  },
  {
   "cell_type": "code",
   "execution_count": 168,
   "id": "52a01be0-5d14-4fa9-b54f-b77e40a74645",
   "metadata": {},
   "outputs": [],
   "source": [
    "from collections import defaultdict\n",
    "d = defaultdict(lambda: defaultdict(str))\n",
    "for g in instance.GRADES:\n",
    "    for t in instance.TIMESLOTS:\n",
    "        for r in instance.ROOMS:\n",
    "            if value(instance.Assign[g, t, r]):\n",
    "                d[r][t] = g"
   ]
  },
  {
   "cell_type": "code",
   "execution_count": 169,
   "id": "6da95fa4-4221-4b88-bfdd-ea7e8a2be78a",
   "metadata": {},
   "outputs": [
    {
     "data": {
      "text/html": [
       "<div>\n",
       "<style scoped>\n",
       "    .dataframe tbody tr th:only-of-type {\n",
       "        vertical-align: middle;\n",
       "    }\n",
       "\n",
       "    .dataframe tbody tr th {\n",
       "        vertical-align: top;\n",
       "    }\n",
       "\n",
       "    .dataframe thead th {\n",
       "        text-align: right;\n",
       "    }\n",
       "</style>\n",
       "<table border=\"1\" class=\"dataframe\">\n",
       "  <thead>\n",
       "    <tr style=\"text-align: right;\">\n",
       "      <th></th>\n",
       "      <th>101</th>\n",
       "      <th>102</th>\n",
       "    </tr>\n",
       "  </thead>\n",
       "  <tbody>\n",
       "    <tr>\n",
       "      <th>8</th>\n",
       "      <td>1A</td>\n",
       "      <td>1B</td>\n",
       "    </tr>\n",
       "    <tr>\n",
       "      <th>9</th>\n",
       "      <td>1A</td>\n",
       "      <td>1B</td>\n",
       "    </tr>\n",
       "    <tr>\n",
       "      <th>10</th>\n",
       "      <td>1A</td>\n",
       "      <td>1B</td>\n",
       "    </tr>\n",
       "    <tr>\n",
       "      <th>11</th>\n",
       "      <td>1A</td>\n",
       "      <td>1B</td>\n",
       "    </tr>\n",
       "    <tr>\n",
       "      <th>12</th>\n",
       "      <td>1A</td>\n",
       "      <td>1B</td>\n",
       "    </tr>\n",
       "    <tr>\n",
       "      <th>13</th>\n",
       "      <td>N/A</td>\n",
       "      <td>2A</td>\n",
       "    </tr>\n",
       "    <tr>\n",
       "      <th>14</th>\n",
       "      <td>N/A</td>\n",
       "      <td>2A</td>\n",
       "    </tr>\n",
       "    <tr>\n",
       "      <th>15</th>\n",
       "      <td>N/A</td>\n",
       "      <td>2A</td>\n",
       "    </tr>\n",
       "  </tbody>\n",
       "</table>\n",
       "</div>"
      ],
      "text/plain": [
       "    101 102\n",
       "8    1A  1B\n",
       "9    1A  1B\n",
       "10   1A  1B\n",
       "11   1A  1B\n",
       "12   1A  1B\n",
       "13  N/A  2A\n",
       "14  N/A  2A\n",
       "15  N/A  2A"
      ]
     },
     "execution_count": 169,
     "metadata": {},
     "output_type": "execute_result"
    }
   ],
   "source": [
    "pd.DataFrame(d).fillna('N/A').sort_index()"
   ]
  },
  {
   "cell_type": "markdown",
   "id": "0e329bb9-cf23-4945-8df5-1516759a40e4",
   "metadata": {},
   "source": [
    "- In the above example, grade 1A and 1B got 5 timeslots, but grade 2A got 3\n",
    "- Both of them satisfied the constraint $ \\sum_{r} \\sum_{t} {assign_{g,t,r}} <= 5.33 $\n",
    "- $ | TIMESLOTS | * | ROOMS | $ denotes the total available face-to-face time\n",
    "- $ | TIMESLOTS | * | ROOMS | / | GRADES| $ denotes the MAXIMUM total available face-to-face time for each grade, but it doesn't necessarily imply that the values of assign will reach that ceiling. The solution of (5, 0, 0) is also feasible, as per the above constraint.\n",
    "- For the same reasons, $ | TIMESLOTS | / | GRADES | $ in version 2 of the problem is a wrong constraint. It works in this case, since the classes are homogenous and 1A is not differentiable from 1B or 2A. "
   ]
  },
  {
   "cell_type": "markdown",
   "id": "2950f1be-1ba5-48a3-9358-661b0acc1cbb",
   "metadata": {},
   "source": [
    "### Correcting the equality"
   ]
  },
  {
   "cell_type": "code",
   "execution_count": 170,
   "id": "fb085dfb-6d1a-4680-97fb-9838279e1a74",
   "metadata": {},
   "outputs": [
    {
     "name": "stdout",
     "output_type": "stream",
     "text": [
      "WARNING: Implicitly replacing the Component attribute equality_rule\n",
      "(type=<class 'pyomo.core.base.constraint.IndexedConstraint'>) on block unknown\n",
      "with a new Component (type=<class\n",
      "'pyomo.core.base.constraint.IndexedConstraint'>). This is usually indicative\n",
      "of a modelling error. To avoid this warning, use block.del_component() and\n",
      "block.add_component().\n"
     ]
    }
   ],
   "source": [
    "def correct_equality(model, g, g_prime):\n",
    "    if g == g_prime:\n",
    "        return Constraint.Skip\n",
    "    return quicksum(model.Assign[g, t, r] for t in model.TIMESLOTS for r in model.ROOMS) == quicksum(model.Assign[g_prime, t, r] for t in model.TIMESLOTS for r in model.ROOMS)\n",
    "\n",
    "m.equality_rule = Constraint(m.GRADES, m.GRADES, rule = correct_equality)"
   ]
  },
  {
   "cell_type": "code",
   "execution_count": 171,
   "id": "9a1d1829-f8c5-4663-82da-da4d3342e92b",
   "metadata": {},
   "outputs": [],
   "source": [
    "instance = m.create_instance(instanceData)"
   ]
  },
  {
   "cell_type": "code",
   "execution_count": 172,
   "id": "d49e6cba-52cc-4a96-a4aa-63823699ee00",
   "metadata": {},
   "outputs": [
    {
     "data": {
      "text/plain": [
       "{'Problem': [{'Name': 'unknown', 'Lower bound': 12.0, 'Upper bound': 12.0, 'Number of objectives': 1, 'Number of constraints': 94, 'Number of variables': 48, 'Number of nonzeros': 336, 'Sense': 'maximize'}], 'Solver': [{'Status': 'ok', 'Termination condition': 'optimal', 'Statistics': {'Branch and bound': {'Number of bounded subproblems': '1', 'Number of created subproblems': '1'}}, 'Error rc': 0, 'Time': 0.006355762481689453}], 'Solution': [OrderedDict({'number of solutions': 0, 'number of solutions displayed': 0})]}"
      ]
     },
     "execution_count": 172,
     "metadata": {},
     "output_type": "execute_result"
    }
   ],
   "source": [
    "opt.solve(instance)"
   ]
  },
  {
   "cell_type": "code",
   "execution_count": 173,
   "id": "9f8bbf25-fc7c-417a-85b2-1d54e2768f4c",
   "metadata": {},
   "outputs": [],
   "source": [
    "from collections import defaultdict\n",
    "d = defaultdict(lambda: defaultdict(str))\n",
    "for g in instance.GRADES:\n",
    "    for t in instance.TIMESLOTS:\n",
    "        for r in instance.ROOMS:\n",
    "            if value(instance.Assign[g, t, r]):\n",
    "                d[r][t] = g"
   ]
  },
  {
   "cell_type": "code",
   "execution_count": 174,
   "id": "176eef7f-c721-411a-a54b-104e0d16b7fd",
   "metadata": {},
   "outputs": [
    {
     "data": {
      "text/html": [
       "<div>\n",
       "<style scoped>\n",
       "    .dataframe tbody tr th:only-of-type {\n",
       "        vertical-align: middle;\n",
       "    }\n",
       "\n",
       "    .dataframe tbody tr th {\n",
       "        vertical-align: top;\n",
       "    }\n",
       "\n",
       "    .dataframe thead th {\n",
       "        text-align: right;\n",
       "    }\n",
       "</style>\n",
       "<table border=\"1\" class=\"dataframe\">\n",
       "  <thead>\n",
       "    <tr style=\"text-align: right;\">\n",
       "      <th></th>\n",
       "      <th>101</th>\n",
       "      <th>102</th>\n",
       "    </tr>\n",
       "  </thead>\n",
       "  <tbody>\n",
       "    <tr>\n",
       "      <th>8</th>\n",
       "      <td>1A</td>\n",
       "      <td>1B</td>\n",
       "    </tr>\n",
       "    <tr>\n",
       "      <th>9</th>\n",
       "      <td>1A</td>\n",
       "      <td>2A</td>\n",
       "    </tr>\n",
       "    <tr>\n",
       "      <th>10</th>\n",
       "      <td>1A</td>\n",
       "      <td>1B</td>\n",
       "    </tr>\n",
       "    <tr>\n",
       "      <th>11</th>\n",
       "      <td>1A</td>\n",
       "      <td>2A</td>\n",
       "    </tr>\n",
       "    <tr>\n",
       "      <th>12</th>\n",
       "      <td>N/A</td>\n",
       "      <td>1B</td>\n",
       "    </tr>\n",
       "    <tr>\n",
       "      <th>13</th>\n",
       "      <td>N/A</td>\n",
       "      <td>2A</td>\n",
       "    </tr>\n",
       "    <tr>\n",
       "      <th>14</th>\n",
       "      <td>N/A</td>\n",
       "      <td>1B</td>\n",
       "    </tr>\n",
       "    <tr>\n",
       "      <th>15</th>\n",
       "      <td>N/A</td>\n",
       "      <td>2A</td>\n",
       "    </tr>\n",
       "  </tbody>\n",
       "</table>\n",
       "</div>"
      ],
      "text/plain": [
       "    101 102\n",
       "8    1A  1B\n",
       "9    1A  2A\n",
       "10   1A  1B\n",
       "11   1A  2A\n",
       "12  N/A  1B\n",
       "13  N/A  2A\n",
       "14  N/A  1B\n",
       "15  N/A  2A"
      ]
     },
     "execution_count": 174,
     "metadata": {},
     "output_type": "execute_result"
    }
   ],
   "source": [
    "pd.DataFrame(d).fillna('N/A').sort_index()"
   ]
  },
  {
   "cell_type": "markdown",
   "id": "1881dcb4-8115-4bb9-b4e1-29576b56b3af",
   "metadata": {},
   "source": [
    "### Version 5"
   ]
  },
  {
   "cell_type": "code",
   "execution_count": 175,
   "id": "0ccb7412-283f-4e1a-9775-02a954f99b11",
   "metadata": {},
   "outputs": [],
   "source": [
    "input_rooms = pd.read_csv(\"SRO_input_rooms.csv\")\n",
    "input_grades = pd.read_csv(\"SRO_input_grades.csv\")"
   ]
  },
  {
   "cell_type": "code",
   "execution_count": 176,
   "id": "026e44c9-ba8c-413a-a66d-43a6cdaf754f",
   "metadata": {},
   "outputs": [],
   "source": [
    "instanceData = {None:{\n",
    "    'GRADES': {None: input_grades['Grade_ID'].unique()},\n",
    "    'TIMESLOTS': {None: range(8, 16)},\n",
    "    'ROOMS': {None: input_rooms['Room_ID'].unique()},\n",
    "    'pop': input_grades.set_index('Grade_ID').to_dict()['Population'],\n",
    "    'cap': input_rooms.set_index('Room_ID').to_dict()['Capacity']\n",
    "}}"
   ]
  },
  {
   "cell_type": "code",
   "execution_count": 177,
   "id": "91015221-08e9-4047-be38-02b48a3b4013",
   "metadata": {},
   "outputs": [],
   "source": [
    "instance = m.create_instance(instanceData)"
   ]
  },
  {
   "cell_type": "code",
   "execution_count": 178,
   "id": "3f6b822d-19c0-48b0-9f4f-089411e9f922",
   "metadata": {},
   "outputs": [
    {
     "data": {
      "text/plain": [
       "{'Problem': [{'Name': 'unknown', 'Lower bound': 48.0, 'Upper bound': 48.0, 'Number of objectives': 1, 'Number of constraints': 2100, 'Number of variables': 1728, 'Number of nonzeros': 43200, 'Sense': 'maximize'}], 'Solver': [{'Status': 'ok', 'Termination condition': 'optimal', 'Statistics': {'Branch and bound': {'Number of bounded subproblems': '1', 'Number of created subproblems': '1'}}, 'Error rc': 0, 'Time': 0.05269336700439453}], 'Solution': [OrderedDict({'number of solutions': 0, 'number of solutions displayed': 0})]}"
      ]
     },
     "execution_count": 178,
     "metadata": {},
     "output_type": "execute_result"
    }
   ],
   "source": [
    "opt.solve(instance)"
   ]
  },
  {
   "cell_type": "code",
   "execution_count": 179,
   "id": "384f952a-cc32-4493-be41-22794b578db7",
   "metadata": {},
   "outputs": [],
   "source": [
    "from collections import defaultdict\n",
    "d = defaultdict(lambda: defaultdict(str))\n",
    "for g in instance.GRADES:\n",
    "    for t in instance.TIMESLOTS:\n",
    "        for r in instance.ROOMS:\n",
    "            if value(instance.Assign[g, t, r]):\n",
    "                d[r][t] = g"
   ]
  },
  {
   "cell_type": "code",
   "execution_count": 180,
   "id": "075f7069-639a-4b32-a616-eb8c79f6570f",
   "metadata": {},
   "outputs": [
    {
     "data": {
      "text/html": [
       "<div>\n",
       "<style scoped>\n",
       "    .dataframe tbody tr th:only-of-type {\n",
       "        vertical-align: middle;\n",
       "    }\n",
       "\n",
       "    .dataframe tbody tr th {\n",
       "        vertical-align: top;\n",
       "    }\n",
       "\n",
       "    .dataframe thead th {\n",
       "        text-align: right;\n",
       "    }\n",
       "</style>\n",
       "<table border=\"1\" class=\"dataframe\">\n",
       "  <thead>\n",
       "    <tr style=\"text-align: right;\">\n",
       "      <th></th>\n",
       "      <th>A121</th>\n",
       "      <th>A137</th>\n",
       "      <th>A123</th>\n",
       "      <th>A138</th>\n",
       "      <th>A120</th>\n",
       "      <th>C155</th>\n",
       "      <th>T2</th>\n",
       "      <th>T3</th>\n",
       "      <th>T1</th>\n",
       "    </tr>\n",
       "  </thead>\n",
       "  <tbody>\n",
       "    <tr>\n",
       "      <th>8</th>\n",
       "      <td>PreKA</td>\n",
       "      <td>N/A</td>\n",
       "      <td>PreKB</td>\n",
       "      <td>FirstA</td>\n",
       "      <td>PreKC</td>\n",
       "      <td>KindergartenA</td>\n",
       "      <td>ThirdB</td>\n",
       "      <td>ThirdA</td>\n",
       "      <td>SecondA</td>\n",
       "    </tr>\n",
       "    <tr>\n",
       "      <th>9</th>\n",
       "      <td>FirstA</td>\n",
       "      <td>PreKA</td>\n",
       "      <td>PreKB</td>\n",
       "      <td>N/A</td>\n",
       "      <td>PreKC</td>\n",
       "      <td>ThirdB</td>\n",
       "      <td>FirstB</td>\n",
       "      <td>FifthA</td>\n",
       "      <td>FourthA</td>\n",
       "    </tr>\n",
       "    <tr>\n",
       "      <th>10</th>\n",
       "      <td>FirstA</td>\n",
       "      <td>N/A</td>\n",
       "      <td>PreKA</td>\n",
       "      <td>PreKB</td>\n",
       "      <td>PreKC</td>\n",
       "      <td>FirstB</td>\n",
       "      <td>SecondA</td>\n",
       "      <td>KindergartenB</td>\n",
       "      <td>FourthA</td>\n",
       "    </tr>\n",
       "    <tr>\n",
       "      <th>11</th>\n",
       "      <td>PreKB</td>\n",
       "      <td>PreKA</td>\n",
       "      <td>FirstA</td>\n",
       "      <td>N/A</td>\n",
       "      <td>PreKC</td>\n",
       "      <td>KindergartenB</td>\n",
       "      <td>KindergartenA</td>\n",
       "      <td>FifthA</td>\n",
       "      <td>ThirdA</td>\n",
       "    </tr>\n",
       "    <tr>\n",
       "      <th>12</th>\n",
       "      <td>N/A</td>\n",
       "      <td>N/A</td>\n",
       "      <td>N/A</td>\n",
       "      <td>N/A</td>\n",
       "      <td>N/A</td>\n",
       "      <td>ThirdA</td>\n",
       "      <td>ThirdB</td>\n",
       "      <td>SecondA</td>\n",
       "      <td>FirstB</td>\n",
       "    </tr>\n",
       "    <tr>\n",
       "      <th>13</th>\n",
       "      <td>N/A</td>\n",
       "      <td>N/A</td>\n",
       "      <td>N/A</td>\n",
       "      <td>N/A</td>\n",
       "      <td>N/A</td>\n",
       "      <td>KindergartenA</td>\n",
       "      <td>KindergartenB</td>\n",
       "      <td>FifthA</td>\n",
       "      <td>FourthA</td>\n",
       "    </tr>\n",
       "    <tr>\n",
       "      <th>14</th>\n",
       "      <td>N/A</td>\n",
       "      <td>N/A</td>\n",
       "      <td>N/A</td>\n",
       "      <td>N/A</td>\n",
       "      <td>N/A</td>\n",
       "      <td>KindergartenA</td>\n",
       "      <td>KindergartenB</td>\n",
       "      <td>SecondA</td>\n",
       "      <td>FourthA</td>\n",
       "    </tr>\n",
       "    <tr>\n",
       "      <th>15</th>\n",
       "      <td>N/A</td>\n",
       "      <td>N/A</td>\n",
       "      <td>N/A</td>\n",
       "      <td>N/A</td>\n",
       "      <td>N/A</td>\n",
       "      <td>ThirdA</td>\n",
       "      <td>ThirdB</td>\n",
       "      <td>FifthA</td>\n",
       "      <td>FirstB</td>\n",
       "    </tr>\n",
       "  </tbody>\n",
       "</table>\n",
       "</div>"
      ],
      "text/plain": [
       "      A121   A137    A123    A138   A120           C155             T2  \\\n",
       "8    PreKA    N/A   PreKB  FirstA  PreKC  KindergartenA         ThirdB   \n",
       "9   FirstA  PreKA   PreKB     N/A  PreKC         ThirdB         FirstB   \n",
       "10  FirstA    N/A   PreKA   PreKB  PreKC         FirstB        SecondA   \n",
       "11   PreKB  PreKA  FirstA     N/A  PreKC  KindergartenB  KindergartenA   \n",
       "12     N/A    N/A     N/A     N/A    N/A         ThirdA         ThirdB   \n",
       "13     N/A    N/A     N/A     N/A    N/A  KindergartenA  KindergartenB   \n",
       "14     N/A    N/A     N/A     N/A    N/A  KindergartenA  KindergartenB   \n",
       "15     N/A    N/A     N/A     N/A    N/A         ThirdA         ThirdB   \n",
       "\n",
       "               T3       T1  \n",
       "8          ThirdA  SecondA  \n",
       "9          FifthA  FourthA  \n",
       "10  KindergartenB  FourthA  \n",
       "11         FifthA   ThirdA  \n",
       "12        SecondA   FirstB  \n",
       "13         FifthA  FourthA  \n",
       "14        SecondA  FourthA  \n",
       "15         FifthA   FirstB  "
      ]
     },
     "execution_count": 180,
     "metadata": {},
     "output_type": "execute_result"
    }
   ],
   "source": [
    "pd.DataFrame(d).fillna('N/A').sort_index()"
   ]
  },
  {
   "cell_type": "code",
   "execution_count": 181,
   "id": "6552e2c7-9969-4035-a924-a0ec54c09488",
   "metadata": {},
   "outputs": [],
   "source": [
    "face_to_face_time_third_B = 0\n",
    "for t in instance.TIMESLOTS:\n",
    "    for r in instance.ROOMS:\n",
    "        face_to_face_time_third_B += value(instance.Assign['ThirdB', t, r])"
   ]
  },
  {
   "cell_type": "code",
   "execution_count": 182,
   "id": "208615c3-6608-4fb1-be55-a831955ee936",
   "metadata": {},
   "outputs": [],
   "source": [
    "max_hours = face_to_face_time_third_B * input_grades['Population'].sum()"
   ]
  },
  {
   "cell_type": "code",
   "execution_count": 183,
   "id": "6edd06b1-a893-4dd7-bfce-1cee16aa3e8c",
   "metadata": {},
   "outputs": [
    {
     "data": {
      "text/plain": [
       "np.float64(952.0)"
      ]
     },
     "execution_count": 183,
     "metadata": {},
     "output_type": "execute_result"
    }
   ],
   "source": [
    "max_hours"
   ]
  }
 ],
 "metadata": {
  "kernelspec": {
   "display_name": "opt",
   "language": "python",
   "name": "opt"
  },
  "language_info": {
   "codemirror_mode": {
    "name": "ipython",
    "version": 3
   },
   "file_extension": ".py",
   "mimetype": "text/x-python",
   "name": "python",
   "nbconvert_exporter": "python",
   "pygments_lexer": "ipython3",
   "version": "3.12.7"
  }
 },
 "nbformat": 4,
 "nbformat_minor": 5
}
