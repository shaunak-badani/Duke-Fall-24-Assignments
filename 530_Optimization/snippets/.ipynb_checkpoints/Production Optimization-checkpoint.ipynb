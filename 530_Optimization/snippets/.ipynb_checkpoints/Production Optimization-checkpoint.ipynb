{
 "cells": [
  {
   "cell_type": "code",
   "execution_count": 21,
   "id": "9b63228f",
   "metadata": {},
   "outputs": [],
   "source": [
    "from pyomo.environ import *\n",
    "from pyomo.opt import SolverFactory\n",
    "import pandas as pd"
   ]
  },
  {
   "cell_type": "code",
   "execution_count": 22,
   "id": "2a9474da",
   "metadata": {},
   "outputs": [
    {
     "name": "stdout",
     "output_type": "stream",
     "text": [
      "10.0 10.0 5500.0\n"
     ]
    }
   ],
   "source": [
    "m = ConcreteModel()\n",
    "\n",
    "m.NCha = Var(domain=NonNegativeIntegers)\n",
    "m.NTab = Var(domain=NonNegativeIntegers)\n",
    "\n",
    "m.Total_Time = Constraint(expr = m.NCha + 3*m.NTab <= 40)\n",
    "m.Max_Prod_Tab = Constraint(expr = m.NTab <= 10)\n",
    "m.Max_Prod_Cha = Constraint(expr = m.NCha <= 40)\n",
    "# m.Balance = Constraint(expr = m.NCha == 4*m.NTab)\n",
    "\n",
    "m.TotalInc = Objective(expr = 100*m.NCha + 450*m.NTab, \n",
    "                       sense=maximize)\n",
    "\n",
    "opt = SolverFactory('glpk')\n",
    "sol = opt.solve(m) \n",
    "print(m.NCha(), m.NTab(), m.TotalInc())"
   ]
  },
  {
   "cell_type": "code",
   "execution_count": 23,
   "id": "5474c5c9-6115-4770-95ae-b32897807fd1",
   "metadata": {},
   "outputs": [
    {
     "name": "stdout",
     "output_type": "stream",
     "text": [
      "-5.0 15.0 6250.0\n"
     ]
    }
   ],
   "source": [
    "m = ConcreteModel()\n",
    "\n",
    "m.NCha = Var(domain=Integers)\n",
    "m.NTab = Var(domain=Integers)\n",
    "\n",
    "m.Total_Time = Constraint(expr = m.NCha + 3*m.NTab <= 40)\n",
    "m.Max_Prod_Tab = Constraint(expr = m.NTab <= 15)\n",
    "m.Max_Prod_Cha = Constraint(expr = m.NCha <= 40)\n",
    "# m.Balance = Constraint(expr = m.NCha == 4*m.NTab)\n",
    "\n",
    "m.TotalInc = Objective(expr = 100*m.NCha + 450*m.NTab, \n",
    "                       sense=maximize)\n",
    "\n",
    "opt = SolverFactory('glpk')\n",
    "sol = opt.solve(m) \n",
    "print(m.NCha(), m.NTab(), m.TotalInc())"
   ]
  },
  {
   "cell_type": "code",
   "execution_count": 54,
   "id": "31ab37c1",
   "metadata": {},
   "outputs": [
    {
     "name": "stdout",
     "output_type": "stream",
     "text": [
      "[6.0, 24.0] 5100.0\n"
     ]
    }
   ],
   "source": [
    "m = ConcreteModel()\n",
    "\n",
    "m.PTYPE = Set(initialize=['Tab','Cha']) \n",
    "m.NProd = Var(m.PTYPE, domain=NonNegativeIntegers)\n",
    "\n",
    "m.time = Param(m.PTYPE, initialize={'Tab':3, 'Cha':1})\n",
    "m.price = Param(m.PTYPE, initialize={'Tab':450, 'Cha':100})\n",
    "m.maxProd = Param(m.PTYPE, initialize={'Tab':10, 'Cha':40})\n",
    "m.avail = 45\n",
    "\n",
    "def Total_Time_Rule(m):\n",
    "    return sum(m.time[p]*m.NProd[p] for p in m.PTYPE) <= m.avail\n",
    "m.Total_Time = Constraint(rule=Total_Time_Rule)\n",
    "\n",
    "def Max_Prod_Rule(m, p):\n",
    "    return m.NProd[p] <= m.maxProd[p]\n",
    "m.Max_Prod = Constraint(m.PTYPE, rule=Max_Prod_Rule)\n",
    "\n",
    "def Balance_Rule(m):\n",
    "    return m.NProd['Cha'] == 4*m.NProd['Tab']\n",
    "m.Balance = Constraint(rule=Balance_Rule)\n",
    "\n",
    "def TotalInc_Rule(m):\n",
    "    return (sum(m.price[p]*m.NProd[p] for p in m.PTYPE))\n",
    "m.TotalInc = Objective(rule=TotalInc_Rule, sense=maximize)\n",
    "\n",
    "opt = SolverFactory('glpk')\n",
    "sol = opt.solve(m) \n",
    "print([value(m.NProd[p]) for p in m.PTYPE], m.TotalInc())\n"
   ]
  },
  {
   "cell_type": "code",
   "execution_count": 55,
   "id": "1ba7ee53",
   "metadata": {},
   "outputs": [],
   "source": [
    "# Generate data\n",
    "path='your_path'\n",
    "input_time = pd.DataFrame({\"Product\": ['Tab','Cha'], \"time\": [3,1], \"maxProd\": [10, 40]\n",
    "})\n",
    "input_time.to_csv('input_time.csv', index=False)\n",
    "\n",
    "input_price = pd.DataFrame({\"Product\": ['Tab','Cha'], \"price\": [450,100]})\n",
    "input_price.to_csv('input_price.csv', index=False)"
   ]
  },
  {
   "cell_type": "code",
   "execution_count": 56,
   "id": "1852076a",
   "metadata": {},
   "outputs": [],
   "source": [
    "# Read Data\n",
    "input_time=pd.read_csv(\"input_time.csv\")\n",
    "input_price=pd.read_csv(\"input_price.csv\")"
   ]
  },
  {
   "cell_type": "code",
   "execution_count": 63,
   "id": "cc32a67a",
   "metadata": {},
   "outputs": [],
   "source": [
    "m = AbstractModel()\n",
    "\n",
    "m.PTYPE = Set()\n",
    "m.NProd = Var(m.PTYPE, domain=NonNegativeIntegers)\n",
    "m.maxProd = Param(m.PTYPE)\n",
    "m.time = Param(m.PTYPE)\n",
    "m.price = Param(m.PTYPE)\n",
    "\n",
    "m.avail = 40\n",
    "\n",
    "def Total_Time_Rule(m):\n",
    "    return sum(m.time[p]*m.NProd[p] for p in m.PTYPE) <= m.avail\n",
    "m.Total_Time = Constraint(rule=Total_Time_Rule)\n",
    "\n",
    "def Max_Prod_Rule(m, p):\n",
    "    return m.NProd[p] <= m.maxProd[p]\n",
    "m.Max_Prod = Constraint(m.PTYPE, rule=Max_Prod_Rule)\n",
    "\n",
    "def Balance_Rule(m):\n",
    "    return m.NProd['Cha'] == 4*m.NProd['Tab']\n",
    "m.Balance = Constraint(rule=Balance_Rule)\n",
    "\n",
    "def TotalInc_Rule(m):\n",
    "    return (sum(m.price[p]*m.NProd[p] for p in m.PTYPE))\n",
    "m.TotalInc = Objective(rule=TotalInc_Rule, sense=maximize)"
   ]
  },
  {
   "cell_type": "code",
   "execution_count": 64,
   "id": "d2ea2cea",
   "metadata": {},
   "outputs": [],
   "source": [
    "# Build instance data\n",
    "instanceData= {None:{\n",
    "    'PTYPE': {None: input_time['Product']},\n",
    "    'time': input_time.set_index(['Product']).to_dict()['time'],\n",
    "    'price': input_price.set_index(['Product']).to_dict()['price'],\n",
    "    'maxProd': input_time.set_index(['Product']).to_dict()['maxProd']\n",
    "}}\n",
    "instance = m.create_instance(instanceData)"
   ]
  },
  {
   "cell_type": "code",
   "execution_count": 65,
   "id": "0a2d3df0",
   "metadata": {},
   "outputs": [
    {
     "name": "stdout",
     "output_type": "stream",
     "text": [
      "GLPSOL--GLPK LP/MIP Solver 5.0\n",
      "Parameter(s) specified in the command line:\n",
      " --write /tmp/tmpkaayxr16.glpk.raw --wglp /tmp/tmpwxii2g91.glpk.glp --cpxlp\n",
      " /tmp/tmpqzka48rr.pyomo.lp\n",
      "Reading problem data from '/tmp/tmpqzka48rr.pyomo.lp'...\n",
      "4 rows, 2 columns, 6 non-zeros\n",
      "2 integer variables, none of which are binary\n",
      "34 lines were read\n",
      "Writing problem data to '/tmp/tmpwxii2g91.glpk.glp'...\n",
      "22 lines were written\n",
      "GLPK Integer Optimizer 5.0\n",
      "4 rows, 2 columns, 6 non-zeros\n",
      "2 integer variables, none of which are binary\n",
      "Preprocessing...\n",
      "2 rows, 2 columns, 4 non-zeros\n",
      "2 integer variables, none of which are binary\n",
      "Scaling...\n",
      " A: min|aij| =  1.000e+00  max|aij| =  4.000e+00  ratio =  4.000e+00\n",
      "Problem data seem to be well scaled\n",
      "Constructing initial basis...\n",
      "Size of triangular part is 2\n",
      "Solving LP relaxation...\n",
      "GLPK Simplex Optimizer 5.0\n",
      "2 rows, 2 columns, 4 non-zeros\n",
      "*     0: obj =  -0.000000000e+00 inf =   0.000e+00 (1)\n",
      "*     1: obj =   4.857142857e+03 inf =   0.000e+00 (0)\n",
      "OPTIMAL LP SOLUTION FOUND\n",
      "Integer optimization begins...\n",
      "Long-step dual simplex will be used\n",
      "+     1: mip =     not found yet <=              +inf        (1; 0)\n",
      "+     2: >>>>>   4.250000000e+03 <=   4.250000000e+03   0.0% (1; 0)\n",
      "+     2: mip =   4.250000000e+03 <=     tree is empty   0.0% (0; 1)\n",
      "INTEGER OPTIMAL SOLUTION FOUND\n",
      "Time used:   0.0 secs\n",
      "Memory used: 0.1 Mb (59934 bytes)\n",
      "Writing MIP solution to '/tmp/tmpkaayxr16.glpk.raw'...\n",
      "15 lines were written\n"
     ]
    }
   ],
   "source": [
    "opt = SolverFactory('glpk')\n",
    "results = opt.solve(instance, tee = True)"
   ]
  },
  {
   "cell_type": "code",
   "execution_count": 68,
   "id": "4b8efe04-4f00-4184-b7ad-ca88a235c075",
   "metadata": {},
   "outputs": [
    {
     "name": "stdout",
     "output_type": "stream",
     "text": [
      "Model unknown\n",
      "\n",
      "  Variables:\n",
      "    NProd : Size=2, Index=PTYPE\n",
      "        Key : Lower : Value : Upper : Fixed : Stale : Domain\n",
      "        Cha :     0 :  20.0 :  None : False : False : NonNegativeIntegers\n",
      "        Tab :     0 :   5.0 :  None : False : False : NonNegativeIntegers\n",
      "\n",
      "  Objectives:\n",
      "    TotalInc : Size=1, Index=None, Active=True\n",
      "        Key  : Active : Value\n",
      "        None :   True : 4250.0\n",
      "\n",
      "  Constraints:\n",
      "    Total_Time : Size=1\n",
      "        Key  : Lower : Body : Upper\n",
      "        None :  None : 35.0 :  40.0\n",
      "    Max_Prod : Size=2\n",
      "        Key : Lower : Body : Upper\n",
      "        Cha :  None : 20.0 :  40.0\n",
      "        Tab :  None :  5.0 :  10.0\n",
      "    Balance : Size=1\n",
      "        Key  : Lower : Body : Upper\n",
      "        None :   0.0 :  0.0 :   0.0\n"
     ]
    }
   ],
   "source": [
    "instance.display()"
   ]
  },
  {
   "cell_type": "code",
   "execution_count": 69,
   "id": "690e14dd-94df-453b-9917-99159b69e584",
   "metadata": {},
   "outputs": [
    {
     "name": "stdout",
     "output_type": "stream",
     "text": [
      "/bin/bash: //home/shaunak/.miniconda3/lib/libtinfo.so.6: no version information available (required by /bin/bash)\n"
     ]
    }
   ],
   "source": [
    "!rm input_time.csv input_price.csv"
   ]
  }
 ],
 "metadata": {
  "kernelspec": {
   "display_name": "Python 3 (ipykernel)",
   "language": "python",
   "name": "python3"
  },
  "language_info": {
   "codemirror_mode": {
    "name": "ipython",
    "version": 3
   },
   "file_extension": ".py",
   "mimetype": "text/x-python",
   "name": "python",
   "nbconvert_exporter": "python",
   "pygments_lexer": "ipython3",
   "version": "3.12.7"
  }
 },
 "nbformat": 4,
 "nbformat_minor": 5
}
