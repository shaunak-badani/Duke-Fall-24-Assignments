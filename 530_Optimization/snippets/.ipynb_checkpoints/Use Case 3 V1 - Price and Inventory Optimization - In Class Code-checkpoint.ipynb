{
 "cells": [
  {
   "cell_type": "markdown",
   "id": "a5aeafa4",
   "metadata": {},
   "source": [
    "### Import packages"
   ]
  },
  {
   "cell_type": "code",
   "execution_count": 38,
   "id": "30bdb745-1008-4be6-bac7-57e737de1991",
   "metadata": {},
   "outputs": [],
   "source": [
    "import pandas as pd\n",
    "from pyomo.environ import *\n",
    "from pyomo.opt import SolverFactory, SolverStatus, TerminationCondition"
   ]
  },
  {
   "cell_type": "markdown",
   "id": "6cd5403b",
   "metadata": {},
   "source": [
    "### Create model"
   ]
  },
  {
   "cell_type": "code",
   "execution_count": 142,
   "id": "1b40782f-7703-4d30-bad3-f2c0d3be8be8",
   "metadata": {},
   "outputs": [],
   "source": [
    "# Define model\n",
    "m = ConcreteModel()\n",
    "\n",
    "# Define sets\n",
    "m.ITEMS = Set(initialize=['A', 'B', 'C'])\n",
    "\n",
    "# Define Decision Variable\n",
    "m.MarkPct = Var(m.ITEMS, domain = NonNegativeReals, bounds = (0,1))\n",
    "\n",
    "# Define Implicit Variables\n",
    "m.MarkPrice = Var(m.ITEMS, domain = NonNegativeReals)\n",
    "m.Demand = Var(m.ITEMS, domain = NonNegativeReals)\n",
    "m.Revenue = Var(m.ITEMS, domain = NonNegativeReals)\n",
    "m.FinalInv = Var(m.ITEMS, domain = NonNegativeReals)\n",
    "\n",
    "# Define Params\n",
    "m.basePrice = Param(m.ITEMS, initialize = {'A':21.5, 'B':29.5, 'C': 30.5})\n",
    "m.initInv = Param(m.ITEMS, initialize = {'A':10, 'B':30, 'C':41})\n",
    "m.maxPct = 0.80\n",
    "m.cap = 15\n",
    "m.dispCost = 1.2\n",
    "\n",
    "# Define equations for implicit variables\n",
    "\n",
    "# Define Markdown Price\n",
    "def Define_MarkPrice_Rule(m,i):\n",
    "    return (1-m.MarkPct[i])*m.basePrice[i] == m.MarkPrice[i]\n",
    "m.Define_MarkPrice =  Constraint(m.ITEMS, rule = Define_MarkPrice_Rule)\n",
    "\n",
    "# Define Demand\n",
    "def Define_Demand_Rule(m,i):\n",
    "    return  m.MarkPct[i]*m.initInv[i] == m.Demand[i]\n",
    "m.Define_Demand =  Constraint(m.ITEMS, rule = Define_Demand_Rule)\n",
    "\n",
    "# Define Revenue\n",
    "def Define_Revenue_Rule(m,i):\n",
    "    return m.MarkPrice[i]*m.Demand[i] == m.Revenue[i]\n",
    "m.Define_Revenue =  Constraint(m.ITEMS, rule = Define_Revenue_Rule)\n",
    "\n",
    "# Define Final Inv\n",
    "def Define_FinalInv_Rule(m,i):\n",
    "    return  m.initInv[i] - m.Demand[i] == m.FinalInv[i]\n",
    "m.Define_FinalInv =  Constraint(m.ITEMS, rule = Define_FinalInv_Rule)\n",
    "\n",
    "\n",
    "# Define Constraints\n",
    "\n",
    "# Define max discount\n",
    "def Max_Discount_Rule(m,i):\n",
    "    return m.MarkPct[i] <= m.maxPct\n",
    "m.Max_Discount = Constraint(m.ITEMS, rule = Max_Discount_Rule)  \n",
    "\n",
    "# Sell such that left inventory is less than min Inv\n",
    "def Leftover_Inv_Rule(m,i):\n",
    "    return m.FinalInv[i] <= m.cap\n",
    "m.Leftover_Inv_Rule = Constraint(m.ITEMS, rule = Leftover_Inv_Rule)\n",
    "\n",
    "# Define Objective Function\n",
    "def Max_Revenue_Rule(m):\n",
    "    return sum((m.Revenue[i] - m.dispCost*m.FinalInv[i]) for i in m.ITEMS) \n",
    "m.Max_Revenue = Objective(rule = Max_Revenue_Rule, sense = maximize)"
   ]
  },
  {
   "cell_type": "markdown",
   "id": "68293c67",
   "metadata": {},
   "source": [
    "### Solve"
   ]
  },
  {
   "cell_type": "code",
   "execution_count": 143,
   "id": "f890893f-13bc-439d-b63a-248809b8bbc3",
   "metadata": {
    "scrolled": true
   },
   "outputs": [],
   "source": [
    "solver = SolverFactory('ipopt')\n",
    "solution = solver.solve(m)"
   ]
  },
  {
   "cell_type": "markdown",
   "id": "681105d6",
   "metadata": {},
   "source": [
    "Check the status of the solver"
   ]
  },
  {
   "cell_type": "code",
   "execution_count": 144,
   "id": "0dbe5888",
   "metadata": {},
   "outputs": [
    {
     "name": "stdout",
     "output_type": "stream",
     "text": [
      "\n",
      "- Status: ok\n",
      "  Message: Ipopt 3.14.13\\x3a Optimal Solution Found\n",
      "  Termination condition: optimal\n",
      "  Id: 0\n",
      "  Error rc: 0\n",
      "  Time: 0.07656097412109375\n",
      "\n"
     ]
    }
   ],
   "source": [
    "print(solution['Solver'])"
   ]
  },
  {
   "cell_type": "markdown",
   "id": "f271be5c",
   "metadata": {},
   "source": [
    "### Extract Optimum Values"
   ]
  },
  {
   "cell_type": "markdown",
   "id": "21a5306b",
   "metadata": {},
   "source": [
    "Print optimum value of objective function"
   ]
  },
  {
   "cell_type": "code",
   "execution_count": 145,
   "id": "42cc5a4a-811d-4192-a701-85ee409caab1",
   "metadata": {},
   "outputs": [
    {
     "name": "stdout",
     "output_type": "stream",
     "text": [
      "523.6554958198277\n"
     ]
    }
   ],
   "source": [
    "print(m.Max_Revenue.expr())"
   ]
  },
  {
   "cell_type": "markdown",
   "id": "b41f5bd8",
   "metadata": {},
   "source": [
    "Print optimum value of decision and implicit variables - Option 1 (tailored syntax, need to substitute the right indexes and variable names for other use cases)"
   ]
  },
  {
   "cell_type": "code",
   "execution_count": 146,
   "id": "7957be53",
   "metadata": {},
   "outputs": [
    {
     "data": {
      "text/html": [
       "<div>\n",
       "<style scoped>\n",
       "    .dataframe tbody tr th:only-of-type {\n",
       "        vertical-align: middle;\n",
       "    }\n",
       "\n",
       "    .dataframe tbody tr th {\n",
       "        vertical-align: top;\n",
       "    }\n",
       "\n",
       "    .dataframe thead th {\n",
       "        text-align: right;\n",
       "    }\n",
       "</style>\n",
       "<table border=\"1\" class=\"dataframe\">\n",
       "  <thead>\n",
       "    <tr style=\"text-align: right;\">\n",
       "      <th></th>\n",
       "      <th>ITEM</th>\n",
       "      <th>Opt_Discount</th>\n",
       "      <th>Opt_Price</th>\n",
       "      <th>Opt_Revenue</th>\n",
       "      <th>Final_Inv</th>\n",
       "    </tr>\n",
       "  </thead>\n",
       "  <tbody>\n",
       "    <tr>\n",
       "      <th>0</th>\n",
       "      <td>A</td>\n",
       "      <td>0.527907</td>\n",
       "      <td>10.150000</td>\n",
       "      <td>53.582558</td>\n",
       "      <td>4.720930</td>\n",
       "    </tr>\n",
       "    <tr>\n",
       "      <th>1</th>\n",
       "      <td>B</td>\n",
       "      <td>0.520339</td>\n",
       "      <td>14.150000</td>\n",
       "      <td>220.883898</td>\n",
       "      <td>14.389831</td>\n",
       "    </tr>\n",
       "    <tr>\n",
       "      <th>2</th>\n",
       "      <td>C</td>\n",
       "      <td>0.634146</td>\n",
       "      <td>11.158537</td>\n",
       "      <td>290.121952</td>\n",
       "      <td>15.000000</td>\n",
       "    </tr>\n",
       "  </tbody>\n",
       "</table>\n",
       "</div>"
      ],
      "text/plain": [
       "  ITEM  Opt_Discount  Opt_Price  Opt_Revenue  Final_Inv\n",
       "0    A      0.527907  10.150000    53.582558   4.720930\n",
       "1    B      0.520339  14.150000   220.883898  14.389831\n",
       "2    C      0.634146  11.158537   290.121952  15.000000"
      ]
     },
     "execution_count": 146,
     "metadata": {},
     "output_type": "execute_result"
    }
   ],
   "source": [
    "data = {'ITEM': [], 'Opt_Discount': [], 'Opt_Price': [], 'Opt_Revenue': [], 'Final_Inv': []}\n",
    "for i in m.ITEMS:\n",
    "    data['ITEM'].append(i)\n",
    "    data['Opt_Discount'].append(m.MarkPct[i].value)\n",
    "    data['Opt_Price'].append(m.MarkPrice[i].value)\n",
    "    data['Opt_Revenue'].append(m.Revenue[i].value)\n",
    "    data['Final_Inv'].append(m.FinalInv[i].value)\n",
    "pd.DataFrame(data)"
   ]
  },
  {
   "cell_type": "markdown",
   "id": "af3c14f8",
   "metadata": {},
   "source": [
    "Print optimum value of decision and implicit variables - Option 2 (generic, same syntax will work for other use cases)"
   ]
  },
  {
   "cell_type": "code",
   "execution_count": 147,
   "id": "3212bf65",
   "metadata": {},
   "outputs": [
    {
     "data": {
      "text/html": [
       "<div>\n",
       "<style scoped>\n",
       "    .dataframe tbody tr th:only-of-type {\n",
       "        vertical-align: middle;\n",
       "    }\n",
       "\n",
       "    .dataframe tbody tr th {\n",
       "        vertical-align: top;\n",
       "    }\n",
       "\n",
       "    .dataframe thead th {\n",
       "        text-align: right;\n",
       "    }\n",
       "</style>\n",
       "<table border=\"1\" class=\"dataframe\">\n",
       "  <thead>\n",
       "    <tr style=\"text-align: right;\">\n",
       "      <th></th>\n",
       "      <th>Variable</th>\n",
       "      <th>Value</th>\n",
       "    </tr>\n",
       "  </thead>\n",
       "  <tbody>\n",
       "    <tr>\n",
       "      <th>0</th>\n",
       "      <td>MarkPct[A]</td>\n",
       "      <td>0.527907</td>\n",
       "    </tr>\n",
       "    <tr>\n",
       "      <th>1</th>\n",
       "      <td>MarkPct[B]</td>\n",
       "      <td>0.520339</td>\n",
       "    </tr>\n",
       "    <tr>\n",
       "      <th>2</th>\n",
       "      <td>MarkPct[C]</td>\n",
       "      <td>0.634146</td>\n",
       "    </tr>\n",
       "    <tr>\n",
       "      <th>3</th>\n",
       "      <td>MarkPrice[A]</td>\n",
       "      <td>10.150000</td>\n",
       "    </tr>\n",
       "    <tr>\n",
       "      <th>4</th>\n",
       "      <td>MarkPrice[B]</td>\n",
       "      <td>14.150000</td>\n",
       "    </tr>\n",
       "    <tr>\n",
       "      <th>5</th>\n",
       "      <td>MarkPrice[C]</td>\n",
       "      <td>11.158537</td>\n",
       "    </tr>\n",
       "    <tr>\n",
       "      <th>6</th>\n",
       "      <td>Demand[A]</td>\n",
       "      <td>5.279070</td>\n",
       "    </tr>\n",
       "    <tr>\n",
       "      <th>7</th>\n",
       "      <td>Demand[B]</td>\n",
       "      <td>15.610169</td>\n",
       "    </tr>\n",
       "    <tr>\n",
       "      <th>8</th>\n",
       "      <td>Demand[C]</td>\n",
       "      <td>26.000000</td>\n",
       "    </tr>\n",
       "    <tr>\n",
       "      <th>9</th>\n",
       "      <td>Revenue[A]</td>\n",
       "      <td>53.582558</td>\n",
       "    </tr>\n",
       "    <tr>\n",
       "      <th>10</th>\n",
       "      <td>Revenue[B]</td>\n",
       "      <td>220.883898</td>\n",
       "    </tr>\n",
       "    <tr>\n",
       "      <th>11</th>\n",
       "      <td>Revenue[C]</td>\n",
       "      <td>290.121952</td>\n",
       "    </tr>\n",
       "    <tr>\n",
       "      <th>12</th>\n",
       "      <td>FinalInv[A]</td>\n",
       "      <td>4.720930</td>\n",
       "    </tr>\n",
       "    <tr>\n",
       "      <th>13</th>\n",
       "      <td>FinalInv[B]</td>\n",
       "      <td>14.389831</td>\n",
       "    </tr>\n",
       "    <tr>\n",
       "      <th>14</th>\n",
       "      <td>FinalInv[C]</td>\n",
       "      <td>15.000000</td>\n",
       "    </tr>\n",
       "  </tbody>\n",
       "</table>\n",
       "</div>"
      ],
      "text/plain": [
       "        Variable       Value\n",
       "0     MarkPct[A]    0.527907\n",
       "1     MarkPct[B]    0.520339\n",
       "2     MarkPct[C]    0.634146\n",
       "3   MarkPrice[A]   10.150000\n",
       "4   MarkPrice[B]   14.150000\n",
       "5   MarkPrice[C]   11.158537\n",
       "6      Demand[A]    5.279070\n",
       "7      Demand[B]   15.610169\n",
       "8      Demand[C]   26.000000\n",
       "9     Revenue[A]   53.582558\n",
       "10    Revenue[B]  220.883898\n",
       "11    Revenue[C]  290.121952\n",
       "12   FinalInv[A]    4.720930\n",
       "13   FinalInv[B]   14.389831\n",
       "14   FinalInv[C]   15.000000"
      ]
     },
     "execution_count": 147,
     "metadata": {},
     "output_type": "execute_result"
    }
   ],
   "source": [
    "data = {'Variable': [], 'Value': []}\n",
    "for var in m.component_objects(Var):\n",
    "    for index in var:\n",
    "        data['Variable'].append(f'{var.name}[{index}]')\n",
    "        data['Value'].append(var[index].value)\n",
    "pd.DataFrame(data)"
   ]
  },
  {
   "cell_type": "code",
   "execution_count": null,
   "id": "e88f63d2",
   "metadata": {},
   "outputs": [],
   "source": []
  }
 ],
 "metadata": {
  "kernelspec": {
   "display_name": "Python 3 (ipykernel)",
   "language": "python",
   "name": "python3"
  },
  "language_info": {
   "codemirror_mode": {
    "name": "ipython",
    "version": 3
   },
   "file_extension": ".py",
   "mimetype": "text/x-python",
   "name": "python",
   "nbconvert_exporter": "python",
   "pygments_lexer": "ipython3",
   "version": "3.10.12"
  }
 },
 "nbformat": 4,
 "nbformat_minor": 5
}
