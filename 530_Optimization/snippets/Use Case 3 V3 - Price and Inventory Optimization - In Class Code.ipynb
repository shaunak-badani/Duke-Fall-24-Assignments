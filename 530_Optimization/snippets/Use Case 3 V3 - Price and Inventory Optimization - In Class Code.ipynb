{
 "cells": [
  {
   "cell_type": "markdown",
   "id": "6f59751e",
   "metadata": {},
   "source": [
    "### Import packages"
   ]
  },
  {
   "cell_type": "code",
   "execution_count": 3,
   "id": "30bdb745-1008-4be6-bac7-57e737de1991",
   "metadata": {},
   "outputs": [
    {
     "name": "stdout",
     "output_type": "stream",
     "text": [
      "Intel MKL WARNING: Support of Intel(R) Streaming SIMD Extensions 4.2 (Intel(R) SSE4.2) enabled only processors has been deprecated. Intel oneAPI Math Kernel Library 2025.0 will require Intel(R) Advanced Vector Extensions (Intel(R) AVX) instructions.\n",
      "Intel MKL WARNING: Support of Intel(R) Streaming SIMD Extensions 4.2 (Intel(R) SSE4.2) enabled only processors has been deprecated. Intel oneAPI Math Kernel Library 2025.0 will require Intel(R) Advanced Vector Extensions (Intel(R) AVX) instructions.\n"
     ]
    }
   ],
   "source": [
    "import pandas as pd\n",
    "from pyomo.environ import *\n",
    "from pyomo.opt import SolverFactory, SolverStatus, TerminationCondition"
   ]
  },
  {
   "cell_type": "markdown",
   "id": "0f32cb9c",
   "metadata": {},
   "source": [
    "### Create model"
   ]
  },
  {
   "cell_type": "code",
   "execution_count": 25,
   "id": "1b40782f-7703-4d30-bad3-f2c0d3be8be8",
   "metadata": {},
   "outputs": [],
   "source": [
    "# Define model\n",
    "m = AbstractModel()\n",
    "\n",
    "# Define sets\n",
    "m.ITEMS = Set()\n",
    "m.PGRID = Set()\n",
    "\n",
    "# Define Params\n",
    "m.mrkPriceGrid = Param(m.ITEMS, m.PGRID)\n",
    "m.demandPriceGrid = Param(m.ITEMS, m.PGRID)\n",
    "m.revenuePriceGrid = Param(m.ITEMS, m.PGRID)\n",
    "m.basePrice = Param(m.ITEMS, initialize = {'A':21.5, 'B':29.5, 'C': 30.5})\n",
    "m.initInv = Param(m.ITEMS, initialize = {'A':10, 'B':30, 'C':41})\n",
    "m.maxPct = 0.80\n",
    "m.cap = 20\n",
    "m.dispCost = 1.2\n",
    "\n",
    "# Define Decision Variable\n",
    "m.SelectPrice = Var(m.ITEMS, m.PGRID, domain = Binary)\n",
    "\n",
    "# Define Implicit Variables\n",
    "m.MarkPct = Var(m.ITEMS, domain = NonNegativeReals)\n",
    "m.MarkPrice = Var(m.ITEMS, domain = NonNegativeReals)\n",
    "m.Demand = Var(m.ITEMS, domain = NonNegativeReals)\n",
    "m.Revenue = Var(m.ITEMS, domain = NonNegativeReals)\n",
    "m.FinalInv = Var(m.ITEMS, domain = NonNegativeReals)\n",
    "\n",
    "\n",
    "# Define equations for implicit variables\n",
    "\n",
    "# Define Markdown Percent\n",
    "def Define_Markdown_Percent_Rule(m,i):\n",
    "    return m.MarkPct[i] == sum(m.SelectPrice[i,p]*m.mrkPriceGrid[i,p] for p in m.PGRID)\n",
    "m.Define_Markdown_Percent =  Constraint(m.ITEMS, rule = Define_Markdown_Percent_Rule)\n",
    "\n",
    "# Define Markdown Price\n",
    "def Define_MarkPrice_Rule(m,i):\n",
    "    return (1-m.MarkPct[i])*m.basePrice[i] == m.MarkPrice[i]\n",
    "m.Define_MarkPrice =  Constraint(m.ITEMS, rule = Define_MarkPrice_Rule)\n",
    "\n",
    "# Define Demand\n",
    "def Define_Demand_Rule(m,i):\n",
    "    return m.Demand[i] == sum(m.SelectPrice[i,p]*m.demandPriceGrid[i,p] for p in m.PGRID)\n",
    "m.Define_Demand =  Constraint(m.ITEMS, rule = Define_Demand_Rule)\n",
    "\n",
    "# Define Revenue\n",
    "def Define_Revenue_Rule(m,i):\n",
    "    return m.Revenue[i] == sum(m.SelectPrice[i,p]*m.revenuePriceGrid[i,p] for p in m.PGRID)\n",
    "m.Define_Revenue =  Constraint(m.ITEMS, rule = Define_Revenue_Rule)\n",
    "\n",
    "# Define Final Inv\n",
    "def Define_FinalInv_Rule(m,i):\n",
    "    return  m.initInv[i] - m.Demand[i] == m.FinalInv[i]\n",
    "m.Define_FinalInv =  Constraint(m.ITEMS, rule = Define_FinalInv_Rule)\n",
    "\n",
    "\n",
    "# Define Constraints\n",
    "\n",
    "# Only choose one price point per item\n",
    "def Only_One_Price_Point_Item_Rule(m,i):\n",
    "    return sum(m.SelectPrice[i,p] for p in m.PGRID) <= 1\n",
    "m.Only_One_Price_Point_Item =  Constraint(m.ITEMS, rule = Only_One_Price_Point_Item_Rule)\n",
    "\n",
    "\n",
    "# Only allow two items to be promoted\n",
    "def Only_Two_Items_To_Promote_Rule(m):\n",
    "    return sum(m.SelectPrice[i,p] for i in m.ITEMS for p in m.PGRID) <= 2\n",
    "m.Only_Two_Items_To_Promote =  Constraint(rule = Only_Two_Items_To_Promote_Rule)\n",
    "\n",
    "\n",
    "# Define max discount\n",
    "def Max_Discount_Rule(m,i):\n",
    "    return m.MarkPct[i] <= m.maxPct\n",
    "m.Max_Discount = Constraint(m.ITEMS, rule = Max_Discount_Rule)  \n",
    "\n",
    "# Sell such that left inventory is less than min Inv\n",
    "def Leftover_Inv_Rule(m,i):\n",
    "     return m.FinalInv[i] <= m.cap\n",
    "m.Leftover_Inv_Rule = Constraint(m.ITEMS, rule = Leftover_Inv_Rule)\n",
    "\n",
    "\n",
    "# Define Objective Function\n",
    "def Max_Revenue_Rule(m):\n",
    "    return sum((m.Revenue[i] - m.dispCost*m.FinalInv[i]) for i in m.ITEMS) \n",
    "m.Max_Revenue = Objective(rule = Max_Revenue_Rule, sense = maximize)"
   ]
  },
  {
   "cell_type": "code",
   "execution_count": 26,
   "id": "0a02febe",
   "metadata": {},
   "outputs": [],
   "source": [
    "# Create data for the model\n",
    "price_grid= pd.read_csv(\"../data/price_grid.csv\")\n",
    "instanceData = {None:{\n",
    "    'PGRID': {None: price_grid['PRICE_ID'].unique()},\n",
    "    'ITEMS': {None: price_grid['ITEM'].unique()},\n",
    "    'mrkPriceGrid': price_grid.set_index(['ITEM','PRICE_ID']).to_dict()['MarkdownPct'],\n",
    "    'demandPriceGrid': price_grid.set_index(['ITEM','PRICE_ID']).to_dict()['DEMAND'],\n",
    "    'revenuePriceGrid': price_grid.set_index(['ITEM','PRICE_ID']).to_dict()['REVENUE']}}\n",
    "\n",
    "# Instantiate model\n",
    "instance = m.create_instance(instanceData)\n"
   ]
  },
  {
   "cell_type": "markdown",
   "id": "2e6cb6bf",
   "metadata": {},
   "source": [
    "### Solve"
   ]
  },
  {
   "cell_type": "code",
   "execution_count": 27,
   "id": "f890893f-13bc-439d-b63a-248809b8bbc3",
   "metadata": {
    "scrolled": true
   },
   "outputs": [],
   "source": [
    "solver = SolverFactory('glpk')\n",
    "solution = solver.solve(instance)"
   ]
  },
  {
   "cell_type": "markdown",
   "id": "15049abf",
   "metadata": {},
   "source": [
    "Check the status of the solver"
   ]
  },
  {
   "cell_type": "code",
   "execution_count": 28,
   "id": "5f834e0d",
   "metadata": {},
   "outputs": [
    {
     "name": "stdout",
     "output_type": "stream",
     "text": [
      "\n",
      "- Status: ok\n",
      "  Termination condition: optimal\n",
      "  Statistics: \n",
      "    Branch and bound: \n",
      "      Number of bounded subproblems: 1\n",
      "      Number of created subproblems: 1\n",
      "  Error rc: 0\n",
      "  Time: 0.053878068923950195\n",
      "\n"
     ]
    }
   ],
   "source": [
    "print(solution['Solver'])"
   ]
  },
  {
   "cell_type": "markdown",
   "id": "d918f59f",
   "metadata": {},
   "source": [
    "### Extract Optimum Values"
   ]
  },
  {
   "cell_type": "markdown",
   "id": "0bcfbd12",
   "metadata": {},
   "source": [
    "Print optimum value of objective function"
   ]
  },
  {
   "cell_type": "code",
   "execution_count": 29,
   "id": "42cc5a4a-811d-4192-a701-85ee409caab1",
   "metadata": {},
   "outputs": [
    {
     "name": "stdout",
     "output_type": "stream",
     "text": [
      "439.095\n"
     ]
    }
   ],
   "source": [
    "print(instance.Max_Revenue.expr())"
   ]
  },
  {
   "cell_type": "markdown",
   "id": "e5a591c3",
   "metadata": {},
   "source": [
    "Print optimum value of decision and implicit variables - Option 1 (tailored syntax, need to substitute the right indexes and variable names for other use cases)"
   ]
  },
  {
   "cell_type": "code",
   "execution_count": 30,
   "id": "3bbc327b",
   "metadata": {},
   "outputs": [
    {
     "data": {
      "text/html": [
       "<div>\n",
       "<style scoped>\n",
       "    .dataframe tbody tr th:only-of-type {\n",
       "        vertical-align: middle;\n",
       "    }\n",
       "\n",
       "    .dataframe tbody tr th {\n",
       "        vertical-align: top;\n",
       "    }\n",
       "\n",
       "    .dataframe thead th {\n",
       "        text-align: right;\n",
       "    }\n",
       "</style>\n",
       "<table border=\"1\" class=\"dataframe\">\n",
       "  <thead>\n",
       "    <tr style=\"text-align: right;\">\n",
       "      <th></th>\n",
       "      <th>ITEM</th>\n",
       "      <th>Opt_Discount</th>\n",
       "      <th>Opt_Price</th>\n",
       "      <th>Opt_Revenue</th>\n",
       "      <th>Final_Inv</th>\n",
       "    </tr>\n",
       "  </thead>\n",
       "  <tbody>\n",
       "    <tr>\n",
       "      <th>0</th>\n",
       "      <td>A</td>\n",
       "      <td>0.0</td>\n",
       "      <td>21.50</td>\n",
       "      <td>0.000</td>\n",
       "      <td>10.0</td>\n",
       "    </tr>\n",
       "    <tr>\n",
       "      <th>1</th>\n",
       "      <td>B</td>\n",
       "      <td>0.5</td>\n",
       "      <td>14.75</td>\n",
       "      <td>221.250</td>\n",
       "      <td>15.0</td>\n",
       "    </tr>\n",
       "    <tr>\n",
       "      <th>2</th>\n",
       "      <td>C</td>\n",
       "      <td>0.7</td>\n",
       "      <td>9.15</td>\n",
       "      <td>262.605</td>\n",
       "      <td>12.3</td>\n",
       "    </tr>\n",
       "  </tbody>\n",
       "</table>\n",
       "</div>"
      ],
      "text/plain": [
       "  ITEM  Opt_Discount  Opt_Price  Opt_Revenue  Final_Inv\n",
       "0    A           0.0      21.50        0.000       10.0\n",
       "1    B           0.5      14.75      221.250       15.0\n",
       "2    C           0.7       9.15      262.605       12.3"
      ]
     },
     "execution_count": 30,
     "metadata": {},
     "output_type": "execute_result"
    }
   ],
   "source": [
    "data = {'ITEM': [], 'Opt_Discount': [], 'Opt_Price': [], 'Opt_Revenue': [], 'Final_Inv': []}\n",
    "for i in instance.ITEMS:\n",
    "    data['ITEM'].append(i)\n",
    "    data['Opt_Discount'].append(instance.MarkPct[i].value)\n",
    "    data['Opt_Price'].append(instance.MarkPrice[i].value)\n",
    "    data['Opt_Revenue'].append(instance.Revenue[i].value)\n",
    "    data['Final_Inv'].append(instance.FinalInv[i].value)\n",
    "pd.DataFrame(data)"
   ]
  },
  {
   "cell_type": "markdown",
   "id": "c9a44e77",
   "metadata": {},
   "source": [
    "Print optimum value of decision and implicit variables - Option 2 (generic, same syntax will work for other use cases)"
   ]
  },
  {
   "cell_type": "code",
   "execution_count": 33,
   "id": "f9361680",
   "metadata": {},
   "outputs": [
    {
     "data": {
      "text/html": [
       "<div>\n",
       "<style scoped>\n",
       "    .dataframe tbody tr th:only-of-type {\n",
       "        vertical-align: middle;\n",
       "    }\n",
       "\n",
       "    .dataframe tbody tr th {\n",
       "        vertical-align: top;\n",
       "    }\n",
       "\n",
       "    .dataframe thead th {\n",
       "        text-align: right;\n",
       "    }\n",
       "</style>\n",
       "<table border=\"1\" class=\"dataframe\">\n",
       "  <thead>\n",
       "    <tr style=\"text-align: right;\">\n",
       "      <th></th>\n",
       "      <th>Variable</th>\n",
       "      <th>Value</th>\n",
       "    </tr>\n",
       "  </thead>\n",
       "  <tbody>\n",
       "    <tr>\n",
       "      <th>0</th>\n",
       "      <td>SelectPrice[('A', 1)]</td>\n",
       "      <td>0.000</td>\n",
       "    </tr>\n",
       "    <tr>\n",
       "      <th>1</th>\n",
       "      <td>SelectPrice[('A', 2)]</td>\n",
       "      <td>0.000</td>\n",
       "    </tr>\n",
       "    <tr>\n",
       "      <th>2</th>\n",
       "      <td>SelectPrice[('A', 3)]</td>\n",
       "      <td>0.000</td>\n",
       "    </tr>\n",
       "    <tr>\n",
       "      <th>3</th>\n",
       "      <td>SelectPrice[('A', 4)]</td>\n",
       "      <td>0.000</td>\n",
       "    </tr>\n",
       "    <tr>\n",
       "      <th>4</th>\n",
       "      <td>SelectPrice[('B', 1)]</td>\n",
       "      <td>0.000</td>\n",
       "    </tr>\n",
       "    <tr>\n",
       "      <th>5</th>\n",
       "      <td>SelectPrice[('B', 2)]</td>\n",
       "      <td>0.000</td>\n",
       "    </tr>\n",
       "    <tr>\n",
       "      <th>6</th>\n",
       "      <td>SelectPrice[('B', 3)]</td>\n",
       "      <td>1.000</td>\n",
       "    </tr>\n",
       "    <tr>\n",
       "      <th>7</th>\n",
       "      <td>SelectPrice[('B', 4)]</td>\n",
       "      <td>0.000</td>\n",
       "    </tr>\n",
       "    <tr>\n",
       "      <th>8</th>\n",
       "      <td>SelectPrice[('C', 1)]</td>\n",
       "      <td>0.000</td>\n",
       "    </tr>\n",
       "    <tr>\n",
       "      <th>9</th>\n",
       "      <td>SelectPrice[('C', 2)]</td>\n",
       "      <td>0.000</td>\n",
       "    </tr>\n",
       "    <tr>\n",
       "      <th>10</th>\n",
       "      <td>SelectPrice[('C', 3)]</td>\n",
       "      <td>0.000</td>\n",
       "    </tr>\n",
       "    <tr>\n",
       "      <th>11</th>\n",
       "      <td>SelectPrice[('C', 4)]</td>\n",
       "      <td>1.000</td>\n",
       "    </tr>\n",
       "    <tr>\n",
       "      <th>12</th>\n",
       "      <td>MarkPct[A]</td>\n",
       "      <td>0.000</td>\n",
       "    </tr>\n",
       "    <tr>\n",
       "      <th>13</th>\n",
       "      <td>MarkPct[B]</td>\n",
       "      <td>0.500</td>\n",
       "    </tr>\n",
       "    <tr>\n",
       "      <th>14</th>\n",
       "      <td>MarkPct[C]</td>\n",
       "      <td>0.700</td>\n",
       "    </tr>\n",
       "    <tr>\n",
       "      <th>15</th>\n",
       "      <td>MarkPrice[A]</td>\n",
       "      <td>21.500</td>\n",
       "    </tr>\n",
       "    <tr>\n",
       "      <th>16</th>\n",
       "      <td>MarkPrice[B]</td>\n",
       "      <td>14.750</td>\n",
       "    </tr>\n",
       "    <tr>\n",
       "      <th>17</th>\n",
       "      <td>MarkPrice[C]</td>\n",
       "      <td>9.150</td>\n",
       "    </tr>\n",
       "    <tr>\n",
       "      <th>18</th>\n",
       "      <td>Demand[A]</td>\n",
       "      <td>0.000</td>\n",
       "    </tr>\n",
       "    <tr>\n",
       "      <th>19</th>\n",
       "      <td>Demand[B]</td>\n",
       "      <td>15.000</td>\n",
       "    </tr>\n",
       "    <tr>\n",
       "      <th>20</th>\n",
       "      <td>Demand[C]</td>\n",
       "      <td>28.700</td>\n",
       "    </tr>\n",
       "    <tr>\n",
       "      <th>21</th>\n",
       "      <td>Revenue[A]</td>\n",
       "      <td>0.000</td>\n",
       "    </tr>\n",
       "    <tr>\n",
       "      <th>22</th>\n",
       "      <td>Revenue[B]</td>\n",
       "      <td>221.250</td>\n",
       "    </tr>\n",
       "    <tr>\n",
       "      <th>23</th>\n",
       "      <td>Revenue[C]</td>\n",
       "      <td>262.605</td>\n",
       "    </tr>\n",
       "    <tr>\n",
       "      <th>24</th>\n",
       "      <td>FinalInv[A]</td>\n",
       "      <td>10.000</td>\n",
       "    </tr>\n",
       "    <tr>\n",
       "      <th>25</th>\n",
       "      <td>FinalInv[B]</td>\n",
       "      <td>15.000</td>\n",
       "    </tr>\n",
       "    <tr>\n",
       "      <th>26</th>\n",
       "      <td>FinalInv[C]</td>\n",
       "      <td>12.300</td>\n",
       "    </tr>\n",
       "  </tbody>\n",
       "</table>\n",
       "</div>"
      ],
      "text/plain": [
       "                 Variable    Value\n",
       "0   SelectPrice[('A', 1)]    0.000\n",
       "1   SelectPrice[('A', 2)]    0.000\n",
       "2   SelectPrice[('A', 3)]    0.000\n",
       "3   SelectPrice[('A', 4)]    0.000\n",
       "4   SelectPrice[('B', 1)]    0.000\n",
       "5   SelectPrice[('B', 2)]    0.000\n",
       "6   SelectPrice[('B', 3)]    1.000\n",
       "7   SelectPrice[('B', 4)]    0.000\n",
       "8   SelectPrice[('C', 1)]    0.000\n",
       "9   SelectPrice[('C', 2)]    0.000\n",
       "10  SelectPrice[('C', 3)]    0.000\n",
       "11  SelectPrice[('C', 4)]    1.000\n",
       "12             MarkPct[A]    0.000\n",
       "13             MarkPct[B]    0.500\n",
       "14             MarkPct[C]    0.700\n",
       "15           MarkPrice[A]   21.500\n",
       "16           MarkPrice[B]   14.750\n",
       "17           MarkPrice[C]    9.150\n",
       "18              Demand[A]    0.000\n",
       "19              Demand[B]   15.000\n",
       "20              Demand[C]   28.700\n",
       "21             Revenue[A]    0.000\n",
       "22             Revenue[B]  221.250\n",
       "23             Revenue[C]  262.605\n",
       "24            FinalInv[A]   10.000\n",
       "25            FinalInv[B]   15.000\n",
       "26            FinalInv[C]   12.300"
      ]
     },
     "execution_count": 33,
     "metadata": {},
     "output_type": "execute_result"
    }
   ],
   "source": [
    "data = {'Variable': [], 'Value': []}\n",
    "for var in instance.component_objects(Var):\n",
    "    for index in var:\n",
    "        data['Variable'].append(f'{var.name}[{index}]')\n",
    "        data['Value'].append(var[index].value)\n",
    "pd.DataFrame(data)"
   ]
  },
  {
   "cell_type": "code",
   "execution_count": null,
   "id": "fd74fed8",
   "metadata": {},
   "outputs": [],
   "source": []
  },
  {
   "cell_type": "code",
   "execution_count": 12,
   "id": "7653e46a",
   "metadata": {},
   "outputs": [
    {
     "data": {
      "text/plain": [
       "{1: 0.1, 2: 0.3, 3: 0.5, 4: 0.7}"
      ]
     },
     "execution_count": 12,
     "metadata": {},
     "output_type": "execute_result"
    }
   ],
   "source": [
    "price_grid.set_index(['PRICE_ID']).to_dict()['MarkdownPct']"
   ]
  }
 ],
 "metadata": {
  "kernelspec": {
   "display_name": "Python 3 (ipykernel)",
   "language": "python",
   "name": "python3"
  },
  "language_info": {
   "codemirror_mode": {
    "name": "ipython",
    "version": 3
   },
   "file_extension": ".py",
   "mimetype": "text/x-python",
   "name": "python",
   "nbconvert_exporter": "python",
   "pygments_lexer": "ipython3",
   "version": "3.10.12"
  }
 },
 "nbformat": 4,
 "nbformat_minor": 5
}
