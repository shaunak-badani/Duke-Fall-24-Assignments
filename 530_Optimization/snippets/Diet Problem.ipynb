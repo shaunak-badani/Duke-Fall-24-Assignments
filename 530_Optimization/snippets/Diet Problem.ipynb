{
 "cells": [
  {
   "cell_type": "code",
   "execution_count": 1,
   "id": "3f2f509c-1ec5-4de2-b7bb-bf98b96df3e7",
   "metadata": {},
   "outputs": [],
   "source": [
    "import pandas as pd\n",
    "from pyomo.environ import *\n",
    "from pyomo.opt import SolverFactory"
   ]
  },
  {
   "cell_type": "markdown",
   "id": "250f9381-5112-4141-a205-a8f11b41a346",
   "metadata": {},
   "source": [
    "## Problem 1 Verion 1"
   ]
  },
  {
   "cell_type": "code",
   "execution_count": 112,
   "id": "173191ed-f0bd-4d2f-8fc1-4af981ae5807",
   "metadata": {},
   "outputs": [],
   "source": [
    "m = AbstractModel()\n",
    "\n",
    "m.FOOD_TYPES = Set()\n",
    "m.MACROS = Set()\n",
    "\n",
    "m.amount = Var(m.FOOD_TYPES, domain = NonNegativeReals)\n",
    "m.CostPerPound = Param(m.FOOD_TYPES)\n",
    "\n",
    "m.FoodMacros = Param(m.FOOD_TYPES, m.MACROS)\n",
    "\n",
    "m.MinimumMacros = Param(m.MACROS)\n",
    "\n",
    "def cost_of_food(m):\n",
    "    return sum_product(m.amount, m.CostPerPound, index = m.FOOD_TYPES)\n",
    "\n",
    "m.total_cost = Objective(rule = cost_of_food, sense = minimize)\n",
    "\n",
    "def minimum_macro_requirement(model, m):\n",
    "    return quicksum(model.amount[t] * model.FoodMacros[t, m] for t in model.FOOD_TYPES) >= model.MinimumMacros[m]\n",
    "\n",
    "m.minimum_macro_requirements = Constraint(m.MACROS, rule = minimum_macro_requirement)"
   ]
  },
  {
   "cell_type": "code",
   "execution_count": 113,
   "id": "3447f4fc-d160-47f7-afa9-e9981b00e28a",
   "metadata": {},
   "outputs": [],
   "source": [
    "instanceData = { None: {\n",
    "    'FOOD_TYPES': {None: ['A', 'B', 'C']},\n",
    "    'MACROS': {None: ['Protein', 'Carbs']},\n",
    "    'CostPerPound': {'A': 5, 'B': 15, 'C': 20},\n",
    "    'FoodMacros': {('A', 'Protein'): 4, ('A', 'Carbs'): 15, ('B', 'Protein'): 8, ('B', 'Carbs'): 11, ('C', 'Protein'): 8, ('C', 'Carbs'): 0},\n",
    "    'MinimumMacros': {'Protein': 20, 'Carbs': 10}\n",
    "}}"
   ]
  },
  {
   "cell_type": "code",
   "execution_count": 114,
   "id": "4ba276df-8f7a-4d4e-aa55-72dec30f7576",
   "metadata": {},
   "outputs": [],
   "source": [
    "instance = m.create_instance(instanceData)"
   ]
  },
  {
   "cell_type": "code",
   "execution_count": 115,
   "id": "e945665e-53ba-4381-8bf3-1353b6ea40e5",
   "metadata": {},
   "outputs": [
    {
     "name": "stdout",
     "output_type": "stream",
     "text": [
      "GLPSOL--GLPK LP/MIP Solver 5.0\n",
      "Parameter(s) specified in the command line:\n",
      " --write /tmp/tmpe3jtft71.glpk.raw --wglp /tmp/tmp95cx7ryc.glpk.glp --cpxlp\n",
      " /tmp/tmpjedt_2sd.pyomo.lp\n",
      "Reading problem data from '/tmp/tmpjedt_2sd.pyomo.lp'...\n",
      "2 rows, 3 columns, 5 non-zeros\n",
      "26 lines were read\n",
      "Writing problem data to '/tmp/tmp95cx7ryc.glpk.glp'...\n",
      "18 lines were written\n",
      "GLPK Simplex Optimizer 5.0\n",
      "2 rows, 3 columns, 5 non-zeros\n",
      "Preprocessing...\n",
      "2 rows, 3 columns, 5 non-zeros\n",
      "Scaling...\n",
      " A: min|aij| =  4.000e+00  max|aij| =  1.500e+01  ratio =  3.750e+00\n",
      "GM: min|aij| =  7.782e-01  max|aij| =  1.285e+00  ratio =  1.651e+00\n",
      "EQ: min|aij| =  6.055e-01  max|aij| =  1.000e+00  ratio =  1.651e+00\n",
      "Constructing initial basis...\n",
      "Size of triangular part is 2\n",
      "      0: obj =   0.000000000e+00 inf =   3.357e+00 (2)\n",
      "      2: obj =   4.666666667e+01 inf =   0.000e+00 (0)\n",
      "*     3: obj =   2.500000000e+01 inf =   0.000e+00 (0)\n",
      "OPTIMAL LP SOLUTION FOUND\n",
      "Time used:   0.0 secs\n",
      "Memory used: 0.0 Mb (39693 bytes)\n",
      "Writing basic solution to '/tmp/tmpe3jtft71.glpk.raw'...\n",
      "14 lines were written\n"
     ]
    },
    {
     "data": {
      "text/plain": [
       "{'Problem': [{'Name': 'unknown', 'Lower bound': 25.0, 'Upper bound': 25.0, 'Number of objectives': 1, 'Number of constraints': 2, 'Number of variables': 3, 'Number of nonzeros': 5, 'Sense': 'minimize'}], 'Solver': [{'Status': 'ok', 'Termination condition': 'optimal', 'Statistics': {'Branch and bound': {'Number of bounded subproblems': 0, 'Number of created subproblems': 0}}, 'Error rc': 0, 'Time': 0.0069315433502197266}], 'Solution': [OrderedDict({'number of solutions': 0, 'number of solutions displayed': 0})]}"
      ]
     },
     "execution_count": 115,
     "metadata": {},
     "output_type": "execute_result"
    }
   ],
   "source": [
    "opt = SolverFactory('glpk')\n",
    "opt.solve(instance, tee = True)"
   ]
  },
  {
   "cell_type": "code",
   "execution_count": 116,
   "id": "6d18c5c1-dcf0-4007-bfbb-3d056e151d10",
   "metadata": {},
   "outputs": [
    {
     "name": "stdout",
     "output_type": "stream",
     "text": [
      "Model unknown\n",
      "\n",
      "  Variables:\n",
      "    amount : Size=3, Index=FOOD_TYPES\n",
      "        Key : Lower : Value : Upper : Fixed : Stale : Domain\n",
      "          A :     0 :   5.0 :  None : False : False : NonNegativeReals\n",
      "          B :     0 :   0.0 :  None : False : False : NonNegativeReals\n",
      "          C :     0 :   0.0 :  None : False : False : NonNegativeReals\n",
      "\n",
      "  Objectives:\n",
      "    total_cost : Size=1, Index=None, Active=True\n",
      "        Key  : Active : Value\n",
      "        None :   True :  25.0\n",
      "\n",
      "  Constraints:\n",
      "    minimum_macro_requirements : Size=2\n",
      "        Key     : Lower : Body : Upper\n",
      "          Carbs :  10.0 : 75.0 :  None\n",
      "        Protein :  20.0 : 20.0 :  None\n"
     ]
    }
   ],
   "source": [
    "instance.display()"
   ]
  },
  {
   "cell_type": "markdown",
   "id": "9a44575a-1c2e-479e-9a7d-ee71cf286800",
   "metadata": {},
   "source": [
    "## Version 2"
   ]
  },
  {
   "cell_type": "code",
   "execution_count": 117,
   "id": "d5fb2338-b15c-4b0b-b057-c9d975b5caf4",
   "metadata": {},
   "outputs": [
    {
     "name": "stdout",
     "output_type": "stream",
     "text": [
      "/bin/bash: //home/shaunak/.miniconda3/lib/libtinfo.so.6: no version information available (required by /bin/bash)\n",
      "'Diet Problem.ipynb'\t\t 'Pyomo Experimentation.ipynb'\n",
      " DP_input_food.csv\t\t  Q1.ipynb\n",
      " DP_input_food_nutrients.csv\t  School_Reopening.ipynb\n",
      " DP_input_min_intake.csv\t  SRO_input_grades.csv\n",
      "'Network Optimization.ipynb'\t  SRO_input_rooms.csv\n",
      "'Production Optimization.ipynb'  'Use Case 1 - Room specification.ipynb'\n"
     ]
    }
   ],
   "source": [
    "!ls"
   ]
  },
  {
   "cell_type": "code",
   "execution_count": 118,
   "id": "ae0a2199-033a-4797-9701-1fd4458b94fe",
   "metadata": {},
   "outputs": [],
   "source": [
    "nutrients_df = pd.read_csv(\"DP_input_food_nutrients.csv\")\n",
    "min_intake_df = pd.read_csv(\"DP_input_min_intake.csv\")\n",
    "food_df = pd.read_csv(\"DP_input_food.csv\")"
   ]
  },
  {
   "cell_type": "code",
   "execution_count": 119,
   "id": "be4761dd-8f5e-44f8-8b4b-440faee80466",
   "metadata": {},
   "outputs": [
    {
     "data": {
      "text/html": [
       "<div>\n",
       "<style scoped>\n",
       "    .dataframe tbody tr th:only-of-type {\n",
       "        vertical-align: middle;\n",
       "    }\n",
       "\n",
       "    .dataframe tbody tr th {\n",
       "        vertical-align: top;\n",
       "    }\n",
       "\n",
       "    .dataframe thead th {\n",
       "        text-align: right;\n",
       "    }\n",
       "</style>\n",
       "<table border=\"1\" class=\"dataframe\">\n",
       "  <thead>\n",
       "    <tr style=\"text-align: right;\">\n",
       "      <th></th>\n",
       "      <th>Nutr</th>\n",
       "      <th>Req_grams</th>\n",
       "    </tr>\n",
       "  </thead>\n",
       "  <tbody>\n",
       "    <tr>\n",
       "      <th>0</th>\n",
       "      <td>Calories</td>\n",
       "      <td>1800</td>\n",
       "    </tr>\n",
       "    <tr>\n",
       "      <th>1</th>\n",
       "      <td>Protein</td>\n",
       "      <td>45</td>\n",
       "    </tr>\n",
       "    <tr>\n",
       "      <th>2</th>\n",
       "      <td>Fat</td>\n",
       "      <td>40</td>\n",
       "    </tr>\n",
       "    <tr>\n",
       "      <th>3</th>\n",
       "      <td>Sat.Fat</td>\n",
       "      <td>0</td>\n",
       "    </tr>\n",
       "    <tr>\n",
       "      <th>4</th>\n",
       "      <td>Fiber</td>\n",
       "      <td>26</td>\n",
       "    </tr>\n",
       "    <tr>\n",
       "      <th>5</th>\n",
       "      <td>Carbs</td>\n",
       "      <td>202</td>\n",
       "    </tr>\n",
       "  </tbody>\n",
       "</table>\n",
       "</div>"
      ],
      "text/plain": [
       "       Nutr  Req_grams\n",
       "0  Calories       1800\n",
       "1   Protein         45\n",
       "2       Fat         40\n",
       "3   Sat.Fat          0\n",
       "4     Fiber         26\n",
       "5     Carbs        202"
      ]
     },
     "execution_count": 119,
     "metadata": {},
     "output_type": "execute_result"
    }
   ],
   "source": [
    "min_intake_df"
   ]
  },
  {
   "cell_type": "code",
   "execution_count": 120,
   "id": "c4f9d18d-7e30-4a89-a86c-7ce38433f1cd",
   "metadata": {},
   "outputs": [
    {
     "data": {
      "text/html": [
       "<div>\n",
       "<style scoped>\n",
       "    .dataframe tbody tr th:only-of-type {\n",
       "        vertical-align: middle;\n",
       "    }\n",
       "\n",
       "    .dataframe tbody tr th {\n",
       "        vertical-align: top;\n",
       "    }\n",
       "\n",
       "    .dataframe thead th {\n",
       "        text-align: right;\n",
       "    }\n",
       "</style>\n",
       "<table border=\"1\" class=\"dataframe\">\n",
       "  <thead>\n",
       "    <tr style=\"text-align: right;\">\n",
       "      <th></th>\n",
       "      <th>Food</th>\n",
       "      <th>Cost_dollars</th>\n",
       "    </tr>\n",
       "  </thead>\n",
       "  <tbody>\n",
       "    <tr>\n",
       "      <th>0</th>\n",
       "      <td>Beef</td>\n",
       "      <td>6.00</td>\n",
       "    </tr>\n",
       "    <tr>\n",
       "      <th>1</th>\n",
       "      <td>Cheese</td>\n",
       "      <td>0.50</td>\n",
       "    </tr>\n",
       "    <tr>\n",
       "      <th>2</th>\n",
       "      <td>Corn meal</td>\n",
       "      <td>0.50</td>\n",
       "    </tr>\n",
       "    <tr>\n",
       "      <th>3</th>\n",
       "      <td>Cornflakes</td>\n",
       "      <td>0.50</td>\n",
       "    </tr>\n",
       "    <tr>\n",
       "      <th>4</th>\n",
       "      <td>Cows milk</td>\n",
       "      <td>3.28</td>\n",
       "    </tr>\n",
       "    <tr>\n",
       "      <th>5</th>\n",
       "      <td>Crackers</td>\n",
       "      <td>0.50</td>\n",
       "    </tr>\n",
       "    <tr>\n",
       "      <th>6</th>\n",
       "      <td>Cream cheese</td>\n",
       "      <td>0.30</td>\n",
       "    </tr>\n",
       "    <tr>\n",
       "      <th>7</th>\n",
       "      <td>Eggs raw</td>\n",
       "      <td>0.40</td>\n",
       "    </tr>\n",
       "    <tr>\n",
       "      <th>8</th>\n",
       "      <td>Flounder</td>\n",
       "      <td>5.00</td>\n",
       "    </tr>\n",
       "    <tr>\n",
       "      <th>9</th>\n",
       "      <td>Flour</td>\n",
       "      <td>1.00</td>\n",
       "    </tr>\n",
       "    <tr>\n",
       "      <th>10</th>\n",
       "      <td>Ground lean</td>\n",
       "      <td>6.00</td>\n",
       "    </tr>\n",
       "    <tr>\n",
       "      <th>11</th>\n",
       "      <td>Noodles</td>\n",
       "      <td>0.10</td>\n",
       "    </tr>\n",
       "    <tr>\n",
       "      <th>12</th>\n",
       "      <td>Oatmeal</td>\n",
       "      <td>0.50</td>\n",
       "    </tr>\n",
       "    <tr>\n",
       "      <th>13</th>\n",
       "      <td>Peanut butter</td>\n",
       "      <td>2.00</td>\n",
       "    </tr>\n",
       "    <tr>\n",
       "      <th>14</th>\n",
       "      <td>Rice</td>\n",
       "      <td>0.50</td>\n",
       "    </tr>\n",
       "    <tr>\n",
       "      <th>15</th>\n",
       "      <td>Salmon</td>\n",
       "      <td>5.00</td>\n",
       "    </tr>\n",
       "    <tr>\n",
       "      <th>16</th>\n",
       "      <td>Shrimp</td>\n",
       "      <td>5.00</td>\n",
       "    </tr>\n",
       "    <tr>\n",
       "      <th>17</th>\n",
       "      <td>Tuna</td>\n",
       "      <td>5.00</td>\n",
       "    </tr>\n",
       "    <tr>\n",
       "      <th>18</th>\n",
       "      <td>Turkey</td>\n",
       "      <td>6.00</td>\n",
       "    </tr>\n",
       "    <tr>\n",
       "      <th>19</th>\n",
       "      <td>Whole-wheat</td>\n",
       "      <td>0.50</td>\n",
       "    </tr>\n",
       "    <tr>\n",
       "      <th>20</th>\n",
       "      <td>Chicken</td>\n",
       "      <td>0.50</td>\n",
       "    </tr>\n",
       "  </tbody>\n",
       "</table>\n",
       "</div>"
      ],
      "text/plain": [
       "             Food  Cost_dollars\n",
       "0            Beef          6.00\n",
       "1          Cheese          0.50\n",
       "2       Corn meal          0.50\n",
       "3      Cornflakes          0.50\n",
       "4       Cows milk          3.28\n",
       "5        Crackers          0.50\n",
       "6    Cream cheese          0.30\n",
       "7        Eggs raw          0.40\n",
       "8        Flounder          5.00\n",
       "9           Flour          1.00\n",
       "10    Ground lean          6.00\n",
       "11        Noodles          0.10\n",
       "12        Oatmeal          0.50\n",
       "13  Peanut butter          2.00\n",
       "14           Rice          0.50\n",
       "15         Salmon          5.00\n",
       "16         Shrimp          5.00\n",
       "17           Tuna          5.00\n",
       "18         Turkey          6.00\n",
       "19    Whole-wheat          0.50\n",
       "20        Chicken          0.50"
      ]
     },
     "execution_count": 120,
     "metadata": {},
     "output_type": "execute_result"
    }
   ],
   "source": [
    "food_df"
   ]
  },
  {
   "cell_type": "code",
   "execution_count": 121,
   "id": "b460f847-29a5-42a4-bffc-65ad58afd3cb",
   "metadata": {},
   "outputs": [],
   "source": [
    "instanceData = { None: {\n",
    "    'FOOD_TYPES': {None: food_df[\"Food\"].unique()},\n",
    "    'MACROS': {None: nutrients_df[\"Nutr\"].unique()},\n",
    "    'CostPerPound': food_df.set_index([\"Food\"]).to_dict()[\"Cost_dollars\"],\n",
    "    'FoodMacros': nutrients_df.set_index([\"Food\", \"Nutr\"]).to_dict()[\"Grams\"],\n",
    "    'MinimumMacros': min_intake_df.set_index([\"Nutr\"]).to_dict()[\"Req_grams\"]\n",
    "}}"
   ]
  },
  {
   "cell_type": "code",
   "execution_count": 122,
   "id": "a7a91601-2bce-4329-935f-7c473831d347",
   "metadata": {},
   "outputs": [],
   "source": [
    "instance = m.create_instance(instanceData)"
   ]
  },
  {
   "cell_type": "code",
   "execution_count": 123,
   "id": "48bb0777-b8f3-40ec-a015-45bfb15d4ef2",
   "metadata": {},
   "outputs": [
    {
     "name": "stdout",
     "output_type": "stream",
     "text": [
      "GLPSOL--GLPK LP/MIP Solver 5.0\n",
      "Parameter(s) specified in the command line:\n",
      " --write /tmp/tmpazop7n88.glpk.raw --wglp /tmp/tmp6bf8kidu.glpk.glp --cpxlp\n",
      " /tmp/tmp0mp7ovps.pyomo.lp\n",
      "Reading problem data from '/tmp/tmp0mp7ovps.pyomo.lp'...\n",
      "6 rows, 21 columns, 91 non-zeros\n",
      "160 lines were read\n",
      "Writing problem data to '/tmp/tmp6bf8kidu.glpk.glp'...\n",
      "148 lines were written\n",
      "GLPK Simplex Optimizer 5.0\n",
      "6 rows, 21 columns, 91 non-zeros\n",
      "Preprocessing...\n",
      "5 rows, 21 columns, 78 non-zeros\n",
      "Scaling...\n",
      " A: min|aij| =  1.000e+00  max|aij| =  7.480e+02  ratio =  7.480e+02\n",
      "GM: min|aij| =  2.051e-01  max|aij| =  4.875e+00  ratio =  2.376e+01\n",
      "EQ: min|aij| =  4.208e-02  max|aij| =  1.000e+00  ratio =  2.376e+01\n",
      "Constructing initial basis...\n",
      "Size of triangular part is 5\n",
      "      0: obj =   0.000000000e+00 inf =   1.977e+01 (5)\n",
      "      5: obj =   4.192714797e+00 inf =   0.000e+00 (0)\n",
      "*     7: obj =   3.967211055e+00 inf =   0.000e+00 (0)\n",
      "OPTIMAL LP SOLUTION FOUND\n",
      "Time used:   0.0 secs\n",
      "Memory used: 0.0 Mb (52263 bytes)\n",
      "Writing basic solution to '/tmp/tmpazop7n88.glpk.raw'...\n",
      "36 lines were written\n"
     ]
    },
    {
     "data": {
      "text/plain": [
       "{'Problem': [{'Name': 'unknown', 'Lower bound': 3.96721105527638, 'Upper bound': 3.96721105527638, 'Number of objectives': 1, 'Number of constraints': 6, 'Number of variables': 21, 'Number of nonzeros': 91, 'Sense': 'minimize'}], 'Solver': [{'Status': 'ok', 'Termination condition': 'optimal', 'Statistics': {'Branch and bound': {'Number of bounded subproblems': 0, 'Number of created subproblems': 0}}, 'Error rc': 0, 'Time': 0.005259513854980469}], 'Solution': [OrderedDict({'number of solutions': 0, 'number of solutions displayed': 0})]}"
      ]
     },
     "execution_count": 123,
     "metadata": {},
     "output_type": "execute_result"
    }
   ],
   "source": [
    "opt.solve(instance, tee = True)"
   ]
  },
  {
   "cell_type": "code",
   "execution_count": 124,
   "id": "ece1caf5-d0ba-4bb4-8d05-03d1465bf6bd",
   "metadata": {},
   "outputs": [
    {
     "name": "stdout",
     "output_type": "stream",
     "text": [
      "Model unknown\n",
      "\n",
      "  Variables:\n",
      "    amount : Size=21, Index=FOOD_TYPES\n",
      "        Key           : Lower : Value            : Upper : Fixed : Stale : Domain\n",
      "                 Beef :     0 :              0.0 :  None : False : False : NonNegativeReals\n",
      "               Cheese :     0 :              0.0 :  None : False : False : NonNegativeReals\n",
      "              Chicken :     0 :              0.0 :  None : False : False : NonNegativeReals\n",
      "            Corn meal :     0 :              0.0 :  None : False : False : NonNegativeReals\n",
      "           Cornflakes :     0 :              0.0 :  None : False : False : NonNegativeReals\n",
      "            Cows milk :     0 :              0.0 :  None : False : False : NonNegativeReals\n",
      "             Crackers :     0 :              0.0 :  None : False : False : NonNegativeReals\n",
      "         Cream cheese :     0 : 1.23115577889447 :  None : False : False : NonNegativeReals\n",
      "             Eggs raw :     0 :              0.0 :  None : False : False : NonNegativeReals\n",
      "             Flounder :     0 :              0.0 :  None : False : False : NonNegativeReals\n",
      "                Flour :     0 :              0.0 :  None : False : False : NonNegativeReals\n",
      "          Ground lean :     0 :              0.0 :  None : False : False : NonNegativeReals\n",
      "              Noodles :     0 :  3.4786432160804 :  None : False : False : NonNegativeReals\n",
      "              Oatmeal :     0 :              6.5 :  None : False : False : NonNegativeReals\n",
      "        Peanut butter :     0 :              0.0 :  None : False : False : NonNegativeReals\n",
      "                 Rice :     0 :              0.0 :  None : False : False : NonNegativeReals\n",
      "               Salmon :     0 :              0.0 :  None : False : False : NonNegativeReals\n",
      "               Shrimp :     0 :              0.0 :  None : False : False : NonNegativeReals\n",
      "                 Tuna :     0 :              0.0 :  None : False : False : NonNegativeReals\n",
      "               Turkey :     0 :              0.0 :  None : False : False : NonNegativeReals\n",
      "          Whole-wheat :     0 :              0.0 :  None : False : False : NonNegativeReals\n",
      "\n",
      "  Objectives:\n",
      "    total_cost : Size=1, Index=None, Active=True\n",
      "        Key  : Active : Value\n",
      "        None :   True : 3.967211055276381\n",
      "\n",
      "  Constraints:\n",
      "    minimum_macro_requirements : Size=6\n",
      "        Key      : Lower  : Body               : Upper\n",
      "        Calories : 1800.0 : 1799.9999999999993 :  None\n",
      "           Carbs :  202.0 :  298.9409547738693 :  None\n",
      "             Fat :   40.0 :  39.99999999999997 :  None\n",
      "           Fiber :   26.0 :               26.0 :  None\n",
      "         Protein :   45.0 :  59.31281407035174 :  None\n",
      "         Sat.Fat :    0.0 :   32.2688442211055 :  None\n"
     ]
    }
   ],
   "source": [
    "instance.display()"
   ]
  },
  {
   "cell_type": "code",
   "execution_count": null,
   "id": "80ecca2e-5300-40e3-a17c-fc9c0152ba5d",
   "metadata": {},
   "outputs": [],
   "source": []
  }
 ],
 "metadata": {
  "kernelspec": {
   "display_name": "opt",
   "language": "python",
   "name": "opt"
  },
  "language_info": {
   "codemirror_mode": {
    "name": "ipython",
    "version": 3
   },
   "file_extension": ".py",
   "mimetype": "text/x-python",
   "name": "python",
   "nbconvert_exporter": "python",
   "pygments_lexer": "ipython3",
   "version": "3.12.7"
  }
 },
 "nbformat": 4,
 "nbformat_minor": 5
}
