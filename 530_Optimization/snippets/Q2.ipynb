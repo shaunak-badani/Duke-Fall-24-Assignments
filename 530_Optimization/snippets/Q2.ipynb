{
 "cells": [
  {
   "cell_type": "code",
   "execution_count": 1,
   "id": "0ebe7169-5e52-4771-a93b-55398dfb4d46",
   "metadata": {},
   "outputs": [],
   "source": [
    "import pandas as pd\n",
    "from pyomo.environ import *\n",
    "from pyomo.opt import SolverFactory"
   ]
  },
  {
   "cell_type": "code",
   "execution_count": 25,
   "id": "34df8ee9-9684-4cc4-be0f-700b63993473",
   "metadata": {},
   "outputs": [],
   "source": [
    "m = AbstractModel()\n",
    "\n",
    "m.GRADES = Set()\n",
    "m.TIMESLOTS = Set()\n",
    "m.ROOMS = Set()\n",
    "\n",
    "m.pop = Param(m.GRADES)\n",
    "m.cap = Param(m.ROOMS)\n",
    "\n",
    "m.Assign = Var(m.GRADES, m.TIMESLOTS, m.ROOMS, domain = Binary)\n",
    "\n",
    "def one_grade_in_one_timeslot_and_one_room(model, t, r):\n",
    "    return quicksum(model.Assign[g, t, r] for g in model.GRADES) <= 1\n",
    "\n",
    "def one_room_with_one_grade(model, g, t):\n",
    "    return quicksum(model.Assign[g, t, r] for r in model.ROOMS) <= 1\n",
    "\n",
    "def capacity_of_room(model, g, t, r):\n",
    "    return model.Assign[g, t, r] * model.pop[g] <= model.cap[r]\n",
    "\n",
    "m.One_Timeslot_per_grade = Constraint(m.TIMESLOTS, m.ROOMS, rule = one_grade_in_one_timeslot_and_one_room)\n",
    "m.One_Room_with_one_grade = Constraint(m.GRADES, m.TIMESLOTS, rule = one_room_with_one_grade)\n",
    "m.capacity_of_room = Constraint(m.GRADES, m.TIMESLOTS, m.ROOMS, rule = capacity_of_room)\n",
    "\n",
    "m.assign_sum = Objective(rule = lambda model: sum_product(model.Assign), sense = maximize)\n",
    "\n",
    "\n",
    "def equality(model, g, g_prime):\n",
    "    if g == g_prime:\n",
    "        return Constraint.Skip\n",
    "    return quicksum(model.Assign[g, t, r] for t in model.TIMESLOTS for r in model.ROOMS) == quicksum(model.Assign[g_prime, t, r] for t in model.TIMESLOTS for r in model.ROOMS)\n",
    "\n",
    "\n",
    "m.equality_rule = Constraint(m.GRADES, m.GRADES, rule = equality)"
   ]
  },
  {
   "cell_type": "code",
   "execution_count": 35,
   "id": "37526a46-e7e2-4476-be9a-c3caa535d0f0",
   "metadata": {},
   "outputs": [],
   "source": [
    "instanceData = { None: {\n",
    "    'GRADES': {None: ['1A', '1B', '2A', '2B']},\n",
    "    'TIMESLOTS': {None: range(1, 9)},\n",
    "    'ROOMS': {None: ['101', '102', '103']},\n",
    "    'pop': {'1A': 31, '1B': 36, '2A': 39, '2B': 25},\n",
    "    'cap': {'101': 40, '102': 50, '103': 35 }\n",
    "}}"
   ]
  },
  {
   "cell_type": "code",
   "execution_count": 36,
   "id": "63c588d3-e47f-43cf-a1c5-268c5ef507fe",
   "metadata": {},
   "outputs": [
    {
     "data": {
      "text/plain": [
       "{'Problem': [{'Name': 'unknown', 'Lower bound': 24.0, 'Upper bound': 24.0, 'Number of objectives': 1, 'Number of constraints': 164, 'Number of variables': 96, 'Number of nonzeros': 864, 'Sense': 'maximize'}], 'Solver': [{'Status': 'ok', 'Termination condition': 'optimal', 'Statistics': {'Branch and bound': {'Number of bounded subproblems': '1', 'Number of created subproblems': '1'}}, 'Error rc': 0, 'Time': 0.007402658462524414}], 'Solution': [OrderedDict({'number of solutions': 0, 'number of solutions displayed': 0})]}"
      ]
     },
     "execution_count": 36,
     "metadata": {},
     "output_type": "execute_result"
    }
   ],
   "source": [
    "instance = m.create_instance(instanceData)\n",
    "opt = SolverFactory('glpk')\n",
    "opt.solve(instance)"
   ]
  },
  {
   "cell_type": "code",
   "execution_count": 37,
   "id": "3144dfad-6da1-4748-acbd-8f0c270bc66d",
   "metadata": {},
   "outputs": [],
   "source": [
    "face_to_face_time_third_B = 0\n",
    "for t in instance.TIMESLOTS:\n",
    "    for r in instance.ROOMS:\n",
    "        face_to_face_time_third_B += value(instance.Assign['2A', t, r])"
   ]
  },
  {
   "cell_type": "code",
   "execution_count": 38,
   "id": "a87a5c6a-8794-4d90-84ea-37ecca7eb911",
   "metadata": {},
   "outputs": [
    {
     "data": {
      "text/plain": [
       "131"
      ]
     },
     "execution_count": 38,
     "metadata": {},
     "output_type": "execute_result"
    }
   ],
   "source": [
    "31 + 36 + 39 + 25"
   ]
  },
  {
   "cell_type": "code",
   "execution_count": 39,
   "id": "5e5552ca-6910-485a-b679-404c4cf161c3",
   "metadata": {},
   "outputs": [
    {
     "data": {
      "text/plain": [
       "786"
      ]
     },
     "execution_count": 39,
     "metadata": {},
     "output_type": "execute_result"
    }
   ],
   "source": [
    "131 * 6"
   ]
  },
  {
   "cell_type": "code",
   "execution_count": 40,
   "id": "b1f24817-2b25-4082-ae68-92bd4e64bde5",
   "metadata": {},
   "outputs": [],
   "source": [
    "max_hours = face_to_face_time_third_B * 131"
   ]
  },
  {
   "cell_type": "code",
   "execution_count": 41,
   "id": "6e833d80-5b5c-47a3-93f1-3093373e7d40",
   "metadata": {},
   "outputs": [
    {
     "data": {
      "text/plain": [
       "786.0"
      ]
     },
     "execution_count": 41,
     "metadata": {},
     "output_type": "execute_result"
    }
   ],
   "source": [
    "max_hours"
   ]
  },
  {
   "cell_type": "code",
   "execution_count": 42,
   "id": "10366802-e245-41cd-80dd-da394d614672",
   "metadata": {},
   "outputs": [],
   "source": [
    "from collections import defaultdict\n",
    "d = defaultdict(lambda: defaultdict(str))\n",
    "for g in instance.GRADES:\n",
    "    for t in instance.TIMESLOTS:\n",
    "        for r in instance.ROOMS:\n",
    "            if value(instance.Assign[g, t, r]):\n",
    "                d[r][t] = g"
   ]
  },
  {
   "cell_type": "code",
   "execution_count": 43,
   "id": "3a9c5038-fd7c-4600-aaee-2011e7e02d56",
   "metadata": {},
   "outputs": [
    {
     "data": {
      "text/html": [
       "<div>\n",
       "<style scoped>\n",
       "    .dataframe tbody tr th:only-of-type {\n",
       "        vertical-align: middle;\n",
       "    }\n",
       "\n",
       "    .dataframe tbody tr th {\n",
       "        vertical-align: top;\n",
       "    }\n",
       "\n",
       "    .dataframe thead th {\n",
       "        text-align: right;\n",
       "    }\n",
       "</style>\n",
       "<table border=\"1\" class=\"dataframe\">\n",
       "  <thead>\n",
       "    <tr style=\"text-align: right;\">\n",
       "      <th></th>\n",
       "      <th>101</th>\n",
       "      <th>102</th>\n",
       "      <th>103</th>\n",
       "    </tr>\n",
       "  </thead>\n",
       "  <tbody>\n",
       "    <tr>\n",
       "      <th>1</th>\n",
       "      <td>1A</td>\n",
       "      <td>1B</td>\n",
       "      <td>2B</td>\n",
       "    </tr>\n",
       "    <tr>\n",
       "      <th>2</th>\n",
       "      <td>1B</td>\n",
       "      <td>1A</td>\n",
       "      <td>2B</td>\n",
       "    </tr>\n",
       "    <tr>\n",
       "      <th>3</th>\n",
       "      <td>2A</td>\n",
       "      <td>1A</td>\n",
       "      <td>2B</td>\n",
       "    </tr>\n",
       "    <tr>\n",
       "      <th>4</th>\n",
       "      <td>2A</td>\n",
       "      <td>1B</td>\n",
       "      <td>1A</td>\n",
       "    </tr>\n",
       "    <tr>\n",
       "      <th>5</th>\n",
       "      <td>2A</td>\n",
       "      <td>2B</td>\n",
       "      <td>1A</td>\n",
       "    </tr>\n",
       "    <tr>\n",
       "      <th>6</th>\n",
       "      <td>2A</td>\n",
       "      <td>1B</td>\n",
       "      <td>2B</td>\n",
       "    </tr>\n",
       "    <tr>\n",
       "      <th>7</th>\n",
       "      <td>2A</td>\n",
       "      <td>1B</td>\n",
       "      <td>1A</td>\n",
       "    </tr>\n",
       "    <tr>\n",
       "      <th>8</th>\n",
       "      <td>2A</td>\n",
       "      <td>1B</td>\n",
       "      <td>2B</td>\n",
       "    </tr>\n",
       "  </tbody>\n",
       "</table>\n",
       "</div>"
      ],
      "text/plain": [
       "  101 102 103\n",
       "1  1A  1B  2B\n",
       "2  1B  1A  2B\n",
       "3  2A  1A  2B\n",
       "4  2A  1B  1A\n",
       "5  2A  2B  1A\n",
       "6  2A  1B  2B\n",
       "7  2A  1B  1A\n",
       "8  2A  1B  2B"
      ]
     },
     "execution_count": 43,
     "metadata": {},
     "output_type": "execute_result"
    }
   ],
   "source": [
    "pd.DataFrame(d).fillna('N/A').sort_index()"
   ]
  },
  {
   "cell_type": "code",
   "execution_count": 19,
   "id": "e6a5026a-f735-4ff8-9ace-f5b9f742ac59",
   "metadata": {},
   "outputs": [],
   "source": [
    "instanceData = { None: {\n",
    "    'GRADES': {None: ['1A', '1B', '2A', '2B']},\n",
    "    'TIMESLOTS': {None: range(8, 16)},\n",
    "    'ROOMS': {None: ['101', '102', '103']},\n",
    "    'pop': {'1A': 31, '1B': 36, '2A': 39, '2B': 55},\n",
    "    'cap': {'101': 40, '102': 50, '103': 35 }\n",
    "}}"
   ]
  },
  {
   "cell_type": "code",
   "execution_count": 20,
   "id": "fe51f95f-4836-4959-a790-a2e41d78f42b",
   "metadata": {},
   "outputs": [
    {
     "data": {
      "text/plain": [
       "{'Problem': [{'Name': 'unknown', 'Lower bound': 0.0, 'Upper bound': 0.0, 'Number of objectives': 1, 'Number of constraints': 164, 'Number of variables': 96, 'Number of nonzeros': 864, 'Sense': 'maximize'}], 'Solver': [{'Status': 'ok', 'Termination condition': 'optimal', 'Statistics': {'Branch and bound': {'Number of bounded subproblems': 0, 'Number of created subproblems': 0}}, 'Error rc': 0, 'Time': 0.00642704963684082}], 'Solution': [OrderedDict({'number of solutions': 0, 'number of solutions displayed': 0})]}"
      ]
     },
     "execution_count": 20,
     "metadata": {},
     "output_type": "execute_result"
    }
   ],
   "source": [
    "instance = m.create_instance(instanceData)\n",
    "opt = SolverFactory('glpk')\n",
    "opt.solve(instance)"
   ]
  },
  {
   "cell_type": "code",
   "execution_count": 23,
   "id": "8361aff3-4393-408e-a82a-d5f3fe2c34d0",
   "metadata": {},
   "outputs": [],
   "source": [
    "from collections import defaultdict\n",
    "d = defaultdict(lambda: defaultdict(str))\n",
    "for g in instance.GRADES:\n",
    "    for t in instance.TIMESLOTS:\n",
    "        for r in instance.ROOMS:\n",
    "            if value(instance.Assign[g, t, r]):\n",
    "                d[r][t] = g"
   ]
  },
  {
   "cell_type": "code",
   "execution_count": 24,
   "id": "c71af3c8-8c5f-4cc0-846b-b47b972b8251",
   "metadata": {},
   "outputs": [
    {
     "data": {
      "text/html": [
       "<div>\n",
       "<style scoped>\n",
       "    .dataframe tbody tr th:only-of-type {\n",
       "        vertical-align: middle;\n",
       "    }\n",
       "\n",
       "    .dataframe tbody tr th {\n",
       "        vertical-align: top;\n",
       "    }\n",
       "\n",
       "    .dataframe thead th {\n",
       "        text-align: right;\n",
       "    }\n",
       "</style>\n",
       "<table border=\"1\" class=\"dataframe\">\n",
       "  <thead>\n",
       "    <tr style=\"text-align: right;\">\n",
       "      <th></th>\n",
       "    </tr>\n",
       "  </thead>\n",
       "  <tbody>\n",
       "  </tbody>\n",
       "</table>\n",
       "</div>"
      ],
      "text/plain": [
       "Empty DataFrame\n",
       "Columns: []\n",
       "Index: []"
      ]
     },
     "execution_count": 24,
     "metadata": {},
     "output_type": "execute_result"
    }
   ],
   "source": [
    "pd.DataFrame(d).fillna('N/A').sort_index()"
   ]
  }
 ],
 "metadata": {
  "kernelspec": {
   "display_name": "opt",
   "language": "python",
   "name": "opt"
  },
  "language_info": {
   "codemirror_mode": {
    "name": "ipython",
    "version": 3
   },
   "file_extension": ".py",
   "mimetype": "text/x-python",
   "name": "python",
   "nbconvert_exporter": "python",
   "pygments_lexer": "ipython3",
   "version": "3.12.7"
  }
 },
 "nbformat": 4,
 "nbformat_minor": 5
}
