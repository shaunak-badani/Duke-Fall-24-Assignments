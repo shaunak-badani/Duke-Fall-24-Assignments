{
 "cells": [
  {
   "cell_type": "code",
   "execution_count": 1,
   "id": "93ea8baf-7089-4072-9a6e-ea74d27a0f46",
   "metadata": {},
   "outputs": [],
   "source": [
    "import pandas as pd\n",
    "from pyomo.environ import *\n",
    "from pyomo.opt import SolverFactory"
   ]
  },
  {
   "cell_type": "markdown",
   "id": "389dda09-4f85-40f4-ae96-96102b5094ab",
   "metadata": {},
   "source": [
    "## Problem 1 Version 1"
   ]
  },
  {
   "cell_type": "code",
   "execution_count": 6,
   "id": "2104ea10-f08a-480a-ae4e-20d2e67a5ac4",
   "metadata": {},
   "outputs": [],
   "source": [
    "m = ConcreteModel()\n",
    "\n",
    "# Define Sets\n",
    "m.ITEMS = Set(initialize = ['A', 'B', 'C'])\n",
    "\n",
    "# Decision Variable\n",
    "m.MarkPct = Var(m.ITEMS, bounds = (0, 1))\n",
    "\n",
    "# Define Params\n",
    "m.basePrice = Param(m.ITEMS, initialize = {'A': 21.5, 'B' : 29.5, 'C': 30.5})\n",
    "m.initInv = Param(m.ITEMS, initialize = {'A':10 , 'B':30 , 'C': 41})\n",
    "m.maxPct = 0.8\n",
    "m.cap = 15\n",
    "m.dispCost = 1.2\n",
    "\n",
    "# Define implicit variables\n",
    "m.MarkPrice = Var(m.ITEMS, domain = NonNegativeReals)\n",
    "m.Demand = Var(m.ITEMS, domain = NonNegativeReals)\n",
    "m.Revenue = Var(m.ITEMS, domain = NonNegativeReals)\n",
    "m.FinalInv = Var(m.ITEMS, domain = NonNegativeReals)\n",
    "\n",
    "def Define_MarkPrice_Rule(m, i):\n",
    "    return (1 - m.MarkPct[i])*m.basePrice[i] == m.MarkPrice[i]\n",
    "\n",
    "def Define_Demand_Rule(m, i):\n",
    "    return m.MarkPct[i] * m.initInv[i] == m.Demand[i]\n",
    "\n",
    "def Define_Revenue_Rule(m, i):\n",
    "    return m.MarkPct[i] * m.Demand[i] == m.Revenue[i]\n",
    "\n",
    "def Define_FinalInv(m, i):\n",
    "    return m.initInv[i] * m.Demand[i] == m.FinalInv[i]\n",
    "\n",
    "def Max_Discount_Rule(m, i):\n",
    "    return m.MarkPct[i] <= m.maxPct\n",
    "\n",
    "def Leftover_Inv_Rule(m, i):\n",
    "    return m.FinalInv[i] <= m.cap\n",
    "\n",
    "m.Define_MarkPrice = Constraint(m.ITEMS, rule = Define_MarkPrice_Rule)\n",
    "m.Define_Demand = Constraint(m.ITEMS, rule = Define_Demand_Rule)\n",
    "m.Define_Revenue = Constraint(m.ITEMS, rule = Define_Revenue_Rule)\n",
    "m.Define_FinalInv = Constraint(m.ITEMS, rule = Define_FinalInv)\n",
    "m.Max_Dsicount_Rule = Constraint(m.ITEMS, rule = Max_Discount_Rule)"
   ]
  },
  {
   "cell_type": "code",
   "execution_count": null,
   "id": "af299e04-a1ee-4219-835a-2374c4a0d8c7",
   "metadata": {},
   "outputs": [],
   "source": []
  }
 ],
 "metadata": {
  "kernelspec": {
   "display_name": "opt",
   "language": "python",
   "name": "opt"
  },
  "language_info": {
   "codemirror_mode": {
    "name": "ipython",
    "version": 3
   },
   "file_extension": ".py",
   "mimetype": "text/x-python",
   "name": "python",
   "nbconvert_exporter": "python",
   "pygments_lexer": "ipython3",
   "version": "3.12.7"
  }
 },
 "nbformat": 4,
 "nbformat_minor": 5
}
