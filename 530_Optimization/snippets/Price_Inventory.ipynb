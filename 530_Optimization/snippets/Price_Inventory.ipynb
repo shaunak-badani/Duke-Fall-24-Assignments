{
 "cells": [
  {
   "cell_type": "code",
   "execution_count": 2,
   "id": "93ea8baf-7089-4072-9a6e-ea74d27a0f46",
   "metadata": {},
   "outputs": [],
   "source": [
    "import pandas as pd\n",
    "from pyomo.environ import *\n",
    "from pyomo.opt import SolverFactory"
   ]
  },
  {
   "cell_type": "markdown",
   "id": "389dda09-4f85-40f4-ae96-96102b5094ab",
   "metadata": {},
   "source": [
    "## Problem 1 Version 1"
   ]
  },
  {
   "cell_type": "code",
   "execution_count": 3,
   "id": "2104ea10-f08a-480a-ae4e-20d2e67a5ac4",
   "metadata": {},
   "outputs": [],
   "source": [
    "m = ConcreteModel()\n",
    "\n",
    "# Define Sets\n",
    "m.ITEMS = Set(initialize = ['A', 'B', 'C'])\n",
    "\n",
    "# Decision Variable\n",
    "m.MarkPct = Var(m.ITEMS, bounds = (0, 1))\n",
    "\n",
    "# Define Params\n",
    "m.basePrice = Param(m.ITEMS, initialize = {'A': 21.5, 'B' : 29.5, 'C': 30.5})\n",
    "m.initInv = Param(m.ITEMS, initialize = {'A':10 , 'B':30 , 'C': 41})\n",
    "m.maxPct = 0.8\n",
    "m.cap = 15\n",
    "m.dispCost = 1.2\n",
    "\n",
    "# Define implicit variables\n",
    "m.MarkPrice = Var(m.ITEMS, domain = NonNegativeReals)\n",
    "m.Demand = Var(m.ITEMS, domain = NonNegativeReals)\n",
    "m.Revenue = Var(m.ITEMS, domain = NonNegativeReals)\n",
    "m.FinalInv = Var(m.ITEMS, domain = NonNegativeReals)\n",
    "\n",
    "def Define_MarkPrice_Rule(m, i):\n",
    "    return (1 - m.MarkPct[i])*m.basePrice[i] == m.MarkPrice[i]\n",
    "\n",
    "def Define_Demand_Rule(m, i):\n",
    "    return m.MarkPct[i] * m.initInv[i] == m.Demand[i]\n",
    "\n",
    "def Define_Revenue_Rule(m, i):\n",
    "    return m.MarkPrice[i] * m.Demand[i] == m.Revenue[i]\n",
    "\n",
    "def Define_FinalInv(m, i):\n",
    "    return m.initInv[i] - m.Demand[i] == m.FinalInv[i]\n",
    "\n",
    "def Max_Discount_Rule(m, i):\n",
    "    return m.MarkPct[i] <= m.maxPct\n",
    "\n",
    "def Leftover_Inv_Rule(m, i):\n",
    "    return m.FinalInv[i] <= m.cap\n",
    "\n",
    "m.Define_MarkPrice = Constraint(m.ITEMS, rule = Define_MarkPrice_Rule)\n",
    "m.Define_Demand = Constraint(m.ITEMS, rule = Define_Demand_Rule)\n",
    "m.Define_Revenue = Constraint(m.ITEMS, rule = Define_Revenue_Rule)\n",
    "m.Define_FinalInv = Constraint(m.ITEMS, rule = Define_FinalInv)\n",
    "m.Max_Discount_Rule = Constraint(m.ITEMS, rule = Max_Discount_Rule)\n",
    "m.Leftover_Inv_Rule = Constraint(m.ITEMS, rule = Leftover_Inv_Rule)\n",
    "\n",
    "def obj(m):\n",
    "    return quicksum(m.Revenue[i] - m.dispCost * m.FinalInv[i] for i in m.ITEMS)\n",
    "\n",
    "m.obj = Objective(rule = obj, sense = maximize)"
   ]
  },
  {
   "cell_type": "code",
   "execution_count": 4,
   "id": "af299e04-a1ee-4219-835a-2374c4a0d8c7",
   "metadata": {},
   "outputs": [],
   "source": [
    "# Won't work, error = Model constraint (Define_Revenue[A]) contains nonlinear terms that cannot be written to LP format\n",
    "# opt = SolverFactory('glpk')\n",
    "# results = opt.solve(m, tee = True)"
   ]
  },
  {
   "cell_type": "code",
   "execution_count": 5,
   "id": "14eb77ef",
   "metadata": {},
   "outputs": [
    {
     "data": {
      "text/plain": [
       "<Availability.FullLicense: 1>"
      ]
     },
     "execution_count": 5,
     "metadata": {},
     "output_type": "execute_result"
    }
   ],
   "source": [
    "from pyomo.contrib import appsi\n",
    "SOLVER = appsi.solvers.Ipopt()\n",
    "SOLVER.available()"
   ]
  },
  {
   "cell_type": "code",
   "execution_count": 6,
   "id": "2ff0bdb7",
   "metadata": {},
   "outputs": [],
   "source": [
    "results = SOLVER.solve(m)"
   ]
  },
  {
   "cell_type": "code",
   "execution_count": 7,
   "id": "c3b07ad7",
   "metadata": {},
   "outputs": [
    {
     "name": "stdout",
     "output_type": "stream",
     "text": [
      "Model unknown\n",
      "\n",
      "  Variables:\n",
      "    MarkPct : Size=3, Index=ITEMS\n",
      "        Key : Lower : Value              : Upper : Fixed : Stale : Domain\n",
      "          A :     0 : 0.5279069767121749 :     1 : False : False :  Reals\n",
      "          B :     0 : 0.5203389831118836 :     1 : False : False :  Reals\n",
      "          C :     0 : 0.6341463378136317 :     1 : False : False :  Reals\n",
      "    MarkPrice : Size=3, Index=ITEMS\n",
      "        Key : Lower : Value              : Upper : Fixed : Stale : Domain\n",
      "          A :     0 :  10.15000000068824 :  None : False : False : NonNegativeReals\n",
      "          B :     0 : 14.149999998199432 :  None : False : False : NonNegativeReals\n",
      "          C :     0 : 11.158536696684234 :  None : False : False : NonNegativeReals\n",
      "    Demand : Size=3, Index=ITEMS\n",
      "        Key : Lower : Value              : Upper : Fixed : Stale : Domain\n",
      "          A :     0 :  5.279069767121749 :  None : False : False : NonNegativeReals\n",
      "          B :     0 : 15.610169493356507 :  None : False : False : NonNegativeReals\n",
      "          C :     0 :   25.9999998503589 :  None : False : False : NonNegativeReals\n",
      "    Revenue : Size=3, Index=ITEMS\n",
      "        Key : Lower : Value              : Upper : Fixed : Stale : Domain\n",
      "          A :     0 :  53.58255813991913 :  None : False : False : NonNegativeReals\n",
      "          B :     0 : 220.88389830288952 :  None : False : False : NonNegativeReals\n",
      "          C :     0 :  290.1219524440144 :  None : False : False : NonNegativeReals\n",
      "    FinalInv : Size=3, Index=ITEMS\n",
      "        Key : Lower : Value              : Upper : Fixed : Stale : Domain\n",
      "          A :     0 :  4.720930232878251 :  None : False : False : NonNegativeReals\n",
      "          B :     0 : 14.389830506643495 :  None : False : False : NonNegativeReals\n",
      "          C :     0 : 15.000000149641103 :  None : False : False : NonNegativeReals\n",
      "\n",
      "  Objectives:\n",
      "    obj : Size=1, Index=None, Active=True\n",
      "        Key  : Active : Value\n",
      "        None :   True : 523.6554958198277\n",
      "\n",
      "  Constraints:\n",
      "    Define_MarkPrice : Size=3\n",
      "        Key : Lower : Body                    : Upper\n",
      "          A :   0.0 :                     0.0 :   0.0\n",
      "          B :   0.0 :                     0.0 :   0.0\n",
      "          C :   0.0 : -1.7763568394002505e-15 :   0.0\n",
      "    Define_Demand : Size=3\n",
      "        Key : Lower : Body                   : Upper\n",
      "          A :   0.0 :                    0.0 :   0.0\n",
      "          B :   0.0 : 1.7763568394002505e-15 :   0.0\n",
      "          C :   0.0 :                    0.0 :   0.0\n",
      "    Define_Revenue : Size=3\n",
      "        Key : Lower : Body                    : Upper\n",
      "          A :   0.0 : -1.1368683772161603e-13 :   0.0\n",
      "          B :   0.0 : -2.1316282072803006e-12 :   0.0\n",
      "          C :   0.0 :  -5.684341886080802e-14 :   0.0\n",
      "    Define_FinalInv : Size=3\n",
      "        Key : Lower : Body                    : Upper\n",
      "          A :   0.0 :                     0.0 :   0.0\n",
      "          B :   0.0 : -1.7763568394002505e-15 :   0.0\n",
      "          C :   0.0 :  -3.552713678800501e-15 :   0.0\n",
      "    Max_Discount_Rule : Size=3\n",
      "        Key : Lower : Body               : Upper\n",
      "          A :  None : 0.5279069767121749 :   0.8\n",
      "          B :  None : 0.5203389831118836 :   0.8\n",
      "          C :  None : 0.6341463378136317 :   0.8\n",
      "    Leftover_Inv_Rule : Size=3\n",
      "        Key : Lower : Body               : Upper\n",
      "          A :  None :  4.720930232878251 :  15.0\n",
      "          B :  None : 14.389830506643495 :  15.0\n",
      "          C :  None : 15.000000149641103 :  15.0\n"
     ]
    }
   ],
   "source": [
    "m.display()"
   ]
  },
  {
   "cell_type": "markdown",
   "id": "29fb377e",
   "metadata": {},
   "source": [
    "### Trying using params"
   ]
  },
  {
   "cell_type": "code",
   "execution_count": 38,
   "id": "d6aa73fd",
   "metadata": {},
   "outputs": [],
   "source": [
    "m = ConcreteModel()\n",
    "\n",
    "# Define Sets\n",
    "m.ITEMS = Set(initialize = ['A', 'B', 'C'])\n",
    "\n",
    "# Decision Variable\n",
    "m.MarkPct = Var(m.ITEMS, bounds = (0, 1))\n",
    "\n",
    "# Define Params\n",
    "m.basePrice = Param(m.ITEMS, initialize = {'A': 21.5, 'B' : 29.5, 'C': 30.5})\n",
    "m.initInv = Param(m.ITEMS, initialize = {'A':10 , 'B':30 , 'C': 41})\n",
    "m.maxPct = 0.8\n",
    "m.cap = 15\n",
    "m.dispCost = 1.2\n",
    "\n",
    "def MarkPriceRule(m, i):\n",
    "    return (1 - m.MarkPct[i])*m.basePrice[i]\n",
    "\n",
    "def DemandRule(m, i):\n",
    "    return m.MarkPct[i] * m.initInv[i]\n",
    "\n",
    "def RevenueRule(m, i):\n",
    "    return m.MarkPct[i] * m.Demand[i] \n",
    "\n",
    "def FinalInvRule(m, i):\n",
    "    return m.initInv[i] - m.Demand[i]\n",
    "\n",
    "def MaxDiscountRule(m, i):\n",
    "    return m.MarkPct[i] <= m.maxPct\n",
    "\n",
    "def LeftoverInvRule(m, i):\n",
    "    return m.FinalInv[i] <= m.cap\n",
    "\n",
    "# Define implicit variables\n",
    "m.MarkPrice = Expression(m.ITEMS, initialize = MarkPriceRule)\n",
    "m.Demand = Expression(m.ITEMS, initialize = DemandRule)\n",
    "m.Revenue = Expression(m.ITEMS, initialize = RevenueRule)\n",
    "m.FinalInv = Expression(m.ITEMS, initialize = FinalInvRule)\n",
    "\n",
    "\n",
    "m.MaxDiscount = Constraint(m.ITEMS, rule = MaxDiscountRule)\n",
    "m.LeftOverInvRule = Constraint(m.ITEMS, rule = LeftoverInvRule)\n",
    "\n",
    "\n",
    "def obj(m):\n",
    "    return quicksum(m.Revenue[i] - m.dispCost * m.FinalInv[i] for i in m.ITEMS)\n",
    "\n",
    "m.obj = Objective(rule = obj, sense = maximize)"
   ]
  },
  {
   "cell_type": "code",
   "execution_count": 39,
   "id": "5c120c2e",
   "metadata": {},
   "outputs": [
    {
     "name": "stdout",
     "output_type": "stream",
     "text": [
      "Model unknown\n",
      "\n",
      "  Variables:\n",
      "    MarkPct : Size=3, Index=ITEMS\n",
      "        Key : Lower : Value              : Upper : Fixed : Stale : Domain\n",
      "          A :     0 : 0.8000000099105196 :     1 : False : False :  Reals\n",
      "          B :     0 : 0.8000000099701684 :     1 : False : False :  Reals\n",
      "          C :     0 : 0.8000000099781712 :     1 : False : False :  Reals\n",
      "\n",
      "  Objectives:\n",
      "    obj : Size=1, Index=None, Active=True\n",
      "        Key  : Active : Value\n",
      "        None :   True : 32.40000226048276\n",
      "\n",
      "  Constraints:\n",
      "    MaxDiscount : Size=3\n",
      "        Key : Lower : Body               : Upper\n",
      "          A :  None : 0.8000000099105196 :   0.8\n",
      "          B :  None : 0.8000000099701684 :   0.8\n",
      "          C :  None : 0.8000000099781712 :   0.8\n",
      "    LeftOverInvRule : Size=3\n",
      "        Key : Lower : Body               : Upper\n",
      "          A :  None : 1.9999999008948048 :  15.0\n",
      "          B :  None :  5.999999700894946 :  15.0\n",
      "          C :  None :  8.199999590894983 :  15.0\n"
     ]
    }
   ],
   "source": [
    "results = SOLVER.solve(m)\n",
    "m.display()"
   ]
  }
 ],
 "metadata": {
  "kernelspec": {
   "display_name": "opt",
   "language": "python",
   "name": "opt"
  },
  "language_info": {
   "codemirror_mode": {
    "name": "ipython",
    "version": 3
   },
   "file_extension": ".py",
   "mimetype": "text/x-python",
   "name": "python",
   "nbconvert_exporter": "python",
   "pygments_lexer": "ipython3",
   "version": "3.12.7"
  }
 },
 "nbformat": 4,
 "nbformat_minor": 5
}
