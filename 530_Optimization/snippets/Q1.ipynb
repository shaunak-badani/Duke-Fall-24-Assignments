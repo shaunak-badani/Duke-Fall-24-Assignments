{
 "cells": [
  {
   "cell_type": "code",
   "execution_count": 1,
   "id": "41460407-5fd2-4ce5-af24-29a132274619",
   "metadata": {},
   "outputs": [
    {
     "name": "stdout",
     "output_type": "stream",
     "text": [
      "CSV file 'production_data.csv' created successfully.\n"
     ]
    }
   ],
   "source": [
    "import pandas as pd\n",
    "\n",
    "# Define the product data for six products\n",
    "data = {\n",
    "    \"PTYPE\": [\n",
    "        \"Product_A\", \"Product_B\", \"Product_C\", \"Product_D\",\n",
    "        \"Product_E\", \"Product_F\"\n",
    "    ],\n",
    "    \"time\": [\n",
    "        2, 1, 3, 4,\n",
    "        1.5, 2.5\n",
    "    ],\n",
    "    \"profit\": [\n",
    "        50, 40, 70, 80,\n",
    "        60, 90\n",
    "    ],\n",
    "    \"cap\": [\n",
    "        30, 50, 20, 25,\n",
    "        40, 15\n",
    "    ]\n",
    "}\n",
    "\n",
    "# Create a DataFrame\n",
    "df = pd.DataFrame(data)\n",
    "\n",
    "# Save the DataFrame to a CSV file\n",
    "df.to_csv('production_data.csv', index=False)\n",
    "\n",
    "print(\"CSV file 'production_data.csv' created successfully.\")"
   ]
  },
  {
   "cell_type": "code",
   "execution_count": 3,
   "id": "fd5a79a0-9c10-434b-9547-f87ac0c68b14",
   "metadata": {},
   "outputs": [],
   "source": [
    "from pyomo.environ import *\n",
    "from pyomo.opt import SolverFactory\n",
    "import pandas as pd"
   ]
  },
  {
   "cell_type": "code",
   "execution_count": 21,
   "id": "aea30ca5-e875-4a47-9f08-1f1f1cfc050b",
   "metadata": {},
   "outputs": [],
   "source": [
    "m = AbstractModel()\n",
    "\n",
    "m.PTYPE = Set()\n",
    "m.NProd = Var(m.PTYPE, domain=NonNegativeIntegers)\n",
    "m.maxProd = Param(m.PTYPE)\n",
    "m.time = Param(m.PTYPE)\n",
    "m.price = Param(m.PTYPE)\n",
    "\n",
    "m.avail = 200\n",
    "\n",
    "def Total_Time_Rule(m):\n",
    "    return sum(m.time[p]*m.NProd[p] for p in m.PTYPE) <= m.avail\n",
    "m.Total_Time = Constraint(rule=Total_Time_Rule)\n",
    "\n",
    "def Max_Prod_Rule(m, p):\n",
    "    return m.NProd[p] <= m.maxProd[p]\n",
    "m.Max_Prod = Constraint(m.PTYPE, rule=Max_Prod_Rule)\n",
    "\n",
    "def TotalInc_Rule(m):\n",
    "    return (sum(m.price[p]*m.NProd[p] for p in m.PTYPE))\n",
    "m.TotalInc = Objective(rule=TotalInc_Rule, sense=maximize)"
   ]
  },
  {
   "cell_type": "code",
   "execution_count": 22,
   "id": "29d36b60-b5e2-495b-94f5-60850609d52f",
   "metadata": {},
   "outputs": [
    {
     "data": {
      "text/html": [
       "<div>\n",
       "<style scoped>\n",
       "    .dataframe tbody tr th:only-of-type {\n",
       "        vertical-align: middle;\n",
       "    }\n",
       "\n",
       "    .dataframe tbody tr th {\n",
       "        vertical-align: top;\n",
       "    }\n",
       "\n",
       "    .dataframe thead th {\n",
       "        text-align: right;\n",
       "    }\n",
       "</style>\n",
       "<table border=\"1\" class=\"dataframe\">\n",
       "  <thead>\n",
       "    <tr style=\"text-align: right;\">\n",
       "      <th></th>\n",
       "      <th>PTYPE</th>\n",
       "      <th>time</th>\n",
       "      <th>profit</th>\n",
       "      <th>cap</th>\n",
       "    </tr>\n",
       "  </thead>\n",
       "  <tbody>\n",
       "    <tr>\n",
       "      <th>0</th>\n",
       "      <td>Product_A</td>\n",
       "      <td>2.0</td>\n",
       "      <td>50</td>\n",
       "      <td>30</td>\n",
       "    </tr>\n",
       "    <tr>\n",
       "      <th>1</th>\n",
       "      <td>Product_B</td>\n",
       "      <td>1.0</td>\n",
       "      <td>40</td>\n",
       "      <td>50</td>\n",
       "    </tr>\n",
       "    <tr>\n",
       "      <th>2</th>\n",
       "      <td>Product_C</td>\n",
       "      <td>3.0</td>\n",
       "      <td>70</td>\n",
       "      <td>20</td>\n",
       "    </tr>\n",
       "    <tr>\n",
       "      <th>3</th>\n",
       "      <td>Product_D</td>\n",
       "      <td>4.0</td>\n",
       "      <td>80</td>\n",
       "      <td>25</td>\n",
       "    </tr>\n",
       "    <tr>\n",
       "      <th>4</th>\n",
       "      <td>Product_E</td>\n",
       "      <td>1.5</td>\n",
       "      <td>60</td>\n",
       "      <td>40</td>\n",
       "    </tr>\n",
       "    <tr>\n",
       "      <th>5</th>\n",
       "      <td>Product_F</td>\n",
       "      <td>2.5</td>\n",
       "      <td>90</td>\n",
       "      <td>15</td>\n",
       "    </tr>\n",
       "  </tbody>\n",
       "</table>\n",
       "</div>"
      ],
      "text/plain": [
       "       PTYPE  time  profit  cap\n",
       "0  Product_A   2.0      50   30\n",
       "1  Product_B   1.0      40   50\n",
       "2  Product_C   3.0      70   20\n",
       "3  Product_D   4.0      80   25\n",
       "4  Product_E   1.5      60   40\n",
       "5  Product_F   2.5      90   15"
      ]
     },
     "execution_count": 22,
     "metadata": {},
     "output_type": "execute_result"
    }
   ],
   "source": [
    "production_data = pd.read_csv(\"production_data.csv\")\n",
    "production_data"
   ]
  },
  {
   "cell_type": "code",
   "execution_count": 23,
   "id": "a943f6dd-e531-4433-a1c2-9919a0d92b83",
   "metadata": {},
   "outputs": [],
   "source": [
    "# Build instance data\n",
    "instanceData= {None:{\n",
    "    'PTYPE': {None: production_data['PTYPE']},\n",
    "    'time': production_data.set_index(['PTYPE']).to_dict()['time'],\n",
    "    'price': production_data.set_index(['PTYPE']).to_dict()['profit'],\n",
    "    'maxProd': production_data.set_index(['PTYPE']).to_dict()['cap']\n",
    "}}\n",
    "instance = m.create_instance(instanceData)"
   ]
  },
  {
   "cell_type": "code",
   "execution_count": 24,
   "id": "fccedc9e-cdd3-47c7-9f60-31c69d6af544",
   "metadata": {},
   "outputs": [
    {
     "name": "stdout",
     "output_type": "stream",
     "text": [
      "GLPSOL--GLPK LP/MIP Solver 5.0\n",
      "Parameter(s) specified in the command line:\n",
      " --write /tmp/tmpi5o0rkd8.glpk.raw --wglp /tmp/tmp8qqwyvzc.glpk.glp --cpxlp\n",
      " /tmp/tmpkooibswh.pyomo.lp\n",
      "Reading problem data from '/tmp/tmpkooibswh.pyomo.lp'...\n",
      "7 rows, 6 columns, 12 non-zeros\n",
      "6 integer variables, none of which are binary\n",
      "61 lines were read\n",
      "Writing problem data to '/tmp/tmp8qqwyvzc.glpk.glp'...\n",
      "47 lines were written\n",
      "GLPK Integer Optimizer 5.0\n",
      "7 rows, 6 columns, 12 non-zeros\n",
      "6 integer variables, none of which are binary\n",
      "Preprocessing...\n",
      "1 row, 6 columns, 6 non-zeros\n",
      "6 integer variables, none of which are binary\n",
      "Scaling...\n",
      " A: min|aij| =  1.000e+00  max|aij| =  4.000e+00  ratio =  4.000e+00\n",
      "Problem data seem to be well scaled\n",
      "Constructing initial basis...\n",
      "Size of triangular part is 1\n",
      "Solving LP relaxation...\n",
      "GLPK Simplex Optimizer 5.0\n",
      "1 row, 6 columns, 6 non-zeros\n",
      "*     0: obj =  -0.000000000e+00 inf =   0.000e+00 (6)\n",
      "*     8: obj =   7.062500000e+03 inf =   0.000e+00 (0)\n",
      "OPTIMAL LP SOLUTION FOUND\n",
      "Integer optimization begins...\n",
      "Long-step dual simplex will be used\n",
      "+     8: mip =     not found yet <=              +inf        (1; 0)\n",
      "Solution found by heuristic: 7050\n",
      "+     9: mip =   7.050000000e+03 <=     tree is empty   0.0% (0; 1)\n",
      "INTEGER OPTIMAL SOLUTION FOUND\n",
      "Time used:   0.0 secs\n",
      "Memory used: 0.1 Mb (60392 bytes)\n",
      "Writing MIP solution to '/tmp/tmpi5o0rkd8.glpk.raw'...\n",
      "22 lines were written\n"
     ]
    }
   ],
   "source": [
    "opt = SolverFactory('glpk')\n",
    "results = opt.solve(instance, tee = True)"
   ]
  },
  {
   "cell_type": "code",
   "execution_count": 25,
   "id": "e9724997-226e-44b8-80e8-6557a320fc2f",
   "metadata": {},
   "outputs": [
    {
     "name": "stdout",
     "output_type": "stream",
     "text": [
      "Model unknown\n",
      "\n",
      "  Variables:\n",
      "    NProd : Size=6, Index=PTYPE\n",
      "        Key       : Lower : Value : Upper : Fixed : Stale : Domain\n",
      "        Product_A :     0 :  26.0 :  None : False : False : NonNegativeIntegers\n",
      "        Product_B :     0 :  50.0 :  None : False : False : NonNegativeIntegers\n",
      "        Product_C :     0 :   0.0 :  None : False : False : NonNegativeIntegers\n",
      "        Product_D :     0 :   0.0 :  None : False : False : NonNegativeIntegers\n",
      "        Product_E :     0 :  40.0 :  None : False : False : NonNegativeIntegers\n",
      "        Product_F :     0 :  15.0 :  None : False : False : NonNegativeIntegers\n",
      "\n",
      "  Objectives:\n",
      "    TotalInc : Size=1, Index=None, Active=True\n",
      "        Key  : Active : Value\n",
      "        None :   True : 7050.0\n",
      "\n",
      "  Constraints:\n",
      "    Total_Time : Size=1\n",
      "        Key  : Lower : Body  : Upper\n",
      "        None :  None : 199.5 : 200.0\n",
      "    Max_Prod : Size=6\n",
      "        Key       : Lower : Body : Upper\n",
      "        Product_A :  None : 26.0 :  30.0\n",
      "        Product_B :  None : 50.0 :  50.0\n",
      "        Product_C :  None :  0.0 :  20.0\n",
      "        Product_D :  None :  0.0 :  25.0\n",
      "        Product_E :  None : 40.0 :  40.0\n",
      "        Product_F :  None : 15.0 :  15.0\n"
     ]
    }
   ],
   "source": [
    "instance.display()"
   ]
  },
  {
   "cell_type": "code",
   "execution_count": 26,
   "id": "db7a9e51-7c38-4712-b3c1-ddb70e129896",
   "metadata": {},
   "outputs": [
    {
     "name": "stdout",
     "output_type": "stream",
     "text": [
      "0.0 1.0 0.0 0.6 0.2 0.7 7.05\n"
     ]
    }
   ],
   "source": [
    "m = ConcreteModel()\n",
    "\n",
    "m.Chi2Bos = Var(domain=NonNegativeReals)\n",
    "m.Chi2New = Var(domain=NonNegativeReals)\n",
    "m.Chi2Tor = Var(domain=NonNegativeReals)\n",
    "m.Det2Bos = Var(domain=NonNegativeReals)\n",
    "m.Det2New = Var(domain=NonNegativeReals)\n",
    "m.Det2Tor = Var(domain=NonNegativeReals)\n",
    "m.Chi2Dur = Var(domain=NonNegativeReals)\n",
    "m.Det2Dur = Var(domain=NonNegativeReals)\n",
    "\n",
    "m.Boston_Demand = Constraint(expr = m.Chi2Bos + m.Det2Bos >= 0.6)\n",
    "m.Newark_Demand = Constraint(expr = m.Chi2New + m.Det2New >= 1.2)\n",
    "m.Toronto_Demand = Constraint(expr = m.Chi2Tor + m.Det2Tor >= 0.7)\n",
    "m.Durham_Demand = Constraint(expr = m.Chi2Dur + m.Det2Dur >= 0.5)\n",
    "m.Toronto_Supply = Constraint(expr = m.Chi2Bos + m.Chi2New + m.Chi2Tor + m.Chi2Dur <= 2)\n",
    "m.Detrit_Supply = Constraint(expr = m.Det2Bos + m.Det2New + m.Det2Tor + m.Det2Dur <= 1.5)\n",
    "\n",
    "m.TotalCost = Objective(expr = 5.5*m.Chi2Bos + 2.5*m.Chi2New + 2*m.Chi2Tor + 3.5 * m.Chi2Dur +\n",
    "                        3*m.Det2Bos + 1.5*m.Det2New + m.Det2Tor + 3 * m.Det2Dur, \n",
    "                        sense=minimize)\n",
    "\n",
    "opt = SolverFactory('glpk')\n",
    "sol = opt.solve(m) \n",
    "print(m.Chi2Bos(), m.Chi2New(), m.Chi2Tor(), \n",
    "      m.Det2Bos(), m.Det2New(), m.Det2Tor(),  m.TotalCost())"
   ]
  },
  {
   "cell_type": "code",
   "execution_count": 27,
   "id": "61fe6c19-9d40-4a42-89b4-1c4101662060",
   "metadata": {},
   "outputs": [
    {
     "name": "stdout",
     "output_type": "stream",
     "text": [
      "Model unknown\n",
      "\n",
      "  Variables:\n",
      "    Chi2Bos : Size=1, Index=None\n",
      "        Key  : Lower : Value : Upper : Fixed : Stale : Domain\n",
      "        None :     0 :   0.0 :  None : False : False : NonNegativeReals\n",
      "    Chi2New : Size=1, Index=None\n",
      "        Key  : Lower : Value : Upper : Fixed : Stale : Domain\n",
      "        None :     0 :   1.0 :  None : False : False : NonNegativeReals\n",
      "    Chi2Tor : Size=1, Index=None\n",
      "        Key  : Lower : Value : Upper : Fixed : Stale : Domain\n",
      "        None :     0 :   0.0 :  None : False : False : NonNegativeReals\n",
      "    Det2Bos : Size=1, Index=None\n",
      "        Key  : Lower : Value : Upper : Fixed : Stale : Domain\n",
      "        None :     0 :   0.6 :  None : False : False : NonNegativeReals\n",
      "    Det2New : Size=1, Index=None\n",
      "        Key  : Lower : Value : Upper : Fixed : Stale : Domain\n",
      "        None :     0 :   0.2 :  None : False : False : NonNegativeReals\n",
      "    Det2Tor : Size=1, Index=None\n",
      "        Key  : Lower : Value : Upper : Fixed : Stale : Domain\n",
      "        None :     0 :   0.7 :  None : False : False : NonNegativeReals\n",
      "    Chi2Dur : Size=1, Index=None\n",
      "        Key  : Lower : Value : Upper : Fixed : Stale : Domain\n",
      "        None :     0 :   0.5 :  None : False : False : NonNegativeReals\n",
      "    Det2Dur : Size=1, Index=None\n",
      "        Key  : Lower : Value : Upper : Fixed : Stale : Domain\n",
      "        None :     0 :   0.0 :  None : False : False : NonNegativeReals\n",
      "\n",
      "  Objectives:\n",
      "    TotalCost : Size=1, Index=None, Active=True\n",
      "        Key  : Active : Value\n",
      "        None :   True :  7.05\n",
      "\n",
      "  Constraints:\n",
      "    Boston_Demand : Size=1\n",
      "        Key  : Lower : Body : Upper\n",
      "        None :   0.6 :  0.6 :  None\n",
      "    Newark_Demand : Size=1\n",
      "        Key  : Lower : Body : Upper\n",
      "        None :   1.2 :  1.2 :  None\n",
      "    Toronto_Demand : Size=1\n",
      "        Key  : Lower : Body : Upper\n",
      "        None :   0.7 :  0.7 :  None\n",
      "    Durham_Demand : Size=1\n",
      "        Key  : Lower : Body : Upper\n",
      "        None :   0.5 :  0.5 :  None\n",
      "    Toronto_Supply : Size=1\n",
      "        Key  : Lower : Body : Upper\n",
      "        None :  None :  1.5 :   2.0\n",
      "    Detrit_Supply : Size=1\n",
      "        Key  : Lower : Body : Upper\n",
      "        None :  None :  1.5 :   1.5\n"
     ]
    }
   ],
   "source": [
    "m.display()"
   ]
  }
 ],
 "metadata": {
  "kernelspec": {
   "display_name": "opt",
   "language": "python",
   "name": "opt"
  },
  "language_info": {
   "codemirror_mode": {
    "name": "ipython",
    "version": 3
   },
   "file_extension": ".py",
   "mimetype": "text/x-python",
   "name": "python",
   "nbconvert_exporter": "python",
   "pygments_lexer": "ipython3",
   "version": "3.12.7"
  }
 },
 "nbformat": 4,
 "nbformat_minor": 5
}
