{
 "cells": [
  {
   "cell_type": "code",
   "execution_count": 1,
   "id": "d3129727",
   "metadata": {},
   "outputs": [],
   "source": [
    "import matplotlib.pyplot as plt\n",
    "import pandas as pd\n",
    "import numpy as np\n",
    "import pyomo.environ as pyo\n",
    "from pyomo.opt import SolverFactory"
   ]
  },
  {
   "cell_type": "markdown",
   "id": "a8654f88",
   "metadata": {},
   "source": [
    "# Class questions"
   ]
  },
  {
   "cell_type": "markdown",
   "id": "dc190d46",
   "metadata": {},
   "source": [
    "### Problem 1"
   ]
  },
  {
   "cell_type": "markdown",
   "id": "fb95493c",
   "metadata": {},
   "source": [
    "- Cary Elementary has 1 classroom, grades 1A, 1B, 2A. 8 1hr-blocks of time for student face-to-face instruction. Decided the optimium schedule for each student grade to maximise total aggregated student face-to-face time."
   ]
  },
  {
   "cell_type": "code",
   "execution_count": 2,
   "id": "2c4ea5a0",
   "metadata": {},
   "outputs": [],
   "source": [
    "v1_model = pyo.ConcreteModel(\"Problem 1: Version 1\")"
   ]
  },
  {
   "cell_type": "code",
   "execution_count": 3,
   "id": "a0d859f9",
   "metadata": {},
   "outputs": [],
   "source": [
    "GR = [\"1A\", \"1B\", \"2A\"]\n",
    "TSLOTS = [\"8 am\", \"9 am\", \"10 am\", \"11 am\", \"12 noon\", \"1 pm\", \"2 pm\", \"3 pm\", \"4 pm\"]\n"
   ]
  },
  {
   "cell_type": "code",
   "execution_count": 4,
   "id": "e7fde28e",
   "metadata": {},
   "outputs": [],
   "source": [
    "v1_model.GRADES = pyo.Set(initialize = GR)"
   ]
  },
  {
   "cell_type": "code",
   "execution_count": 5,
   "id": "a687d017",
   "metadata": {},
   "outputs": [],
   "source": [
    "v1_model.TIMESLOTS = pyo.Set(initialize = TSLOTS)"
   ]
  },
  {
   "cell_type": "code",
   "execution_count": 6,
   "id": "63fbcb8d",
   "metadata": {},
   "outputs": [],
   "source": [
    "v1_model.assign = pyo.Var(v1_model.GRADES, v1_model.TIMESLOTS, domain = pyo.Binary)"
   ]
  },
  {
   "cell_type": "code",
   "execution_count": 7,
   "id": "73b3cd30",
   "metadata": {},
   "outputs": [],
   "source": [
    "@v1_model.Objective(sense = pyo.maximize)\n",
    "def face_to_face_time(model):\n",
    "    return pyo.sum_product(model.assign)"
   ]
  },
  {
   "cell_type": "code",
   "execution_count": 14,
   "id": "21354ae7",
   "metadata": {},
   "outputs": [],
   "source": [
    "@v1_model.Constraint(v1_model.TIMESLOTS)\n",
    "def each_timeslot_one_class(model, t):\n",
    "    return pyo.quicksum(model.assign[g, t] for g in model.GRADES) <= 1"
   ]
  },
  {
   "cell_type": "code",
   "execution_count": 15,
   "id": "7ebf45f2",
   "metadata": {},
   "outputs": [
    {
     "data": {
      "text/plain": [
       "<Availability.FullLicense: 1>"
      ]
     },
     "execution_count": 15,
     "metadata": {},
     "output_type": "execute_result"
    }
   ],
   "source": [
    "from pyomo.contrib import appsi\n",
    "SOLVER = appsi.solvers.Cbc()\n",
    "SOLVER.available()"
   ]
  },
  {
   "cell_type": "code",
   "execution_count": 16,
   "id": "f1b8d5cc",
   "metadata": {},
   "outputs": [],
   "source": [
    "results = SOLVER.solve(v1_model)"
   ]
  },
  {
   "cell_type": "code",
   "execution_count": 17,
   "id": "2bc896e9",
   "metadata": {},
   "outputs": [
    {
     "data": {
      "text/plain": [
       "9.0"
      ]
     },
     "execution_count": 17,
     "metadata": {},
     "output_type": "execute_result"
    }
   ],
   "source": [
    "results.best_feasible_objective"
   ]
  },
  {
   "cell_type": "code",
   "execution_count": 21,
   "id": "1ab2746a",
   "metadata": {},
   "outputs": [
    {
     "name": "stdout",
     "output_type": "stream",
     "text": [
      "ERROR: evaluating object as numeric value: assign\n",
      "        (object: <class 'pyomo.core.base.var.IndexedVar'>)\n",
      "    'IndexedVar' object is not callable\n"
     ]
    },
    {
     "ename": "TypeError",
     "evalue": "'IndexedVar' object is not callable",
     "output_type": "error",
     "traceback": [
      "\u001b[0;31m---------------------------------------------------------------------------\u001b[0m",
      "\u001b[0;31mTypeError\u001b[0m                                 Traceback (most recent call last)",
      "Cell \u001b[0;32mIn[21], line 1\u001b[0m\n\u001b[0;32m----> 1\u001b[0m pyo\u001b[38;5;241m.\u001b[39mvalue(v1_model\u001b[38;5;241m.\u001b[39massign)\n",
      "File \u001b[0;32m~/Software/miniconda3/envs/optimization/lib/python3.12/site-packages/pyomo/common/numeric_types.py:382\u001b[0m, in \u001b[0;36mvalue\u001b[0;34m(obj, exception)\u001b[0m\n\u001b[1;32m    377\u001b[0m \u001b[38;5;28;01mif\u001b[39;00m exception:\n\u001b[1;32m    378\u001b[0m     \u001b[38;5;66;03m#\u001b[39;00m\n\u001b[1;32m    379\u001b[0m     \u001b[38;5;66;03m# Here, we try to catch the exception\u001b[39;00m\n\u001b[1;32m    380\u001b[0m     \u001b[38;5;66;03m#\u001b[39;00m\n\u001b[1;32m    381\u001b[0m     \u001b[38;5;28;01mtry\u001b[39;00m:\n\u001b[0;32m--> 382\u001b[0m         tmp \u001b[38;5;241m=\u001b[39m obj(exception\u001b[38;5;241m=\u001b[39m\u001b[38;5;28;01mTrue\u001b[39;00m)\n\u001b[1;32m    383\u001b[0m         \u001b[38;5;28;01mif\u001b[39;00m tmp \u001b[38;5;129;01mis\u001b[39;00m \u001b[38;5;28;01mNone\u001b[39;00m:\n\u001b[1;32m    384\u001b[0m             \u001b[38;5;28;01mraise\u001b[39;00m \u001b[38;5;167;01mValueError\u001b[39;00m(\n\u001b[1;32m    385\u001b[0m                 \u001b[38;5;124m\"\u001b[39m\u001b[38;5;124mNo value for uninitialized NumericValue object \u001b[39m\u001b[38;5;132;01m%s\u001b[39;00m\u001b[38;5;124m\"\u001b[39m \u001b[38;5;241m%\u001b[39m (obj\u001b[38;5;241m.\u001b[39mname,)\n\u001b[1;32m    386\u001b[0m             )\n",
      "\u001b[0;31mTypeError\u001b[0m: 'IndexedVar' object is not callable"
     ]
    }
   ],
   "source": [
    "pyo.value(v1_model.assign)"
   ]
  },
  {
   "cell_type": "code",
   "execution_count": null,
   "id": "ce3f72a1",
   "metadata": {},
   "outputs": [],
   "source": []
  }
 ],
 "metadata": {
  "kernelspec": {
   "display_name": "opt",
   "language": "python",
   "name": "opt"
  },
  "language_info": {
   "codemirror_mode": {
    "name": "ipython",
    "version": 3
   },
   "file_extension": ".py",
   "mimetype": "text/x-python",
   "name": "python",
   "nbconvert_exporter": "python",
   "pygments_lexer": "ipython3",
   "version": "3.12.6"
  }
 },
 "nbformat": 4,
 "nbformat_minor": 5
}
