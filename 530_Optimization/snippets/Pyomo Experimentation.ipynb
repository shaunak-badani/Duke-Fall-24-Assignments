{
 "cells": [
  {
   "cell_type": "code",
   "execution_count": 1,
   "id": "3aad1c41",
   "metadata": {},
   "outputs": [
    {
     "name": "stderr",
     "output_type": "stream",
     "text": [
      "Matplotlib is building the font cache; this may take a moment.\n"
     ]
    }
   ],
   "source": [
    "import matplotlib.pyplot as plt\n",
    "import pandas as pd\n",
    "import numpy as np\n",
    "from pyomo.environ import *\n",
    "from pyomo.opt import SolverFactory"
   ]
  },
  {
   "cell_type": "code",
   "execution_count": 2,
   "id": "d7b6dd7d",
   "metadata": {},
   "outputs": [],
   "source": [
    "model = ConcreteModel(\"Production Planning: Version 1\")"
   ]
  },
  {
   "cell_type": "code",
   "execution_count": 3,
   "id": "6aad4423",
   "metadata": {},
   "outputs": [
    {
     "name": "stdout",
     "output_type": "stream",
     "text": [
      "Model 'Production Planning: Version 1'\n",
      "\n",
      "  Variables:\n",
      "    None\n",
      "\n",
      "  Objectives:\n",
      "    None\n",
      "\n",
      "  Constraints:\n",
      "    None\n"
     ]
    }
   ],
   "source": [
    "model.display()"
   ]
  },
  {
   "cell_type": "code",
   "execution_count": 4,
   "id": "dabfea66",
   "metadata": {},
   "outputs": [],
   "source": [
    "model.x_M = Var(bounds = (0, None))\n",
    "model.x_A = Var(bounds = (0, 80))\n",
    "model.x_B = Var(bounds = (0, 100))\n",
    "\n",
    "model.y_U = Var(bounds = (0, 40))\n",
    "model.y_V = Var(bounds = (0, None))"
   ]
  },
  {
   "cell_type": "code",
   "execution_count": 5,
   "id": "777b20da",
   "metadata": {},
   "outputs": [
    {
     "name": "stdout",
     "output_type": "stream",
     "text": [
      "Model 'Production Planning: Version 1'\n",
      "\n",
      "  Variables:\n",
      "    x_M : Size=1, Index=None\n",
      "        Key  : Lower : Value : Upper : Fixed : Stale : Domain\n",
      "        None :     0 :  None :  None : False :  True :  Reals\n",
      "    x_A : Size=1, Index=None\n",
      "        Key  : Lower : Value : Upper : Fixed : Stale : Domain\n",
      "        None :     0 :  None :    80 : False :  True :  Reals\n",
      "    x_B : Size=1, Index=None\n",
      "        Key  : Lower : Value : Upper : Fixed : Stale : Domain\n",
      "        None :     0 :  None :   100 : False :  True :  Reals\n",
      "    y_U : Size=1, Index=None\n",
      "        Key  : Lower : Value : Upper : Fixed : Stale : Domain\n",
      "        None :     0 :  None :    40 : False :  True :  Reals\n",
      "    y_V : Size=1, Index=None\n",
      "        Key  : Lower : Value : Upper : Fixed : Stale : Domain\n",
      "        None :     0 :  None :  None : False :  True :  Reals\n",
      "\n",
      "  Objectives:\n",
      "    None\n",
      "\n",
      "  Constraints:\n",
      "    None\n"
     ]
    }
   ],
   "source": [
    "model.display()"
   ]
  },
  {
   "cell_type": "code",
   "execution_count": 6,
   "id": "1cbb942e",
   "metadata": {},
   "outputs": [
    {
     "name": "stdout",
     "output_type": "stream",
     "text": [
      "270*y_U + 210*y_V\n",
      "10*x_M + 50*x_A + 40*x_B\n"
     ]
    }
   ],
   "source": [
    "# Expressions\n",
    "model.revenue = 270 * model.y_U + 210 * model.y_V\n",
    "model.cost = 10 * model.x_M + 50 * model.x_A + 40 * model.x_B\n",
    "\n",
    "# Expressions can be printed\n",
    "print(model.revenue)\n",
    "print(model.cost)"
   ]
  },
  {
   "cell_type": "code",
   "execution_count": 7,
   "id": "bf4c8d9e",
   "metadata": {},
   "outputs": [],
   "source": [
    "@model.Objective(sense = maximize)\n",
    "def profit(m):\n",
    "    return m.revenue - m.cost"
   ]
  },
  {
   "cell_type": "code",
   "execution_count": 8,
   "id": "92e8aa42",
   "metadata": {},
   "outputs": [
    {
     "name": "stdout",
     "output_type": "stream",
     "text": [
      "Model 'Production Planning: Version 1'\n",
      "\n",
      "  Variables:\n",
      "    x_M : Size=1, Index=None\n",
      "        Key  : Lower : Value : Upper : Fixed : Stale : Domain\n",
      "        None :     0 :  None :  None : False :  True :  Reals\n",
      "    x_A : Size=1, Index=None\n",
      "        Key  : Lower : Value : Upper : Fixed : Stale : Domain\n",
      "        None :     0 :  None :    80 : False :  True :  Reals\n",
      "    x_B : Size=1, Index=None\n",
      "        Key  : Lower : Value : Upper : Fixed : Stale : Domain\n",
      "        None :     0 :  None :   100 : False :  True :  Reals\n",
      "    y_U : Size=1, Index=None\n",
      "        Key  : Lower : Value : Upper : Fixed : Stale : Domain\n",
      "        None :     0 :  None :    40 : False :  True :  Reals\n",
      "    y_V : Size=1, Index=None\n",
      "        Key  : Lower : Value : Upper : Fixed : Stale : Domain\n",
      "        None :     0 :  None :  None : False :  True :  Reals\n",
      "\n",
      "  Objectives:\n",
      "    profit : Size=1, Index=None, Active=True\n",
      "ERROR: evaluating object as numeric value: y_U\n",
      "        (object: <class 'pyomo.core.base.var.ScalarVar'>)\n",
      "    No value for uninitialized NumericValue object y_U\n",
      "ERROR: evaluating object as numeric value: profit\n",
      "        (object: <class 'pyomo.core.base.objective.ScalarObjective'>)\n",
      "    No value for uninitialized NumericValue object y_U\n",
      "        Key : Active : Value\n",
      "        None :   None :  None\n",
      "\n",
      "  Constraints:\n",
      "    None\n"
     ]
    }
   ],
   "source": [
    "model.display()"
   ]
  },
  {
   "cell_type": "code",
   "execution_count": 9,
   "id": "b5d243a7",
   "metadata": {},
   "outputs": [],
   "source": [
    "@model.Constraint()\n",
    "def raw_materials(m):\n",
    "    return 10 * m.y_U + 9 * m.y_V <= m.x_M\n",
    "\n",
    "@model.Constraint()\n",
    "def labor_A(m):\n",
    "    return 1 * m.y_U + 1 * m.y_V <= m.x_A\n",
    "\n",
    "@model.Constraint()\n",
    "def labor_B(m):\n",
    "    return 2 * m.y_U + 1 * m.y_V <= m.x_B"
   ]
  },
  {
   "cell_type": "code",
   "execution_count": 10,
   "id": "dde52e46",
   "metadata": {},
   "outputs": [
    {
     "name": "stdout",
     "output_type": "stream",
     "text": [
      "5 Var Declarations\n",
      "    x_A : Size=1, Index=None\n",
      "        Key  : Lower : Value : Upper : Fixed : Stale : Domain\n",
      "        None :     0 :  None :    80 : False :  True :  Reals\n",
      "    x_B : Size=1, Index=None\n",
      "        Key  : Lower : Value : Upper : Fixed : Stale : Domain\n",
      "        None :     0 :  None :   100 : False :  True :  Reals\n",
      "    x_M : Size=1, Index=None\n",
      "        Key  : Lower : Value : Upper : Fixed : Stale : Domain\n",
      "        None :     0 :  None :  None : False :  True :  Reals\n",
      "    y_U : Size=1, Index=None\n",
      "        Key  : Lower : Value : Upper : Fixed : Stale : Domain\n",
      "        None :     0 :  None :    40 : False :  True :  Reals\n",
      "    y_V : Size=1, Index=None\n",
      "        Key  : Lower : Value : Upper : Fixed : Stale : Domain\n",
      "        None :     0 :  None :  None : False :  True :  Reals\n",
      "\n",
      "1 Objective Declarations\n",
      "    profit : Size=1, Index=None, Active=True\n",
      "        Key  : Active : Sense    : Expression\n",
      "        None :   True : maximize : 270*y_U + 210*y_V - (10*x_M + 50*x_A + 40*x_B)\n",
      "\n",
      "3 Constraint Declarations\n",
      "    labor_A : Size=1, Index=None, Active=True\n",
      "        Key  : Lower : Body            : Upper : Active\n",
      "        None :  -Inf : y_U + y_V - x_A :   0.0 :   True\n",
      "    labor_B : Size=1, Index=None, Active=True\n",
      "        Key  : Lower : Body              : Upper : Active\n",
      "        None :  -Inf : 2*y_U + y_V - x_B :   0.0 :   True\n",
      "    raw_materials : Size=1, Index=None, Active=True\n",
      "        Key  : Lower : Body                 : Upper : Active\n",
      "        None :  -Inf : 10*y_U + 9*y_V - x_M :   0.0 :   True\n",
      "\n",
      "9 Declarations: x_M x_A x_B y_U y_V profit raw_materials labor_A labor_B\n"
     ]
    }
   ],
   "source": [
    "model.pprint()"
   ]
  },
  {
   "cell_type": "code",
   "execution_count": 11,
   "id": "d55ef09f",
   "metadata": {},
   "outputs": [],
   "source": [
    "from pyomo.contrib import appsi"
   ]
  },
  {
   "cell_type": "code",
   "execution_count": 12,
   "id": "b1d69fd8",
   "metadata": {},
   "outputs": [
    {
     "data": {
      "text/plain": [
       "<Availability.FullLicense: 1>"
      ]
     },
     "execution_count": 12,
     "metadata": {},
     "output_type": "execute_result"
    }
   ],
   "source": [
    "SOLVER = appsi.solvers.Ipopt()\n",
    "SOLVER.available()"
   ]
  },
  {
   "cell_type": "code",
   "execution_count": 13,
   "id": "1563cd75",
   "metadata": {},
   "outputs": [],
   "source": [
    "results = SOLVER.solve(model)"
   ]
  },
  {
   "cell_type": "code",
   "execution_count": 14,
   "id": "f7f036c9",
   "metadata": {},
   "outputs": [
    {
     "data": {
      "text/plain": [
       "['solution_loader',\n",
       " 'termination_condition',\n",
       " 'best_feasible_objective',\n",
       " 'best_objective_bound',\n",
       " '__module__',\n",
       " '__doc__',\n",
       " '__init__',\n",
       " '__str__',\n",
       " '__dict__',\n",
       " '__weakref__',\n",
       " '__new__',\n",
       " '__repr__',\n",
       " '__hash__',\n",
       " '__getattribute__',\n",
       " '__setattr__',\n",
       " '__delattr__',\n",
       " '__lt__',\n",
       " '__le__',\n",
       " '__eq__',\n",
       " '__ne__',\n",
       " '__gt__',\n",
       " '__ge__',\n",
       " '__reduce_ex__',\n",
       " '__reduce__',\n",
       " '__getstate__',\n",
       " '__subclasshook__',\n",
       " '__init_subclass__',\n",
       " '__format__',\n",
       " '__sizeof__',\n",
       " '__dir__',\n",
       " '__class__']"
      ]
     },
     "execution_count": 14,
     "metadata": {},
     "output_type": "execute_result"
    }
   ],
   "source": [
    "results.__dir__()"
   ]
  },
  {
   "cell_type": "code",
   "execution_count": 15,
   "id": "244eaa2f",
   "metadata": {},
   "outputs": [
    {
     "data": {
      "text/plain": [
       "<TerminationCondition.optimal: 5>"
      ]
     },
     "execution_count": 15,
     "metadata": {},
     "output_type": "execute_result"
    }
   ],
   "source": [
    "results.termination_condition"
   ]
  },
  {
   "cell_type": "code",
   "execution_count": 16,
   "id": "35aa34a7",
   "metadata": {},
   "outputs": [
    {
     "data": {
      "text/plain": [
       "<TerminationCondition.optimal: 5>"
      ]
     },
     "execution_count": 16,
     "metadata": {},
     "output_type": "execute_result"
    }
   ],
   "source": [
    "appsi.base.TerminationCondition.optimal"
   ]
  },
  {
   "cell_type": "code",
   "execution_count": 17,
   "id": "b9b61580",
   "metadata": {},
   "outputs": [
    {
     "name": "stdout",
     "output_type": "stream",
     "text": [
      "5 Var Declarations\n",
      "    x_A : Size=1, Index=None\n",
      "        Key  : Lower : Value             : Upper : Fixed : Stale : Domain\n",
      "        None :     0 : 80.00000079966169 :    80 : False : False :  Reals\n",
      "    x_B : Size=1, Index=None\n",
      "        Key  : Lower : Value             : Upper : Fixed : Stale : Domain\n",
      "        None :     0 : 100.0000009993234 :   100 : False : False :  Reals\n",
      "    x_M : Size=1, Index=None\n",
      "        Key  : Lower : Value            : Upper : Fixed : Stale : Domain\n",
      "        None :     0 : 740.000007476385 :  None : False : False :  Reals\n",
      "    y_U : Size=1, Index=None\n",
      "        Key  : Lower : Value              : Upper : Fixed : Stale : Domain\n",
      "        None :     0 : 20.000000199623045 :    40 : False : False :  Reals\n",
      "    y_V : Size=1, Index=None\n",
      "        Key  : Lower : Value           : Upper : Fixed : Stale : Domain\n",
      "        None :     0 : 60.000000609942 :  None : False : False :  Reals\n",
      "\n",
      "1 Objective Declarations\n",
      "    profit : Size=1, Index=None, Active=True\n",
      "        Key  : Active : Sense    : Expression\n",
      "        None :   True : maximize : 270*y_U + 210*y_V - (10*x_M + 50*x_A + 40*x_B)\n",
      "\n",
      "3 Constraint Declarations\n",
      "    labor_A : Size=1, Index=None, Active=True\n",
      "        Key  : Lower : Body            : Upper : Active\n",
      "        None :  -Inf : y_U + y_V - x_A :   0.0 :   True\n",
      "    labor_B : Size=1, Index=None, Active=True\n",
      "        Key  : Lower : Body              : Upper : Active\n",
      "        None :  -Inf : 2*y_U + y_V - x_B :   0.0 :   True\n",
      "    raw_materials : Size=1, Index=None, Active=True\n",
      "        Key  : Lower : Body                 : Upper : Active\n",
      "        None :  -Inf : 10*y_U + 9*y_V - x_M :   0.0 :   True\n",
      "\n",
      "9 Declarations: x_M x_A x_B y_U y_V profit raw_materials labor_A labor_B\n"
     ]
    }
   ],
   "source": [
    "model.pprint()"
   ]
  },
  {
   "cell_type": "code",
   "execution_count": 18,
   "id": "7802d987",
   "metadata": {},
   "outputs": [
    {
     "name": "stdout",
     "output_type": "stream",
     "text": [
      "2600.000027266171\n",
      "15400.00015471987\n",
      "18000.00018198604\n"
     ]
    }
   ],
   "source": [
    "print(value(model.profit))\n",
    "print(value(model.cost))\n",
    "print(value(model.revenue))"
   ]
  },
  {
   "cell_type": "code",
   "execution_count": 19,
   "id": "7e6f9704",
   "metadata": {},
   "outputs": [
    {
     "name": "stdout",
     "output_type": "stream",
     "text": [
      "80.00000079966169\n",
      "100.0000009993234\n"
     ]
    }
   ],
   "source": [
    "print(model.x_A())\n",
    "print(model.x_B())"
   ]
  },
  {
   "cell_type": "code",
   "execution_count": 20,
   "id": "1b4bc49a",
   "metadata": {},
   "outputs": [
    {
     "data": {
      "text/plain": [
       "U    20.000000\n",
       "V    60.000001\n",
       "dtype: float64"
      ]
     },
     "execution_count": 20,
     "metadata": {},
     "output_type": "execute_result"
    }
   ],
   "source": [
    "import pandas as pd\n",
    "\n",
    "# create pandas series for production and raw materials\n",
    "production = pd.Series(\n",
    "    {\n",
    "        \"U\": value(model.y_U),\n",
    "        \"V\": value(model.y_V),\n",
    "    }\n",
    ")\n",
    "\n",
    "raw_materials = pd.Series(\n",
    "    {\n",
    "        \"A\": value(model.x_A),\n",
    "        \"B\": value(model.x_B),\n",
    "        \"M\": value(model.x_M),\n",
    "    }\n",
    ")\n",
    "\n",
    "production\n"
   ]
  },
  {
   "cell_type": "code",
   "execution_count": 21,
   "id": "cb5ee5e0",
   "metadata": {},
   "outputs": [
    {
     "data": {
      "text/plain": [
       "A     80.000001\n",
       "B    100.000001\n",
       "M    740.000007\n",
       "dtype: float64"
      ]
     },
     "execution_count": 21,
     "metadata": {},
     "output_type": "execute_result"
    }
   ],
   "source": [
    "raw_materials"
   ]
  },
  {
   "cell_type": "code",
   "execution_count": 22,
   "id": "a9f7aa2b",
   "metadata": {},
   "outputs": [
    {
     "data": {
      "image/png": "[encoded data removed]",
      "text/plain": [
       "<Figure size 800x350 with 2 Axes>"
      ]
     },
     "metadata": {},
     "output_type": "display_data"
    }
   ],
   "source": [
    "import matplotlib.pyplot as plt\n",
    "\n",
    "# Create a 1x2 grid of subplots and configure global settings\n",
    "fig, ax = plt.subplots(1, 2, figsize=(8, 3.5))\n",
    "plt.rcParams[\"font.size\"] = 12\n",
    "colors = plt.cm.tab20c.colors\n",
    "color_sets = [[colors[0], colors[4]], [colors[16], colors[8], colors[12]]]\n",
    "datasets = [production, raw_materials]\n",
    "titles = [\"Production\", \"Raw Materials\"]\n",
    "\n",
    "# Plot data on subplots\n",
    "for i, (data, title, color_set) in enumerate(zip(datasets, titles, color_sets)):\n",
    "    data.plot(ax=ax[i], kind=\"barh\", title=title, alpha=0.7, color=color_set)\n",
    "    ax[i].set_xlabel(\"Units\")\n",
    "    ax[i].invert_yaxis()\n",
    "plt.tight_layout()\n",
    "plt.show()\n"
   ]
  },
  {
   "cell_type": "markdown",
   "id": "7596e595",
   "metadata": {},
   "source": [
    "### Data driven model"
   ]
  },
  {
   "cell_type": "code",
   "execution_count": 23,
   "id": "cd823248",
   "metadata": {},
   "outputs": [],
   "source": [
    "PRODUCTS = {\"U\", \"V\"}\n",
    "\n",
    "prices = {\"U\": 270, \"V\": 210}\n",
    "demands = {\"U\": 40, \"V\": None}\n",
    "\n"
   ]
  },
  {
   "cell_type": "code",
   "execution_count": 24,
   "id": "02d0628b",
   "metadata": {},
   "outputs": [],
   "source": [
    "LABOR = {\"A\", \"B\"}\n",
    "COST_LABOR = {\"A\": 50, \"B\": 40}\n",
    "BOUND_LABOR = {\"A\": 80, \"B\": 100}\n",
    "\n",
    "RAW_M = {\"U\": 10, \"V\": 9}\n",
    "LABOR_REQUIRED = {\n",
    "    \"A\": { \"U\": 1, \"V\": 1},\n",
    "    \"B\": { \"U\": 2, \"V\": 1}\n",
    "}\n",
    "\n",
    "COST_RM = 10"
   ]
  },
  {
   "cell_type": "code",
   "execution_count": 25,
   "id": "5c17976c",
   "metadata": {},
   "outputs": [
    {
     "data": {
      "text/plain": [
       "['A', 'B']"
      ]
     },
     "execution_count": 25,
     "metadata": {},
     "output_type": "execute_result"
    }
   ],
   "source": [
    "list(dict.fromkeys(LABOR))"
   ]
  },
  {
   "cell_type": "code",
   "execution_count": 26,
   "id": "7ad2067d",
   "metadata": {},
   "outputs": [],
   "source": [
    "model = ConcreteModel(\"Production Optimization\")"
   ]
  },
  {
   "cell_type": "code",
   "execution_count": 27,
   "id": "c7e537c6",
   "metadata": {},
   "outputs": [],
   "source": [
    "model.PRODUCTS = Set(initialize = list(PRODUCTS))\n",
    "model.LABOR = Set(initialize = list(LABOR))"
   ]
  },
  {
   "cell_type": "code",
   "execution_count": 28,
   "id": "3eef17eb",
   "metadata": {},
   "outputs": [
    {
     "name": "stdout",
     "output_type": "stream",
     "text": [
      "2 Set Declarations\n",
      "    LABOR : Size=1, Index=None, Ordered=Insertion\n",
      "        Key  : Dimen : Domain : Size : Members\n",
      "        None :     1 :    Any :    2 : {'A', 'B'}\n",
      "    PRODUCTS : Size=1, Index=None, Ordered=Insertion\n",
      "        Key  : Dimen : Domain : Size : Members\n",
      "        None :     1 :    Any :    2 : {'V', 'U'}\n",
      "\n",
      "2 Declarations: PRODUCTS LABOR\n"
     ]
    }
   ],
   "source": [
    "model.pprint()"
   ]
  },
  {
   "cell_type": "code",
   "execution_count": 29,
   "id": "097e0fa1",
   "metadata": {},
   "outputs": [],
   "source": [
    "# parameter indexed on PRODUCTS\n",
    "@model.Param(model.PRODUCTS, domain = Any)\n",
    "def demand(model, product):\n",
    "    return demands[product]"
   ]
  },
  {
   "cell_type": "code",
   "execution_count": 30,
   "id": "296dcca6",
   "metadata": {},
   "outputs": [
    {
     "name": "stdout",
     "output_type": "stream",
     "text": [
      "2 Set Declarations\n",
      "    LABOR : Size=1, Index=None, Ordered=Insertion\n",
      "        Key  : Dimen : Domain : Size : Members\n",
      "        None :     1 :    Any :    2 : {'A', 'B'}\n",
      "    PRODUCTS : Size=1, Index=None, Ordered=Insertion\n",
      "        Key  : Dimen : Domain : Size : Members\n",
      "        None :     1 :    Any :    2 : {'V', 'U'}\n",
      "\n",
      "1 Param Declarations\n",
      "    demand : Size=2, Index=PRODUCTS, Domain=Any, Default=None, Mutable=False\n",
      "        Key : Value\n",
      "          U :    40\n",
      "          V :  None\n",
      "\n",
      "3 Declarations: PRODUCTS LABOR demand\n"
     ]
    }
   ],
   "source": [
    "model.pprint()"
   ]
  },
  {
   "cell_type": "code",
   "execution_count": 31,
   "id": "e812dcb4",
   "metadata": {},
   "outputs": [],
   "source": [
    "@model.Param(model.LABOR, domain = Any)\n",
    "def bound_labor(model, l):\n",
    "    return BOUND_LABOR[l]\n",
    "\n",
    "@model.Param(model.PRODUCTS, domain = Any)\n",
    "def raw_material(model, p):\n",
    "    return RAW_M[p]\n",
    "\n",
    "@model.Param()\n",
    "def cost_rawmaterial(m):\n",
    "    return COST_RM"
   ]
  },
  {
   "cell_type": "code",
   "execution_count": 32,
   "id": "cc08f8b0",
   "metadata": {},
   "outputs": [
    {
     "name": "stdout",
     "output_type": "stream",
     "text": [
      "2 Set Declarations\n",
      "    LABOR : Size=1, Index=None, Ordered=Insertion\n",
      "        Key  : Dimen : Domain : Size : Members\n",
      "        None :     1 :    Any :    2 : {'A', 'B'}\n",
      "    PRODUCTS : Size=1, Index=None, Ordered=Insertion\n",
      "        Key  : Dimen : Domain : Size : Members\n",
      "        None :     1 :    Any :    2 : {'V', 'U'}\n",
      "\n",
      "4 Param Declarations\n",
      "    bound_labor : Size=2, Index=LABOR, Domain=Any, Default=None, Mutable=False\n",
      "        Key : Value\n",
      "          A :    80\n",
      "          B :   100\n",
      "    cost_rawmaterial : Size=1, Index=None, Domain=Any, Default=None, Mutable=False\n",
      "        Key  : Value\n",
      "        None :    10\n",
      "    demand : Size=2, Index=PRODUCTS, Domain=Any, Default=None, Mutable=False\n",
      "        Key : Value\n",
      "          U :    40\n",
      "          V :  None\n",
      "    raw_material : Size=2, Index=PRODUCTS, Domain=Any, Default=None, Mutable=False\n",
      "        Key : Value\n",
      "          U :    10\n",
      "          V :     9\n",
      "\n",
      "6 Declarations: PRODUCTS LABOR demand bound_labor raw_material cost_rawmaterial\n"
     ]
    }
   ],
   "source": [
    "model.pprint()"
   ]
  },
  {
   "cell_type": "code",
   "execution_count": 33,
   "id": "eeee9bd0",
   "metadata": {},
   "outputs": [],
   "source": [
    "@model.Param(model.LABOR, model.PRODUCTS, domain = Any)\n",
    "def labor(model, l, p):\n",
    "    return LABOR_REQUIRED[l][p]"
   ]
  },
  {
   "cell_type": "code",
   "execution_count": 34,
   "id": "1add7e9b",
   "metadata": {},
   "outputs": [],
   "source": [
    "@model.Param(model.PRODUCTS, domain = Any)\n",
    "def price(model, p):\n",
    "    return prices[p]"
   ]
  },
  {
   "cell_type": "code",
   "execution_count": 35,
   "id": "20e975e1",
   "metadata": {},
   "outputs": [],
   "source": [
    "@model.Param(model.LABOR, domain = Any)\n",
    "def cost_labor(model, l):\n",
    "    return COST_LABOR[l]"
   ]
  },
  {
   "cell_type": "code",
   "execution_count": 36,
   "id": "9202a2e7",
   "metadata": {},
   "outputs": [],
   "source": [
    "# DECISION VARIABLES\n",
    "\n",
    "# production indexed on products\n",
    "# bounds is a function which accepts two parameters, (model, product_index) and returns the bound for that product_index\n",
    "\n",
    "model.production = Var(\n",
    "    model.PRODUCTS, bounds = lambda model, product: (0, model.demand[product]) \n",
    ")"
   ]
  },
  {
   "cell_type": "code",
   "execution_count": 37,
   "id": "92f22e13",
   "metadata": {},
   "outputs": [],
   "source": [
    "# hours indexed on labors\n",
    "\n",
    "model.hours = Var(\n",
    "    model.LABOR, bounds = lambda model, l: (0, model.bound_labor[l])\n",
    ")"
   ]
  },
  {
   "cell_type": "code",
   "execution_count": 38,
   "id": "b7581a2c",
   "metadata": {},
   "outputs": [],
   "source": [
    "model.qty_rm = Var(bounds = (0, None))"
   ]
  },
  {
   "cell_type": "markdown",
   "id": "2817ba29",
   "metadata": {},
   "source": [
    "###  Objective"
   ]
  },
  {
   "cell_type": "code",
   "execution_count": 39,
   "id": "e2cd17f3",
   "metadata": {},
   "outputs": [],
   "source": [
    "@model.Objective(sense = maximize)\n",
    "def profit(model):\n",
    "    model.revenue = quicksum(model.production[p] * model.price[p] for p in model.PRODUCTS)\n",
    "    model.cost = quicksum(model.cost_labor[l] * model.hours[l] for l in model.LABOR) + model.qty_rm * model.cost_rawmaterial\n",
    "    \n",
    "    return model.revenue - model.cost"
   ]
  },
  {
   "cell_type": "markdown",
   "id": "9c5d8052",
   "metadata": {},
   "source": [
    "### Constraints, apart from bounds"
   ]
  },
  {
   "cell_type": "code",
   "execution_count": 40,
   "id": "0fd148c7",
   "metadata": {},
   "outputs": [],
   "source": [
    "@model.Constraint()\n",
    "def raw_material_constraint(model):\n",
    "    return quicksum(model.raw_material[p] * model.production[p] for p in model.PRODUCTS) <= model.qty_rm"
   ]
  },
  {
   "cell_type": "code",
   "execution_count": 41,
   "id": "7002de3e",
   "metadata": {},
   "outputs": [],
   "source": [
    "@model.Constraint(model.LABOR)\n",
    "def limited_hours(model, l):\n",
    "    return quicksum(model.labor[l, p] * model.production[p] for p in model.PRODUCTS) <= model.hours[l]"
   ]
  },
  {
   "cell_type": "code",
   "execution_count": 42,
   "id": "216e4653",
   "metadata": {},
   "outputs": [
    {
     "data": {
      "text/plain": [
       "<Availability.FullLicense: 1>"
      ]
     },
     "execution_count": 42,
     "metadata": {},
     "output_type": "execute_result"
    }
   ],
   "source": [
    "from pyomo.contrib import appsi\n",
    "SOLVER = appsi.solvers.Ipopt()\n",
    "SOLVER.available()"
   ]
  },
  {
   "cell_type": "code",
   "execution_count": 43,
   "id": "4f7117f8",
   "metadata": {},
   "outputs": [],
   "source": [
    "results = SOLVER.solve(model)"
   ]
  },
  {
   "cell_type": "code",
   "execution_count": 44,
   "id": "e88261fc",
   "metadata": {},
   "outputs": [
    {
     "data": {
      "text/plain": [
       "2600.000027266171"
      ]
     },
     "execution_count": 44,
     "metadata": {},
     "output_type": "execute_result"
    }
   ],
   "source": [
    "value(model.profit)"
   ]
  },
  {
   "cell_type": "code",
   "execution_count": 45,
   "id": "7deccd2e",
   "metadata": {},
   "outputs": [
    {
     "data": {
      "text/plain": [
       "18000.00018198604"
      ]
     },
     "execution_count": 45,
     "metadata": {},
     "output_type": "execute_result"
    }
   ],
   "source": [
    "value(model.revenue)"
   ]
  },
  {
   "cell_type": "code",
   "execution_count": 46,
   "id": "722aa00c",
   "metadata": {},
   "outputs": [
    {
     "data": {
      "text/plain": [
       "2600.000027266171"
      ]
     },
     "execution_count": 46,
     "metadata": {},
     "output_type": "execute_result"
    }
   ],
   "source": [
    "value(results.best_feasible_objective)"
   ]
  },
  {
   "cell_type": "code",
   "execution_count": null,
   "id": "5f4d731e",
   "metadata": {},
   "outputs": [],
   "source": []
  },
  {
   "cell_type": "code",
   "execution_count": null,
   "id": "a416c917-e653-444c-aca5-73e0a8b1a219",
   "metadata": {},
   "outputs": [],
   "source": []
  }
 ],
 "metadata": {
  "kernelspec": {
   "display_name": "opt",
   "language": "python",
   "name": "opt"
  },
  "language_info": {
   "codemirror_mode": {
    "name": "ipython",
    "version": 3
   },
   "file_extension": ".py",
   "mimetype": "text/x-python",
   "name": "python",
   "nbconvert_exporter": "python",
   "pygments_lexer": "ipython3",
   "version": "3.12.7"
  }
 },
 "nbformat": 4,
 "nbformat_minor": 5
}
