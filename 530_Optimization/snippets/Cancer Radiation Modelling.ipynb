{
 "cells": [
  {
   "cell_type": "code",
   "execution_count": 2,
   "id": "50e7de43-1d6d-416f-a81e-402fd803a6a5",
   "metadata": {},
   "outputs": [],
   "source": [
    "import numpy as np"
   ]
  },
  {
   "cell_type": "code",
   "execution_count": 44,
   "id": "e15df21f-3d3f-4e06-8248-f35bdc423e0a",
   "metadata": {},
   "outputs": [
    {
     "name": "stdout",
     "output_type": "stream",
     "text": [
      "1.8312168078711286\n",
      "2.9804942196351525\n",
      "2.2308225352978153\n",
      "3.148705759065424\n",
      "1.261777940255759\n",
      "\n",
      "HEALTHY EXPOSURE:\n",
      "120.3847566969086\n",
      "11.453017262125279\n"
     ]
    }
   ],
   "source": [
    "# seed_position = [(1.5, 2), (2.5, 3), (4, 1)]\n",
    "seed_position = [(3, 2.55), (2, 1.41), (1, 4)]\n",
    "seed_positions = np.array(seed_position)\n",
    "tumor_positions = np.array([[1, 2], [2,2], [2, 3], [3,3], [4, 1]])\n",
    "\n",
    "total_tumor_exposure = 0\n",
    "for tumor in tumor_positions:\n",
    "    distance = np.linalg.norm(tumor - seed_positions, axis = 1)\n",
    "    exposure = (1 / (distance + 0.01)).sum()\n",
    "    print(exposure)\n",
    "    # assert exposure >= 3.0\n",
    "    # print(exposure)\n",
    "    total_tumor_exposure += exposure\n",
    "\n",
    "healthy_positions = np.array([[1,1], [2, 1], [3, 1], [3, 2], [4, 2], [1, 3], [4, 3], [1,4], [2,4], [3,4], [4,4]])\n",
    "print()\n",
    "print(\"HEALTHY EXPOSURE:\")\n",
    "total_healthy_exposure = 0\n",
    "for healthy in healthy_positions:\n",
    "    distance = np.linalg.norm(healthy - seed_positions, axis = 1)\n",
    "    exposure = (1 / (distance + 0.01)).sum()\n",
    "    total_healthy_exposure += exposure\n",
    "print(total_healthy_exposure)\n",
    "print(total_tumor_exposure)\n"
   ]
  },
  {
   "cell_type": "code",
   "execution_count": null,
   "id": "78fbbb5a-50c2-4ae8-99b5-72665e09c6e8",
   "metadata": {},
   "outputs": [],
   "source": []
  }
 ],
 "metadata": {
  "kernelspec": {
   "display_name": "opt",
   "language": "python",
   "name": "opt"
  },
  "language_info": {
   "codemirror_mode": {
    "name": "ipython",
    "version": 3
   },
   "file_extension": ".py",
   "mimetype": "text/x-python",
   "name": "python",
   "nbconvert_exporter": "python",
   "pygments_lexer": "ipython3",
   "version": "3.12.7"
  }
 },
 "nbformat": 4,
 "nbformat_minor": 5
}
