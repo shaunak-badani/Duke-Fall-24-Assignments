{
 "cells": [
  {
   "cell_type": "code",
   "execution_count": 39,
   "id": "eb99600f",
   "metadata": {},
   "outputs": [],
   "source": [
    "import pyomo.environ as pyo\n",
    "from pyomo.opt import SolverFactory\n",
    "import pandas as pd"
   ]
  },
  {
   "cell_type": "code",
   "execution_count": 40,
   "id": "b0cbfaf0",
   "metadata": {},
   "outputs": [],
   "source": [
    "model = pyo.AbstractModel()"
   ]
  },
  {
   "cell_type": "code",
   "execution_count": 41,
   "id": "a8b031c9",
   "metadata": {},
   "outputs": [],
   "source": [
    "room_population = pd.read_csv(\"SRO_input_grades.csv\")"
   ]
  },
  {
   "cell_type": "code",
   "execution_count": 42,
   "id": "7b168902",
   "metadata": {},
   "outputs": [
    {
     "data": {
      "text/html": [
       "<div>\n",
       "<style scoped>\n",
       "    .dataframe tbody tr th:only-of-type {\n",
       "        vertical-align: middle;\n",
       "    }\n",
       "\n",
       "    .dataframe tbody tr th {\n",
       "        vertical-align: top;\n",
       "    }\n",
       "\n",
       "    .dataframe thead th {\n",
       "        text-align: right;\n",
       "    }\n",
       "</style>\n",
       "<table border=\"1\" class=\"dataframe\">\n",
       "  <thead>\n",
       "    <tr style=\"text-align: right;\">\n",
       "      <th></th>\n",
       "      <th>Grade_ID</th>\n",
       "      <th>Population</th>\n",
       "    </tr>\n",
       "  </thead>\n",
       "  <tbody>\n",
       "    <tr>\n",
       "      <th>0</th>\n",
       "      <td>PreKA</td>\n",
       "      <td>12</td>\n",
       "    </tr>\n",
       "    <tr>\n",
       "      <th>1</th>\n",
       "      <td>PreKB</td>\n",
       "      <td>14</td>\n",
       "    </tr>\n",
       "    <tr>\n",
       "      <th>2</th>\n",
       "      <td>PreKC</td>\n",
       "      <td>10</td>\n",
       "    </tr>\n",
       "    <tr>\n",
       "      <th>3</th>\n",
       "      <td>KindergartenA</td>\n",
       "      <td>16</td>\n",
       "    </tr>\n",
       "    <tr>\n",
       "      <th>4</th>\n",
       "      <td>KindergartenB</td>\n",
       "      <td>18</td>\n",
       "    </tr>\n",
       "    <tr>\n",
       "      <th>5</th>\n",
       "      <td>FirstA</td>\n",
       "      <td>15</td>\n",
       "    </tr>\n",
       "    <tr>\n",
       "      <th>6</th>\n",
       "      <td>FirstB</td>\n",
       "      <td>16</td>\n",
       "    </tr>\n",
       "    <tr>\n",
       "      <th>7</th>\n",
       "      <td>SecondA</td>\n",
       "      <td>32</td>\n",
       "    </tr>\n",
       "    <tr>\n",
       "      <th>8</th>\n",
       "      <td>ThirdA</td>\n",
       "      <td>16</td>\n",
       "    </tr>\n",
       "    <tr>\n",
       "      <th>9</th>\n",
       "      <td>ThirdB</td>\n",
       "      <td>17</td>\n",
       "    </tr>\n",
       "    <tr>\n",
       "      <th>10</th>\n",
       "      <td>FourthA</td>\n",
       "      <td>35</td>\n",
       "    </tr>\n",
       "    <tr>\n",
       "      <th>11</th>\n",
       "      <td>FifthA</td>\n",
       "      <td>37</td>\n",
       "    </tr>\n",
       "  </tbody>\n",
       "</table>\n",
       "</div>"
      ],
      "text/plain": [
       "         Grade_ID  Population\n",
       "0           PreKA          12\n",
       "1           PreKB          14\n",
       "2           PreKC          10\n",
       "3   KindergartenA          16\n",
       "4   KindergartenB          18\n",
       "5          FirstA          15\n",
       "6          FirstB          16\n",
       "7         SecondA          32\n",
       "8          ThirdA          16\n",
       "9          ThirdB          17\n",
       "10        FourthA          35\n",
       "11         FifthA          37"
      ]
     },
     "execution_count": 42,
     "metadata": {},
     "output_type": "execute_result"
    }
   ],
   "source": [
    "room_population"
   ]
  },
  {
   "cell_type": "code",
   "execution_count": 43,
   "id": "b61f0dc9",
   "metadata": {},
   "outputs": [
    {
     "data": {
      "text/plain": [
       "np.int64(238)"
      ]
     },
     "execution_count": 43,
     "metadata": {},
     "output_type": "execute_result"
    }
   ],
   "source": [
    "room_population['Population'].sum()"
   ]
  },
  {
   "cell_type": "code",
   "execution_count": 44,
   "id": "22b65203",
   "metadata": {},
   "outputs": [],
   "source": [
    "model = pyo.AbstractModel()"
   ]
  },
  {
   "cell_type": "code",
   "execution_count": 45,
   "id": "7fd6cceb",
   "metadata": {},
   "outputs": [],
   "source": [
    "model.GRADES = pyo.Set()\n",
    "model.TIMESLOTS = pyo.Set()\n",
    "model.ROOMS = pyo.Set()"
   ]
  },
  {
   "cell_type": "code",
   "execution_count": 46,
   "id": "05683455",
   "metadata": {},
   "outputs": [],
   "source": [
    "model.assign = pyo.Var(model.GRADES, model.TIMESLOTS, model.ROOMS, domain = pyo.Binary)"
   ]
  },
  {
   "cell_type": "code",
   "execution_count": 47,
   "id": "e5c2da4e",
   "metadata": {},
   "outputs": [],
   "source": [
    "model.POP = pyo.Param(model.GRADES)\n",
    "model.CAP = pyo.Param(model.ROOMS)"
   ]
  },
  {
   "cell_type": "code",
   "execution_count": 48,
   "id": "20cefa85",
   "metadata": {},
   "outputs": [],
   "source": [
    "@model.Objective(sense = pyo.maximize)\n",
    "def profit(model):\n",
    "    revenue = pyo.sum_product(model.assign)\n",
    "    \n",
    "    return revenue"
   ]
  },
  {
   "cell_type": "code",
   "execution_count": 49,
   "id": "e9c7341c",
   "metadata": {},
   "outputs": [],
   "source": [
    "@model.Constraint(model.TIMESLOTS, model.ROOMS)\n",
    "def raw_material_constraint(model, t, r):\n",
    "    return pyo.quicksum(model.assign[g, t, r] for g in model.GRADES) <= 1"
   ]
  },
  {
   "cell_type": "code",
   "execution_count": 75,
   "id": "f065bbdf",
   "metadata": {},
   "outputs": [
    {
     "name": "stdout",
     "output_type": "stream",
     "text": [
      "WARNING: Implicitly replacing the Component attribute equality (type=<class\n",
      "'pyomo.core.base.constraint.IndexedConstraint'>) on block unknown with a new\n",
      "Component (type=<class 'pyomo.core.base.constraint.IndexedConstraint'>). This\n",
      "is usually indicative of a modelling error. To avoid this warning, use\n",
      "block.del_component() and block.add_component().\n"
     ]
    }
   ],
   "source": [
    "@model.Constraint(model.GRADES, model.GRADES)\n",
    "def equality(model, g, g_prime):\n",
    "    if g == g_prime:\n",
    "        return Constraint.Skip\n",
    "    return (sum(model.assign[g, t, r] for t in model.TIMESLOTS for r in model.ROOMS) == \n",
    "                        sum(model.assign[g_prime, t, r] for t in model.TIMESLOTS for r in model.ROOMS))\n"
   ]
  },
  {
   "cell_type": "code",
   "execution_count": 76,
   "id": "d6bcef3d",
   "metadata": {},
   "outputs": [],
   "source": [
    "# @model.Constraint(model.GRADES)\n",
    "# def equality_room_constraint(model, g):\n",
    "#     return sum(model.assign[g, t, r] for t in model.TIMESLOTS for r in model.ROOMS) <= (len(model.TIMESLOTS) * len(model.ROOMS)) / len(model.GRADES) "
   ]
  },
  {
   "cell_type": "code",
   "execution_count": 77,
   "id": "fe5c26a5",
   "metadata": {},
   "outputs": [
    {
     "name": "stdout",
     "output_type": "stream",
     "text": [
      "WARNING: Implicitly replacing the Component attribute room (type=<class\n",
      "'pyomo.core.base.constraint.IndexedConstraint'>) on block unknown with a new\n",
      "Component (type=<class 'pyomo.core.base.constraint.IndexedConstraint'>). This\n",
      "is usually indicative of a modelling error. To avoid this warning, use\n",
      "block.del_component() and block.add_component().\n"
     ]
    }
   ],
   "source": [
    "@model.Constraint(model.GRADES, model.TIMESLOTS)\n",
    "def room(model, g, t):\n",
    "    return pyo.quicksum(model.assign[g, t, r] for r in model.ROOMS) <= 1"
   ]
  },
  {
   "cell_type": "code",
   "execution_count": 78,
   "id": "66959ec2",
   "metadata": {},
   "outputs": [
    {
     "name": "stdout",
     "output_type": "stream",
     "text": [
      "WARNING: Implicitly replacing the Component attribute room_capacity\n",
      "(type=<class 'pyomo.core.base.constraint.IndexedConstraint'>) on block unknown\n",
      "with a new Component (type=<class\n",
      "'pyomo.core.base.constraint.IndexedConstraint'>). This is usually indicative\n",
      "of a modelling error. To avoid this warning, use block.del_component() and\n",
      "block.add_component().\n"
     ]
    }
   ],
   "source": [
    "@model.Constraint(model.GRADES, model.TIMESLOTS, model.ROOMS)\n",
    "def room_capacity(model, g, t, r):\n",
    "    return model.assign[g, t, r] * model.POP[g] <= model.CAP[r]"
   ]
  },
  {
   "cell_type": "code",
   "execution_count": 79,
   "id": "1605d92c",
   "metadata": {},
   "outputs": [],
   "source": [
    "TIMESLOTS = ['8', '9', '10', '11', '12', '13', '14', '15']"
   ]
  },
  {
   "cell_type": "code",
   "execution_count": 80,
   "id": "1a2794a7",
   "metadata": {},
   "outputs": [],
   "source": [
    "input_rooms = pd.read_csv(\"SRO_input_rooms.csv\")"
   ]
  },
  {
   "cell_type": "code",
   "execution_count": 81,
   "id": "09f44506",
   "metadata": {},
   "outputs": [
    {
     "data": {
      "text/html": [
       "<div>\n",
       "<style scoped>\n",
       "    .dataframe tbody tr th:only-of-type {\n",
       "        vertical-align: middle;\n",
       "    }\n",
       "\n",
       "    .dataframe tbody tr th {\n",
       "        vertical-align: top;\n",
       "    }\n",
       "\n",
       "    .dataframe thead th {\n",
       "        text-align: right;\n",
       "    }\n",
       "</style>\n",
       "<table border=\"1\" class=\"dataframe\">\n",
       "  <thead>\n",
       "    <tr style=\"text-align: right;\">\n",
       "      <th></th>\n",
       "      <th>Room_ID</th>\n",
       "      <th>Capacity</th>\n",
       "    </tr>\n",
       "  </thead>\n",
       "  <tbody>\n",
       "    <tr>\n",
       "      <th>0</th>\n",
       "      <td>A121</td>\n",
       "      <td>15</td>\n",
       "    </tr>\n",
       "    <tr>\n",
       "      <th>1</th>\n",
       "      <td>A120</td>\n",
       "      <td>13</td>\n",
       "    </tr>\n",
       "    <tr>\n",
       "      <th>2</th>\n",
       "      <td>A123</td>\n",
       "      <td>15</td>\n",
       "    </tr>\n",
       "    <tr>\n",
       "      <th>3</th>\n",
       "      <td>A137</td>\n",
       "      <td>12</td>\n",
       "    </tr>\n",
       "    <tr>\n",
       "      <th>4</th>\n",
       "      <td>A138</td>\n",
       "      <td>15</td>\n",
       "    </tr>\n",
       "    <tr>\n",
       "      <th>5</th>\n",
       "      <td>B142</td>\n",
       "      <td>12</td>\n",
       "    </tr>\n",
       "    <tr>\n",
       "      <th>6</th>\n",
       "      <td>B144</td>\n",
       "      <td>12</td>\n",
       "    </tr>\n",
       "    <tr>\n",
       "      <th>7</th>\n",
       "      <td>B146</td>\n",
       "      <td>12</td>\n",
       "    </tr>\n",
       "    <tr>\n",
       "      <th>8</th>\n",
       "      <td>B148</td>\n",
       "      <td>12</td>\n",
       "    </tr>\n",
       "    <tr>\n",
       "      <th>9</th>\n",
       "      <td>C153</td>\n",
       "      <td>12</td>\n",
       "    </tr>\n",
       "    <tr>\n",
       "      <th>10</th>\n",
       "      <td>C155</td>\n",
       "      <td>19</td>\n",
       "    </tr>\n",
       "    <tr>\n",
       "      <th>11</th>\n",
       "      <td>C156</td>\n",
       "      <td>12</td>\n",
       "    </tr>\n",
       "    <tr>\n",
       "      <th>12</th>\n",
       "      <td>C157</td>\n",
       "      <td>13</td>\n",
       "    </tr>\n",
       "    <tr>\n",
       "      <th>13</th>\n",
       "      <td>D162</td>\n",
       "      <td>13</td>\n",
       "    </tr>\n",
       "    <tr>\n",
       "      <th>14</th>\n",
       "      <td>D163</td>\n",
       "      <td>13</td>\n",
       "    </tr>\n",
       "    <tr>\n",
       "      <th>15</th>\n",
       "      <td>T1</td>\n",
       "      <td>40</td>\n",
       "    </tr>\n",
       "    <tr>\n",
       "      <th>16</th>\n",
       "      <td>T2</td>\n",
       "      <td>40</td>\n",
       "    </tr>\n",
       "    <tr>\n",
       "      <th>17</th>\n",
       "      <td>T3</td>\n",
       "      <td>40</td>\n",
       "    </tr>\n",
       "  </tbody>\n",
       "</table>\n",
       "</div>"
      ],
      "text/plain": [
       "   Room_ID  Capacity\n",
       "0     A121        15\n",
       "1     A120        13\n",
       "2     A123        15\n",
       "3     A137        12\n",
       "4     A138        15\n",
       "5     B142        12\n",
       "6     B144        12\n",
       "7     B146        12\n",
       "8     B148        12\n",
       "9     C153        12\n",
       "10    C155        19\n",
       "11    C156        12\n",
       "12    C157        13\n",
       "13    D162        13\n",
       "14    D163        13\n",
       "15      T1        40\n",
       "16      T2        40\n",
       "17      T3        40"
      ]
     },
     "execution_count": 81,
     "metadata": {},
     "output_type": "execute_result"
    }
   ],
   "source": [
    "input_rooms"
   ]
  },
  {
   "cell_type": "code",
   "execution_count": 82,
   "id": "dc435d3b",
   "metadata": {},
   "outputs": [],
   "source": [
    "instanceData = {None: {\n",
    "    'GRADES': {None: room_population['Grade_ID']},\n",
    "    'TIMESLOTS': {None: TIMESLOTS},\n",
    "    'ROOMS': {None: input_rooms['Room_ID']},\n",
    "    'POP': room_population.set_index(['Grade_ID']).to_dict()['Population'],\n",
    "    'CAP': input_rooms.set_index(['Room_ID']).to_dict()['Capacity']\n",
    "}}"
   ]
  },
  {
   "cell_type": "code",
   "execution_count": 83,
   "id": "fd7aba53",
   "metadata": {},
   "outputs": [
    {
     "name": "stdout",
     "output_type": "stream",
     "text": [
      "ERROR: Rule failed when generating expression for Constraint equality with\n",
      "index ('PreKA', 'PreKA'): NameError: name 'Constraint' is not defined\n",
      "ERROR: Constructing component 'equality' from data=None failed:\n",
      "        NameError: name 'Constraint' is not defined\n"
     ]
    },
    {
     "ename": "NameError",
     "evalue": "name 'Constraint' is not defined",
     "output_type": "error",
     "traceback": [
      "\u001b[0;31m---------------------------------------------------------------------------\u001b[0m",
      "\u001b[0;31mNameError\u001b[0m                                 Traceback (most recent call last)",
      "Cell \u001b[0;32mIn[83], line 1\u001b[0m\n\u001b[0;32m----> 1\u001b[0m instance \u001b[38;5;241m=\u001b[39m \u001b[43mmodel\u001b[49m\u001b[38;5;241;43m.\u001b[39;49m\u001b[43mcreate_instance\u001b[49m\u001b[43m(\u001b[49m\u001b[43minstanceData\u001b[49m\u001b[43m)\u001b[49m\n",
      "File \u001b[0;32m~/Installations/anaconda3/envs/optimization/lib/python3.12/site-packages/pyomo/core/base/PyomoModel.py:731\u001b[0m, in \u001b[0;36mModel.create_instance\u001b[0;34m(self, filename, data, name, namespace, namespaces, profile_memory, report_timing, **kwds)\u001b[0m\n\u001b[1;32m    728\u001b[0m \u001b[38;5;28;01mif\u001b[39;00m \u001b[38;5;28;01mNone\u001b[39;00m \u001b[38;5;129;01mnot\u001b[39;00m \u001b[38;5;129;01min\u001b[39;00m _namespaces:\n\u001b[1;32m    729\u001b[0m     _namespaces\u001b[38;5;241m.\u001b[39mappend(\u001b[38;5;28;01mNone\u001b[39;00m)\n\u001b[0;32m--> 731\u001b[0m \u001b[43minstance\u001b[49m\u001b[38;5;241;43m.\u001b[39;49m\u001b[43mload\u001b[49m\u001b[43m(\u001b[49m\u001b[43mdata\u001b[49m\u001b[43m,\u001b[49m\u001b[43m \u001b[49m\u001b[43mnamespaces\u001b[49m\u001b[38;5;241;43m=\u001b[39;49m\u001b[43m_namespaces\u001b[49m\u001b[43m,\u001b[49m\u001b[43m \u001b[49m\u001b[43mprofile_memory\u001b[49m\u001b[38;5;241;43m=\u001b[39;49m\u001b[43mprofile_memory\u001b[49m\u001b[43m)\u001b[49m\n\u001b[1;32m    733\u001b[0m \u001b[38;5;66;03m#\u001b[39;00m\n\u001b[1;32m    734\u001b[0m \u001b[38;5;66;03m# Indicate that the model is concrete/constructed\u001b[39;00m\n\u001b[1;32m    735\u001b[0m \u001b[38;5;66;03m#\u001b[39;00m\n\u001b[1;32m    736\u001b[0m instance\u001b[38;5;241m.\u001b[39m_constructed \u001b[38;5;241m=\u001b[39m \u001b[38;5;28;01mTrue\u001b[39;00m\n",
      "File \u001b[0;32m~/Installations/anaconda3/envs/optimization/lib/python3.12/site-packages/pyomo/core/base/PyomoModel.py:768\u001b[0m, in \u001b[0;36mModel.load\u001b[0;34m(self, arg, namespaces, profile_memory)\u001b[0m\n\u001b[1;32m    766\u001b[0m     msg \u001b[38;5;241m=\u001b[39m \u001b[38;5;124m\"\u001b[39m\u001b[38;5;124mCannot load model model data from with object of type \u001b[39m\u001b[38;5;124m'\u001b[39m\u001b[38;5;132;01m%s\u001b[39;00m\u001b[38;5;124m'\u001b[39m\u001b[38;5;124m\"\u001b[39m\n\u001b[1;32m    767\u001b[0m     \u001b[38;5;28;01mraise\u001b[39;00m \u001b[38;5;167;01mValueError\u001b[39;00m(msg \u001b[38;5;241m%\u001b[39m \u001b[38;5;28mstr\u001b[39m(\u001b[38;5;28mtype\u001b[39m(arg)))\n\u001b[0;32m--> 768\u001b[0m \u001b[38;5;28;43mself\u001b[39;49m\u001b[38;5;241;43m.\u001b[39;49m\u001b[43m_load_model_data\u001b[49m\u001b[43m(\u001b[49m\u001b[43mdp\u001b[49m\u001b[43m,\u001b[49m\u001b[43m \u001b[49m\u001b[43mnamespaces\u001b[49m\u001b[43m,\u001b[49m\u001b[43m \u001b[49m\u001b[43mprofile_memory\u001b[49m\u001b[38;5;241;43m=\u001b[39;49m\u001b[43mprofile_memory\u001b[49m\u001b[43m)\u001b[49m\n",
      "File \u001b[0;32m~/Installations/anaconda3/envs/optimization/lib/python3.12/site-packages/pyomo/core/base/PyomoModel.py:820\u001b[0m, in \u001b[0;36mModel._load_model_data\u001b[0;34m(self, modeldata, namespaces, **kwds)\u001b[0m\n\u001b[1;32m    817\u001b[0m     \u001b[38;5;28;01mif\u001b[39;00m component\u001b[38;5;241m.\u001b[39mctype \u001b[38;5;129;01mis\u001b[39;00m Model:\n\u001b[1;32m    818\u001b[0m         \u001b[38;5;28;01mcontinue\u001b[39;00m\n\u001b[0;32m--> 820\u001b[0m     \u001b[38;5;28;43mself\u001b[39;49m\u001b[38;5;241;43m.\u001b[39;49m\u001b[43m_initialize_component\u001b[49m\u001b[43m(\u001b[49m\n\u001b[1;32m    821\u001b[0m \u001b[43m        \u001b[49m\u001b[43mmodeldata\u001b[49m\u001b[43m,\u001b[49m\u001b[43m \u001b[49m\u001b[43mnamespaces\u001b[49m\u001b[43m,\u001b[49m\u001b[43m \u001b[49m\u001b[43mcomponent_name\u001b[49m\u001b[43m,\u001b[49m\u001b[43m \u001b[49m\u001b[43mprofile_memory\u001b[49m\n\u001b[1;32m    822\u001b[0m \u001b[43m    \u001b[49m\u001b[43m)\u001b[49m\n\u001b[1;32m    824\u001b[0m \u001b[38;5;66;03m# Note: As is, connectors are expanded when using command-line pyomo but not calling model.create(...) in a Python script.\u001b[39;00m\n\u001b[1;32m    825\u001b[0m \u001b[38;5;66;03m# John says this has to do with extension points which are called from commandline but not when writing scripts.\u001b[39;00m\n\u001b[1;32m    826\u001b[0m \u001b[38;5;66;03m# Uncommenting the next two lines switches this (command-line fails because it tries to expand connectors twice)\u001b[39;00m\n\u001b[1;32m    827\u001b[0m \u001b[38;5;66;03m# connector_expander = ConnectorExpander()\u001b[39;00m\n\u001b[1;32m    828\u001b[0m \u001b[38;5;66;03m# connector_expander.apply(instance=self)\u001b[39;00m\n\u001b[1;32m    830\u001b[0m \u001b[38;5;28;01mif\u001b[39;00m profile_memory \u001b[38;5;241m>\u001b[39m\u001b[38;5;241m=\u001b[39m \u001b[38;5;241m2\u001b[39m \u001b[38;5;129;01mand\u001b[39;00m pympler_available:\n",
      "File \u001b[0;32m~/Installations/anaconda3/envs/optimization/lib/python3.12/site-packages/pyomo/core/base/PyomoModel.py:868\u001b[0m, in \u001b[0;36mModel._initialize_component\u001b[0;34m(self, modeldata, namespaces, component_name, profile_memory)\u001b[0m\n\u001b[1;32m    860\u001b[0m     logger\u001b[38;5;241m.\u001b[39mdebug(\n\u001b[1;32m    861\u001b[0m         \u001b[38;5;124m\"\u001b[39m\u001b[38;5;124mConstructing \u001b[39m\u001b[38;5;132;01m%s\u001b[39;00m\u001b[38;5;124m \u001b[39m\u001b[38;5;124m'\u001b[39m\u001b[38;5;132;01m%s\u001b[39;00m\u001b[38;5;124m'\u001b[39m\u001b[38;5;124m on \u001b[39m\u001b[38;5;132;01m%s\u001b[39;00m\u001b[38;5;124m from data=\u001b[39m\u001b[38;5;132;01m%s\u001b[39;00m\u001b[38;5;124m\"\u001b[39m,\n\u001b[1;32m    862\u001b[0m         declaration\u001b[38;5;241m.\u001b[39m\u001b[38;5;18m__class__\u001b[39m\u001b[38;5;241m.\u001b[39m\u001b[38;5;18m__name__\u001b[39m,\n\u001b[0;32m   (...)\u001b[0m\n\u001b[1;32m    865\u001b[0m         \u001b[38;5;28mstr\u001b[39m(data),\n\u001b[1;32m    866\u001b[0m     )\n\u001b[1;32m    867\u001b[0m \u001b[38;5;28;01mtry\u001b[39;00m:\n\u001b[0;32m--> 868\u001b[0m     \u001b[43mdeclaration\u001b[49m\u001b[38;5;241;43m.\u001b[39;49m\u001b[43mconstruct\u001b[49m\u001b[43m(\u001b[49m\u001b[43mdata\u001b[49m\u001b[43m)\u001b[49m\n\u001b[1;32m    869\u001b[0m \u001b[38;5;28;01mexcept\u001b[39;00m:\n\u001b[1;32m    870\u001b[0m     err \u001b[38;5;241m=\u001b[39m sys\u001b[38;5;241m.\u001b[39mexc_info()[\u001b[38;5;241m1\u001b[39m]\n",
      "File \u001b[0;32m~/Installations/anaconda3/envs/optimization/lib/python3.12/site-packages/pyomo/core/base/constraint.py:662\u001b[0m, in \u001b[0;36mConstraint.construct\u001b[0;34m(self, data)\u001b[0m\n\u001b[1;32m    659\u001b[0m     \u001b[38;5;28;01melse\u001b[39;00m:\n\u001b[1;32m    660\u001b[0m         \u001b[38;5;66;03m# Bypass the index validation and create the member directly\u001b[39;00m\n\u001b[1;32m    661\u001b[0m         \u001b[38;5;28;01mfor\u001b[39;00m index \u001b[38;5;129;01min\u001b[39;00m \u001b[38;5;28mself\u001b[39m\u001b[38;5;241m.\u001b[39mindex_set():\n\u001b[0;32m--> 662\u001b[0m             \u001b[38;5;28mself\u001b[39m\u001b[38;5;241m.\u001b[39m_setitem_when_not_present(index, \u001b[43mrule\u001b[49m\u001b[43m(\u001b[49m\u001b[43mblock\u001b[49m\u001b[43m,\u001b[49m\u001b[43m \u001b[49m\u001b[43mindex\u001b[49m\u001b[43m)\u001b[49m)\n\u001b[1;32m    663\u001b[0m \u001b[38;5;28;01mexcept\u001b[39;00m \u001b[38;5;167;01mException\u001b[39;00m:\n\u001b[1;32m    664\u001b[0m     err \u001b[38;5;241m=\u001b[39m sys\u001b[38;5;241m.\u001b[39mexc_info()[\u001b[38;5;241m1\u001b[39m]\n",
      "File \u001b[0;32m~/Installations/anaconda3/envs/optimization/lib/python3.12/site-packages/pyomo/core/base/initializer.py:347\u001b[0m, in \u001b[0;36mIndexedCallInitializer.__call__\u001b[0;34m(self, parent, idx)\u001b[0m\n\u001b[1;32m    341\u001b[0m \u001b[38;5;28;01mdef\u001b[39;00m \u001b[38;5;21m__call__\u001b[39m(\u001b[38;5;28mself\u001b[39m, parent, idx):\n\u001b[1;32m    342\u001b[0m     \u001b[38;5;66;03m# Note: this is called by a component using data from a Set (so\u001b[39;00m\n\u001b[1;32m    343\u001b[0m     \u001b[38;5;66;03m# any tuple-like type should have already been checked and\u001b[39;00m\n\u001b[1;32m    344\u001b[0m     \u001b[38;5;66;03m# converted to a tuple; or flattening is turned off and it is\u001b[39;00m\n\u001b[1;32m    345\u001b[0m     \u001b[38;5;66;03m# the user's responsibility to sort things out.\u001b[39;00m\n\u001b[1;32m    346\u001b[0m     \u001b[38;5;28;01mif\u001b[39;00m idx\u001b[38;5;241m.\u001b[39m\u001b[38;5;18m__class__\u001b[39m \u001b[38;5;129;01mis\u001b[39;00m \u001b[38;5;28mtuple\u001b[39m:\n\u001b[0;32m--> 347\u001b[0m         \u001b[38;5;28;01mreturn\u001b[39;00m \u001b[38;5;28;43mself\u001b[39;49m\u001b[38;5;241;43m.\u001b[39;49m\u001b[43m_fcn\u001b[49m\u001b[43m(\u001b[49m\u001b[43mparent\u001b[49m\u001b[43m,\u001b[49m\u001b[43m \u001b[49m\u001b[38;5;241;43m*\u001b[39;49m\u001b[43midx\u001b[49m\u001b[43m)\u001b[49m\n\u001b[1;32m    348\u001b[0m     \u001b[38;5;28;01melse\u001b[39;00m:\n\u001b[1;32m    349\u001b[0m         \u001b[38;5;28;01mreturn\u001b[39;00m \u001b[38;5;28mself\u001b[39m\u001b[38;5;241m.\u001b[39m_fcn(parent, idx)\n",
      "Cell \u001b[0;32mIn[75], line 4\u001b[0m, in \u001b[0;36mequality\u001b[0;34m(model, g, g_prime)\u001b[0m\n\u001b[1;32m      1\u001b[0m \u001b[38;5;129m@model\u001b[39m\u001b[38;5;241m.\u001b[39mConstraint(model\u001b[38;5;241m.\u001b[39mGRADES, model\u001b[38;5;241m.\u001b[39mGRADES)\n\u001b[1;32m      2\u001b[0m \u001b[38;5;28;01mdef\u001b[39;00m \u001b[38;5;21mequality\u001b[39m(model, g, g_prime):\n\u001b[1;32m      3\u001b[0m     \u001b[38;5;28;01mif\u001b[39;00m g \u001b[38;5;241m==\u001b[39m g_prime:\n\u001b[0;32m----> 4\u001b[0m         \u001b[38;5;28;01mreturn\u001b[39;00m \u001b[43mConstraint\u001b[49m\u001b[38;5;241m.\u001b[39mSkip\n\u001b[1;32m      5\u001b[0m     \u001b[38;5;28;01mreturn\u001b[39;00m (\u001b[38;5;28msum\u001b[39m(model\u001b[38;5;241m.\u001b[39massign[g, t, r] \u001b[38;5;28;01mfor\u001b[39;00m t \u001b[38;5;129;01min\u001b[39;00m model\u001b[38;5;241m.\u001b[39mTIMESLOTS \u001b[38;5;28;01mfor\u001b[39;00m r \u001b[38;5;129;01min\u001b[39;00m model\u001b[38;5;241m.\u001b[39mROOMS) \u001b[38;5;241m==\u001b[39m \n\u001b[1;32m      6\u001b[0m                         \u001b[38;5;28msum\u001b[39m(model\u001b[38;5;241m.\u001b[39massign[g_prime, t, r] \u001b[38;5;28;01mfor\u001b[39;00m t \u001b[38;5;129;01min\u001b[39;00m model\u001b[38;5;241m.\u001b[39mTIMESLOTS \u001b[38;5;28;01mfor\u001b[39;00m r \u001b[38;5;129;01min\u001b[39;00m model\u001b[38;5;241m.\u001b[39mROOMS))\n",
      "\u001b[0;31mNameError\u001b[0m: name 'Constraint' is not defined"
     ]
    }
   ],
   "source": [
    "instance = model.create_instance(instanceData)"
   ]
  },
  {
   "cell_type": "code",
   "execution_count": 84,
   "id": "e4636abf",
   "metadata": {},
   "outputs": [],
   "source": [
    "opt = SolverFactory('glpk')\n",
    "sol = opt.solve(instance)"
   ]
  },
  {
   "cell_type": "code",
   "execution_count": 72,
   "id": "6bcc6f94",
   "metadata": {},
   "outputs": [
    {
     "data": {
      "text/plain": [
       "{'Problem': [{'Name': 'unknown', 'Lower bound': 48.0, 'Upper bound': 48.0, 'Number of objectives': 1, 'Number of constraints': 2112, 'Number of variables': 1729, 'Number of nonzeros': 43200, 'Sense': 'maximize'}], 'Solver': [{'Status': 'ok', 'Termination condition': 'optimal', 'Statistics': {'Branch and bound': {'Number of bounded subproblems': '1', 'Number of created subproblems': '1'}}, 'Error rc': 0, 'Time': 0.4091939926147461}], 'Solution': [OrderedDict({'number of solutions': 0, 'number of solutions displayed': 0})]}"
      ]
     },
     "execution_count": 72,
     "metadata": {},
     "output_type": "execute_result"
    }
   ],
   "source": [
    "sol"
   ]
  },
  {
   "cell_type": "code",
   "execution_count": 73,
   "id": "9077d169",
   "metadata": {},
   "outputs": [
    {
     "name": "stdout",
     "output_type": "stream",
     "text": [
      "4.0\n",
      "4.0\n",
      "4.0\n",
      "4.0\n",
      "4.0\n",
      "4.0\n",
      "4.0\n",
      "4.0\n",
      "4.0\n",
      "4.0\n",
      "4.0\n",
      "4.0\n"
     ]
    }
   ],
   "source": [
    "for g in instance.GRADES:\n",
    "    val = 0\n",
    "    for t in instance.TIMESLOTS:\n",
    "        for r in instance.ROOMS:\n",
    "            val += pyo.value(instance.assign[g, t, r])\n",
    "    print(val)"
   ]
  }
 ],
 "metadata": {
  "kernelspec": {
   "display_name": "opt",
   "language": "python",
   "name": "opt"
  },
  "language_info": {
   "codemirror_mode": {
    "name": "ipython",
    "version": 3
   },
   "file_extension": ".py",
   "mimetype": "text/x-python",
   "name": "python",
   "nbconvert_exporter": "python",
   "pygments_lexer": "ipython3",
   "version": "3.12.6"
  }
 },
 "nbformat": 4,
 "nbformat_minor": 5
}
