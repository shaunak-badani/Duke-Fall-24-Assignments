{
 "cells": [
  {
   "cell_type": "code",
   "execution_count": 1,
   "id": "eb99600f",
   "metadata": {},
   "outputs": [],
   "source": [
    "import pyomo.environ as pyo\n",
    "from pyomo.opt import SolverFactory\n",
    "import pandas as pd"
   ]
  },
  {
   "cell_type": "code",
   "execution_count": 2,
   "id": "b0cbfaf0",
   "metadata": {},
   "outputs": [],
   "source": [
    "model = pyo.AbstractModel()"
   ]
  },
  {
   "cell_type": "code",
   "execution_count": 3,
   "id": "a8b031c9",
   "metadata": {},
   "outputs": [],
   "source": [
    "room_population = pd.read_csv(\"SRO_input_grades.csv\")"
   ]
  },
  {
   "cell_type": "code",
   "execution_count": 4,
   "id": "7b168902",
   "metadata": {},
   "outputs": [
    {
     "data": {
      "text/html": [
       "<div>\n",
       "<style scoped>\n",
       "    .dataframe tbody tr th:only-of-type {\n",
       "        vertical-align: middle;\n",
       "    }\n",
       "\n",
       "    .dataframe tbody tr th {\n",
       "        vertical-align: top;\n",
       "    }\n",
       "\n",
       "    .dataframe thead th {\n",
       "        text-align: right;\n",
       "    }\n",
       "</style>\n",
       "<table border=\"1\" class=\"dataframe\">\n",
       "  <thead>\n",
       "    <tr style=\"text-align: right;\">\n",
       "      <th></th>\n",
       "      <th>Grade_ID</th>\n",
       "      <th>Population</th>\n",
       "    </tr>\n",
       "  </thead>\n",
       "  <tbody>\n",
       "    <tr>\n",
       "      <th>0</th>\n",
       "      <td>PreKA</td>\n",
       "      <td>12</td>\n",
       "    </tr>\n",
       "    <tr>\n",
       "      <th>1</th>\n",
       "      <td>PreKB</td>\n",
       "      <td>14</td>\n",
       "    </tr>\n",
       "    <tr>\n",
       "      <th>2</th>\n",
       "      <td>PreKC</td>\n",
       "      <td>10</td>\n",
       "    </tr>\n",
       "    <tr>\n",
       "      <th>3</th>\n",
       "      <td>KindergartenA</td>\n",
       "      <td>16</td>\n",
       "    </tr>\n",
       "    <tr>\n",
       "      <th>4</th>\n",
       "      <td>KindergartenB</td>\n",
       "      <td>18</td>\n",
       "    </tr>\n",
       "    <tr>\n",
       "      <th>5</th>\n",
       "      <td>FirstA</td>\n",
       "      <td>15</td>\n",
       "    </tr>\n",
       "    <tr>\n",
       "      <th>6</th>\n",
       "      <td>FirstB</td>\n",
       "      <td>16</td>\n",
       "    </tr>\n",
       "    <tr>\n",
       "      <th>7</th>\n",
       "      <td>SecondA</td>\n",
       "      <td>32</td>\n",
       "    </tr>\n",
       "    <tr>\n",
       "      <th>8</th>\n",
       "      <td>ThirdA</td>\n",
       "      <td>16</td>\n",
       "    </tr>\n",
       "    <tr>\n",
       "      <th>9</th>\n",
       "      <td>ThirdB</td>\n",
       "      <td>17</td>\n",
       "    </tr>\n",
       "    <tr>\n",
       "      <th>10</th>\n",
       "      <td>FourthA</td>\n",
       "      <td>35</td>\n",
       "    </tr>\n",
       "    <tr>\n",
       "      <th>11</th>\n",
       "      <td>FifthA</td>\n",
       "      <td>37</td>\n",
       "    </tr>\n",
       "  </tbody>\n",
       "</table>\n",
       "</div>"
      ],
      "text/plain": [
       "         Grade_ID  Population\n",
       "0           PreKA          12\n",
       "1           PreKB          14\n",
       "2           PreKC          10\n",
       "3   KindergartenA          16\n",
       "4   KindergartenB          18\n",
       "5          FirstA          15\n",
       "6          FirstB          16\n",
       "7         SecondA          32\n",
       "8          ThirdA          16\n",
       "9          ThirdB          17\n",
       "10        FourthA          35\n",
       "11         FifthA          37"
      ]
     },
     "execution_count": 4,
     "metadata": {},
     "output_type": "execute_result"
    }
   ],
   "source": [
    "room_population"
   ]
  },
  {
   "cell_type": "code",
   "execution_count": 5,
   "id": "b61f0dc9",
   "metadata": {},
   "outputs": [
    {
     "data": {
      "text/plain": [
       "238"
      ]
     },
     "execution_count": 5,
     "metadata": {},
     "output_type": "execute_result"
    }
   ],
   "source": [
    "room_population['Population'].sum()"
   ]
  },
  {
   "cell_type": "code",
   "execution_count": 6,
   "id": "22b65203",
   "metadata": {},
   "outputs": [],
   "source": [
    "model = pyo.AbstractModel()"
   ]
  },
  {
   "cell_type": "code",
   "execution_count": 7,
   "id": "7fd6cceb",
   "metadata": {},
   "outputs": [],
   "source": [
    "model.GRADES = pyo.Set()\n",
    "model.TIMESLOTS = pyo.Set()\n",
    "model.ROOMS = pyo.Set()"
   ]
  },
  {
   "cell_type": "code",
   "execution_count": 8,
   "id": "05683455",
   "metadata": {},
   "outputs": [],
   "source": [
    "model.assign = pyo.Var(model.GRADES, model.TIMESLOTS, model.ROOMS, domain = pyo.Binary)"
   ]
  },
  {
   "cell_type": "code",
   "execution_count": 9,
   "id": "e5c2da4e",
   "metadata": {},
   "outputs": [],
   "source": [
    "model.POP = pyo.Param(model.GRADES)\n",
    "model.CAP = pyo.Param(model.ROOMS)"
   ]
  },
  {
   "cell_type": "code",
   "execution_count": 10,
   "id": "20cefa85",
   "metadata": {},
   "outputs": [],
   "source": [
    "@model.Objective(sense = pyo.maximize)\n",
    "def profit(model):\n",
    "    revenue = pyo.sum_product(model.assign)\n",
    "    \n",
    "    return revenue"
   ]
  },
  {
   "cell_type": "code",
   "execution_count": 11,
   "id": "e9c7341c",
   "metadata": {},
   "outputs": [],
   "source": [
    "@model.Constraint(model.TIMESLOTS, model.ROOMS)\n",
    "def raw_material_constraint(model, t, r):\n",
    "    return pyo.quicksum(model.assign[g, t, r] for g in model.GRADES) <= 1"
   ]
  },
  {
   "cell_type": "code",
   "execution_count": 12,
   "id": "f065bbdf",
   "metadata": {},
   "outputs": [],
   "source": [
    "@model.Constraint(model.GRADES, model.GRADES)\n",
    "def equality(model, g, g_prime):\n",
    "    if g == g_prime:\n",
    "        return pyo.Constraint.Skip\n",
    "    return (sum(model.assign[g, t, r] for t in model.TIMESLOTS for r in model.ROOMS) == \n",
    "                        sum(model.assign[g_prime, t, r] for t in model.TIMESLOTS for r in model.ROOMS))\n"
   ]
  },
  {
   "cell_type": "code",
   "execution_count": 13,
   "id": "d6bcef3d",
   "metadata": {},
   "outputs": [],
   "source": [
    "# @model.Constraint(model.GRADES)\n",
    "# def equality_room_constraint(model, g):\n",
    "#     return sum(model.assign[g, t, r] for t in model.TIMESLOTS for r in model.ROOMS) <= (len(model.TIMESLOTS) * len(model.ROOMS)) / len(model.GRADES) "
   ]
  },
  {
   "cell_type": "code",
   "execution_count": 14,
   "id": "fe5c26a5",
   "metadata": {},
   "outputs": [],
   "source": [
    "@model.Constraint(model.GRADES, model.TIMESLOTS)\n",
    "def room(model, g, t):\n",
    "    return pyo.quicksum(model.assign[g, t, r] for r in model.ROOMS) <= 1"
   ]
  },
  {
   "cell_type": "code",
   "execution_count": 15,
   "id": "66959ec2",
   "metadata": {},
   "outputs": [],
   "source": [
    "@model.Constraint(model.GRADES, model.TIMESLOTS, model.ROOMS)\n",
    "def room_capacity(model, g, t, r):\n",
    "    return model.assign[g, t, r] * model.POP[g] <= model.CAP[r]"
   ]
  },
  {
   "cell_type": "code",
   "execution_count": 16,
   "id": "1605d92c",
   "metadata": {},
   "outputs": [],
   "source": [
    "TIMESLOTS = ['8', '9', '10', '11', '12', '13', '14', '15']"
   ]
  },
  {
   "cell_type": "code",
   "execution_count": 17,
   "id": "1a2794a7",
   "metadata": {},
   "outputs": [],
   "source": [
    "input_rooms = pd.read_csv(\"SRO_input_rooms.csv\")"
   ]
  },
  {
   "cell_type": "code",
   "execution_count": 18,
   "id": "09f44506",
   "metadata": {},
   "outputs": [
    {
     "data": {
      "text/html": [
       "<div>\n",
       "<style scoped>\n",
       "    .dataframe tbody tr th:only-of-type {\n",
       "        vertical-align: middle;\n",
       "    }\n",
       "\n",
       "    .dataframe tbody tr th {\n",
       "        vertical-align: top;\n",
       "    }\n",
       "\n",
       "    .dataframe thead th {\n",
       "        text-align: right;\n",
       "    }\n",
       "</style>\n",
       "<table border=\"1\" class=\"dataframe\">\n",
       "  <thead>\n",
       "    <tr style=\"text-align: right;\">\n",
       "      <th></th>\n",
       "      <th>Room_ID</th>\n",
       "      <th>Capacity</th>\n",
       "    </tr>\n",
       "  </thead>\n",
       "  <tbody>\n",
       "    <tr>\n",
       "      <th>0</th>\n",
       "      <td>A121</td>\n",
       "      <td>15</td>\n",
       "    </tr>\n",
       "    <tr>\n",
       "      <th>1</th>\n",
       "      <td>A120</td>\n",
       "      <td>13</td>\n",
       "    </tr>\n",
       "    <tr>\n",
       "      <th>2</th>\n",
       "      <td>A123</td>\n",
       "      <td>15</td>\n",
       "    </tr>\n",
       "    <tr>\n",
       "      <th>3</th>\n",
       "      <td>A137</td>\n",
       "      <td>12</td>\n",
       "    </tr>\n",
       "    <tr>\n",
       "      <th>4</th>\n",
       "      <td>A138</td>\n",
       "      <td>15</td>\n",
       "    </tr>\n",
       "    <tr>\n",
       "      <th>5</th>\n",
       "      <td>B142</td>\n",
       "      <td>12</td>\n",
       "    </tr>\n",
       "    <tr>\n",
       "      <th>6</th>\n",
       "      <td>B144</td>\n",
       "      <td>12</td>\n",
       "    </tr>\n",
       "    <tr>\n",
       "      <th>7</th>\n",
       "      <td>B146</td>\n",
       "      <td>12</td>\n",
       "    </tr>\n",
       "    <tr>\n",
       "      <th>8</th>\n",
       "      <td>B148</td>\n",
       "      <td>12</td>\n",
       "    </tr>\n",
       "    <tr>\n",
       "      <th>9</th>\n",
       "      <td>C153</td>\n",
       "      <td>12</td>\n",
       "    </tr>\n",
       "    <tr>\n",
       "      <th>10</th>\n",
       "      <td>C155</td>\n",
       "      <td>19</td>\n",
       "    </tr>\n",
       "    <tr>\n",
       "      <th>11</th>\n",
       "      <td>C156</td>\n",
       "      <td>12</td>\n",
       "    </tr>\n",
       "    <tr>\n",
       "      <th>12</th>\n",
       "      <td>C157</td>\n",
       "      <td>13</td>\n",
       "    </tr>\n",
       "    <tr>\n",
       "      <th>13</th>\n",
       "      <td>D162</td>\n",
       "      <td>13</td>\n",
       "    </tr>\n",
       "    <tr>\n",
       "      <th>14</th>\n",
       "      <td>D163</td>\n",
       "      <td>13</td>\n",
       "    </tr>\n",
       "    <tr>\n",
       "      <th>15</th>\n",
       "      <td>T1</td>\n",
       "      <td>40</td>\n",
       "    </tr>\n",
       "    <tr>\n",
       "      <th>16</th>\n",
       "      <td>T2</td>\n",
       "      <td>40</td>\n",
       "    </tr>\n",
       "    <tr>\n",
       "      <th>17</th>\n",
       "      <td>T3</td>\n",
       "      <td>40</td>\n",
       "    </tr>\n",
       "  </tbody>\n",
       "</table>\n",
       "</div>"
      ],
      "text/plain": [
       "   Room_ID  Capacity\n",
       "0     A121        15\n",
       "1     A120        13\n",
       "2     A123        15\n",
       "3     A137        12\n",
       "4     A138        15\n",
       "5     B142        12\n",
       "6     B144        12\n",
       "7     B146        12\n",
       "8     B148        12\n",
       "9     C153        12\n",
       "10    C155        19\n",
       "11    C156        12\n",
       "12    C157        13\n",
       "13    D162        13\n",
       "14    D163        13\n",
       "15      T1        40\n",
       "16      T2        40\n",
       "17      T3        40"
      ]
     },
     "execution_count": 18,
     "metadata": {},
     "output_type": "execute_result"
    }
   ],
   "source": [
    "input_rooms"
   ]
  },
  {
   "cell_type": "code",
   "execution_count": 19,
   "id": "dc435d3b",
   "metadata": {},
   "outputs": [],
   "source": [
    "instanceData = {None: {\n",
    "    'GRADES': {None: room_population['Grade_ID']},\n",
    "    'TIMESLOTS': {None: TIMESLOTS},\n",
    "    'ROOMS': {None: input_rooms['Room_ID']},\n",
    "    'POP': room_population.set_index(['Grade_ID']).to_dict()['Population'],\n",
    "    'CAP': input_rooms.set_index(['Room_ID']).to_dict()['Capacity']\n",
    "}}"
   ]
  },
  {
   "cell_type": "code",
   "execution_count": 20,
   "id": "fd7aba53",
   "metadata": {},
   "outputs": [],
   "source": [
    "instance = model.create_instance(instanceData)"
   ]
  },
  {
   "cell_type": "code",
   "execution_count": 21,
   "id": "e4636abf",
   "metadata": {},
   "outputs": [],
   "source": [
    "# On my computer this works, to initialize opt\n",
    "path = \"/home/shaunak/Software/miniconda3/envs/optimization/bin/glpsol\"\n",
    "opt = SolverFactory('glpk', executable=path)\n",
    "\n",
    "\n",
    "# Use this on other computers\n",
    "# opt = SolverFactory('glpk')\n",
    "\n",
    "\n",
    "sol = opt.solve(instance)"
   ]
  },
  {
   "cell_type": "code",
   "execution_count": 22,
   "id": "6bcc6f94",
   "metadata": {},
   "outputs": [
    {
     "data": {
      "text/plain": [
       "{'Problem': [{'Name': 'unknown', 'Lower bound': 48.0, 'Upper bound': 48.0, 'Number of objectives': 1, 'Number of constraints': 2100, 'Number of variables': 1728, 'Number of nonzeros': 43200, 'Sense': 'maximize'}], 'Solver': [{'Status': 'ok', 'Termination condition': 'optimal', 'Statistics': {'Branch and bound': {'Number of bounded subproblems': '1', 'Number of created subproblems': '1'}}, 'Error rc': 0, 'Time': 0.20631098747253418}], 'Solution': [OrderedDict({'number of solutions': 0, 'number of solutions displayed': 0})]}"
      ]
     },
     "execution_count": 22,
     "metadata": {},
     "output_type": "execute_result"
    }
   ],
   "source": [
    "sol"
   ]
  },
  {
   "cell_type": "code",
   "execution_count": 23,
   "id": "9077d169",
   "metadata": {},
   "outputs": [
    {
     "name": "stdout",
     "output_type": "stream",
     "text": [
      "4.0\n",
      "4.0\n",
      "4.0\n",
      "4.0\n",
      "4.0\n",
      "4.0\n",
      "4.0\n",
      "4.0\n",
      "4.0\n",
      "4.0\n",
      "4.0\n",
      "4.0\n"
     ]
    }
   ],
   "source": [
    "for g in instance.GRADES:\n",
    "    val = 0\n",
    "    for t in instance.TIMESLOTS:\n",
    "        for r in instance.ROOMS:\n",
    "            val += pyo.value(instance.assign[g, t, r])\n",
    "    print(val)"
   ]
  }
 ],
 "metadata": {
  "kernelspec": {
   "display_name": "opt",
   "language": "python",
   "name": "opt"
  },
  "language_info": {
   "codemirror_mode": {
    "name": "ipython",
    "version": 3
   },
   "file_extension": ".py",
   "mimetype": "text/x-python",
   "name": "python",
   "nbconvert_exporter": "python",
   "pygments_lexer": "ipython3",
   "version": "3.12.6"
  }
 },
 "nbformat": 4,
 "nbformat_minor": 5
}
