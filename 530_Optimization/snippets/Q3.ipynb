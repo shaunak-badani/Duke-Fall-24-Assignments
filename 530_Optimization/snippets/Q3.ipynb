{
 "cells": [
  {
   "cell_type": "code",
   "execution_count": 1,
   "id": "a6e6af83",
   "metadata": {},
   "outputs": [],
   "source": [
    "import pandas as pd\n",
    "from pyomo.environ import *\n",
    "from pyomo.opt import SolverFactory"
   ]
  },
  {
   "cell_type": "markdown",
   "id": "8abb7d4a",
   "metadata": {},
   "source": [
    "# Baseline"
   ]
  },
  {
   "cell_type": "code",
   "execution_count": 66,
   "id": "c52accd5",
   "metadata": {},
   "outputs": [],
   "source": [
    "m = ConcreteModel()\n",
    "\n",
    "# Define Sets\n",
    "m.ITEMS = Set(initialize = ['A', 'B', 'C'])\n",
    "\n",
    "# Decision Variable\n",
    "m.MarkPct = Var(m.ITEMS, bounds = (0, 1))\n",
    "\n",
    "# Define Params\n",
    "m.basePrice = Param(m.ITEMS, initialize = {'A': 21.5, 'B' : 29.5, 'C': 30.5})\n",
    "m.initInv = Param(m.ITEMS, initialize = {'A':10 , 'B':30 , 'C': 41})\n",
    "m.maxPct = 0.8\n",
    "m.cap = 15\n",
    "m.dispCost = 1.2\n",
    "\n",
    "def MarkPriceRule(m, i):\n",
    "    return (1 - m.MarkPct[i])*m.basePrice[i]\n",
    "\n",
    "def DemandRule(m, i):\n",
    "    return m.MarkPct[i] * m.initInv[i]\n",
    "\n",
    "def RevenueRule(m, i):\n",
    "    return m.MarkPrice[i] * m.Demand[i] \n",
    "\n",
    "def FinalInvRule(m, i):\n",
    "    return m.initInv[i] - m.Demand[i]\n",
    "\n",
    "def MaxDiscountRule(m, i):\n",
    "    return m.MarkPct[i] <= m.maxPct\n",
    "\n",
    "def LeftoverInvRule(m, i):\n",
    "    return m.FinalInv[i] <= m.cap\n",
    "\n",
    "# Define implicit variables\n",
    "m.MarkPrice = Expression(m.ITEMS, initialize = MarkPriceRule)\n",
    "m.Demand = Expression(m.ITEMS, initialize = DemandRule)\n",
    "m.Revenue = Expression(m.ITEMS, initialize = RevenueRule)\n",
    "m.FinalInv = Expression(m.ITEMS, initialize = FinalInvRule)\n",
    "\n",
    "\n",
    "m.MaxDiscount = Constraint(m.ITEMS, rule = MaxDiscountRule)\n",
    "m.LeftOverInvRule = Constraint(m.ITEMS, rule = LeftoverInvRule)\n",
    "\n",
    "\n",
    "def obj(m):\n",
    "    return quicksum(m.Revenue[i] - m.dispCost * m.FinalInv[i] for i in m.ITEMS)\n",
    "\n",
    "m.obj = Objective(rule = obj, sense = maximize)"
   ]
  },
  {
   "cell_type": "code",
   "execution_count": 67,
   "id": "5fc024e3",
   "metadata": {},
   "outputs": [],
   "source": [
    "from pyomo.contrib import appsi\n",
    "SOLVER = appsi.solvers.Ipopt()"
   ]
  },
  {
   "cell_type": "code",
   "execution_count": 68,
   "id": "5447f153",
   "metadata": {},
   "outputs": [],
   "source": [
    "k = m.create_instance()\n",
    "results = SOLVER.solve(k)"
   ]
  },
  {
   "cell_type": "code",
   "execution_count": 69,
   "id": "775d76cd",
   "metadata": {},
   "outputs": [
    {
     "data": {
      "text/html": [
       "<div>\n",
       "<style scoped>\n",
       "    .dataframe tbody tr th:only-of-type {\n",
       "        vertical-align: middle;\n",
       "    }\n",
       "\n",
       "    .dataframe tbody tr th {\n",
       "        vertical-align: top;\n",
       "    }\n",
       "\n",
       "    .dataframe thead th {\n",
       "        text-align: right;\n",
       "    }\n",
       "</style>\n",
       "<table border=\"1\" class=\"dataframe\">\n",
       "  <thead>\n",
       "    <tr style=\"text-align: right;\">\n",
       "      <th></th>\n",
       "      <th>ITEM</th>\n",
       "      <th>Opt_Discount</th>\n",
       "      <th>Opt_Price</th>\n",
       "      <th>Opt_Revenue</th>\n",
       "      <th>Final_Inv</th>\n",
       "    </tr>\n",
       "  </thead>\n",
       "  <tbody>\n",
       "    <tr>\n",
       "      <th>0</th>\n",
       "      <td>A</td>\n",
       "      <td>0.527907</td>\n",
       "      <td>10.150000</td>\n",
       "      <td>53.582558</td>\n",
       "      <td>4.72093</td>\n",
       "    </tr>\n",
       "    <tr>\n",
       "      <th>1</th>\n",
       "      <td>B</td>\n",
       "      <td>0.520339</td>\n",
       "      <td>14.150000</td>\n",
       "      <td>220.883898</td>\n",
       "      <td>14.38983</td>\n",
       "    </tr>\n",
       "    <tr>\n",
       "      <th>2</th>\n",
       "      <td>C</td>\n",
       "      <td>0.634146</td>\n",
       "      <td>11.158537</td>\n",
       "      <td>290.121953</td>\n",
       "      <td>15.00000</td>\n",
       "    </tr>\n",
       "  </tbody>\n",
       "</table>\n",
       "</div>"
      ],
      "text/plain": [
       "  ITEM  Opt_Discount  Opt_Price  Opt_Revenue  Final_Inv\n",
       "0    A      0.527907  10.150000    53.582558    4.72093\n",
       "1    B      0.520339  14.150000   220.883898   14.38983\n",
       "2    C      0.634146  11.158537   290.121953   15.00000"
      ]
     },
     "execution_count": 69,
     "metadata": {},
     "output_type": "execute_result"
    }
   ],
   "source": [
    "data = {'ITEM': [], 'Opt_Discount': [], 'Opt_Price': [], 'Opt_Revenue': [], 'Final_Inv': []}\n",
    "for i in k.ITEMS:\n",
    "    data['ITEM'].append(i)\n",
    "    data['Opt_Discount'].append(value(k.MarkPct[i]))\n",
    "    data['Opt_Price'].append(value(k.MarkPrice[i]))\n",
    "    data['Opt_Revenue'].append(value(k.Revenue[i]))\n",
    "    data['Final_Inv'].append(value(k.FinalInv[i]))\n",
    "pd.DataFrame(data)"
   ]
  },
  {
   "cell_type": "code",
   "execution_count": 70,
   "id": "9a0b67f1",
   "metadata": {},
   "outputs": [
    {
     "name": "stdout",
     "output_type": "stream",
     "text": [
      "523.655496557852\n"
     ]
    }
   ],
   "source": [
    "print(k.obj())"
   ]
  },
  {
   "cell_type": "markdown",
   "id": "4f2cddf9",
   "metadata": {},
   "source": [
    "## Q1"
   ]
  },
  {
   "cell_type": "code",
   "execution_count": 71,
   "id": "3ac83719",
   "metadata": {},
   "outputs": [],
   "source": [
    "m = ConcreteModel()\n",
    "\n",
    "# Define Sets\n",
    "m.ITEMS = Set(initialize = ['A', 'B', 'C'])\n",
    "\n",
    "# Decision Variable\n",
    "m.MarkPct = Var(m.ITEMS, bounds = (0, 1))\n",
    "\n",
    "# Define Params\n",
    "m.basePrice = Param(m.ITEMS, initialize = {'A': 21.5, 'B' : 29.5, 'C': 30.5})\n",
    "m.initInv = Param(m.ITEMS, initialize = {'A':10 , 'B':30 , 'C': 41})\n",
    "m.maxPct = 0.65\n",
    "m.cap = 15\n",
    "m.dispCost = 1.2\n",
    "\n",
    "def MarkPriceRule(m, i):\n",
    "    return (1 - m.MarkPct[i])*m.basePrice[i]\n",
    "\n",
    "def DemandRule(m, i):\n",
    "    return m.MarkPct[i] * m.initInv[i]\n",
    "\n",
    "def RevenueRule(m, i):\n",
    "    return m.MarkPrice[i] * m.Demand[i] \n",
    "\n",
    "def FinalInvRule(m, i):\n",
    "    return m.initInv[i] - m.Demand[i]\n",
    "\n",
    "def MaxDiscountRule(m, i):\n",
    "    return m.MarkPct[i] <= m.maxPct\n",
    "\n",
    "def LeftoverInvRule(m, i):\n",
    "    return m.FinalInv[i] <= m.cap\n",
    "\n",
    "# Define implicit variables\n",
    "m.MarkPrice = Expression(m.ITEMS, initialize = MarkPriceRule)\n",
    "m.Demand = Expression(m.ITEMS, initialize = DemandRule)\n",
    "m.Revenue = Expression(m.ITEMS, initialize = RevenueRule)\n",
    "m.FinalInv = Expression(m.ITEMS, initialize = FinalInvRule)\n",
    "\n",
    "\n",
    "m.MaxDiscount = Constraint(m.ITEMS, rule = MaxDiscountRule)\n",
    "m.LeftOverInvRule = Constraint(m.ITEMS, rule = LeftoverInvRule)\n",
    "\n",
    "\n",
    "def obj(m):\n",
    "    return quicksum(m.Revenue[i] - m.dispCost * m.FinalInv[i] for i in m.ITEMS)\n",
    "\n",
    "m.obj = Objective(rule = obj, sense = maximize)"
   ]
  },
  {
   "cell_type": "code",
   "execution_count": 72,
   "id": "02ea90e0",
   "metadata": {},
   "outputs": [],
   "source": [
    "results = SOLVER.solve(m)"
   ]
  },
  {
   "cell_type": "code",
   "execution_count": 73,
   "id": "6c08f440",
   "metadata": {},
   "outputs": [
    {
     "name": "stdout",
     "output_type": "stream",
     "text": [
      "523.6554965577358\n"
     ]
    }
   ],
   "source": [
    "print(m.obj())"
   ]
  },
  {
   "cell_type": "markdown",
   "id": "1861e6ea",
   "metadata": {},
   "source": [
    "## Q2"
   ]
  },
  {
   "cell_type": "code",
   "execution_count": 74,
   "id": "34a717ce",
   "metadata": {},
   "outputs": [],
   "source": [
    "m = ConcreteModel()\n",
    "\n",
    "# Define Sets\n",
    "m.ITEMS = Set(initialize = ['A', 'B', 'C'])\n",
    "\n",
    "# Decision Variable\n",
    "m.MarkPct = Var(m.ITEMS, bounds = (0, 1))\n",
    "\n",
    "# Define Params\n",
    "m.basePrice = Param(m.ITEMS, initialize = {'A': 21.5, 'B' : 29.5, 'C': 30.5})\n",
    "m.initInv = Param(m.ITEMS, initialize = {'A':10 , 'B':30 , 'C': 41})\n",
    "m.maxPct = 0.55\n",
    "m.cap = 15\n",
    "m.dispCost = 1.2\n",
    "\n",
    "def MarkPriceRule(m, i):\n",
    "    return (1 - m.MarkPct[i])*m.basePrice[i]\n",
    "\n",
    "def DemandRule(m, i):\n",
    "    return m.MarkPct[i] * m.initInv[i]\n",
    "\n",
    "def RevenueRule(m, i):\n",
    "    return m.MarkPrice[i] * m.Demand[i] \n",
    "\n",
    "def FinalInvRule(m, i):\n",
    "    return m.initInv[i] - m.Demand[i]\n",
    "\n",
    "def MaxDiscountRule(m, i):\n",
    "    return m.MarkPct[i] <= m.maxPct\n",
    "\n",
    "def LeftoverInvRule(m, i):\n",
    "    return m.FinalInv[i] <= m.cap\n",
    "\n",
    "# Define implicit variables\n",
    "m.MarkPrice = Expression(m.ITEMS, initialize = MarkPriceRule)\n",
    "m.Demand = Expression(m.ITEMS, initialize = DemandRule)\n",
    "m.Revenue = Expression(m.ITEMS, initialize = RevenueRule)\n",
    "m.FinalInv = Expression(m.ITEMS, initialize = FinalInvRule)\n",
    "\n",
    "\n",
    "m.MaxDiscount = Constraint(m.ITEMS, rule = MaxDiscountRule)\n",
    "m.LeftOverInvRule = Constraint(m.ITEMS, rule = LeftoverInvRule)\n",
    "\n",
    "\n",
    "def obj(m):\n",
    "    return quicksum(m.Revenue[i] - m.dispCost * m.FinalInv[i] for i in m.ITEMS)\n",
    "\n",
    "m.obj = Objective(rule = obj, sense = maximize)"
   ]
  },
  {
   "cell_type": "code",
   "execution_count": 75,
   "id": "01c4248d",
   "metadata": {},
   "outputs": [
    {
     "ename": "RuntimeError",
     "evalue": "A feasible solution was not found, so no solution can be loaded. If using the appsi.solvers.Ipopt interface, you can set opt.config.load_solution=False. If using the environ.SolverFactory interface, you can set opt.solve(model, load_solutions = False). Then you can check results.termination_condition and results.best_feasible_objective before loading a solution.",
     "output_type": "error",
     "traceback": [
      "\u001b[0;31m---------------------------------------------------------------------------\u001b[0m",
      "\u001b[0;31mRuntimeError\u001b[0m                              Traceback (most recent call last)",
      "Cell \u001b[0;32mIn[75], line 1\u001b[0m\n\u001b[0;32m----> 1\u001b[0m results \u001b[38;5;241m=\u001b[39m SOLVER\u001b[38;5;241m.\u001b[39msolve(m)\n",
      "File \u001b[0;32m~/Software/miniconda3/envs/optimization/lib/python3.12/site-packages/pyomo/contrib/appsi/solvers/ipopt.py:294\u001b[0m, in \u001b[0;36mIpopt.solve\u001b[0;34m(self, model, timer)\u001b[0m\n\u001b[1;32m    292\u001b[0m \u001b[38;5;28mself\u001b[39m\u001b[38;5;241m.\u001b[39m_writer\u001b[38;5;241m.\u001b[39mwrite(model, \u001b[38;5;28mself\u001b[39m\u001b[38;5;241m.\u001b[39m_filename \u001b[38;5;241m+\u001b[39m \u001b[38;5;124m'\u001b[39m\u001b[38;5;124m.nl\u001b[39m\u001b[38;5;124m'\u001b[39m, timer\u001b[38;5;241m=\u001b[39mtimer)\n\u001b[1;32m    293\u001b[0m timer\u001b[38;5;241m.\u001b[39mstop(\u001b[38;5;124m'\u001b[39m\u001b[38;5;124mwrite nl file\u001b[39m\u001b[38;5;124m'\u001b[39m)\n\u001b[0;32m--> 294\u001b[0m res \u001b[38;5;241m=\u001b[39m \u001b[38;5;28mself\u001b[39m\u001b[38;5;241m.\u001b[39m_apply_solver(timer)\n\u001b[1;32m    295\u001b[0m \u001b[38;5;28mself\u001b[39m\u001b[38;5;241m.\u001b[39m_last_results_object \u001b[38;5;241m=\u001b[39m res\n\u001b[1;32m    296\u001b[0m \u001b[38;5;28;01mif\u001b[39;00m \u001b[38;5;28mself\u001b[39m\u001b[38;5;241m.\u001b[39mconfig\u001b[38;5;241m.\u001b[39mreport_timing:\n",
      "File \u001b[0;32m~/Software/miniconda3/envs/optimization/lib/python3.12/site-packages/pyomo/contrib/appsi/solvers/ipopt.py:501\u001b[0m, in \u001b[0;36mIpopt._apply_solver\u001b[0;34m(self, timer)\u001b[0m\n\u001b[1;32m    499\u001b[0m \u001b[38;5;28;01melse\u001b[39;00m:\n\u001b[1;32m    500\u001b[0m     timer\u001b[38;5;241m.\u001b[39mstart(\u001b[38;5;124m'\u001b[39m\u001b[38;5;124mparse solution\u001b[39m\u001b[38;5;124m'\u001b[39m)\n\u001b[0;32m--> 501\u001b[0m     results \u001b[38;5;241m=\u001b[39m \u001b[38;5;28mself\u001b[39m\u001b[38;5;241m.\u001b[39m_parse_sol()\n\u001b[1;32m    502\u001b[0m     timer\u001b[38;5;241m.\u001b[39mstop(\u001b[38;5;124m'\u001b[39m\u001b[38;5;124mparse solution\u001b[39m\u001b[38;5;124m'\u001b[39m)\n\u001b[1;32m    504\u001b[0m \u001b[38;5;28;01mif\u001b[39;00m \u001b[38;5;28mself\u001b[39m\u001b[38;5;241m.\u001b[39m_writer\u001b[38;5;241m.\u001b[39mget_active_objective() \u001b[38;5;129;01mis\u001b[39;00m \u001b[38;5;28;01mNone\u001b[39;00m:\n",
      "File \u001b[0;32m~/Software/miniconda3/envs/optimization/lib/python3.12/site-packages/pyomo/contrib/appsi/solvers/ipopt.py:424\u001b[0m, in \u001b[0;36mIpopt._parse_sol\u001b[0;34m(self)\u001b[0m\n\u001b[1;32m    422\u001b[0m         results\u001b[38;5;241m.\u001b[39mbest_feasible_objective \u001b[38;5;241m=\u001b[39m value(obj_expr_evaluated)\n\u001b[1;32m    423\u001b[0m \u001b[38;5;28;01melif\u001b[39;00m \u001b[38;5;28mself\u001b[39m\u001b[38;5;241m.\u001b[39mconfig\u001b[38;5;241m.\u001b[39mload_solution:\n\u001b[0;32m--> 424\u001b[0m     \u001b[38;5;28;01mraise\u001b[39;00m \u001b[38;5;167;01mRuntimeError\u001b[39;00m(\n\u001b[1;32m    425\u001b[0m         \u001b[38;5;124m'\u001b[39m\u001b[38;5;124mA feasible solution was not found, so no solution can be loaded. \u001b[39m\u001b[38;5;124m'\u001b[39m\n\u001b[1;32m    426\u001b[0m         \u001b[38;5;124m'\u001b[39m\u001b[38;5;124mIf using the appsi.solvers.Ipopt interface, you can \u001b[39m\u001b[38;5;124m'\u001b[39m\n\u001b[1;32m    427\u001b[0m         \u001b[38;5;124m'\u001b[39m\u001b[38;5;124mset opt.config.load_solution=False. If using the environ.SolverFactory \u001b[39m\u001b[38;5;124m'\u001b[39m\n\u001b[1;32m    428\u001b[0m         \u001b[38;5;124m'\u001b[39m\u001b[38;5;124minterface, you can set opt.solve(model, load_solutions = False). \u001b[39m\u001b[38;5;124m'\u001b[39m\n\u001b[1;32m    429\u001b[0m         \u001b[38;5;124m'\u001b[39m\u001b[38;5;124mThen you can check results.termination_condition and \u001b[39m\u001b[38;5;124m'\u001b[39m\n\u001b[1;32m    430\u001b[0m         \u001b[38;5;124m'\u001b[39m\u001b[38;5;124mresults.best_feasible_objective before loading a solution.\u001b[39m\u001b[38;5;124m'\u001b[39m\n\u001b[1;32m    431\u001b[0m     )\n\u001b[1;32m    433\u001b[0m \u001b[38;5;28;01mreturn\u001b[39;00m results\n",
      "\u001b[0;31mRuntimeError\u001b[0m: A feasible solution was not found, so no solution can be loaded. If using the appsi.solvers.Ipopt interface, you can set opt.config.load_solution=False. If using the environ.SolverFactory interface, you can set opt.solve(model, load_solutions = False). Then you can check results.termination_condition and results.best_feasible_objective before loading a solution."
     ]
    }
   ],
   "source": [
    "results = SOLVER.solve(m)"
   ]
  },
  {
   "cell_type": "markdown",
   "id": "6064608d",
   "metadata": {},
   "source": [
    "## Q4"
   ]
  },
  {
   "cell_type": "code",
   "execution_count": 76,
   "id": "b780548a",
   "metadata": {},
   "outputs": [],
   "source": [
    "m = ConcreteModel()\n",
    "\n",
    "# Define Sets\n",
    "m.ITEMS = Set(initialize = ['A', 'B', 'C'])\n",
    "\n",
    "# Decision Variable\n",
    "m.MarkPct = Var(m.ITEMS, bounds = (0, 1))\n",
    "\n",
    "# Define Params\n",
    "m.basePrice = Param(m.ITEMS, initialize = {'A': 21.5, 'B' : 29.5, 'C': 30.5})\n",
    "m.initInv = Param(m.ITEMS, initialize = {'A':10 , 'B':30 , 'C': 41})\n",
    "m.maxPct = 0.55\n",
    "# m.cap = 15\n",
    "m.dispCost = 1.2\n",
    "\n",
    "def MarkPriceRule(m, i):\n",
    "    return (1 - m.MarkPct[i])*m.basePrice[i]\n",
    "\n",
    "def DemandRule(m, i):\n",
    "    return m.MarkPct[i] * m.initInv[i]\n",
    "\n",
    "def RevenueRule(m, i):\n",
    "    return m.MarkPrice[i] * m.Demand[i] \n",
    "\n",
    "def FinalInvRule(m, i):\n",
    "    return m.initInv[i] - m.Demand[i]\n",
    "\n",
    "def MaxDiscountRule(m, i):\n",
    "    return m.MarkPct[i] <= m.maxPct\n",
    "\n",
    "# def LeftoverInvRule(m, i):\n",
    "#     return m.FinalInv[i] <= m.cap\n",
    "\n",
    "# Define implicit variables\n",
    "m.MarkPrice = Expression(m.ITEMS, initialize = MarkPriceRule)\n",
    "m.Demand = Expression(m.ITEMS, initialize = DemandRule)\n",
    "m.Revenue = Expression(m.ITEMS, initialize = RevenueRule)\n",
    "m.FinalInv = Expression(m.ITEMS, initialize = FinalInvRule)\n",
    "\n",
    "\n",
    "m.MaxDiscount = Constraint(m.ITEMS, rule = MaxDiscountRule)\n",
    "# m.LeftOverInvRule = Constraint(m.ITEMS, rule = LeftoverInvRule)\n",
    "\n",
    "\n",
    "def obj(m):\n",
    "    return quicksum(m.Revenue[i] - m.dispCost * m.FinalInv[i] for i in m.ITEMS)\n",
    "\n",
    "m.obj = Objective(rule = obj, sense = maximize)"
   ]
  },
  {
   "cell_type": "code",
   "execution_count": 77,
   "id": "30748c60",
   "metadata": {},
   "outputs": [],
   "source": [
    "results = SOLVER.solve(m)"
   ]
  },
  {
   "cell_type": "code",
   "execution_count": 78,
   "id": "ad8c80c2",
   "metadata": {},
   "outputs": [
    {
     "name": "stdout",
     "output_type": "stream",
     "text": [
      "540.0424779816099\n"
     ]
    }
   ],
   "source": [
    "print(m.obj())"
   ]
  },
  {
   "cell_type": "markdown",
   "id": "5aa9b2d1",
   "metadata": {},
   "source": [
    "## Q4"
   ]
  },
  {
   "cell_type": "code",
   "execution_count": 88,
   "id": "37f88918",
   "metadata": {},
   "outputs": [],
   "source": [
    "m = ConcreteModel()\n",
    "\n",
    "# Define Sets\n",
    "m.ITEMS = Set(initialize = ['A', 'B', 'C'])\n",
    "\n",
    "# Decision Variable\n",
    "m.MarkPct = Var(m.ITEMS, bounds = (0, 1))\n",
    "\n",
    "# Define Params\n",
    "m.basePrice = Param(m.ITEMS, initialize = {'A': 21.5, 'B' : 29.5, 'C': 30.5})\n",
    "m.initInv = Param(m.ITEMS, initialize = {'A':10 , 'B':30 , 'C': 41})\n",
    "m.maxPct = 0.8\n",
    "m.cap = 20\n",
    "m.dispCost = 1.2\n",
    "\n",
    "def MarkPriceRule(m, i):\n",
    "    return (1 - m.MarkPct[i])*m.basePrice[i]\n",
    "\n",
    "def DemandRule(m, i):\n",
    "    return m.MarkPct[i] * m.initInv[i]\n",
    "\n",
    "def RevenueRule(m, i):\n",
    "    return m.MarkPrice[i] * m.Demand[i] \n",
    "\n",
    "def FinalInvRule(m, i):\n",
    "    return m.initInv[i] - m.Demand[i]\n",
    "\n",
    "def MaxDiscountRule(m, i):\n",
    "    return m.MarkPct[i] <= m.maxPct\n",
    "\n",
    "def LeftoverInvRule(m):\n",
    "    return quicksum(m.FinalInv[i] for i in m.ITEMS) <= m.cap\n",
    "\n",
    "# Define implicit variables\n",
    "m.MarkPrice = Expression(m.ITEMS, initialize = MarkPriceRule)\n",
    "m.Demand = Expression(m.ITEMS, initialize = DemandRule)\n",
    "m.Revenue = Expression(m.ITEMS, initialize = RevenueRule)\n",
    "m.FinalInv = Expression(m.ITEMS, initialize = FinalInvRule)\n",
    "\n",
    "\n",
    "m.MaxDiscount = Constraint(m.ITEMS, rule = MaxDiscountRule)\n",
    "m.LeftOverInvRule = Constraint(rule = LeftoverInvRule)\n",
    "\n",
    "\n",
    "def obj(m):\n",
    "    return quicksum(m.Revenue[i] - m.dispCost * m.FinalInv[i] for i in m.ITEMS)\n",
    "\n",
    "m.obj = Objective(rule = obj, sense = maximize)"
   ]
  },
  {
   "cell_type": "code",
   "execution_count": 89,
   "id": "6308fd59",
   "metadata": {},
   "outputs": [],
   "source": [
    "results = SOLVER.solve(m)"
   ]
  },
  {
   "cell_type": "code",
   "execution_count": 90,
   "id": "6f9fc546",
   "metadata": {},
   "outputs": [
    {
     "data": {
      "text/html": [
       "<div>\n",
       "<style scoped>\n",
       "    .dataframe tbody tr th:only-of-type {\n",
       "        vertical-align: middle;\n",
       "    }\n",
       "\n",
       "    .dataframe tbody tr th {\n",
       "        vertical-align: top;\n",
       "    }\n",
       "\n",
       "    .dataframe thead th {\n",
       "        text-align: right;\n",
       "    }\n",
       "</style>\n",
       "<table border=\"1\" class=\"dataframe\">\n",
       "  <thead>\n",
       "    <tr style=\"text-align: right;\">\n",
       "      <th></th>\n",
       "      <th>ITEM</th>\n",
       "      <th>Opt_Discount</th>\n",
       "      <th>Opt_Price</th>\n",
       "      <th>Opt_Revenue</th>\n",
       "      <th>Final_Inv</th>\n",
       "    </tr>\n",
       "  </thead>\n",
       "  <tbody>\n",
       "    <tr>\n",
       "      <th>0</th>\n",
       "      <td>A</td>\n",
       "      <td>80.00</td>\n",
       "      <td>4.30</td>\n",
       "      <td>34.399999</td>\n",
       "      <td>2.000000</td>\n",
       "    </tr>\n",
       "    <tr>\n",
       "      <th>1</th>\n",
       "      <td>B</td>\n",
       "      <td>75.12</td>\n",
       "      <td>7.34</td>\n",
       "      <td>165.389407</td>\n",
       "      <td>7.462933</td>\n",
       "    </tr>\n",
       "    <tr>\n",
       "      <th>2</th>\n",
       "      <td>C</td>\n",
       "      <td>74.30</td>\n",
       "      <td>7.84</td>\n",
       "      <td>238.785232</td>\n",
       "      <td>10.537068</td>\n",
       "    </tr>\n",
       "  </tbody>\n",
       "</table>\n",
       "</div>"
      ],
      "text/plain": [
       "  ITEM  Opt_Discount  Opt_Price  Opt_Revenue  Final_Inv\n",
       "0    A         80.00       4.30    34.399999   2.000000\n",
       "1    B         75.12       7.34   165.389407   7.462933\n",
       "2    C         74.30       7.84   238.785232  10.537068"
      ]
     },
     "execution_count": 90,
     "metadata": {},
     "output_type": "execute_result"
    }
   ],
   "source": [
    "data = {'ITEM': [], 'Opt_Discount': [], 'Opt_Price': [], 'Opt_Revenue': [], 'Final_Inv': []}\n",
    "for i in k.ITEMS:\n",
    "    data['ITEM'].append(i)\n",
    "    data['Opt_Discount'].append(round(value(m.MarkPct[i]) * 100, 2))\n",
    "    data['Opt_Price'].append(round(value(m.MarkPrice[i]), 2))\n",
    "    data['Opt_Revenue'].append(value(m.Revenue[i]))\n",
    "    data['Final_Inv'].append(value(m.FinalInv[i]))\n",
    "pd.DataFrame(data)"
   ]
  },
  {
   "cell_type": "markdown",
   "id": "471d36ad",
   "metadata": {},
   "source": [
    "## Q5"
   ]
  },
  {
   "cell_type": "code",
   "execution_count": 84,
   "id": "f70f81d9",
   "metadata": {},
   "outputs": [],
   "source": [
    "m = ConcreteModel()\n",
    "\n",
    "# Define Sets\n",
    "m.ITEMS = Set(initialize = ['A', 'B', 'C', 'D'])\n",
    "\n",
    "# Decision Variable\n",
    "m.MarkPct = Var(m.ITEMS, bounds = (0, 1))\n",
    "\n",
    "# Define Params\n",
    "m.basePrice = Param(m.ITEMS, initialize = {'A': 21.5, 'B' : 29.5, 'C': 30.5, 'D': 99})\n",
    "m.initInv = Param(m.ITEMS, initialize = {'A':10 , 'B':30 , 'C': 41, 'D': 5})\n",
    "m.maxPct = 0.8\n",
    "m.cap = 15\n",
    "m.dispCost = 1.2\n",
    "\n",
    "def MarkPriceRule(m, i):\n",
    "    return (1 - m.MarkPct[i])*m.basePrice[i]\n",
    "\n",
    "def DemandRule(m, i):\n",
    "    return m.MarkPct[i] * m.initInv[i]\n",
    "\n",
    "def RevenueRule(m, i):\n",
    "    return m.MarkPrice[i] * m.Demand[i] \n",
    "\n",
    "def FinalInvRule(m, i):\n",
    "    return m.initInv[i] - m.Demand[i]\n",
    "\n",
    "def MaxDiscountRule(m, i):\n",
    "    return m.MarkPct[i] <= m.maxPct\n",
    "\n",
    "def LeftoverInvRule(m, i):\n",
    "    return m.FinalInv[i] <= m.cap\n",
    "\n",
    "# Define implicit variables\n",
    "m.MarkPrice = Expression(m.ITEMS, initialize = MarkPriceRule)\n",
    "m.Demand = Expression(m.ITEMS, initialize = DemandRule)\n",
    "m.Revenue = Expression(m.ITEMS, initialize = RevenueRule)\n",
    "m.FinalInv = Expression(m.ITEMS, initialize = FinalInvRule)\n",
    "\n",
    "\n",
    "m.MaxDiscount = Constraint(m.ITEMS, rule = MaxDiscountRule)\n",
    "m.LeftOverInvRule = Constraint(m.ITEMS, rule = LeftoverInvRule)\n",
    "\n",
    "\n",
    "def obj(m):\n",
    "    return quicksum(m.Revenue[i] - m.dispCost * m.FinalInv[i] for i in m.ITEMS)\n",
    "\n",
    "m.obj = Objective(rule = obj, sense = maximize)"
   ]
  },
  {
   "cell_type": "code",
   "execution_count": 85,
   "id": "bd9d674f",
   "metadata": {},
   "outputs": [],
   "source": [
    "results = SOLVER.solve(m)"
   ]
  },
  {
   "cell_type": "code",
   "execution_count": 86,
   "id": "d3c55eb0",
   "metadata": {},
   "outputs": [
    {
     "name": "stdout",
     "output_type": "stream",
     "text": [
      "644.42\n"
     ]
    }
   ],
   "source": [
    "print(round(m.obj(), 2))"
   ]
  }
 ],
 "metadata": {
  "kernelspec": {
   "display_name": "opt",
   "language": "python",
   "name": "opt"
  },
  "language_info": {
   "codemirror_mode": {
    "name": "ipython",
    "version": 3
   },
   "file_extension": ".py",
   "mimetype": "text/x-python",
   "name": "python",
   "nbconvert_exporter": "python",
   "pygments_lexer": "ipython3",
   "version": "3.12.6"
  }
 },
 "nbformat": 4,
 "nbformat_minor": 5
}
