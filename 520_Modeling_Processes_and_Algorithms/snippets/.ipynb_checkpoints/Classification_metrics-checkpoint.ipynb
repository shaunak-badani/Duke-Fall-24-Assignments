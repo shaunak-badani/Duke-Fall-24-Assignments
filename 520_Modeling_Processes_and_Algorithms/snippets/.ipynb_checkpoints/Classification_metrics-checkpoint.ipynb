{
 "cells": [
  {
   "cell_type": "markdown",
   "metadata": {
    "id": "3SBDtsfEe40g"
   },
   "source": [
    "<a href='https://ai.meng.duke.edu'> = <img align=\"left\" style=\"padding-top:10px;\" src=https://storage.googleapis.com/aipi_datasets/Duke-AIPI-Logo.png>"
   ]
  },
  {
   "cell_type": "markdown",
   "metadata": {
    "id": "smF4ievMe40i"
   },
   "source": [
    "# Classification error metrics\n",
    "\n",
    "In this notebook we will be applying classification metrics to evaluate the performance of a classifier model.  We will again use the sonar dataset we have previously used.  Details on the dataset can be found [here](https://archive.ics.uci.edu/ml/datasets/Connectionist+Bench+(Sonar,+Mines+vs.+Rocks))"
   ]
  },
  {
   "cell_type": "code",
   "execution_count": 1,
   "metadata": {
    "id": "voP0aRd1e40j"
   },
   "outputs": [],
   "source": [
    "import numpy as np\n",
    "import pandas as pd\n",
    "import matplotlib.pyplot as plt\n",
    "import seaborn as sns\n",
    "from sklearn.model_selection import train_test_split\n",
    "from sklearn.neural_network import MLPClassifier\n",
    "\n",
    "import warnings\n",
    "warnings.filterwarnings(\"ignore\")"
   ]
  },
  {
   "cell_type": "code",
   "execution_count": 2,
   "metadata": {
    "id": "tdTg5cLRe40j"
   },
   "outputs": [],
   "source": [
    "def load_data(url):\n",
    "    # Load the data\n",
    "    data = pd.read_csv(url, header=None)\n",
    "    # Separate into X and y\n",
    "    # Create feature matrix using the first 60 columns as the features\n",
    "    X = data.iloc[:,:60].to_numpy()\n",
    "    # Create target vector from the last column\n",
    "    y = data.iloc[:,60].to_numpy()\n",
    "\n",
    "    # Covert the labels to 0s and 1s\n",
    "    y = np.where(y=='M',1,0)\n",
    "\n",
    "    return X,y\n",
    "\n",
    "X,y = load_data('https://raw.githubusercontent.com/jbrownlee/Datasets/master/sonar.csv')"
   ]
  },
  {
   "cell_type": "code",
   "execution_count": 3,
   "metadata": {
    "id": "5euhKqfae40k"
   },
   "outputs": [],
   "source": [
    "def split(X,y,pct):\n",
    "    # Split the data into training and test sets\n",
    "    X_train,X_test,y_train,y_test = train_test_split(X, y, random_state=0,test_size=pct)\n",
    "    return X_train, y_train, X_test, y_test\n",
    "\n",
    "X_train, y_train, X_test, y_test = split(X,y,pct=0.4)"
   ]
  },
  {
   "cell_type": "markdown",
   "metadata": {
    "id": "KxJ3e9Xoe40l"
   },
   "source": [
    "We will train a MLP model on the data and then get the predictions for the test set."
   ]
  },
  {
   "cell_type": "code",
   "execution_count": 4,
   "metadata": {
    "colab": {
     "base_uri": "https://localhost:8080/"
    },
    "id": "ehwXoQbTfLVA",
    "outputId": "55d8c70a-9224-4c23-f8b9-8979fd98dcd2"
   },
   "outputs": [
    {
     "data": {
      "text/plain": [
       "(208,)"
      ]
     },
     "execution_count": 4,
     "metadata": {},
     "output_type": "execute_result"
    }
   ],
   "source": [
    "y.shape"
   ]
  },
  {
   "cell_type": "code",
   "execution_count": 5,
   "metadata": {
    "colab": {
     "base_uri": "https://localhost:8080/"
    },
    "id": "jp0-Z3VJfGFs",
    "outputId": "7ca99d11-28f5-403d-a509-cc84fbe2fa3e"
   },
   "outputs": [
    {
     "data": {
      "text/plain": [
       "(208, 60)"
      ]
     },
     "execution_count": 5,
     "metadata": {},
     "output_type": "execute_result"
    }
   ],
   "source": [
    "X.shape"
   ]
  },
  {
   "cell_type": "code",
   "execution_count": 6,
   "metadata": {
    "id": "ALlCLXc_e40m"
   },
   "outputs": [],
   "source": [
    "# Set up the MLP classifier model\n",
    "model = MLPClassifier(hidden_layer_sizes=(100,50),activation='relu',\n",
    "                      solver='sgd',learning_rate_init=0.01,max_iter=1000)\n",
    "\n",
    "# Train the model on the training data\n",
    "model.fit(X_train,y_train)\n",
    "\n",
    "# Get the predictions for the test data to compute error metrics\n",
    "test_preds = model.predict(X_test)"
   ]
  },
  {
   "cell_type": "markdown",
   "metadata": {
    "id": "ASMb1RlRe40m"
   },
   "source": [
    "Now we are ready to compute our error metrics.  Let's start by displaying the confusion matrix"
   ]
  },
  {
   "cell_type": "code",
   "execution_count": 7,
   "metadata": {
    "colab": {
     "base_uri": "https://localhost:8080/"
    },
    "id": "cvAbQfETf3zg",
    "outputId": "b56c2787-80ed-4a27-b88e-f84138731ccd"
   },
   "outputs": [
    {
     "data": {
      "text/plain": [
       "dtype('int64')"
      ]
     },
     "execution_count": 7,
     "metadata": {},
     "output_type": "execute_result"
    }
   ],
   "source": [
    "test_preds.dtype"
   ]
  },
  {
   "cell_type": "code",
   "execution_count": 8,
   "metadata": {
    "colab": {
     "base_uri": "https://localhost:8080/"
    },
    "id": "uVjK1JpygE-F",
    "outputId": "2be8c834-2e56-456e-d181-92d7d22bcefb"
   },
   "outputs": [
    {
     "name": "stdout",
     "output_type": "stream",
     "text": [
      "True positives: 41\n",
      "False positives: 10\n",
      "False negatives: 5\n",
      "True negatives: 28\n"
     ]
    }
   ],
   "source": [
    "def return_cf_matrix_values(y_test, test_preds):\n",
    "  test_preds_not = np.logical_not(test_preds).astype('int64')\n",
    "  y_test_not = np.logical_not(y_test).astype('int64')\n",
    "  true_positives = np.logical_and(test_preds, y_test).sum()\n",
    "\n",
    "  # false positives, where y_pred = 1 and y = 0\n",
    "  false_positives = np.logical_and(test_preds, y_test_not).sum()\n",
    "\n",
    "  # false negatives, where y_pred = 0 and y = 1\n",
    "  false_negatives = np.logical_and(test_preds_not, y_test).sum()\n",
    "\n",
    "  # true negatives, where y_pred = 0 and y = 0\n",
    "  true_negatives = np.logical_and(test_preds_not, y_test_not).sum()\n",
    "\n",
    "  return true_positives, false_positives, false_negatives, true_negatives\n",
    "\n",
    "true_positives, false_positives, false_negatives, true_negatives = return_cf_matrix_values(y_test, test_preds)\n",
    "\n",
    "print(f\"True positives: {true_positives}\")\n",
    "print(f\"False positives: {false_positives}\")\n",
    "print(f\"False negatives: {false_negatives}\")\n",
    "print(f\"True negatives: {true_negatives}\")"
   ]
  },
  {
   "cell_type": "code",
   "execution_count": 9,
   "metadata": {
    "colab": {
     "base_uri": "https://localhost:8080/",
     "height": 449
    },
    "id": "-e7HGh7Se40n",
    "outputId": "b2e0d4f2-73d0-431f-a871-a23d7d1d068a"
   },
   "outputs": [
    {
     "data": {
      "image/png": "[encoded data removed]",
      "text/plain": [
       "<Figure size 640x480 with 2 Axes>"
      ]
     },
     "metadata": {},
     "output_type": "display_data"
    }
   ],
   "source": [
    "from sklearn.metrics import confusion_matrix, ConfusionMatrixDisplay\n",
    "cm = confusion_matrix(y_test, test_preds, normalize=None, labels=model.classes_)\n",
    "disp = ConfusionMatrixDisplay(confusion_matrix=cm, display_labels=model.classes_)\n",
    "disp.plot(cmap=plt.cm.Blues)\n",
    "plt.show()"
   ]
  },
  {
   "cell_type": "markdown",
   "metadata": {
    "id": "QQsxygMZe40p"
   },
   "source": [
    "### Question: what is more important to us, minimizing false positives or false negatives?\n",
    "### Therefore, which metric should we pay more attention to - precision or recall?"
   ]
  },
  {
   "cell_type": "code",
   "execution_count": 10,
   "metadata": {
    "id": "uCzMzoTKhyz7"
   },
   "outputs": [],
   "source": [
    "def get_precision_recall(tp, fp, fn, tn):\n",
    "    # recall = true positivity rate = tp / (tp + fn)\n",
    "    recall = tp / (tp + fn)\n",
    "\n",
    "    # precision = positive predictive rate = tp / (tp + fp)\n",
    "    precision = tp / (tp + fp)\n",
    "\n",
    "    # accuracy = (tp + tn) / (tp + fp + fn + tn)\n",
    "    accuracy = (tp + tn) / (tp + fp + fn + tn)\n",
    "\n",
    "    # f1 = harmonic mean of precision and recall\n",
    "    f1 = 2 * precision * recall / (precision + recall)\n",
    "\n",
    "    # fpr = fp / (fp + tn)\n",
    "    fpr = fp / (fp + tn)\n",
    "\n",
    "    return recall, precision, accuracy, f1, fpr"
   ]
  },
  {
   "cell_type": "code",
   "execution_count": 11,
   "metadata": {
    "colab": {
     "base_uri": "https://localhost:8080/"
    },
    "id": "nK3fRcSNe40q",
    "outputId": "144ba00f-a5b9-491d-e80a-0a1c3d647aa8"
   },
   "outputs": [
    {
     "name": "stdout",
     "output_type": "stream",
     "text": [
      "Accuracy: 0.821\n",
      "Custom accuracy: 0.821\n",
      "Recall: 0.891\n",
      "Custom recall: 0.891\n",
      "Precision: 0.804\n",
      "Custom precision: 0.804\n",
      "F1: 0.845\n"
     ]
    }
   ],
   "source": [
    "# Compute the accuracy, precision and recall for the target class ('1')\n",
    "from sklearn.metrics import accuracy_score,recall_score,precision_score\n",
    "def print_metrics(y_test,preds):\n",
    "    print('Accuracy: {:.3f}'.format(accuracy_score(y_test,preds)))\n",
    "    r, p, a, f1, fpr = get_precision_recall(*return_cf_matrix_values(y_test, preds))\n",
    "    print('Custom accuracy: {:.3f}'.format(a))\n",
    "    print('Recall: {:.3f}'.format(recall_score(y_test,preds)))\n",
    "    print('Custom recall: {:.3f}'.format(r))\n",
    "    print('Precision: {:.3f}'.format(precision_score(y_test,preds)))\n",
    "    print('Custom precision: {:.3f}'.format(p))\n",
    "    print('F1: {:.3f}'.format(f1))\n",
    "    return\n",
    "\n",
    "print_metrics(y_test,test_preds)"
   ]
  },
  {
   "cell_type": "code",
   "execution_count": 12,
   "metadata": {
    "colab": {
     "base_uri": "https://localhost:8080/"
    },
    "id": "rvQrIbX7e40r",
    "outputId": "ac3e21fb-58e1-4a63-897a-05d584d231a7"
   },
   "outputs": [
    {
     "name": "stdout",
     "output_type": "stream",
     "text": [
      "              precision    recall  f1-score   support\n",
      "\n",
      "           0       0.85      0.74      0.79        38\n",
      "           1       0.80      0.89      0.85        46\n",
      "\n",
      "    accuracy                           0.82        84\n",
      "   macro avg       0.83      0.81      0.82        84\n",
      "weighted avg       0.82      0.82      0.82        84\n",
      "\n"
     ]
    }
   ],
   "source": [
    "# Alternatively, simply use sklearn's classification_report\n",
    "from sklearn.metrics import classification_report\n",
    "\n",
    "## Classification report is still unclear to me ???\n",
    "# What is meant by class wise precision? class wise recall? what is support?\n",
    "print(classification_report(y_test,test_preds))"
   ]
  },
  {
   "cell_type": "markdown",
   "metadata": {
    "id": "Am8nZcvXe40r"
   },
   "source": [
    "### Adjusting threshold values\n",
    "Now let's change the threshold value for classification of something as a mine ('1') and see how it impacts our metrics"
   ]
  },
  {
   "cell_type": "code",
   "execution_count": 13,
   "metadata": {
    "colab": {
     "base_uri": "https://localhost:8080/"
    },
    "id": "ZDLeJqiie40r",
    "outputId": "489751b0-7297-4d7a-fc44-f455287f7133"
   },
   "outputs": [
    {
     "name": "stdout",
     "output_type": "stream",
     "text": [
      "Accuracy: 0.798\n",
      "Custom accuracy: 0.798\n",
      "Recall: 0.957\n",
      "Custom recall: 0.957\n",
      "Precision: 0.746\n",
      "Custom precision: 0.746\n",
      "F1: 0.838\n"
     ]
    }
   ],
   "source": [
    "# Get the predicted probabilities of class \"1\"\n",
    "test_preds_prob = model.predict_proba(X_test)\n",
    "test_preds_prob1 = test_preds_prob[:,1]\n",
    "\n",
    "# Use a threshold=0.1 to get discreet predictions from the probabilities\n",
    "thresh = 0.1\n",
    "test_preds_thresh = (test_preds_prob1>=thresh).astype(int)\n",
    "\n",
    "# Calculate metrics\n",
    "print_metrics(y_test,test_preds_thresh)"
   ]
  },
  {
   "cell_type": "code",
   "execution_count": 14,
   "metadata": {
    "colab": {
     "base_uri": "https://localhost:8080/"
    },
    "id": "wUVUjjeLe40s",
    "outputId": "c40296f5-42a8-45cc-f8f1-f5f1e30d1722"
   },
   "outputs": [
    {
     "name": "stdout",
     "output_type": "stream",
     "text": [
      "Accuracy: 0.786\n",
      "Custom accuracy: 0.786\n",
      "Recall: 0.717\n",
      "Custom recall: 0.717\n",
      "Precision: 0.868\n",
      "Custom precision: 0.868\n",
      "F1: 0.786\n"
     ]
    }
   ],
   "source": [
    "# Use a threshold=0.9 to get discreet predictions from the probabilities\n",
    "thresh = 0.9\n",
    "test_preds_thresh = (test_preds_prob1>=thresh).astype(int)\n",
    "\n",
    "# Calculate metrics\n",
    "print_metrics(y_test,test_preds_thresh)"
   ]
  },
  {
   "cell_type": "markdown",
   "metadata": {
    "id": "mnDbmYmde40t"
   },
   "source": [
    "### ROC Curve"
   ]
  },
  {
   "cell_type": "code",
   "execution_count": 15,
   "metadata": {
    "colab": {
     "base_uri": "https://localhost:8080/",
     "height": 451
    },
    "id": "TQdsRB2We40t",
    "outputId": "25462ffa-3f88-4963-c0fd-af58dd26a357"
   },
   "outputs": [
    {
     "data": {
      "image/png": "[encoded data removed]",
      "text/plain": [
       "<Figure size 640x480 with 1 Axes>"
      ]
     },
     "metadata": {},
     "output_type": "display_data"
    }
   ],
   "source": [
    "# Plot the ROC curve\n",
    "from sklearn.metrics import roc_curve, RocCurveDisplay, auc\n",
    "fpr, tpr, thresholds = roc_curve(y_test, test_preds_prob1)\n",
    "roc_auc = auc(fpr, tpr)\n",
    "roc_display = RocCurveDisplay(fpr=fpr, tpr=tpr, roc_auc=roc_auc,estimator_name='MLP')\n",
    "roc_display.plot()\n",
    "# Add a line to show the curve for random guessing\n",
    "plt.plot([0,1],[0,1],linestyle='--',label='Random guessing')\n",
    "plt.legend()\n",
    "plt.show()"
   ]
  },
  {
   "cell_type": "code",
   "execution_count": 16,
   "metadata": {
    "colab": {
     "base_uri": "https://localhost:8080/"
    },
    "id": "XmaBfjWcnCMn",
    "outputId": "190deea7-a055-45fb-91a6-c4730137037d"
   },
   "outputs": [
    {
     "data": {
      "text/plain": [
       "array([1.99999962e+00, 9.99999624e-01, 9.99646777e-01, 9.99624058e-01,\n",
       "       9.99166369e-01, 9.98501243e-01, 9.98422449e-01, 9.98316346e-01,\n",
       "       9.95351440e-01, 9.94307133e-01, 9.26609555e-01, 8.66804145e-01,\n",
       "       8.31050541e-01, 8.23796612e-01, 7.29258157e-01, 6.72918940e-01,\n",
       "       6.57065791e-01, 6.02714053e-01, 5.26117679e-01, 4.99307491e-01,\n",
       "       2.91439705e-01, 1.89625076e-01, 1.88506824e-01, 9.61101759e-02,\n",
       "       8.95090340e-02, 2.88649698e-03, 2.77676383e-03, 1.23529772e-07])"
      ]
     },
     "execution_count": 16,
     "metadata": {},
     "output_type": "execute_result"
    }
   ],
   "source": [
    "thresholds"
   ]
  },
  {
   "cell_type": "code",
   "execution_count": 17,
   "metadata": {
    "id": "U8bqnU7FnNOO"
   },
   "outputs": [],
   "source": [
    "fpr_custom = []\n",
    "tpr_custom = []\n",
    "precisions = []\n",
    "\n",
    "for thres in thresholds:\n",
    "    y_pred_tres = (test_preds_prob1 >= thres).astype(int)\n",
    "    recall0, _, precision0, _, fpr0 = get_precision_recall(*return_cf_matrix_values(y_test, y_pred_tres))\n",
    "    fpr_custom.append(fpr0)\n",
    "    precisions.append(precision0)\n",
    "    tpr_custom.append(recall0)\n",
    "\n",
    "fpr_custom = np.array(fpr_custom)\n",
    "tpr_custom = np.array(tpr_custom)\n",
    "precisions = np.array(precisions)"
   ]
  },
  {
   "cell_type": "code",
   "execution_count": 18,
   "metadata": {
    "colab": {
     "base_uri": "https://localhost:8080/"
    },
    "id": "sGe0w47LpB41",
    "outputId": "fe0a2632-a6cd-487c-b6ea-553abf13978a"
   },
   "outputs": [
    {
     "data": {
      "text/plain": [
       "0.0"
      ]
     },
     "execution_count": 18,
     "metadata": {},
     "output_type": "execute_result"
    }
   ],
   "source": [
    "np.linalg.norm(fpr_custom - fpr)"
   ]
  },
  {
   "cell_type": "code",
   "execution_count": 19,
   "metadata": {
    "colab": {
     "base_uri": "https://localhost:8080/"
    },
    "id": "TkBXp2URpC6t",
    "outputId": "9f40b98b-d442-485d-bddd-12a02c067f2b"
   },
   "outputs": [
    {
     "data": {
      "text/plain": [
       "0.0"
      ]
     },
     "execution_count": 19,
     "metadata": {},
     "output_type": "execute_result"
    }
   ],
   "source": [
    "np.linalg.norm(tpr_custom - tpr)"
   ]
  },
  {
   "cell_type": "markdown",
   "metadata": {
    "id": "39q0G-8Be40u"
   },
   "source": [
    "### Precision-Recall Curve"
   ]
  },
  {
   "cell_type": "code",
   "execution_count": 35,
   "metadata": {
    "colab": {
     "base_uri": "https://localhost:8080/",
     "height": 468
    },
    "id": "3MIeomHAvVcP",
    "outputId": "70f15740-57c8-4968-ae10-8d9416b1a223"
   },
   "outputs": [
    {
     "data": {
      "text/plain": [
       "<sklearn.metrics._plot.precision_recall_curve.PrecisionRecallDisplay at 0x70dfd5b95b40>"
      ]
     },
     "execution_count": 35,
     "metadata": {},
     "output_type": "execute_result"
    },
    {
     "data": {
      "image/png": "[encoded data removed]",
      "text/plain": [
       "<Figure size 640x480 with 1 Axes>"
      ]
     },
     "metadata": {},
     "output_type": "display_data"
    }
   ],
   "source": [
    "prd = PrecisionRecallDisplay(precision = precisions, recall = tpr_custom)\n",
    "prd.plot()"
   ]
  },
  {
   "cell_type": "code",
   "execution_count": 36,
   "metadata": {
    "colab": {
     "base_uri": "https://localhost:8080/",
     "height": 447
    },
    "id": "CwnFdWlJwR99",
    "outputId": "c5c09b14-2806-4630-97c3-135b16f3c8d5"
   },
   "outputs": [
    {
     "data": {
      "text/plain": [
       "<matplotlib.collections.PathCollection at 0x70dfd34fa770>"
      ]
     },
     "execution_count": 36,
     "metadata": {},
     "output_type": "execute_result"
    },
    {
     "data": {
      "image/png": "[encoded data removed]",
      "text/plain": [
       "<Figure size 640x480 with 1 Axes>"
      ]
     },
     "metadata": {},
     "output_type": "display_data"
    }
   ],
   "source": [
    "plt.scatter(tpr_custom, precisions)"
   ]
  },
  {
   "cell_type": "code",
   "execution_count": 37,
   "metadata": {
    "colab": {
     "base_uri": "https://localhost:8080/",
     "height": 447
    },
    "id": "SUTMbKNRuuwI",
    "outputId": "7f226f84-4d38-4b64-c238-95f62d1c54a2"
   },
   "outputs": [
    {
     "data": {
      "text/plain": [
       "[<matplotlib.lines.Line2D at 0x70dfd336ef20>]"
      ]
     },
     "execution_count": 37,
     "metadata": {},
     "output_type": "execute_result"
    },
    {
     "data": {
      "image/png": "[encoded data removed]",
      "text/plain": [
       "<Figure size 640x480 with 1 Axes>"
      ]
     },
     "metadata": {},
     "output_type": "display_data"
    }
   ],
   "source": [
    "plt.step(tpr_custom, precisions, where = 'post')"
   ]
  },
  {
   "cell_type": "code",
   "execution_count": 38,
   "metadata": {
    "colab": {
     "base_uri": "https://localhost:8080/",
     "height": 447
    },
    "id": "WbYXaKx7v5nE",
    "outputId": "6518cb4d-5910-4035-eb3c-ec816d668603"
   },
   "outputs": [
    {
     "data": {
      "text/plain": [
       "[<matplotlib.lines.Line2D at 0x70dfd33eea70>]"
      ]
     },
     "execution_count": 38,
     "metadata": {},
     "output_type": "execute_result"
    },
    {
     "data": {
      "image/png": "[encoded data removed]",
      "text/plain": [
       "<Figure size 640x480 with 1 Axes>"
      ]
     },
     "metadata": {},
     "output_type": "display_data"
    }
   ],
   "source": [
    "plt.step(fpr_custom, tpr_custom, where = 'post')"
   ]
  },
  {
   "cell_type": "code",
   "execution_count": 39,
   "metadata": {
    "colab": {
     "base_uri": "https://localhost:8080/",
     "height": 451
    },
    "id": "hDslILq-2aKs",
    "outputId": "8c52cae6-04cf-4cf6-bc1f-cde874f7502c"
   },
   "outputs": [
    {
     "data": {
      "image/png": "[encoded data removed]",
      "text/plain": [
       "<Figure size 640x480 with 1 Axes>"
      ]
     },
     "metadata": {},
     "output_type": "display_data"
    }
   ],
   "source": [
    "# Plot the ROC curve\n",
    "from sklearn.metrics import roc_curve, RocCurveDisplay, auc\n",
    "fpr, tpr, thresholds = roc_curve(y_test, test_preds_prob1)\n",
    "roc_auc = auc(fpr, tpr)\n",
    "roc_display = RocCurveDisplay(fpr=fpr, tpr=tpr, roc_auc=roc_auc,estimator_name='MLP')\n",
    "roc_display.plot()\n",
    "# Add a line to show the curve for random guessing\n",
    "plt.plot([0,1],[0,1],linestyle='--',label='Random guessing')\n",
    "plt.legend()\n",
    "plt.step(fpr_custom, tpr_custom, where = 'post', color = 'red', linewidth = 2, alpha = 0.3)\n",
    "plt.show()\n"
   ]
  },
  {
   "cell_type": "code",
   "execution_count": 40,
   "metadata": {
    "colab": {
     "base_uri": "https://localhost:8080/",
     "height": 447
    },
    "id": "0IgX5kal5yI7",
    "outputId": "ab2c9771-b24d-4d6f-95b9-8f5efcb1dd9b"
   },
   "outputs": [
    {
     "data": {
      "text/plain": [
       "<matplotlib.collections.PathCollection at 0x70dfd32e2230>"
      ]
     },
     "execution_count": 40,
     "metadata": {},
     "output_type": "execute_result"
    },
    {
     "data": {
      "image/png": "[encoded data removed]",
      "text/plain": [
       "<Figure size 640x480 with 1 Axes>"
      ]
     },
     "metadata": {},
     "output_type": "display_data"
    }
   ],
   "source": [
    "plt.scatter(fpr_custom, tpr_custom)"
   ]
  },
  {
   "cell_type": "code",
   "execution_count": 41,
   "metadata": {
    "colab": {
     "base_uri": "https://localhost:8080/"
    },
    "id": "ul1qw6Z43W8_",
    "outputId": "a1c24487-ff9f-4ece-824e-44a84276f996"
   },
   "outputs": [
    {
     "data": {
      "text/plain": [
       "array([0.        , 0.02173913, 0.17391304, 0.17391304, 0.26086957,\n",
       "       0.26086957, 0.2826087 , 0.2826087 , 0.41304348, 0.41304348,\n",
       "       0.7173913 , 0.7173913 , 0.76086957, 0.76086957, 0.80434783,\n",
       "       0.80434783, 0.82608696, 0.82608696, 0.89130435, 0.89130435,\n",
       "       0.93478261, 0.93478261, 0.95652174, 0.95652174, 0.97826087,\n",
       "       0.97826087, 1.        , 1.        ])"
      ]
     },
     "execution_count": 41,
     "metadata": {},
     "output_type": "execute_result"
    }
   ],
   "source": [
    "tpr_custom"
   ]
  },
  {
   "cell_type": "code",
   "execution_count": 42,
   "metadata": {
    "colab": {
     "base_uri": "https://localhost:8080/"
    },
    "id": "Nl2vVE0m4Cfj",
    "outputId": "dbe08bda-557c-4365-d9ee-0b5a297502ca"
   },
   "outputs": [
    {
     "data": {
      "text/plain": [
       "array([0.        , 0.        , 0.        , 0.02631579, 0.02631579,\n",
       "       0.05263158, 0.05263158, 0.07894737, 0.07894737, 0.13157895,\n",
       "       0.13157895, 0.18421053, 0.18421053, 0.21052632, 0.21052632,\n",
       "       0.23684211, 0.23684211, 0.26315789, 0.26315789, 0.28947368,\n",
       "       0.28947368, 0.34210526, 0.34210526, 0.42105263, 0.42105263,\n",
       "       0.71052632, 0.71052632, 1.        ])"
      ]
     },
     "execution_count": 42,
     "metadata": {},
     "output_type": "execute_result"
    }
   ],
   "source": [
    "fpr_custom"
   ]
  },
  {
   "cell_type": "markdown",
   "metadata": {
    "id": "EOL5ZVpl5h59"
   },
   "source": [
    "How to calculate AUC by yourself"
   ]
  },
  {
   "cell_type": "code",
   "execution_count": 43,
   "metadata": {
    "colab": {
     "base_uri": "https://localhost:8080/"
    },
    "id": "EBuHI-vf4DIy",
    "outputId": "8971279a-104c-44ef-a879-1254810a8083"
   },
   "outputs": [
    {
     "data": {
      "text/plain": [
       "0.8621281464530892"
      ]
     },
     "execution_count": 43,
     "metadata": {},
     "output_type": "execute_result"
    }
   ],
   "source": [
    "area = 0\n",
    "fpr_size = fpr_custom.size\n",
    "for i in range(fpr_size - 1):\n",
    "  area += (fpr[i + 1] - fpr[i]) * tpr[i]\n",
    "area"
   ]
  },
  {
   "cell_type": "code",
   "execution_count": 44,
   "metadata": {
    "id": "B5MmcKCp68Ac"
   },
   "outputs": [],
   "source": [
    "# For precision recall\n",
    "recall = prd.recall\n",
    "precision = prd.precision\n",
    "\n",
    "idx = np.argsort(recall)\n",
    "\n",
    "pre = precision[idx]\n",
    "re = recall[idx]"
   ]
  },
  {
   "cell_type": "code",
   "execution_count": 45,
   "metadata": {
    "colab": {
     "base_uri": "https://localhost:8080/"
    },
    "id": "uPPpkAS87odT",
    "outputId": "448d7a1e-5ff2-42e3-80b3-2fb206a9c221"
   },
   "outputs": [
    {
     "data": {
      "text/plain": [
       "0.6638198757763976"
      ]
     },
     "execution_count": 45,
     "metadata": {},
     "output_type": "execute_result"
    }
   ],
   "source": [
    "area = 0\n",
    "recall_size = re.size\n",
    "for i in range(recall_size - 1):\n",
    "  area += (re[i + 1] - re[i]) * (pre[i] + pre[i + 1])/ 2\n",
    "area"
   ]
  },
  {
   "cell_type": "code",
   "execution_count": 46,
   "metadata": {},
   "outputs": [],
   "source": [
    "from sklearn.metrics import auc\n",
    "pr_auc = auc(re, pre)"
   ]
  },
  {
   "cell_type": "code",
   "execution_count": 47,
   "metadata": {},
   "outputs": [
    {
     "data": {
      "text/plain": [
       "0.6638198757763976"
      ]
     },
     "execution_count": 47,
     "metadata": {},
     "output_type": "execute_result"
    }
   ],
   "source": [
    "pr_auc"
   ]
  }
 ],
 "metadata": {
  "colab": {
   "provenance": []
  },
  "kernelspec": {
   "display_name": "ta-fresh-env",
   "language": "python",
   "name": "ta-fresh-env"
  },
  "language_info": {
   "codemirror_mode": {
    "name": "ipython",
    "version": 3
   },
   "file_extension": ".py",
   "mimetype": "text/x-python",
   "name": "python",
   "nbconvert_exporter": "python",
   "pygments_lexer": "ipython3",
   "version": "3.10.12"
  },
  "vscode": {
   "interpreter": {
    "hash": "31cc86d7aac4849c7546154c9b56d60163d5e8a1d83593a5eed18774fbf4fd37"
   }
  }
 },
 "nbformat": 4,
 "nbformat_minor": 1
}
