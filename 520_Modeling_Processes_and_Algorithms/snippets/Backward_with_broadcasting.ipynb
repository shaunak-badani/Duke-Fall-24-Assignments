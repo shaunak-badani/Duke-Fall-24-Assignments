{
  "nbformat": 4,
  "nbformat_minor": 0,
  "metadata": {
    "colab": {
      "provenance": [],
      "authorship_tag": "ABX9TyPLo9ok+B/Ae++/2UvTSeyd",
      "include_colab_link": true
    },
    "kernelspec": {
      "name": "python3",
      "display_name": "Python 3"
    },
    "language_info": {
      "name": "python"
    }
  },
  "cells": [
    {
      "cell_type": "markdown",
      "metadata": {
        "id": "view-in-github",
        "colab_type": "text"
      },
      "source": [
        "<a href=\"https://colab.research.google.com/github/shaunak-badani/Duke-Fall-24-Assignments/blob/main/520_Modeling_Processes_and_Algorithms/snippets/Backward_with_broadcasting.ipynb\" target=\"_parent\"><img src=\"https://colab.research.google.com/assets/colab-badge.svg\" alt=\"Open In Colab\"/></a>"
      ]
    },
    {
      "cell_type": "code",
      "execution_count": 1,
      "metadata": {
        "id": "BPOK4hTQd6as"
      },
      "outputs": [],
      "source": [
        "import torch\n",
        "import numpy as np"
      ]
    },
    {
      "cell_type": "code",
      "source": [
        "b = torch.tensor(np.arange(1,21).reshape(5, 4).astype('float32'))\n",
        "# b = torch.tensor(np.arange(1,17).reshape(4, 4).astype('float32'))\n",
        "a = torch.tensor(np.arange(1,5).reshape(1, 4).astype('float32'), requires_grad = True)"
      ],
      "metadata": {
        "id": "IdSZf2E3d7jN"
      },
      "execution_count": 2,
      "outputs": []
    },
    {
      "cell_type": "code",
      "source": [
        "c = b + a"
      ],
      "metadata": {
        "id": "g5xvmnpcefMV"
      },
      "execution_count": 3,
      "outputs": []
    },
    {
      "cell_type": "code",
      "source": [
        "k = torch.sum(c)"
      ],
      "metadata": {
        "id": "auInAtXFehVN"
      },
      "execution_count": 4,
      "outputs": []
    },
    {
      "cell_type": "code",
      "source": [
        "k.backward()"
      ],
      "metadata": {
        "id": "FK8qsRmmenIE"
      },
      "execution_count": 5,
      "outputs": []
    },
    {
      "cell_type": "code",
      "source": [
        "k.requires_grad"
      ],
      "metadata": {
        "colab": {
          "base_uri": "https://localhost:8080/"
        },
        "id": "1bYcHA2ue6Ok",
        "outputId": "33b1b8aa-962b-48f7-f898-b63e048b35a9"
      },
      "execution_count": 6,
      "outputs": [
        {
          "output_type": "execute_result",
          "data": {
            "text/plain": [
              "True"
            ]
          },
          "metadata": {},
          "execution_count": 6
        }
      ]
    },
    {
      "cell_type": "code",
      "source": [
        "print(a.grad)"
      ],
      "metadata": {
        "colab": {
          "base_uri": "https://localhost:8080/"
        },
        "id": "JTgxnLpee93k",
        "outputId": "be0cb8f2-10aa-44b8-fb61-3904960c251b"
      },
      "execution_count": 7,
      "outputs": [
        {
          "output_type": "stream",
          "name": "stdout",
          "text": [
            "tensor([[5., 5., 5., 5.]])\n"
          ]
        }
      ]
    }
  ]
}