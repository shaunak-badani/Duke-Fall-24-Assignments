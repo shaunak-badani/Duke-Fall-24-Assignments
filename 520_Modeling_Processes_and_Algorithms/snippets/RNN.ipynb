{
  "nbformat": 4,
  "nbformat_minor": 0,
  "metadata": {
    "colab": {
      "provenance": [],
      "authorship_tag": "ABX9TyN0ZZY/Oo8o+nMC0iifMC0j",
      "include_colab_link": true
    },
    "kernelspec": {
      "name": "python3",
      "display_name": "Python 3"
    },
    "language_info": {
      "name": "python"
    }
  },
  "cells": [
    {
      "cell_type": "markdown",
      "metadata": {
        "id": "view-in-github",
        "colab_type": "text"
      },
      "source": [
        "<a href=\"https://colab.research.google.com/github/shaunak-badani/Duke-Fall-24-Assignments/blob/main/520_Modeling_Processes_and_Algorithms/snippets/RNN.ipynb\" target=\"_parent\"><img src=\"https://colab.research.google.com/assets/colab-badge.svg\" alt=\"Open In Colab\"/></a>"
      ]
    },
    {
      "cell_type": "code",
      "execution_count": 1,
      "metadata": {
        "id": "Nn0ASQdrmT7Q"
      },
      "outputs": [],
      "source": [
        "%%bash\n",
        "wget -q https://download.pytorch.org/tutorial/data.zip\n",
        "unzip -qo data.zip"
      ]
    },
    {
      "cell_type": "code",
      "source": [
        "from io import open\n",
        "import glob\n",
        "import os\n",
        "\n",
        "def findFiles(path): return glob.glob(path)\n",
        "\n",
        "print(findFiles('data/names/*.txt'))\n",
        "\n",
        "import unicodedata\n",
        "import string\n",
        "\n",
        "all_letters = string.ascii_letters + \" .,;'\"\n",
        "n_letters = len(all_letters)\n",
        "\n",
        "# Turn a Unicode string to plain ASCII, thanks to https://stackoverflow.com/a/518232/2809427\n",
        "def unicodeToAscii(s):\n",
        "    return ''.join(\n",
        "        c for c in unicodedata.normalize('NFD', s)\n",
        "        if unicodedata.category(c) != 'Mn'\n",
        "        and c in all_letters\n",
        "    )\n",
        "\n",
        "print(unicodeToAscii('Ślusàrski'))\n",
        "\n",
        "# Build the category_lines dictionary, a list of names per language\n",
        "category_lines = {}\n",
        "all_categories = []\n",
        "\n",
        "# Read a file and split into lines\n",
        "def readLines(filename):\n",
        "    lines = open(filename, encoding='utf-8').read().strip().split('\\n')\n",
        "    return [unicodeToAscii(line) for line in lines]\n",
        "\n",
        "for filename in findFiles('data/names/*.txt'):\n",
        "    category = os.path.splitext(os.path.basename(filename))[0]\n",
        "    all_categories.append(category)\n",
        "    lines = readLines(filename)\n",
        "    category_lines[category] = lines\n",
        "\n",
        "n_categories = len(all_categories)"
      ],
      "metadata": {
        "colab": {
          "base_uri": "https://localhost:8080/"
        },
        "id": "H5LYFQk2nZ5k",
        "outputId": "ce3865bc-22b7-4fab-fb58-b4ca4dea102a"
      },
      "execution_count": 2,
      "outputs": [
        {
          "output_type": "stream",
          "name": "stdout",
          "text": [
            "['data/names/Dutch.txt', 'data/names/Chinese.txt', 'data/names/Greek.txt', 'data/names/Scottish.txt', 'data/names/Irish.txt', 'data/names/Czech.txt', 'data/names/Japanese.txt', 'data/names/Polish.txt', 'data/names/English.txt', 'data/names/Italian.txt', 'data/names/Korean.txt', 'data/names/German.txt', 'data/names/Russian.txt', 'data/names/Spanish.txt', 'data/names/Vietnamese.txt', 'data/names/Arabic.txt', 'data/names/Portuguese.txt', 'data/names/French.txt']\n",
            "Slusarski\n"
          ]
        }
      ]
    },
    {
      "cell_type": "code",
      "source": [
        "import numpy as np\n",
        "import torch"
      ],
      "metadata": {
        "id": "Ny7Rskcmr3xM"
      },
      "execution_count": 3,
      "outputs": []
    },
    {
      "cell_type": "code",
      "source": [
        "all_letters_np = np.array(list(all_letters)).reshape(1, -1)"
      ],
      "metadata": {
        "id": "HWRUE89utw0J"
      },
      "execution_count": 4,
      "outputs": []
    },
    {
      "cell_type": "code",
      "source": [
        "category_tensors = {}\n",
        "\n",
        "for category in category_lines.keys():\n",
        "    tensors = []\n",
        "    for word in category_lines[category]:\n",
        "      word_len = len(word)\n",
        "      one_hot_vector = (np.array(list(word)).reshape(-1, 1) == np.tile(all_letters_np, (word_len, 1))).astype('uint8')\n",
        "      one_hot_vector = np.expand_dims(one_hot_vector, axis = 1)\n",
        "      tensors.append(torch.Tensor(one_hot_vector))\n",
        "    category_tensors[category] = tensors"
      ],
      "metadata": {
        "id": "QalV3Qz3n0aJ"
      },
      "execution_count": 5,
      "outputs": []
    },
    {
      "cell_type": "code",
      "source": [
        "import torch.nn as nn\n",
        "import torch.nn.functional as F\n",
        "\n",
        "class LetterRNN(nn.Module):\n",
        "\n",
        "  def __init__(self, n_inp, n_hidden1, n_out):\n",
        "    super().__init__()\n",
        "    self.i2h = nn.Linear(n_inp, n_hidden1)\n",
        "    self.h2h = nn.Linear(n_hidden1, n_hidden1)\n",
        "    self.bn2 = nn.Linear(n_hidden1, n_out)\n",
        "    self.logsoftmax = nn.LogSoftmax(dim = 1)\n",
        "    self.n_hidden = n_hidden1\n",
        "    self.hidden = self.initHidden()\n",
        "\n",
        "  def forward(self, x):\n",
        "    self.hidden = F.tanh(self.i2h(x) + self.h2h(self.hidden))\n",
        "    x = self.logsoftmax(self.bn2(self.hidden))\n",
        "    return x\n",
        "\n",
        "  def initHidden(self):\n",
        "    return torch.zeros((1, self.n_hidden))"
      ],
      "metadata": {
        "id": "oZooTppywYPs"
      },
      "execution_count": 6,
      "outputs": []
    },
    {
      "cell_type": "code",
      "source": [
        "rnn = LetterRNN(n_letters, 120, n_categories)\n",
        "# hidden = rnn.initHidden()"
      ],
      "metadata": {
        "id": "PIWliEw4z9Kg"
      },
      "execution_count": 7,
      "outputs": []
    },
    {
      "cell_type": "code",
      "source": [
        "dummy_input = category_tensors['French'][0][1]\n",
        "\n",
        "outp = rnn(dummy_input)"
      ],
      "metadata": {
        "id": "Azkpelmm0qno"
      },
      "execution_count": 8,
      "outputs": []
    },
    {
      "cell_type": "code",
      "source": [
        "outp"
      ],
      "metadata": {
        "colab": {
          "base_uri": "https://localhost:8080/"
        },
        "id": "IGEDUKQw0-fp",
        "outputId": "cb89cfce-fccb-4d5c-86de-385b8210fd87"
      },
      "execution_count": 9,
      "outputs": [
        {
          "output_type": "execute_result",
          "data": {
            "text/plain": [
              "tensor([[-2.8836, -2.8927, -2.8316, -3.0124, -2.7797, -2.9883, -2.9213, -2.8781,\n",
              "         -2.9981, -3.0782, -2.7964, -2.9787, -2.7345, -2.7890, -2.8105, -2.9141,\n",
              "         -2.8322, -2.9862]], grad_fn=<LogSoftmaxBackward0>)"
            ]
          },
          "metadata": {},
          "execution_count": 9
        }
      ]
    },
    {
      "cell_type": "code",
      "source": [
        "def categoryFromOutput(output):\n",
        "    top_n, top_i = output.topk(1)\n",
        "    category_i = top_i[0].item()\n",
        "    return all_categories[category_i], category_i\n",
        "\n",
        "print(categoryFromOutput(outp))"
      ],
      "metadata": {
        "colab": {
          "base_uri": "https://localhost:8080/"
        },
        "id": "HuIulDTX2Alr",
        "outputId": "0e1639cc-cc03-42af-bb44-c574cd29f3b9"
      },
      "execution_count": 10,
      "outputs": [
        {
          "output_type": "stream",
          "name": "stdout",
          "text": [
            "('Russian', 12)\n"
          ]
        }
      ]
    },
    {
      "cell_type": "code",
      "source": [
        "import random\n",
        "\n",
        "def randomChoice(l):\n",
        "    return random.randint(0, len(l) - 1)"
      ],
      "metadata": {
        "id": "DSeDKB4f4_Us"
      },
      "execution_count": 11,
      "outputs": []
    },
    {
      "cell_type": "code",
      "source": [
        "def randomTrainingExample():\n",
        "    category_idx = randomChoice(all_categories)\n",
        "    category = all_categories[category_idx]\n",
        "    c = randomChoice(category_tensors[category])\n",
        "    category_tensor = category_tensors[category][c]\n",
        "    return torch.Tensor([category_idx]).long(), category_tensor\n",
        "\n",
        "for i in range(10):\n",
        "    category_idx, category_tensor = randomTrainingExample()\n",
        "    print('category =', all_categories[category_idx.item()], '/ tensor =', category_tensor.shape)"
      ],
      "metadata": {
        "colab": {
          "base_uri": "https://localhost:8080/"
        },
        "id": "TRrR8DmF2Cf6",
        "outputId": "971803a8-351f-422e-8adb-4ca1053bc277"
      },
      "execution_count": 12,
      "outputs": [
        {
          "output_type": "stream",
          "name": "stdout",
          "text": [
            "category = Greek / tensor = torch.Size([7, 1, 57])\n",
            "category = Irish / tensor = torch.Size([8, 1, 57])\n",
            "category = Scottish / tensor = torch.Size([6, 1, 57])\n",
            "category = French / tensor = torch.Size([7, 1, 57])\n",
            "category = Portuguese / tensor = torch.Size([6, 1, 57])\n",
            "category = French / tensor = torch.Size([6, 1, 57])\n",
            "category = Portuguese / tensor = torch.Size([9, 1, 57])\n",
            "category = Russian / tensor = torch.Size([11, 1, 57])\n",
            "category = Korean / tensor = torch.Size([3, 1, 57])\n",
            "category = Italian / tensor = torch.Size([7, 1, 57])\n"
          ]
        }
      ]
    },
    {
      "cell_type": "code",
      "source": [
        "rnn = LetterRNN(n_letters, 120, n_categories)\n",
        "optimizer = torch.optim.SGD(rnn.parameters(), lr=0.0005)\n",
        "criterion = nn.NLLLoss()\n",
        "\n",
        "def train_x(x, label):\n",
        "  rnn.zero_grad()\n",
        "  rnn.hidden = rnn.initHidden()\n",
        "\n",
        "  n = x.shape[0]\n",
        "  for i in range(n):\n",
        "    outp = rnn(x[i])\n",
        "  loss = criterion(outp, label)\n",
        "  loss.backward()\n",
        "  # optimizer.step()\n",
        "  for p in rnn.parameters():\n",
        "        p.data.add_(p.grad.data, alpha=-0.005)\n",
        "  return loss.item()\n",
        "label, inp = randomTrainingExample()"
      ],
      "metadata": {
        "id": "RVAONU4sCJJ9"
      },
      "execution_count": 13,
      "outputs": []
    },
    {
      "cell_type": "code",
      "source": [
        "n_iters = 100000\n",
        "k = 5000\n",
        "\n",
        "all_losses = []\n",
        "losses = []\n",
        "for epoch in range(n_iters):\n",
        "  label, inp = randomTrainingExample()\n",
        "  loss = train_x(inp, label)\n",
        "  losses.append(loss)\n",
        "\n",
        "  if epoch % k == 0:\n",
        "    all_losses.append(np.mean(losses))\n",
        "    losses = []"
      ],
      "metadata": {
        "id": "1O_JSoGRDB8d"
      },
      "execution_count": 14,
      "outputs": []
    },
    {
      "cell_type": "code",
      "source": [
        "import matplotlib.pyplot as plt\n",
        "plt.plot(all_losses)"
      ],
      "metadata": {
        "colab": {
          "base_uri": "https://localhost:8080/",
          "height": 452
        },
        "id": "i9SjvxMogjFm",
        "outputId": "81cdebdc-7817-43a9-b6d6-aa2cde144ec7"
      },
      "execution_count": 15,
      "outputs": [
        {
          "output_type": "execute_result",
          "data": {
            "text/plain": [
              "[<matplotlib.lines.Line2D at 0x7ae022ce81c0>]"
            ]
          },
          "metadata": {},
          "execution_count": 15
        },
        {
          "output_type": "display_data",
          "data": {
            "text/plain": [
              "<Figure size 640x480 with 1 Axes>"
            ],
            "image/png": "[encoded data removed]"
          },
          "metadata": {}
        }
      ]
    },
    {
      "cell_type": "markdown",
      "source": [
        "### Checking NLLLoss with Cross Entropy Loss\n",
        "\n",
        "- NLLoss expects inputs to be log probabilities\n",
        "- So, it will just calculate -np.sum(a * b / n_classes)\n",
        "\n",
        "- Cross Entropy Loss takes softmax probabilities as input, then takes the log and calculates probabilities"
      ],
      "metadata": {
        "id": "rg04knNmg-o8"
      }
    },
    {
      "cell_type": "code",
      "source": [
        "log_softmax = nn.LogSoftmax(dim=1)\n",
        "loss_fn = nn.NLLLoss()\n",
        "# input to NLLLoss is of size N x C = 3 x 5\n",
        "input = torch.randn(3, 5, requires_grad=True)\n",
        "# each element in target must have 0 <= value < C\n",
        "target = torch.tensor([1, 0, 4])\n",
        "loss = loss_fn(log_softmax(input), target)"
      ],
      "metadata": {
        "id": "OPTvxkud5ULm"
      },
      "execution_count": 16,
      "outputs": []
    },
    {
      "cell_type": "code",
      "source": [
        "loss"
      ],
      "metadata": {
        "colab": {
          "base_uri": "https://localhost:8080/"
        },
        "id": "h2xmKtslMtxW",
        "outputId": "264e995b-8773-4e3f-f9b0-e572e842bb65"
      },
      "execution_count": 17,
      "outputs": [
        {
          "output_type": "execute_result",
          "data": {
            "text/plain": [
              "tensor(1.8873, grad_fn=<NllLossBackward0>)"
            ]
          },
          "metadata": {},
          "execution_count": 17
        }
      ]
    },
    {
      "cell_type": "code",
      "source": [],
      "metadata": {
        "id": "i4X4Uia8MutD"
      },
      "execution_count": 17,
      "outputs": []
    },
    {
      "cell_type": "code",
      "source": [
        "a = log_softmax(input)\n",
        "b = F.one_hot(target)\n",
        "manually_calculated_value = -torch.sum(a * b / 3)\n",
        "\n",
        "assert np.isclose(manually_calculated_value.item(), loss.item())"
      ],
      "metadata": {
        "id": "GLTWeqeq70bJ"
      },
      "execution_count": 18,
      "outputs": []
    },
    {
      "cell_type": "code",
      "source": [
        "!pip install torchviz"
      ],
      "metadata": {
        "colab": {
          "base_uri": "https://localhost:8080/"
        },
        "id": "9mZnQi_FM-N7",
        "outputId": "afdf5454-10fd-437e-8b0a-ec3cfb009201"
      },
      "execution_count": 19,
      "outputs": [
        {
          "output_type": "stream",
          "name": "stdout",
          "text": [
            "Requirement already satisfied: torchviz in /usr/local/lib/python3.10/dist-packages (0.0.3)\n",
            "Requirement already satisfied: torch in /usr/local/lib/python3.10/dist-packages (from torchviz) (2.5.1+cu121)\n",
            "Requirement already satisfied: graphviz in /usr/local/lib/python3.10/dist-packages (from torchviz) (0.20.3)\n",
            "Requirement already satisfied: filelock in /usr/local/lib/python3.10/dist-packages (from torch->torchviz) (3.16.1)\n",
            "Requirement already satisfied: typing-extensions>=4.8.0 in /usr/local/lib/python3.10/dist-packages (from torch->torchviz) (4.12.2)\n",
            "Requirement already satisfied: networkx in /usr/local/lib/python3.10/dist-packages (from torch->torchviz) (3.4.2)\n",
            "Requirement already satisfied: jinja2 in /usr/local/lib/python3.10/dist-packages (from torch->torchviz) (3.1.4)\n",
            "Requirement already satisfied: fsspec in /usr/local/lib/python3.10/dist-packages (from torch->torchviz) (2024.10.0)\n",
            "Requirement already satisfied: sympy==1.13.1 in /usr/local/lib/python3.10/dist-packages (from torch->torchviz) (1.13.1)\n",
            "Requirement already satisfied: mpmath<1.4,>=1.1.0 in /usr/local/lib/python3.10/dist-packages (from sympy==1.13.1->torch->torchviz) (1.3.0)\n",
            "Requirement already satisfied: MarkupSafe>=2.0 in /usr/local/lib/python3.10/dist-packages (from jinja2->torch->torchviz) (3.0.2)\n"
          ]
        }
      ]
    },
    {
      "cell_type": "code",
      "source": [
        "from torchviz import make_dot\n",
        "make_dot(loss)"
      ],
      "metadata": {
        "colab": {
          "base_uri": "https://localhost:8080/",
          "height": 382
        },
        "id": "syFEnGcKNBbz",
        "outputId": "283198f5-9213-467c-e3d2-bde63f898ca3"
      },
      "execution_count": 20,
      "outputs": [
        {
          "output_type": "execute_result",
          "data": {
            "image/svg+xml": "<?xml version=\"1.0\" encoding=\"UTF-8\" standalone=\"no\"?>\n<!DOCTYPE svg PUBLIC \"-//W3C//DTD SVG 1.1//EN\"\n \"http://www.w3.org/Graphics/SVG/1.1/DTD/svg11.dtd\">\n<!-- Generated by graphviz version 2.43.0 (0)\n -->\n<!-- Title: %3 Pages: 1 -->\n<svg width=\"139pt\" height=\"271pt\"\n viewBox=\"0.00 0.00 139.00 271.00\" xmlns=\"http://www.w3.org/2000/svg\" xmlns:xlink=\"http://www.w3.org/1999/xlink\">\n<g id=\"graph0\" class=\"graph\" transform=\"scale(1 1) rotate(0) translate(4 267)\">\n<title>%3</title>\n<polygon fill=\"white\" stroke=\"transparent\" points=\"-4,4 -4,-267 135,-267 135,4 -4,4\"/>\n<!-- 135103075281600 -->\n<g id=\"node1\" class=\"node\">\n<title>135103075281600</title>\n<polygon fill=\"#caff70\" stroke=\"black\" points=\"92.5,-31 38.5,-31 38.5,0 92.5,0 92.5,-31\"/>\n<text text-anchor=\"middle\" x=\"65.5\" y=\"-7\" font-family=\"monospace\" font-size=\"10.00\"> ()</text>\n</g>\n<!-- 135103040524384 -->\n<g id=\"node2\" class=\"node\">\n<title>135103040524384</title>\n<polygon fill=\"lightgrey\" stroke=\"black\" points=\"122,-86 9,-86 9,-67 122,-67 122,-86\"/>\n<text text-anchor=\"middle\" x=\"65.5\" y=\"-74\" font-family=\"monospace\" font-size=\"10.00\">NllLossBackward0</text>\n</g>\n<!-- 135103040524384&#45;&gt;135103075281600 -->\n<g id=\"edge4\" class=\"edge\">\n<title>135103040524384&#45;&gt;135103075281600</title>\n<path fill=\"none\" stroke=\"black\" d=\"M65.5,-66.79C65.5,-60.07 65.5,-50.4 65.5,-41.34\"/>\n<polygon fill=\"black\" stroke=\"black\" points=\"69,-41.19 65.5,-31.19 62,-41.19 69,-41.19\"/>\n</g>\n<!-- 135103040523904 -->\n<g id=\"node3\" class=\"node\">\n<title>135103040523904</title>\n<polygon fill=\"lightgrey\" stroke=\"black\" points=\"131,-141 0,-141 0,-122 131,-122 131,-141\"/>\n<text text-anchor=\"middle\" x=\"65.5\" y=\"-129\" font-family=\"monospace\" font-size=\"10.00\">LogSoftmaxBackward0</text>\n</g>\n<!-- 135103040523904&#45;&gt;135103040524384 -->\n<g id=\"edge1\" class=\"edge\">\n<title>135103040523904&#45;&gt;135103040524384</title>\n<path fill=\"none\" stroke=\"black\" d=\"M65.5,-121.75C65.5,-114.8 65.5,-104.85 65.5,-96.13\"/>\n<polygon fill=\"black\" stroke=\"black\" points=\"69,-96.09 65.5,-86.09 62,-96.09 69,-96.09\"/>\n</g>\n<!-- 135103040524048 -->\n<g id=\"node4\" class=\"node\">\n<title>135103040524048</title>\n<polygon fill=\"lightgrey\" stroke=\"black\" points=\"116,-196 15,-196 15,-177 116,-177 116,-196\"/>\n<text text-anchor=\"middle\" x=\"65.5\" y=\"-184\" font-family=\"monospace\" font-size=\"10.00\">AccumulateGrad</text>\n</g>\n<!-- 135103040524048&#45;&gt;135103040523904 -->\n<g id=\"edge2\" class=\"edge\">\n<title>135103040524048&#45;&gt;135103040523904</title>\n<path fill=\"none\" stroke=\"black\" d=\"M65.5,-176.75C65.5,-169.8 65.5,-159.85 65.5,-151.13\"/>\n<polygon fill=\"black\" stroke=\"black\" points=\"69,-151.09 65.5,-141.09 62,-151.09 69,-151.09\"/>\n</g>\n<!-- 135103076804832 -->\n<g id=\"node5\" class=\"node\">\n<title>135103076804832</title>\n<polygon fill=\"lightblue\" stroke=\"black\" points=\"95,-263 36,-263 36,-232 95,-232 95,-263\"/>\n<text text-anchor=\"middle\" x=\"65.5\" y=\"-239\" font-family=\"monospace\" font-size=\"10.00\"> (3, 5)</text>\n</g>\n<!-- 135103076804832&#45;&gt;135103040524048 -->\n<g id=\"edge3\" class=\"edge\">\n<title>135103076804832&#45;&gt;135103040524048</title>\n<path fill=\"none\" stroke=\"black\" d=\"M65.5,-231.92C65.5,-224.22 65.5,-214.69 65.5,-206.43\"/>\n<polygon fill=\"black\" stroke=\"black\" points=\"69,-206.25 65.5,-196.25 62,-206.25 69,-206.25\"/>\n</g>\n</g>\n</svg>\n",
            "text/plain": [
              "<graphviz.graphs.Digraph at 0x7ae020bd0fa0>"
            ]
          },
          "metadata": {},
          "execution_count": 20
        }
      ]
    },
    {
      "cell_type": "code",
      "source": [
        "rnn.zero_grad()\n",
        "rnn.hidden = rnn.initHidden()\n",
        "label, x = randomTrainingExample()\n",
        "print(x.shape)\n",
        "\n",
        "n = x.shape[0]\n",
        "for i in range(n):\n",
        "  outp = rnn(x[i])\n",
        "loss = criterion(outp, label)\n",
        "current_loss = loss.item()\n",
        "# current_loss = 0\n",
        "# loss.backward()\n",
        "# # optimizer.step()\n",
        "# for p in rnn.parameters():\n",
        "#       p.data.add_(p.grad.data, alpha=-0.005)\n",
        "# return current_loss, loss.item()"
      ],
      "metadata": {
        "colab": {
          "base_uri": "https://localhost:8080/"
        },
        "id": "VMi0PdiRNDii",
        "outputId": "5b5624da-29b8-408a-ac87-11508c882e5d"
      },
      "execution_count": 21,
      "outputs": [
        {
          "output_type": "stream",
          "name": "stdout",
          "text": [
            "torch.Size([10, 1, 57])\n"
          ]
        }
      ]
    },
    {
      "cell_type": "code",
      "source": [
        "make_dot(loss)"
      ],
      "metadata": {
        "colab": {
          "base_uri": "https://localhost:8080/",
          "height": 1000
        },
        "id": "Z-Ucw7tENUBz",
        "outputId": "c121b65a-0463-47ed-a94d-493d284d0322"
      },
      "execution_count": 22,
      "outputs": [
        {
          "output_type": "execute_result",
          "data": {
            "image/svg+xml": "<?xml version=\"1.0\" encoding=\"UTF-8\" standalone=\"no\"?>\n<!DOCTYPE svg PUBLIC \"-//W3C//DTD SVG 1.1//EN\"\n \"http://www.w3.org/Graphics/SVG/1.1/DTD/svg11.dtd\">\n<!-- Generated by graphviz version 2.43.0 (0)\n -->\n<!-- Title: %3 Pages: 1 -->\n<svg width=\"2041pt\" height=\"1956pt\"\n viewBox=\"0.00 0.00 2041.00 1955.84\" xmlns=\"http://www.w3.org/2000/svg\" xmlns:xlink=\"http://www.w3.org/1999/xlink\">\n<g id=\"graph0\" class=\"graph\" transform=\"scale(0.95 0.95) rotate(0) translate(4 2063)\">\n<title>%3</title>\n<polygon fill=\"white\" stroke=\"transparent\" points=\"-4,4 -4,-2063 2153,-2063 2153,4 -4,4\"/>\n<!-- 135103040638224 -->\n<g id=\"node1\" class=\"node\">\n<title>135103040638224</title>\n<polygon fill=\"#caff70\" stroke=\"black\" points=\"2015.5,-31 1961.5,-31 1961.5,0 2015.5,0 2015.5,-31\"/>\n<text text-anchor=\"middle\" x=\"1988.5\" y=\"-7\" font-family=\"monospace\" font-size=\"10.00\"> ()</text>\n</g>\n<!-- 135103040529280 -->\n<g id=\"node2\" class=\"node\">\n<title>135103040529280</title>\n<polygon fill=\"lightgrey\" stroke=\"black\" points=\"2045,-86 1932,-86 1932,-67 2045,-67 2045,-86\"/>\n<text text-anchor=\"middle\" x=\"1988.5\" y=\"-74\" font-family=\"monospace\" font-size=\"10.00\">NllLossBackward0</text>\n</g>\n<!-- 135103040529280&#45;&gt;135103040638224 -->\n<g id=\"edge112\" class=\"edge\">\n<title>135103040529280&#45;&gt;135103040638224</title>\n<path fill=\"none\" stroke=\"black\" d=\"M1988.5,-66.79C1988.5,-60.07 1988.5,-50.4 1988.5,-41.34\"/>\n<polygon fill=\"black\" stroke=\"black\" points=\"1992,-41.19 1988.5,-31.19 1985,-41.19 1992,-41.19\"/>\n</g>\n<!-- 135103040529424 -->\n<g id=\"node3\" class=\"node\">\n<title>135103040529424</title>\n<polygon fill=\"lightgrey\" stroke=\"black\" points=\"2054,-141 1923,-141 1923,-122 2054,-122 2054,-141\"/>\n<text text-anchor=\"middle\" x=\"1988.5\" y=\"-129\" font-family=\"monospace\" font-size=\"10.00\">LogSoftmaxBackward0</text>\n</g>\n<!-- 135103040529424&#45;&gt;135103040529280 -->\n<g id=\"edge1\" class=\"edge\">\n<title>135103040529424&#45;&gt;135103040529280</title>\n<path fill=\"none\" stroke=\"black\" d=\"M1988.5,-121.75C1988.5,-114.8 1988.5,-104.85 1988.5,-96.13\"/>\n<polygon fill=\"black\" stroke=\"black\" points=\"1992,-96.09 1988.5,-86.09 1985,-96.09 1992,-96.09\"/>\n</g>\n<!-- 135103040529136 -->\n<g id=\"node4\" class=\"node\">\n<title>135103040529136</title>\n<polygon fill=\"lightgrey\" stroke=\"black\" points=\"2039,-196 1938,-196 1938,-177 2039,-177 2039,-196\"/>\n<text text-anchor=\"middle\" x=\"1988.5\" y=\"-184\" font-family=\"monospace\" font-size=\"10.00\">AddmmBackward0</text>\n</g>\n<!-- 135103040529136&#45;&gt;135103040529424 -->\n<g id=\"edge2\" class=\"edge\">\n<title>135103040529136&#45;&gt;135103040529424</title>\n<path fill=\"none\" stroke=\"black\" d=\"M1988.5,-176.75C1988.5,-169.8 1988.5,-159.85 1988.5,-151.13\"/>\n<polygon fill=\"black\" stroke=\"black\" points=\"1992,-151.09 1988.5,-141.09 1985,-151.09 1992,-151.09\"/>\n</g>\n<!-- 135103040529088 -->\n<g id=\"node5\" class=\"node\">\n<title>135103040529088</title>\n<polygon fill=\"lightgrey\" stroke=\"black\" points=\"1923,-251 1822,-251 1822,-232 1923,-232 1923,-251\"/>\n<text text-anchor=\"middle\" x=\"1872.5\" y=\"-239\" font-family=\"monospace\" font-size=\"10.00\">AccumulateGrad</text>\n</g>\n<!-- 135103040529088&#45;&gt;135103040529136 -->\n<g id=\"edge3\" class=\"edge\">\n<title>135103040529088&#45;&gt;135103040529136</title>\n<path fill=\"none\" stroke=\"black\" d=\"M1891.14,-231.98C1909.8,-223.46 1938.75,-210.23 1960.24,-200.41\"/>\n<polygon fill=\"black\" stroke=\"black\" points=\"1961.88,-203.51 1969.52,-196.17 1958.97,-197.14 1961.88,-203.51\"/>\n</g>\n<!-- 135103111330800 -->\n<g id=\"node6\" class=\"node\">\n<title>135103111330800</title>\n<polygon fill=\"lightblue\" stroke=\"black\" points=\"1899.5,-318 1845.5,-318 1845.5,-287 1899.5,-287 1899.5,-318\"/>\n<text text-anchor=\"middle\" x=\"1872.5\" y=\"-294\" font-family=\"monospace\" font-size=\"10.00\"> (18)</text>\n</g>\n<!-- 135103111330800&#45;&gt;135103040529088 -->\n<g id=\"edge4\" class=\"edge\">\n<title>135103111330800&#45;&gt;135103040529088</title>\n<path fill=\"none\" stroke=\"black\" d=\"M1872.5,-286.92C1872.5,-279.22 1872.5,-269.69 1872.5,-261.43\"/>\n<polygon fill=\"black\" stroke=\"black\" points=\"1876,-261.25 1872.5,-251.25 1869,-261.25 1876,-261.25\"/>\n</g>\n<!-- 135103040528848 -->\n<g id=\"node7\" class=\"node\">\n<title>135103040528848</title>\n<polygon fill=\"lightgrey\" stroke=\"black\" points=\"2036,-251 1941,-251 1941,-232 2036,-232 2036,-251\"/>\n<text text-anchor=\"middle\" x=\"1988.5\" y=\"-239\" font-family=\"monospace\" font-size=\"10.00\">TanhBackward0</text>\n</g>\n<!-- 135103040528848&#45;&gt;135103040529136 -->\n<g id=\"edge5\" class=\"edge\">\n<title>135103040528848&#45;&gt;135103040529136</title>\n<path fill=\"none\" stroke=\"black\" d=\"M1988.5,-231.75C1988.5,-224.8 1988.5,-214.85 1988.5,-206.13\"/>\n<polygon fill=\"black\" stroke=\"black\" points=\"1992,-206.09 1988.5,-196.09 1985,-206.09 1992,-206.09\"/>\n</g>\n<!-- 135103040529184 -->\n<g id=\"node8\" class=\"node\">\n<title>135103040529184</title>\n<polygon fill=\"lightgrey\" stroke=\"black\" points=\"2030,-312 1941,-312 1941,-293 2030,-293 2030,-312\"/>\n<text text-anchor=\"middle\" x=\"1985.5\" y=\"-300\" font-family=\"monospace\" font-size=\"10.00\">AddBackward0</text>\n</g>\n<!-- 135103040529184&#45;&gt;135103040528848 -->\n<g id=\"edge6\" class=\"edge\">\n<title>135103040529184&#45;&gt;135103040528848</title>\n<path fill=\"none\" stroke=\"black\" d=\"M1985.94,-292.79C1986.36,-284.6 1987,-272.06 1987.53,-261.55\"/>\n<polygon fill=\"black\" stroke=\"black\" points=\"1991.04,-261.41 1988.06,-251.24 1984.05,-261.05 1991.04,-261.41\"/>\n</g>\n<!-- 135103040528320 -->\n<g id=\"node9\" class=\"node\">\n<title>135103040528320</title>\n<polygon fill=\"lightgrey\" stroke=\"black\" points=\"2112,-1870 2011,-1870 2011,-1851 2112,-1851 2112,-1870\"/>\n<text text-anchor=\"middle\" x=\"2061.5\" y=\"-1858\" font-family=\"monospace\" font-size=\"10.00\">AddmmBackward0</text>\n</g>\n<!-- 135103040528320&#45;&gt;135103040529184 -->\n<g id=\"edge7\" class=\"edge\">\n<title>135103040528320&#45;&gt;135103040529184</title>\n<path fill=\"none\" stroke=\"black\" d=\"M2053.91,-1850.96C2039.25,-1833.57 2008.5,-1792.23 2008.5,-1751.5 2008.5,-1751.5 2008.5,-1751.5 2008.5,-429.5 2008.5,-390.74 1997.84,-346.35 1991.03,-321.96\"/>\n<polygon fill=\"black\" stroke=\"black\" points=\"1994.37,-320.9 1988.23,-312.26 1987.64,-322.84 1994.37,-320.9\"/>\n</g>\n<!-- 135103040528704 -->\n<g id=\"node10\" class=\"node\">\n<title>135103040528704</title>\n<polygon fill=\"lightgrey\" stroke=\"black\" points=\"1576,-1925 1475,-1925 1475,-1906 1576,-1906 1576,-1925\"/>\n<text text-anchor=\"middle\" x=\"1525.5\" y=\"-1913\" font-family=\"monospace\" font-size=\"10.00\">AccumulateGrad</text>\n</g>\n<!-- 135103040528704&#45;&gt;135103040528320 -->\n<g id=\"edge8\" class=\"edge\">\n<title>135103040528704&#45;&gt;135103040528320</title>\n<path fill=\"none\" stroke=\"black\" d=\"M1576.01,-1907.03C1578.88,-1906.67 1581.72,-1906.32 1584.5,-1906 1766.05,-1885.1 1814.96,-1890.84 2000.68,-1870.03\"/>\n<polygon fill=\"black\" stroke=\"black\" points=\"2001.24,-1873.49 2010.79,-1868.88 2000.46,-1866.53 2001.24,-1873.49\"/>\n</g>\n<!-- 135103040527840 -->\n<g id=\"node20\" class=\"node\">\n<title>135103040527840</title>\n<polygon fill=\"lightgrey\" stroke=\"black\" points=\"1993,-1870 1892,-1870 1892,-1851 1993,-1851 1993,-1870\"/>\n<text text-anchor=\"middle\" x=\"1942.5\" y=\"-1858\" font-family=\"monospace\" font-size=\"10.00\">AddmmBackward0</text>\n</g>\n<!-- 135103040528704&#45;&gt;135103040527840 -->\n<g id=\"edge19\" class=\"edge\">\n<title>135103040528704&#45;&gt;135103040527840</title>\n<path fill=\"none\" stroke=\"black\" d=\"M1576.02,-1907.14C1578.89,-1906.75 1581.73,-1906.37 1584.5,-1906 1713.52,-1888.91 1748.53,-1887.42 1881.59,-1870.09\"/>\n<polygon fill=\"black\" stroke=\"black\" points=\"1882.31,-1873.53 1891.77,-1868.76 1881.4,-1866.59 1882.31,-1873.53\"/>\n</g>\n<!-- 135103040530096 -->\n<g id=\"node25\" class=\"node\">\n<title>135103040530096</title>\n<polygon fill=\"lightgrey\" stroke=\"black\" points=\"1874,-1870 1773,-1870 1773,-1851 1874,-1851 1874,-1870\"/>\n<text text-anchor=\"middle\" x=\"1823.5\" y=\"-1858\" font-family=\"monospace\" font-size=\"10.00\">AddmmBackward0</text>\n</g>\n<!-- 135103040528704&#45;&gt;135103040530096 -->\n<g id=\"edge27\" class=\"edge\">\n<title>135103040528704&#45;&gt;135103040530096</title>\n<path fill=\"none\" stroke=\"black\" d=\"M1573.38,-1905.98C1625.58,-1896.7 1709.12,-1881.84 1765.12,-1871.88\"/>\n<polygon fill=\"black\" stroke=\"black\" points=\"1766.01,-1875.28 1775.25,-1870.08 1764.79,-1868.39 1766.01,-1875.28\"/>\n</g>\n<!-- 135103040522992 -->\n<g id=\"node30\" class=\"node\">\n<title>135103040522992</title>\n<polygon fill=\"lightgrey\" stroke=\"black\" points=\"1755,-1870 1654,-1870 1654,-1851 1755,-1851 1755,-1870\"/>\n<text text-anchor=\"middle\" x=\"1704.5\" y=\"-1858\" font-family=\"monospace\" font-size=\"10.00\">AddmmBackward0</text>\n</g>\n<!-- 135103040528704&#45;&gt;135103040522992 -->\n<g id=\"edge35\" class=\"edge\">\n<title>135103040528704&#45;&gt;135103040522992</title>\n<path fill=\"none\" stroke=\"black\" d=\"M1554.26,-1905.98C1584.44,-1897.05 1632.07,-1882.94 1665.6,-1873.02\"/>\n<polygon fill=\"black\" stroke=\"black\" points=\"1666.92,-1876.28 1675.52,-1870.08 1664.93,-1869.57 1666.92,-1876.28\"/>\n</g>\n<!-- 135103040526736 -->\n<g id=\"node35\" class=\"node\">\n<title>135103040526736</title>\n<polygon fill=\"lightgrey\" stroke=\"black\" points=\"1636,-1870 1535,-1870 1535,-1851 1636,-1851 1636,-1870\"/>\n<text text-anchor=\"middle\" x=\"1585.5\" y=\"-1858\" font-family=\"monospace\" font-size=\"10.00\">AddmmBackward0</text>\n</g>\n<!-- 135103040528704&#45;&gt;135103040526736 -->\n<g id=\"edge43\" class=\"edge\">\n<title>135103040528704&#45;&gt;135103040526736</title>\n<path fill=\"none\" stroke=\"black\" d=\"M1535.14,-1905.98C1544.01,-1898.15 1557.37,-1886.34 1568.11,-1876.86\"/>\n<polygon fill=\"black\" stroke=\"black\" points=\"1570.51,-1879.41 1575.68,-1870.17 1565.87,-1874.17 1570.51,-1879.41\"/>\n</g>\n<!-- 135103040527504 -->\n<g id=\"node40\" class=\"node\">\n<title>135103040527504</title>\n<polygon fill=\"lightgrey\" stroke=\"black\" points=\"1517,-1870 1416,-1870 1416,-1851 1517,-1851 1517,-1870\"/>\n<text text-anchor=\"middle\" x=\"1466.5\" y=\"-1858\" font-family=\"monospace\" font-size=\"10.00\">AddmmBackward0</text>\n</g>\n<!-- 135103040528704&#45;&gt;135103040527504 -->\n<g id=\"edge51\" class=\"edge\">\n<title>135103040528704&#45;&gt;135103040527504</title>\n<path fill=\"none\" stroke=\"black\" d=\"M1516.02,-1905.98C1507.3,-1898.15 1494.16,-1886.34 1483.6,-1876.86\"/>\n<polygon fill=\"black\" stroke=\"black\" points=\"1485.93,-1874.25 1476.15,-1870.17 1481.25,-1879.46 1485.93,-1874.25\"/>\n</g>\n<!-- 135103040525872 -->\n<g id=\"node45\" class=\"node\">\n<title>135103040525872</title>\n<polygon fill=\"lightgrey\" stroke=\"black\" points=\"1398,-1870 1297,-1870 1297,-1851 1398,-1851 1398,-1870\"/>\n<text text-anchor=\"middle\" x=\"1347.5\" y=\"-1858\" font-family=\"monospace\" font-size=\"10.00\">AddmmBackward0</text>\n</g>\n<!-- 135103040528704&#45;&gt;135103040525872 -->\n<g id=\"edge59\" class=\"edge\">\n<title>135103040528704&#45;&gt;135103040525872</title>\n<path fill=\"none\" stroke=\"black\" d=\"M1496.9,-1905.98C1466.89,-1897.05 1419.52,-1882.94 1386.18,-1873.02\"/>\n<polygon fill=\"black\" stroke=\"black\" points=\"1386.91,-1869.58 1376.32,-1870.08 1384.91,-1876.29 1386.91,-1869.58\"/>\n</g>\n<!-- 135103040525392 -->\n<g id=\"node50\" class=\"node\">\n<title>135103040525392</title>\n<polygon fill=\"lightgrey\" stroke=\"black\" points=\"1279,-1870 1178,-1870 1178,-1851 1279,-1851 1279,-1870\"/>\n<text text-anchor=\"middle\" x=\"1228.5\" y=\"-1858\" font-family=\"monospace\" font-size=\"10.00\">AddmmBackward0</text>\n</g>\n<!-- 135103040528704&#45;&gt;135103040525392 -->\n<g id=\"edge67\" class=\"edge\">\n<title>135103040528704&#45;&gt;135103040525392</title>\n<path fill=\"none\" stroke=\"black\" d=\"M1477.78,-1905.98C1425.76,-1896.7 1342.5,-1881.84 1286.68,-1871.88\"/>\n<polygon fill=\"black\" stroke=\"black\" points=\"1287.05,-1868.39 1276.59,-1870.08 1285.82,-1875.28 1287.05,-1868.39\"/>\n</g>\n<!-- 135103040524912 -->\n<g id=\"node55\" class=\"node\">\n<title>135103040524912</title>\n<polygon fill=\"lightgrey\" stroke=\"black\" points=\"1160,-1870 1059,-1870 1059,-1851 1160,-1851 1160,-1870\"/>\n<text text-anchor=\"middle\" x=\"1109.5\" y=\"-1858\" font-family=\"monospace\" font-size=\"10.00\">AddmmBackward0</text>\n</g>\n<!-- 135103040528704&#45;&gt;135103040524912 -->\n<g id=\"edge75\" class=\"edge\">\n<title>135103040528704&#45;&gt;135103040524912</title>\n<path fill=\"none\" stroke=\"black\" d=\"M1474.77,-1907.24C1471.63,-1906.81 1468.52,-1906.4 1465.5,-1906 1336.89,-1889.1 1302,-1887.55 1170.11,-1870.19\"/>\n<polygon fill=\"black\" stroke=\"black\" points=\"1170.39,-1866.7 1160.02,-1868.85 1169.48,-1873.63 1170.39,-1866.7\"/>\n</g>\n<!-- 135103040523040 -->\n<g id=\"node60\" class=\"node\">\n<title>135103040523040</title>\n<polygon fill=\"lightgrey\" stroke=\"black\" points=\"1041,-1870 940,-1870 940,-1851 1041,-1851 1041,-1870\"/>\n<text text-anchor=\"middle\" x=\"990.5\" y=\"-1858\" font-family=\"monospace\" font-size=\"10.00\">AddmmBackward0</text>\n</g>\n<!-- 135103040528704&#45;&gt;135103040523040 -->\n<g id=\"edge83\" class=\"edge\">\n<title>135103040528704&#45;&gt;135103040523040</title>\n<path fill=\"none\" stroke=\"black\" d=\"M1474.79,-1907.12C1471.65,-1906.72 1468.53,-1906.35 1465.5,-1906 1284.36,-1885.35 1235.56,-1891.03 1051.04,-1870.12\"/>\n<polygon fill=\"black\" stroke=\"black\" points=\"1051.34,-1866.63 1041.01,-1868.97 1050.54,-1873.58 1051.34,-1866.63\"/>\n</g>\n<!-- 135103111326720 -->\n<g id=\"node11\" class=\"node\">\n<title>135103111326720</title>\n<polygon fill=\"lightblue\" stroke=\"black\" points=\"1552.5,-1992 1498.5,-1992 1498.5,-1961 1552.5,-1961 1552.5,-1992\"/>\n<text text-anchor=\"middle\" x=\"1525.5\" y=\"-1968\" font-family=\"monospace\" font-size=\"10.00\"> (120)</text>\n</g>\n<!-- 135103111326720&#45;&gt;135103040528704 -->\n<g id=\"edge9\" class=\"edge\">\n<title>135103111326720&#45;&gt;135103040528704</title>\n<path fill=\"none\" stroke=\"black\" d=\"M1525.5,-1960.92C1525.5,-1953.22 1525.5,-1943.69 1525.5,-1935.43\"/>\n<polygon fill=\"black\" stroke=\"black\" points=\"1529,-1935.25 1525.5,-1925.25 1522,-1935.25 1529,-1935.25\"/>\n</g>\n<!-- 135103040528512 -->\n<g id=\"node12\" class=\"node\">\n<title>135103040528512</title>\n<polygon fill=\"lightgrey\" stroke=\"black\" points=\"2081,-1925 2004,-1925 2004,-1906 2081,-1906 2081,-1925\"/>\n<text text-anchor=\"middle\" x=\"2042.5\" y=\"-1913\" font-family=\"monospace\" font-size=\"10.00\">TBackward0</text>\n</g>\n<!-- 135103040528512&#45;&gt;135103040528320 -->\n<g id=\"edge10\" class=\"edge\">\n<title>135103040528512&#45;&gt;135103040528320</title>\n<path fill=\"none\" stroke=\"black\" d=\"M2045.64,-1905.75C2048.18,-1898.65 2051.86,-1888.4 2055.03,-1879.56\"/>\n<polygon fill=\"black\" stroke=\"black\" points=\"2058.34,-1880.68 2058.42,-1870.09 2051.75,-1878.32 2058.34,-1880.68\"/>\n</g>\n<!-- 135103040528608 -->\n<g id=\"node13\" class=\"node\">\n<title>135103040528608</title>\n<polygon fill=\"lightgrey\" stroke=\"black\" points=\"1677,-1986 1576,-1986 1576,-1967 1677,-1967 1677,-1986\"/>\n<text text-anchor=\"middle\" x=\"1626.5\" y=\"-1974\" font-family=\"monospace\" font-size=\"10.00\">AccumulateGrad</text>\n</g>\n<!-- 135103040528608&#45;&gt;135103040528512 -->\n<g id=\"edge11\" class=\"edge\">\n<title>135103040528608&#45;&gt;135103040528512</title>\n<path fill=\"none\" stroke=\"black\" d=\"M1677.09,-1968.32C1757.71,-1956.89 1914.28,-1934.69 1993.73,-1923.42\"/>\n<polygon fill=\"black\" stroke=\"black\" points=\"1994.54,-1926.84 2003.95,-1921.97 1993.56,-1919.91 1994.54,-1926.84\"/>\n</g>\n<!-- 135103040527888 -->\n<g id=\"node21\" class=\"node\">\n<title>135103040527888</title>\n<polygon fill=\"lightgrey\" stroke=\"black\" points=\"1968,-1925 1891,-1925 1891,-1906 1968,-1906 1968,-1925\"/>\n<text text-anchor=\"middle\" x=\"1929.5\" y=\"-1913\" font-family=\"monospace\" font-size=\"10.00\">TBackward0</text>\n</g>\n<!-- 135103040528608&#45;&gt;135103040527888 -->\n<g id=\"edge21\" class=\"edge\">\n<title>135103040528608&#45;&gt;135103040527888</title>\n<path fill=\"none\" stroke=\"black\" d=\"M1670.24,-1966.98C1726.05,-1956.12 1822.32,-1937.37 1880.53,-1926.04\"/>\n<polygon fill=\"black\" stroke=\"black\" points=\"1881.44,-1929.42 1890.59,-1924.08 1880.1,-1922.55 1881.44,-1929.42\"/>\n</g>\n<!-- 135103040523376 -->\n<g id=\"node26\" class=\"node\">\n<title>135103040523376</title>\n<polygon fill=\"lightgrey\" stroke=\"black\" points=\"1861,-1925 1784,-1925 1784,-1906 1861,-1906 1861,-1925\"/>\n<text text-anchor=\"middle\" x=\"1822.5\" y=\"-1913\" font-family=\"monospace\" font-size=\"10.00\">TBackward0</text>\n</g>\n<!-- 135103040528608&#45;&gt;135103040523376 -->\n<g id=\"edge29\" class=\"edge\">\n<title>135103040528608&#45;&gt;135103040523376</title>\n<path fill=\"none\" stroke=\"black\" d=\"M1655,-1966.92C1689.11,-1956.65 1746.37,-1939.42 1784.29,-1928\"/>\n<polygon fill=\"black\" stroke=\"black\" points=\"1785.4,-1931.32 1793.97,-1925.09 1783.38,-1924.62 1785.4,-1931.32\"/>\n</g>\n<!-- 135103040526112 -->\n<g id=\"node31\" class=\"node\">\n<title>135103040526112</title>\n<polygon fill=\"lightgrey\" stroke=\"black\" points=\"1766,-1925 1689,-1925 1689,-1906 1766,-1906 1766,-1925\"/>\n<text text-anchor=\"middle\" x=\"1727.5\" y=\"-1913\" font-family=\"monospace\" font-size=\"10.00\">TBackward0</text>\n</g>\n<!-- 135103040528608&#45;&gt;135103040526112 -->\n<g id=\"edge37\" class=\"edge\">\n<title>135103040528608&#45;&gt;135103040526112</title>\n<path fill=\"none\" stroke=\"black\" d=\"M1641.4,-1966.79C1657.91,-1957.15 1684.73,-1941.48 1704.06,-1930.19\"/>\n<polygon fill=\"black\" stroke=\"black\" points=\"1706,-1933.12 1712.86,-1925.05 1702.46,-1927.07 1706,-1933.12\"/>\n</g>\n<!-- 135103040530240 -->\n<g id=\"node36\" class=\"node\">\n<title>135103040530240</title>\n<polygon fill=\"lightgrey\" stroke=\"black\" points=\"1671,-1925 1594,-1925 1594,-1906 1671,-1906 1671,-1925\"/>\n<text text-anchor=\"middle\" x=\"1632.5\" y=\"-1913\" font-family=\"monospace\" font-size=\"10.00\">TBackward0</text>\n</g>\n<!-- 135103040528608&#45;&gt;135103040530240 -->\n<g id=\"edge45\" class=\"edge\">\n<title>135103040528608&#45;&gt;135103040530240</title>\n<path fill=\"none\" stroke=\"black\" d=\"M1627.39,-1966.79C1628.23,-1958.52 1629.52,-1945.79 1630.6,-1935.21\"/>\n<polygon fill=\"black\" stroke=\"black\" points=\"1634.08,-1935.54 1631.61,-1925.24 1627.12,-1934.84 1634.08,-1935.54\"/>\n</g>\n<!-- 135103040526880 -->\n<g id=\"node41\" class=\"node\">\n<title>135103040526880</title>\n<polygon fill=\"lightgrey\" stroke=\"black\" points=\"1457,-1925 1380,-1925 1380,-1906 1457,-1906 1457,-1925\"/>\n<text text-anchor=\"middle\" x=\"1418.5\" y=\"-1913\" font-family=\"monospace\" font-size=\"10.00\">TBackward0</text>\n</g>\n<!-- 135103040528608&#45;&gt;135103040526880 -->\n<g id=\"edge53\" class=\"edge\">\n<title>135103040528608&#45;&gt;135103040526880</title>\n<path fill=\"none\" stroke=\"black\" d=\"M1596.26,-1966.92C1559.9,-1956.61 1498.77,-1939.27 1458.53,-1927.86\"/>\n<polygon fill=\"black\" stroke=\"black\" points=\"1459.36,-1924.45 1448.78,-1925.09 1457.45,-1931.19 1459.36,-1924.45\"/>\n</g>\n<!-- 135103040525632 -->\n<g id=\"node46\" class=\"node\">\n<title>135103040525632</title>\n<polygon fill=\"lightgrey\" stroke=\"black\" points=\"1362,-1925 1285,-1925 1285,-1906 1362,-1906 1362,-1925\"/>\n<text text-anchor=\"middle\" x=\"1323.5\" y=\"-1913\" font-family=\"monospace\" font-size=\"10.00\">TBackward0</text>\n</g>\n<!-- 135103040528608&#45;&gt;135103040525632 -->\n<g id=\"edge61\" class=\"edge\">\n<title>135103040528608&#45;&gt;135103040525632</title>\n<path fill=\"none\" stroke=\"black\" d=\"M1589.42,-1967C1580.31,-1964.97 1570.56,-1962.86 1561.5,-1961 1526.15,-1953.75 1431.16,-1936.21 1372.44,-1925.44\"/>\n<polygon fill=\"black\" stroke=\"black\" points=\"1372.74,-1921.94 1362.27,-1923.58 1371.47,-1928.83 1372.74,-1921.94\"/>\n</g>\n<!-- 135103040525152 -->\n<g id=\"node51\" class=\"node\">\n<title>135103040525152</title>\n<polygon fill=\"lightgrey\" stroke=\"black\" points=\"1267,-1925 1190,-1925 1190,-1906 1267,-1906 1267,-1925\"/>\n<text text-anchor=\"middle\" x=\"1228.5\" y=\"-1913\" font-family=\"monospace\" font-size=\"10.00\">TBackward0</text>\n</g>\n<!-- 135103040528608&#45;&gt;135103040525152 -->\n<g id=\"edge69\" class=\"edge\">\n<title>135103040528608&#45;&gt;135103040525152</title>\n<path fill=\"none\" stroke=\"black\" d=\"M1591.2,-1966.99C1581.6,-1964.85 1571.18,-1962.69 1561.5,-1961 1438.49,-1939.59 1403.88,-1944.15 1277.29,-1925.2\"/>\n<polygon fill=\"black\" stroke=\"black\" points=\"1277.61,-1921.71 1267.2,-1923.67 1276.56,-1928.63 1277.61,-1921.71\"/>\n</g>\n<!-- 135103040524480 -->\n<g id=\"node56\" class=\"node\">\n<title>135103040524480</title>\n<polygon fill=\"lightgrey\" stroke=\"black\" points=\"1160,-1925 1083,-1925 1083,-1906 1160,-1906 1160,-1925\"/>\n<text text-anchor=\"middle\" x=\"1121.5\" y=\"-1913\" font-family=\"monospace\" font-size=\"10.00\">TBackward0</text>\n</g>\n<!-- 135103040528608&#45;&gt;135103040524480 -->\n<g id=\"edge77\" class=\"edge\">\n<title>135103040528608&#45;&gt;135103040524480</title>\n<path fill=\"none\" stroke=\"black\" d=\"M1591.91,-1966.94C1582.13,-1964.75 1571.44,-1962.57 1561.5,-1961 1393.5,-1934.43 1349.39,-1945.13 1180.5,-1925 1177.21,-1924.61 1173.82,-1924.18 1170.41,-1923.73\"/>\n<polygon fill=\"black\" stroke=\"black\" points=\"1170.56,-1920.22 1160.18,-1922.35 1169.62,-1927.16 1170.56,-1920.22\"/>\n</g>\n<!-- 135103040523088 -->\n<g id=\"node61\" class=\"node\">\n<title>135103040523088</title>\n<polygon fill=\"lightgrey\" stroke=\"black\" points=\"1047,-1925 970,-1925 970,-1906 1047,-1906 1047,-1925\"/>\n<text text-anchor=\"middle\" x=\"1008.5\" y=\"-1913\" font-family=\"monospace\" font-size=\"10.00\">TBackward0</text>\n</g>\n<!-- 135103040528608&#45;&gt;135103040523088 -->\n<g id=\"edge85\" class=\"edge\">\n<title>135103040528608&#45;&gt;135103040523088</title>\n<path fill=\"none\" stroke=\"black\" d=\"M1592.6,-1966.96C1582.64,-1964.71 1571.68,-1962.5 1561.5,-1961 1346.35,-1929.24 1289.85,-1947.11 1073.5,-1925 1068.33,-1924.47 1062.93,-1923.86 1057.55,-1923.21\"/>\n<polygon fill=\"black\" stroke=\"black\" points=\"1057.65,-1919.7 1047.3,-1921.94 1056.79,-1926.65 1057.65,-1919.7\"/>\n</g>\n<!-- 135103113983488 -->\n<g id=\"node14\" class=\"node\">\n<title>135103113983488</title>\n<polygon fill=\"lightblue\" stroke=\"black\" points=\"1665,-2059 1588,-2059 1588,-2028 1665,-2028 1665,-2059\"/>\n<text text-anchor=\"middle\" x=\"1626.5\" y=\"-2035\" font-family=\"monospace\" font-size=\"10.00\"> (120, 57)</text>\n</g>\n<!-- 135103113983488&#45;&gt;135103040528608 -->\n<g id=\"edge12\" class=\"edge\">\n<title>135103113983488&#45;&gt;135103040528608</title>\n<path fill=\"none\" stroke=\"black\" d=\"M1626.5,-2027.75C1626.5,-2018.39 1626.5,-2006.19 1626.5,-1996.16\"/>\n<polygon fill=\"black\" stroke=\"black\" points=\"1630,-1996.02 1626.5,-1986.02 1623,-1996.02 1630,-1996.02\"/>\n</g>\n<!-- 135103040528272 -->\n<g id=\"node15\" class=\"node\">\n<title>135103040528272</title>\n<polygon fill=\"lightgrey\" stroke=\"black\" points=\"254,-379 153,-379 153,-360 254,-360 254,-379\"/>\n<text text-anchor=\"middle\" x=\"203.5\" y=\"-367\" font-family=\"monospace\" font-size=\"10.00\">AddmmBackward0</text>\n</g>\n<!-- 135103040528272&#45;&gt;135103040529184 -->\n<g id=\"edge13\" class=\"edge\">\n<title>135103040528272&#45;&gt;135103040529184</title>\n<path fill=\"none\" stroke=\"black\" d=\"M254.14,-368.07C500.53,-365.81 1575.63,-354.05 1908.5,-318 1917.64,-317.01 1927.31,-315.53 1936.61,-313.89\"/>\n<polygon fill=\"black\" stroke=\"black\" points=\"1937.31,-317.33 1946.5,-312.07 1936.04,-310.44 1937.31,-317.33\"/>\n</g>\n<!-- 135103040527984 -->\n<g id=\"node16\" class=\"node\">\n<title>135103040527984</title>\n<polygon fill=\"lightgrey\" stroke=\"black\" points=\"519,-1925 418,-1925 418,-1906 519,-1906 519,-1925\"/>\n<text text-anchor=\"middle\" x=\"468.5\" y=\"-1913\" font-family=\"monospace\" font-size=\"10.00\">AccumulateGrad</text>\n</g>\n<!-- 135103040527984&#45;&gt;135103040528272 -->\n<g id=\"edge14\" class=\"edge\">\n<title>135103040527984&#45;&gt;135103040528272</title>\n<path fill=\"none\" stroke=\"black\" d=\"M417.96,-1907.22C331.52,-1893.34 164.5,-1859.64 164.5,-1806.5 164.5,-1806.5 164.5,-1806.5 164.5,-484.5 164.5,-448.75 181.89,-409.91 193.44,-388.05\"/>\n<polygon fill=\"black\" stroke=\"black\" points=\"196.66,-389.48 198.4,-379.03 190.52,-386.11 196.66,-389.48\"/>\n</g>\n<!-- 135103040527936 -->\n<g id=\"node22\" class=\"node\">\n<title>135103040527936</title>\n<polygon fill=\"lightgrey\" stroke=\"black\" points=\"294,-550 193,-550 193,-531 294,-531 294,-550\"/>\n<text text-anchor=\"middle\" x=\"243.5\" y=\"-538\" font-family=\"monospace\" font-size=\"10.00\">AddmmBackward0</text>\n</g>\n<!-- 135103040527984&#45;&gt;135103040527936 -->\n<g id=\"edge23\" class=\"edge\">\n<title>135103040527984&#45;&gt;135103040527936</title>\n<path fill=\"none\" stroke=\"black\" d=\"M446.22,-1905.88C388.85,-1882.08 240.5,-1809.59 240.5,-1696.5 240.5,-1696.5 240.5,-1696.5 240.5,-649.5 240.5,-618.18 241.78,-581.77 242.66,-560.23\"/>\n<polygon fill=\"black\" stroke=\"black\" points=\"246.16,-560.32 243.1,-550.18 239.17,-560.02 246.16,-560.32\"/>\n</g>\n<!-- 135103040527168 -->\n<g id=\"node27\" class=\"node\">\n<title>135103040527168</title>\n<polygon fill=\"lightgrey\" stroke=\"black\" points=\"425,-715 324,-715 324,-696 425,-696 425,-715\"/>\n<text text-anchor=\"middle\" x=\"374.5\" y=\"-703\" font-family=\"monospace\" font-size=\"10.00\">AddmmBackward0</text>\n</g>\n<!-- 135103040527984&#45;&gt;135103040527168 -->\n<g id=\"edge31\" class=\"edge\">\n<title>135103040527984&#45;&gt;135103040527168</title>\n<path fill=\"none\" stroke=\"black\" d=\"M452.55,-1905.83C425.74,-1889.96 374.5,-1853.48 374.5,-1806.5 374.5,-1806.5 374.5,-1806.5 374.5,-814.5 374.5,-783.19 374.5,-746.77 374.5,-725.23\"/>\n<polygon fill=\"black\" stroke=\"black\" points=\"378,-725.18 374.5,-715.18 371,-725.18 378,-725.18\"/>\n</g>\n<!-- 135103040524240 -->\n<g id=\"node32\" class=\"node\">\n<title>135103040524240</title>\n<polygon fill=\"lightgrey\" stroke=\"black\" points=\"504,-880 403,-880 403,-861 504,-861 504,-880\"/>\n<text text-anchor=\"middle\" x=\"453.5\" y=\"-868\" font-family=\"monospace\" font-size=\"10.00\">AddmmBackward0</text>\n</g>\n<!-- 135103040527984&#45;&gt;135103040524240 -->\n<g id=\"edge39\" class=\"edge\">\n<title>135103040527984&#45;&gt;135103040524240</title>\n<path fill=\"none\" stroke=\"black\" d=\"M460.24,-1905.77C444.66,-1888.37 412.5,-1847.47 412.5,-1806.5 412.5,-1806.5 412.5,-1806.5 412.5,-979.5 412.5,-945.57 430.41,-909.31 442.56,-888.62\"/>\n<polygon fill=\"black\" stroke=\"black\" points=\"445.57,-890.4 447.8,-880.04 439.6,-886.75 445.57,-890.4\"/>\n</g>\n<!-- 135103040522800 -->\n<g id=\"node37\" class=\"node\">\n<title>135103040522800</title>\n<polygon fill=\"lightgrey\" stroke=\"black\" points=\"615,-1045 514,-1045 514,-1026 615,-1026 615,-1045\"/>\n<text text-anchor=\"middle\" x=\"564.5\" y=\"-1033\" font-family=\"monospace\" font-size=\"10.00\">AddmmBackward0</text>\n</g>\n<!-- 135103040527984&#45;&gt;135103040522800 -->\n<g id=\"edge47\" class=\"edge\">\n<title>135103040527984&#45;&gt;135103040522800</title>\n<path fill=\"none\" stroke=\"black\" d=\"M466.07,-1905.9C461.16,-1887.72 450.5,-1843.95 450.5,-1806.5 450.5,-1806.5 450.5,-1806.5 450.5,-1144.5 450.5,-1098.47 500.08,-1066.18 533.85,-1049.53\"/>\n<polygon fill=\"black\" stroke=\"black\" points=\"535.78,-1052.49 543.32,-1045.05 532.79,-1046.16 535.78,-1052.49\"/>\n</g>\n<!-- 135103040530144 -->\n<g id=\"node42\" class=\"node\">\n<title>135103040530144</title>\n<polygon fill=\"lightgrey\" stroke=\"black\" points=\"697,-1210 596,-1210 596,-1191 697,-1191 697,-1210\"/>\n<text text-anchor=\"middle\" x=\"646.5\" y=\"-1198\" font-family=\"monospace\" font-size=\"10.00\">AddmmBackward0</text>\n</g>\n<!-- 135103040527984&#45;&gt;135103040530144 -->\n<g id=\"edge55\" class=\"edge\">\n<title>135103040527984&#45;&gt;135103040530144</title>\n<path fill=\"none\" stroke=\"black\" d=\"M471.2,-1905.92C476.66,-1887.77 488.5,-1844.07 488.5,-1806.5 488.5,-1806.5 488.5,-1806.5 488.5,-1474.5 488.5,-1363.09 588.28,-1256.35 629.25,-1217.21\"/>\n<polygon fill=\"black\" stroke=\"black\" points=\"631.72,-1219.7 636.62,-1210.3 626.93,-1214.59 631.72,-1219.7\"/>\n</g>\n<!-- 135103040527360 -->\n<g id=\"node47\" class=\"node\">\n<title>135103040527360</title>\n<polygon fill=\"lightgrey\" stroke=\"black\" points=\"776,-1375 675,-1375 675,-1356 776,-1356 776,-1375\"/>\n<text text-anchor=\"middle\" x=\"725.5\" y=\"-1363\" font-family=\"monospace\" font-size=\"10.00\">AddmmBackward0</text>\n</g>\n<!-- 135103040527984&#45;&gt;135103040527360 -->\n<g id=\"edge63\" class=\"edge\">\n<title>135103040527984&#45;&gt;135103040527360</title>\n<path fill=\"none\" stroke=\"black\" d=\"M477.06,-1905.83C493.19,-1888.52 526.5,-1847.79 526.5,-1806.5 526.5,-1806.5 526.5,-1806.5 526.5,-1474.5 526.5,-1410.77 606.31,-1384.45 664.84,-1373.71\"/>\n<polygon fill=\"black\" stroke=\"black\" points=\"665.51,-1377.15 674.77,-1372 664.32,-1370.25 665.51,-1377.15\"/>\n</g>\n<!-- 135103040525728 -->\n<g id=\"node52\" class=\"node\">\n<title>135103040525728</title>\n<polygon fill=\"lightgrey\" stroke=\"black\" points=\"846,-1540 745,-1540 745,-1521 846,-1521 846,-1540\"/>\n<text text-anchor=\"middle\" x=\"795.5\" y=\"-1528\" font-family=\"monospace\" font-size=\"10.00\">AddmmBackward0</text>\n</g>\n<!-- 135103040527984&#45;&gt;135103040525728 -->\n<g id=\"edge71\" class=\"edge\">\n<title>135103040527984&#45;&gt;135103040525728</title>\n<path fill=\"none\" stroke=\"black\" d=\"M487.33,-1905.98C502.93,-1898.24 524.98,-1885.65 540.5,-1870 600.87,-1809.1 617.43,-1787.59 640.5,-1705 649.55,-1672.59 613.36,-1662.75 624.5,-1631 634.86,-1601.46 642.96,-1594.1 668.5,-1576 690.78,-1560.21 719.19,-1549.56 743.49,-1542.65\"/>\n<polygon fill=\"black\" stroke=\"black\" points=\"744.54,-1545.99 753.28,-1540 742.71,-1539.24 744.54,-1545.99\"/>\n</g>\n<!-- 135103040525248 -->\n<g id=\"node57\" class=\"node\">\n<title>135103040525248</title>\n<polygon fill=\"lightgrey\" stroke=\"black\" points=\"913,-1705 812,-1705 812,-1686 913,-1686 913,-1705\"/>\n<text text-anchor=\"middle\" x=\"862.5\" y=\"-1693\" font-family=\"monospace\" font-size=\"10.00\">AddmmBackward0</text>\n</g>\n<!-- 135103040527984&#45;&gt;135103040525248 -->\n<g id=\"edge79\" class=\"edge\">\n<title>135103040527984&#45;&gt;135103040525248</title>\n<path fill=\"none\" stroke=\"black\" d=\"M509.39,-1905.96C539.87,-1898.71 582,-1886.8 616.5,-1870 640.98,-1858.08 788.62,-1750.59 842.69,-1711.03\"/>\n<polygon fill=\"black\" stroke=\"black\" points=\"844.81,-1713.81 850.81,-1705.08 840.67,-1708.17 844.81,-1713.81\"/>\n</g>\n<!-- 135103040524768 -->\n<g id=\"node62\" class=\"node\">\n<title>135103040524768</title>\n<polygon fill=\"lightgrey\" stroke=\"black\" points=\"922,-1870 821,-1870 821,-1851 922,-1851 922,-1870\"/>\n<text text-anchor=\"middle\" x=\"871.5\" y=\"-1858\" font-family=\"monospace\" font-size=\"10.00\">AddmmBackward0</text>\n</g>\n<!-- 135103040527984&#45;&gt;135103040524768 -->\n<g id=\"edge87\" class=\"edge\">\n<title>135103040527984&#45;&gt;135103040524768</title>\n<path fill=\"none\" stroke=\"black\" d=\"M519.13,-1907.84C593.18,-1898.1 730.83,-1880 810.4,-1869.54\"/>\n<polygon fill=\"black\" stroke=\"black\" points=\"811.3,-1872.95 820.76,-1868.17 810.39,-1866.01 811.3,-1872.95\"/>\n</g>\n<!-- 135103111330640 -->\n<g id=\"node17\" class=\"node\">\n<title>135103111330640</title>\n<polygon fill=\"lightblue\" stroke=\"black\" points=\"495.5,-1992 441.5,-1992 441.5,-1961 495.5,-1961 495.5,-1992\"/>\n<text text-anchor=\"middle\" x=\"468.5\" y=\"-1968\" font-family=\"monospace\" font-size=\"10.00\"> (120)</text>\n</g>\n<!-- 135103111330640&#45;&gt;135103040527984 -->\n<g id=\"edge15\" class=\"edge\">\n<title>135103111330640&#45;&gt;135103040527984</title>\n<path fill=\"none\" stroke=\"black\" d=\"M468.5,-1960.92C468.5,-1953.22 468.5,-1943.69 468.5,-1935.43\"/>\n<polygon fill=\"black\" stroke=\"black\" points=\"472,-1935.25 468.5,-1925.25 465,-1935.25 472,-1935.25\"/>\n</g>\n<!-- 135103040528752 -->\n<g id=\"node18\" class=\"node\">\n<title>135103040528752</title>\n<polygon fill=\"lightgrey\" stroke=\"black\" points=\"290,-440 195,-440 195,-421 290,-421 290,-440\"/>\n<text text-anchor=\"middle\" x=\"242.5\" y=\"-428\" font-family=\"monospace\" font-size=\"10.00\">TanhBackward0</text>\n</g>\n<!-- 135103040528752&#45;&gt;135103040528272 -->\n<g id=\"edge16\" class=\"edge\">\n<title>135103040528752&#45;&gt;135103040528272</title>\n<path fill=\"none\" stroke=\"black\" d=\"M236.75,-420.79C231.04,-412.17 222.15,-398.71 214.99,-387.89\"/>\n<polygon fill=\"black\" stroke=\"black\" points=\"217.71,-385.65 209.28,-379.24 211.87,-389.51 217.71,-385.65\"/>\n</g>\n<!-- 135103040528224 -->\n<g id=\"node19\" class=\"node\">\n<title>135103040528224</title>\n<polygon fill=\"lightgrey\" stroke=\"black\" points=\"288,-495 199,-495 199,-476 288,-476 288,-495\"/>\n<text text-anchor=\"middle\" x=\"243.5\" y=\"-483\" font-family=\"monospace\" font-size=\"10.00\">AddBackward0</text>\n</g>\n<!-- 135103040528224&#45;&gt;135103040528752 -->\n<g id=\"edge17\" class=\"edge\">\n<title>135103040528224&#45;&gt;135103040528752</title>\n<path fill=\"none\" stroke=\"black\" d=\"M243.33,-475.75C243.2,-468.8 243.02,-458.85 242.85,-450.13\"/>\n<polygon fill=\"black\" stroke=\"black\" points=\"246.35,-450.02 242.66,-440.09 239.35,-450.15 246.35,-450.02\"/>\n</g>\n<!-- 135103040527840&#45;&gt;135103040528224 -->\n<g id=\"edge18\" class=\"edge\">\n<title>135103040527840&#45;&gt;135103040528224</title>\n<path fill=\"none\" stroke=\"black\" d=\"M1930.31,-1850.95C1908.38,-1834.45 1864.5,-1795.91 1864.5,-1751.5 1864.5,-1751.5 1864.5,-1751.5 1864.5,-594.5 1864.5,-514.18 580.85,-491.29 298.14,-487.22\"/>\n<polygon fill=\"black\" stroke=\"black\" points=\"298.17,-483.72 288.12,-487.08 298.07,-490.72 298.17,-483.72\"/>\n</g>\n<!-- 135103040527888&#45;&gt;135103040527840 -->\n<g id=\"edge20\" class=\"edge\">\n<title>135103040527888&#45;&gt;135103040527840</title>\n<path fill=\"none\" stroke=\"black\" d=\"M1931.65,-1905.75C1933.37,-1898.72 1935.85,-1888.62 1938,-1879.84\"/>\n<polygon fill=\"black\" stroke=\"black\" points=\"1941.41,-1880.63 1940.39,-1870.09 1934.61,-1878.97 1941.41,-1880.63\"/>\n</g>\n<!-- 135103040527936&#45;&gt;135103040528224 -->\n<g id=\"edge22\" class=\"edge\">\n<title>135103040527936&#45;&gt;135103040528224</title>\n<path fill=\"none\" stroke=\"black\" d=\"M243.5,-530.75C243.5,-523.8 243.5,-513.85 243.5,-505.13\"/>\n<polygon fill=\"black\" stroke=\"black\" points=\"247,-505.09 243.5,-495.09 240,-505.09 247,-505.09\"/>\n</g>\n<!-- 135103040529808 -->\n<g id=\"node23\" class=\"node\">\n<title>135103040529808</title>\n<polygon fill=\"lightgrey\" stroke=\"black\" points=\"393,-605 298,-605 298,-586 393,-586 393,-605\"/>\n<text text-anchor=\"middle\" x=\"345.5\" y=\"-593\" font-family=\"monospace\" font-size=\"10.00\">TanhBackward0</text>\n</g>\n<!-- 135103040529808&#45;&gt;135103040527936 -->\n<g id=\"edge24\" class=\"edge\">\n<title>135103040529808&#45;&gt;135103040527936</title>\n<path fill=\"none\" stroke=\"black\" d=\"M329.11,-585.98C312.93,-577.57 287.93,-564.59 269.12,-554.81\"/>\n<polygon fill=\"black\" stroke=\"black\" points=\"270.67,-551.68 260.19,-550.17 267.45,-557.89 270.67,-551.68\"/>\n</g>\n<!-- 135103040524672 -->\n<g id=\"node24\" class=\"node\">\n<title>135103040524672</title>\n<polygon fill=\"lightgrey\" stroke=\"black\" points=\"419,-660 330,-660 330,-641 419,-641 419,-660\"/>\n<text text-anchor=\"middle\" x=\"374.5\" y=\"-648\" font-family=\"monospace\" font-size=\"10.00\">AddBackward0</text>\n</g>\n<!-- 135103040524672&#45;&gt;135103040529808 -->\n<g id=\"edge25\" class=\"edge\">\n<title>135103040524672&#45;&gt;135103040529808</title>\n<path fill=\"none\" stroke=\"black\" d=\"M369.71,-640.75C365.74,-633.49 359.97,-622.95 355.07,-613.98\"/>\n<polygon fill=\"black\" stroke=\"black\" points=\"358.07,-612.18 350.2,-605.09 351.93,-615.54 358.07,-612.18\"/>\n</g>\n<!-- 135103040530096&#45;&gt;135103040524672 -->\n<g id=\"edge26\" class=\"edge\">\n<title>135103040530096&#45;&gt;135103040524672</title>\n<path fill=\"none\" stroke=\"black\" d=\"M1816.34,-1850.89C1802.51,-1833.36 1773.5,-1791.79 1773.5,-1751.5 1773.5,-1751.5 1773.5,-1751.5 1773.5,-759.5 1773.5,-690.83 688,-659.34 429.34,-652.81\"/>\n<polygon fill=\"black\" stroke=\"black\" points=\"429.16,-649.3 419.07,-652.55 428.98,-656.3 429.16,-649.3\"/>\n</g>\n<!-- 135103040523376&#45;&gt;135103040530096 -->\n<g id=\"edge28\" class=\"edge\">\n<title>135103040523376&#45;&gt;135103040530096</title>\n<path fill=\"none\" stroke=\"black\" d=\"M1822.67,-1905.75C1822.8,-1898.8 1822.98,-1888.85 1823.15,-1880.13\"/>\n<polygon fill=\"black\" stroke=\"black\" points=\"1826.65,-1880.15 1823.34,-1870.09 1819.65,-1880.02 1826.65,-1880.15\"/>\n</g>\n<!-- 135103040527168&#45;&gt;135103040524672 -->\n<g id=\"edge30\" class=\"edge\">\n<title>135103040527168&#45;&gt;135103040524672</title>\n<path fill=\"none\" stroke=\"black\" d=\"M374.5,-695.75C374.5,-688.8 374.5,-678.85 374.5,-670.13\"/>\n<polygon fill=\"black\" stroke=\"black\" points=\"378,-670.09 374.5,-660.09 371,-670.09 378,-670.09\"/>\n</g>\n<!-- 135103040524048 -->\n<g id=\"node28\" class=\"node\">\n<title>135103040524048</title>\n<polygon fill=\"lightgrey\" stroke=\"black\" points=\"500,-770 405,-770 405,-751 500,-751 500,-770\"/>\n<text text-anchor=\"middle\" x=\"452.5\" y=\"-758\" font-family=\"monospace\" font-size=\"10.00\">TanhBackward0</text>\n</g>\n<!-- 135103040524048&#45;&gt;135103040527168 -->\n<g id=\"edge32\" class=\"edge\">\n<title>135103040524048&#45;&gt;135103040527168</title>\n<path fill=\"none\" stroke=\"black\" d=\"M439.97,-750.98C428.1,-742.92 410.04,-730.65 395.89,-721.03\"/>\n<polygon fill=\"black\" stroke=\"black\" points=\"397.5,-717.9 387.26,-715.17 393.56,-723.69 397.5,-717.9\"/>\n</g>\n<!-- 135103040523424 -->\n<g id=\"node29\" class=\"node\">\n<title>135103040523424</title>\n<polygon fill=\"lightgrey\" stroke=\"black\" points=\"498,-825 409,-825 409,-806 498,-806 498,-825\"/>\n<text text-anchor=\"middle\" x=\"453.5\" y=\"-813\" font-family=\"monospace\" font-size=\"10.00\">AddBackward0</text>\n</g>\n<!-- 135103040523424&#45;&gt;135103040524048 -->\n<g id=\"edge33\" class=\"edge\">\n<title>135103040523424&#45;&gt;135103040524048</title>\n<path fill=\"none\" stroke=\"black\" d=\"M453.33,-805.75C453.2,-798.8 453.02,-788.85 452.85,-780.13\"/>\n<polygon fill=\"black\" stroke=\"black\" points=\"456.35,-780.02 452.66,-770.09 449.35,-780.15 456.35,-780.02\"/>\n</g>\n<!-- 135103040522992&#45;&gt;135103040523424 -->\n<g id=\"edge34\" class=\"edge\">\n<title>135103040522992&#45;&gt;135103040523424</title>\n<path fill=\"none\" stroke=\"black\" d=\"M1702.07,-1850.9C1697.16,-1832.72 1686.5,-1788.95 1686.5,-1751.5 1686.5,-1751.5 1686.5,-1751.5 1686.5,-924.5 1686.5,-864.49 747.3,-826.96 508.3,-818.39\"/>\n<polygon fill=\"black\" stroke=\"black\" points=\"508.23,-814.88 498.11,-818.02 507.98,-821.88 508.23,-814.88\"/>\n</g>\n<!-- 135103040526112&#45;&gt;135103040522992 -->\n<g id=\"edge36\" class=\"edge\">\n<title>135103040526112&#45;&gt;135103040522992</title>\n<path fill=\"none\" stroke=\"black\" d=\"M1723.7,-1905.75C1720.59,-1898.57 1716.08,-1888.18 1712.21,-1879.27\"/>\n<polygon fill=\"black\" stroke=\"black\" points=\"1715.42,-1877.87 1708.23,-1870.09 1709,-1880.66 1715.42,-1877.87\"/>\n</g>\n<!-- 135103040524240&#45;&gt;135103040523424 -->\n<g id=\"edge38\" class=\"edge\">\n<title>135103040524240&#45;&gt;135103040523424</title>\n<path fill=\"none\" stroke=\"black\" d=\"M453.5,-860.75C453.5,-853.8 453.5,-843.85 453.5,-835.13\"/>\n<polygon fill=\"black\" stroke=\"black\" points=\"457,-835.09 453.5,-825.09 450,-835.09 457,-835.09\"/>\n</g>\n<!-- 135103040526160 -->\n<g id=\"node33\" class=\"node\">\n<title>135103040526160</title>\n<polygon fill=\"lightgrey\" stroke=\"black\" points=\"574,-935 479,-935 479,-916 574,-916 574,-935\"/>\n<text text-anchor=\"middle\" x=\"526.5\" y=\"-923\" font-family=\"monospace\" font-size=\"10.00\">TanhBackward0</text>\n</g>\n<!-- 135103040526160&#45;&gt;135103040524240 -->\n<g id=\"edge40\" class=\"edge\">\n<title>135103040526160&#45;&gt;135103040524240</title>\n<path fill=\"none\" stroke=\"black\" d=\"M514.77,-915.98C503.77,-908 487.08,-895.88 473.9,-886.31\"/>\n<polygon fill=\"black\" stroke=\"black\" points=\"475.59,-883.21 465.44,-880.17 471.48,-888.88 475.59,-883.21\"/>\n</g>\n<!-- 135103040526688 -->\n<g id=\"node34\" class=\"node\">\n<title>135103040526688</title>\n<polygon fill=\"lightgrey\" stroke=\"black\" points=\"609,-990 520,-990 520,-971 609,-971 609,-990\"/>\n<text text-anchor=\"middle\" x=\"564.5\" y=\"-978\" font-family=\"monospace\" font-size=\"10.00\">AddBackward0</text>\n</g>\n<!-- 135103040526688&#45;&gt;135103040526160 -->\n<g id=\"edge41\" class=\"edge\">\n<title>135103040526688&#45;&gt;135103040526160</title>\n<path fill=\"none\" stroke=\"black\" d=\"M558.23,-970.75C552.91,-963.34 545.14,-952.5 538.62,-943.41\"/>\n<polygon fill=\"black\" stroke=\"black\" points=\"541.33,-941.18 532.66,-935.09 535.64,-945.26 541.33,-941.18\"/>\n</g>\n<!-- 135103040526736&#45;&gt;135103040526688 -->\n<g id=\"edge42\" class=\"edge\">\n<title>135103040526736&#45;&gt;135103040526688</title>\n<path fill=\"none\" stroke=\"black\" d=\"M1534.68,-1851.18C1481.76,-1839.27 1406.5,-1811.75 1406.5,-1751.5 1406.5,-1751.5 1406.5,-1751.5 1406.5,-1089.5 1406.5,-1009.86 806.16,-987.71 619.32,-982.75\"/>\n<polygon fill=\"black\" stroke=\"black\" points=\"619.26,-979.24 609.18,-982.48 619.08,-986.24 619.26,-979.24\"/>\n</g>\n<!-- 135103040530240&#45;&gt;135103040526736 -->\n<g id=\"edge44\" class=\"edge\">\n<title>135103040530240&#45;&gt;135103040526736</title>\n<path fill=\"none\" stroke=\"black\" d=\"M1624.74,-1905.75C1618.03,-1898.18 1608.16,-1887.05 1599.99,-1877.84\"/>\n<polygon fill=\"black\" stroke=\"black\" points=\"1602.37,-1875.25 1593.12,-1870.09 1597.13,-1879.89 1602.37,-1875.25\"/>\n</g>\n<!-- 135103040522800&#45;&gt;135103040526688 -->\n<g id=\"edge46\" class=\"edge\">\n<title>135103040522800&#45;&gt;135103040526688</title>\n<path fill=\"none\" stroke=\"black\" d=\"M564.5,-1025.75C564.5,-1018.8 564.5,-1008.85 564.5,-1000.13\"/>\n<polygon fill=\"black\" stroke=\"black\" points=\"568,-1000.09 564.5,-990.09 561,-1000.09 568,-1000.09\"/>\n</g>\n<!-- 135103040530288 -->\n<g id=\"node38\" class=\"node\">\n<title>135103040530288</title>\n<polygon fill=\"lightgrey\" stroke=\"black\" points=\"691,-1100 596,-1100 596,-1081 691,-1081 691,-1100\"/>\n<text text-anchor=\"middle\" x=\"643.5\" y=\"-1088\" font-family=\"monospace\" font-size=\"10.00\">TanhBackward0</text>\n</g>\n<!-- 135103040530288&#45;&gt;135103040522800 -->\n<g id=\"edge48\" class=\"edge\">\n<title>135103040530288&#45;&gt;135103040522800</title>\n<path fill=\"none\" stroke=\"black\" d=\"M630.81,-1080.98C618.67,-1072.84 600.14,-1060.41 585.75,-1050.76\"/>\n<polygon fill=\"black\" stroke=\"black\" points=\"587.68,-1047.84 577.42,-1045.17 583.78,-1053.65 587.68,-1047.84\"/>\n</g>\n<!-- 135103040527552 -->\n<g id=\"node39\" class=\"node\">\n<title>135103040527552</title>\n<polygon fill=\"lightgrey\" stroke=\"black\" points=\"691,-1155 602,-1155 602,-1136 691,-1136 691,-1155\"/>\n<text text-anchor=\"middle\" x=\"646.5\" y=\"-1143\" font-family=\"monospace\" font-size=\"10.00\">AddBackward0</text>\n</g>\n<!-- 135103040527552&#45;&gt;135103040530288 -->\n<g id=\"edge49\" class=\"edge\">\n<title>135103040527552&#45;&gt;135103040530288</title>\n<path fill=\"none\" stroke=\"black\" d=\"M646,-1135.75C645.61,-1128.8 645.05,-1118.85 644.55,-1110.13\"/>\n<polygon fill=\"black\" stroke=\"black\" points=\"648.05,-1109.88 643.99,-1100.09 641.06,-1110.27 648.05,-1109.88\"/>\n</g>\n<!-- 135103040527504&#45;&gt;135103040527552 -->\n<g id=\"edge50\" class=\"edge\">\n<title>135103040527504&#45;&gt;135103040527552</title>\n<path fill=\"none\" stroke=\"black\" d=\"M1444.68,-1850.93C1411.08,-1836.14 1350.5,-1802.4 1350.5,-1751.5 1350.5,-1751.5 1350.5,-1751.5 1350.5,-1254.5 1350.5,-1188.94 867.28,-1157.88 701.52,-1149.16\"/>\n<polygon fill=\"black\" stroke=\"black\" points=\"701.24,-1145.64 691.07,-1148.61 700.88,-1152.63 701.24,-1145.64\"/>\n</g>\n<!-- 135103040526880&#45;&gt;135103040527504 -->\n<g id=\"edge52\" class=\"edge\">\n<title>135103040526880&#45;&gt;135103040527504</title>\n<path fill=\"none\" stroke=\"black\" d=\"M1426.43,-1905.75C1433.35,-1898.11 1443.57,-1886.82 1451.95,-1877.56\"/>\n<polygon fill=\"black\" stroke=\"black\" points=\"1454.6,-1879.85 1458.72,-1870.09 1449.41,-1875.15 1454.6,-1879.85\"/>\n</g>\n<!-- 135103040530144&#45;&gt;135103040527552 -->\n<g id=\"edge54\" class=\"edge\">\n<title>135103040530144&#45;&gt;135103040527552</title>\n<path fill=\"none\" stroke=\"black\" d=\"M646.5,-1190.75C646.5,-1183.8 646.5,-1173.85 646.5,-1165.13\"/>\n<polygon fill=\"black\" stroke=\"black\" points=\"650,-1165.09 646.5,-1155.09 643,-1165.09 650,-1165.09\"/>\n</g>\n<!-- 135103040526832 -->\n<g id=\"node43\" class=\"node\">\n<title>135103040526832</title>\n<polygon fill=\"lightgrey\" stroke=\"black\" points=\"772,-1265 677,-1265 677,-1246 772,-1246 772,-1265\"/>\n<text text-anchor=\"middle\" x=\"724.5\" y=\"-1253\" font-family=\"monospace\" font-size=\"10.00\">TanhBackward0</text>\n</g>\n<!-- 135103040526832&#45;&gt;135103040530144 -->\n<g id=\"edge56\" class=\"edge\">\n<title>135103040526832&#45;&gt;135103040530144</title>\n<path fill=\"none\" stroke=\"black\" d=\"M711.97,-1245.98C700.1,-1237.92 682.04,-1225.65 667.89,-1216.03\"/>\n<polygon fill=\"black\" stroke=\"black\" points=\"669.5,-1212.9 659.26,-1210.17 665.56,-1218.69 669.5,-1212.9\"/>\n</g>\n<!-- 135103040525920 -->\n<g id=\"node44\" class=\"node\">\n<title>135103040525920</title>\n<polygon fill=\"lightgrey\" stroke=\"black\" points=\"770,-1320 681,-1320 681,-1301 770,-1301 770,-1320\"/>\n<text text-anchor=\"middle\" x=\"725.5\" y=\"-1308\" font-family=\"monospace\" font-size=\"10.00\">AddBackward0</text>\n</g>\n<!-- 135103040525920&#45;&gt;135103040526832 -->\n<g id=\"edge57\" class=\"edge\">\n<title>135103040525920&#45;&gt;135103040526832</title>\n<path fill=\"none\" stroke=\"black\" d=\"M725.33,-1300.75C725.2,-1293.8 725.02,-1283.85 724.85,-1275.13\"/>\n<polygon fill=\"black\" stroke=\"black\" points=\"728.35,-1275.02 724.66,-1265.09 721.35,-1275.15 728.35,-1275.02\"/>\n</g>\n<!-- 135103040525872&#45;&gt;135103040525920 -->\n<g id=\"edge58\" class=\"edge\">\n<title>135103040525872&#45;&gt;135103040525920</title>\n<path fill=\"none\" stroke=\"black\" d=\"M1336.72,-1850.97C1316.85,-1834.2 1276.5,-1794.81 1276.5,-1751.5 1276.5,-1751.5 1276.5,-1751.5 1276.5,-1419.5 1276.5,-1319.05 919.39,-1310.34 780.16,-1310.76\"/>\n<polygon fill=\"black\" stroke=\"black\" points=\"780.11,-1307.26 770.12,-1310.81 780.14,-1314.26 780.11,-1307.26\"/>\n</g>\n<!-- 135103040525632&#45;&gt;135103040525872 -->\n<g id=\"edge60\" class=\"edge\">\n<title>135103040525632&#45;&gt;135103040525872</title>\n<path fill=\"none\" stroke=\"black\" d=\"M1327.46,-1905.75C1330.71,-1898.57 1335.42,-1888.18 1339.45,-1879.27\"/>\n<polygon fill=\"black\" stroke=\"black\" points=\"1342.67,-1880.64 1343.61,-1870.09 1336.3,-1877.75 1342.67,-1880.64\"/>\n</g>\n<!-- 135103040527360&#45;&gt;135103040525920 -->\n<g id=\"edge62\" class=\"edge\">\n<title>135103040527360&#45;&gt;135103040525920</title>\n<path fill=\"none\" stroke=\"black\" d=\"M725.5,-1355.75C725.5,-1348.8 725.5,-1338.85 725.5,-1330.13\"/>\n<polygon fill=\"black\" stroke=\"black\" points=\"729,-1330.09 725.5,-1320.09 722,-1330.09 729,-1330.09\"/>\n</g>\n<!-- 135103040525584 -->\n<g id=\"node48\" class=\"node\">\n<title>135103040525584</title>\n<polygon fill=\"lightgrey\" stroke=\"black\" points=\"842,-1430 747,-1430 747,-1411 842,-1411 842,-1430\"/>\n<text text-anchor=\"middle\" x=\"794.5\" y=\"-1418\" font-family=\"monospace\" font-size=\"10.00\">TanhBackward0</text>\n</g>\n<!-- 135103040525584&#45;&gt;135103040527360 -->\n<g id=\"edge64\" class=\"edge\">\n<title>135103040525584&#45;&gt;135103040527360</title>\n<path fill=\"none\" stroke=\"black\" d=\"M783.41,-1410.98C773.01,-1403 757.24,-1390.88 744.78,-1381.31\"/>\n<polygon fill=\"black\" stroke=\"black\" points=\"746.85,-1378.49 736.79,-1375.17 742.59,-1384.04 746.85,-1378.49\"/>\n</g>\n<!-- 135103040525440 -->\n<g id=\"node49\" class=\"node\">\n<title>135103040525440</title>\n<polygon fill=\"lightgrey\" stroke=\"black\" points=\"840,-1485 751,-1485 751,-1466 840,-1466 840,-1485\"/>\n<text text-anchor=\"middle\" x=\"795.5\" y=\"-1473\" font-family=\"monospace\" font-size=\"10.00\">AddBackward0</text>\n</g>\n<!-- 135103040525440&#45;&gt;135103040525584 -->\n<g id=\"edge65\" class=\"edge\">\n<title>135103040525440&#45;&gt;135103040525584</title>\n<path fill=\"none\" stroke=\"black\" d=\"M795.33,-1465.75C795.2,-1458.8 795.02,-1448.85 794.85,-1440.13\"/>\n<polygon fill=\"black\" stroke=\"black\" points=\"798.35,-1440.02 794.66,-1430.09 791.35,-1440.15 798.35,-1440.02\"/>\n</g>\n<!-- 135103040525392&#45;&gt;135103040525440 -->\n<g id=\"edge66\" class=\"edge\">\n<title>135103040525392&#45;&gt;135103040525440</title>\n<path fill=\"none\" stroke=\"black\" d=\"M1219.5,-1850.92C1202.53,-1833.76 1167.5,-1793.28 1167.5,-1751.5 1167.5,-1751.5 1167.5,-1751.5 1167.5,-1584.5 1167.5,-1519.24 953.68,-1490.86 850.25,-1480.94\"/>\n<polygon fill=\"black\" stroke=\"black\" points=\"850.28,-1477.43 840,-1479.99 849.63,-1484.4 850.28,-1477.43\"/>\n</g>\n<!-- 135103040525152&#45;&gt;135103040525392 -->\n<g id=\"edge68\" class=\"edge\">\n<title>135103040525152&#45;&gt;135103040525392</title>\n<path fill=\"none\" stroke=\"black\" d=\"M1228.5,-1905.75C1228.5,-1898.8 1228.5,-1888.85 1228.5,-1880.13\"/>\n<polygon fill=\"black\" stroke=\"black\" points=\"1232,-1880.09 1228.5,-1870.09 1225,-1880.09 1232,-1880.09\"/>\n</g>\n<!-- 135103040525728&#45;&gt;135103040525440 -->\n<g id=\"edge70\" class=\"edge\">\n<title>135103040525728&#45;&gt;135103040525440</title>\n<path fill=\"none\" stroke=\"black\" d=\"M795.5,-1520.75C795.5,-1513.8 795.5,-1503.85 795.5,-1495.13\"/>\n<polygon fill=\"black\" stroke=\"black\" points=\"799,-1495.09 795.5,-1485.09 792,-1495.09 799,-1495.09\"/>\n</g>\n<!-- 135103040525104 -->\n<g id=\"node53\" class=\"node\">\n<title>135103040525104</title>\n<polygon fill=\"lightgrey\" stroke=\"black\" points=\"908,-1595 813,-1595 813,-1576 908,-1576 908,-1595\"/>\n<text text-anchor=\"middle\" x=\"860.5\" y=\"-1583\" font-family=\"monospace\" font-size=\"10.00\">TanhBackward0</text>\n</g>\n<!-- 135103040525104&#45;&gt;135103040525728 -->\n<g id=\"edge72\" class=\"edge\">\n<title>135103040525104&#45;&gt;135103040525728</title>\n<path fill=\"none\" stroke=\"black\" d=\"M850.06,-1575.98C840.35,-1568.07 825.68,-1556.11 814,-1546.58\"/>\n<polygon fill=\"black\" stroke=\"black\" points=\"816.1,-1543.78 806.13,-1540.17 811.67,-1549.2 816.1,-1543.78\"/>\n</g>\n<!-- 135103040524960 -->\n<g id=\"node54\" class=\"node\">\n<title>135103040524960</title>\n<polygon fill=\"lightgrey\" stroke=\"black\" points=\"907,-1650 818,-1650 818,-1631 907,-1631 907,-1650\"/>\n<text text-anchor=\"middle\" x=\"862.5\" y=\"-1638\" font-family=\"monospace\" font-size=\"10.00\">AddBackward0</text>\n</g>\n<!-- 135103040524960&#45;&gt;135103040525104 -->\n<g id=\"edge73\" class=\"edge\">\n<title>135103040524960&#45;&gt;135103040525104</title>\n<path fill=\"none\" stroke=\"black\" d=\"M862.17,-1630.75C861.91,-1623.8 861.53,-1613.85 861.2,-1605.13\"/>\n<polygon fill=\"black\" stroke=\"black\" points=\"864.7,-1604.95 860.82,-1595.09 857.7,-1605.21 864.7,-1604.95\"/>\n</g>\n<!-- 135103040524912&#45;&gt;135103040524960 -->\n<g id=\"edge74\" class=\"edge\">\n<title>135103040524912&#45;&gt;135103040524960</title>\n<path fill=\"none\" stroke=\"black\" d=\"M1103.51,-1850.74C1089.11,-1830.07 1050.73,-1777.25 1010.5,-1741 970.89,-1705.32 917.61,-1672.62 886.97,-1655.04\"/>\n<polygon fill=\"black\" stroke=\"black\" points=\"888.65,-1651.97 878.22,-1650.08 885.2,-1658.06 888.65,-1651.97\"/>\n</g>\n<!-- 135103040524480&#45;&gt;135103040524912 -->\n<g id=\"edge76\" class=\"edge\">\n<title>135103040524480&#45;&gt;135103040524912</title>\n<path fill=\"none\" stroke=\"black\" d=\"M1119.52,-1905.75C1117.93,-1898.72 1115.64,-1888.62 1113.65,-1879.84\"/>\n<polygon fill=\"black\" stroke=\"black\" points=\"1117.07,-1879.07 1111.44,-1870.09 1110.24,-1880.62 1117.07,-1879.07\"/>\n</g>\n<!-- 135103040525248&#45;&gt;135103040524960 -->\n<g id=\"edge78\" class=\"edge\">\n<title>135103040525248&#45;&gt;135103040524960</title>\n<path fill=\"none\" stroke=\"black\" d=\"M862.5,-1685.75C862.5,-1678.8 862.5,-1668.85 862.5,-1660.13\"/>\n<polygon fill=\"black\" stroke=\"black\" points=\"866,-1660.09 862.5,-1650.09 859,-1660.09 866,-1660.09\"/>\n</g>\n<!-- 135103040524432 -->\n<g id=\"node58\" class=\"node\">\n<title>135103040524432</title>\n<polygon fill=\"lightgrey\" stroke=\"black\" points=\"1002,-1760 907,-1760 907,-1741 1002,-1741 1002,-1760\"/>\n<text text-anchor=\"middle\" x=\"954.5\" y=\"-1748\" font-family=\"monospace\" font-size=\"10.00\">TanhBackward0</text>\n</g>\n<!-- 135103040524432&#45;&gt;135103040525248 -->\n<g id=\"edge80\" class=\"edge\">\n<title>135103040524432&#45;&gt;135103040525248</title>\n<path fill=\"none\" stroke=\"black\" d=\"M939.72,-1740.98C925.32,-1732.69 903.19,-1719.94 886.31,-1710.22\"/>\n<polygon fill=\"black\" stroke=\"black\" points=\"887.96,-1707.13 877.55,-1705.17 884.47,-1713.19 887.96,-1707.13\"/>\n</g>\n<!-- 135103040522944 -->\n<g id=\"node59\" class=\"node\">\n<title>135103040522944</title>\n<polygon fill=\"lightgrey\" stroke=\"black\" points=\"999,-1815 910,-1815 910,-1796 999,-1796 999,-1815\"/>\n<text text-anchor=\"middle\" x=\"954.5\" y=\"-1803\" font-family=\"monospace\" font-size=\"10.00\">AddBackward0</text>\n</g>\n<!-- 135103040522944&#45;&gt;135103040524432 -->\n<g id=\"edge81\" class=\"edge\">\n<title>135103040522944&#45;&gt;135103040524432</title>\n<path fill=\"none\" stroke=\"black\" d=\"M954.5,-1795.75C954.5,-1788.8 954.5,-1778.85 954.5,-1770.13\"/>\n<polygon fill=\"black\" stroke=\"black\" points=\"958,-1770.09 954.5,-1760.09 951,-1770.09 958,-1770.09\"/>\n</g>\n<!-- 135103040523040&#45;&gt;135103040522944 -->\n<g id=\"edge82\" class=\"edge\">\n<title>135103040523040&#45;&gt;135103040522944</title>\n<path fill=\"none\" stroke=\"black\" d=\"M984.56,-1850.75C979.52,-1843.34 972.16,-1832.5 965.99,-1823.41\"/>\n<polygon fill=\"black\" stroke=\"black\" points=\"968.85,-1821.39 960.33,-1815.09 963.06,-1825.33 968.85,-1821.39\"/>\n</g>\n<!-- 135103040523088&#45;&gt;135103040523040 -->\n<g id=\"edge84\" class=\"edge\">\n<title>135103040523088&#45;&gt;135103040523040</title>\n<path fill=\"none\" stroke=\"black\" d=\"M1005.53,-1905.75C1003.14,-1898.72 999.71,-1888.62 996.73,-1879.84\"/>\n<polygon fill=\"black\" stroke=\"black\" points=\"999.95,-1878.43 993.42,-1870.09 993.32,-1880.68 999.95,-1878.43\"/>\n</g>\n<!-- 135103040524768&#45;&gt;135103040522944 -->\n<g id=\"edge86\" class=\"edge\">\n<title>135103040524768&#45;&gt;135103040522944</title>\n<path fill=\"none\" stroke=\"black\" d=\"M884.84,-1850.98C897.59,-1842.84 917.05,-1830.41 932.17,-1820.76\"/>\n<polygon fill=\"black\" stroke=\"black\" points=\"934.38,-1823.5 940.92,-1815.17 930.61,-1817.6 934.38,-1823.5\"/>\n</g>\n<!-- 135103040523520 -->\n<g id=\"node63\" class=\"node\">\n<title>135103040523520</title>\n<polygon fill=\"lightgrey\" stroke=\"black\" points=\"904,-1925 827,-1925 827,-1906 904,-1906 904,-1925\"/>\n<text text-anchor=\"middle\" x=\"865.5\" y=\"-1913\" font-family=\"monospace\" font-size=\"10.00\">TBackward0</text>\n</g>\n<!-- 135103040523520&#45;&gt;135103040524768 -->\n<g id=\"edge88\" class=\"edge\">\n<title>135103040523520&#45;&gt;135103040524768</title>\n<path fill=\"none\" stroke=\"black\" d=\"M866.49,-1905.75C867.28,-1898.8 868.4,-1888.85 869.39,-1880.13\"/>\n<polygon fill=\"black\" stroke=\"black\" points=\"872.88,-1880.42 870.53,-1870.09 865.92,-1879.63 872.88,-1880.42\"/>\n</g>\n<!-- 135103040523184 -->\n<g id=\"node64\" class=\"node\">\n<title>135103040523184</title>\n<polygon fill=\"lightgrey\" stroke=\"black\" points=\"662,-1986 561,-1986 561,-1967 662,-1967 662,-1986\"/>\n<text text-anchor=\"middle\" x=\"611.5\" y=\"-1974\" font-family=\"monospace\" font-size=\"10.00\">AccumulateGrad</text>\n</g>\n<!-- 135103040523184&#45;&gt;135103040523520 -->\n<g id=\"edge89\" class=\"edge\">\n<title>135103040523184&#45;&gt;135103040523520</title>\n<path fill=\"none\" stroke=\"black\" d=\"M648.16,-1966.98C693.28,-1956.5 769.92,-1938.7 819.1,-1927.28\"/>\n<polygon fill=\"black\" stroke=\"black\" points=\"819.9,-1930.69 828.85,-1925.01 818.32,-1923.87 819.9,-1930.69\"/>\n</g>\n<!-- 135103040522368 -->\n<g id=\"node66\" class=\"node\">\n<title>135103040522368</title>\n<polygon fill=\"lightgrey\" stroke=\"black\" points=\"889,-1760 812,-1760 812,-1741 889,-1741 889,-1760\"/>\n<text text-anchor=\"middle\" x=\"850.5\" y=\"-1748\" font-family=\"monospace\" font-size=\"10.00\">TBackward0</text>\n</g>\n<!-- 135103040523184&#45;&gt;135103040522368 -->\n<g id=\"edge92\" class=\"edge\">\n<title>135103040523184&#45;&gt;135103040522368</title>\n<path fill=\"none\" stroke=\"black\" d=\"M655.86,-1966.95C685.45,-1959.57 724.02,-1946.61 752.5,-1925 776.37,-1906.89 817.17,-1841.84 830.5,-1815 837.66,-1800.59 842.95,-1783.07 846.28,-1770.09\"/>\n<polygon fill=\"black\" stroke=\"black\" points=\"849.76,-1770.58 848.71,-1760.04 842.96,-1768.94 849.76,-1770.58\"/>\n</g>\n<!-- 135103040525056 -->\n<g id=\"node67\" class=\"node\">\n<title>135103040525056</title>\n<polygon fill=\"lightgrey\" stroke=\"black\" points=\"822,-1815 745,-1815 745,-1796 822,-1796 822,-1815\"/>\n<text text-anchor=\"middle\" x=\"783.5\" y=\"-1803\" font-family=\"monospace\" font-size=\"10.00\">TBackward0</text>\n</g>\n<!-- 135103040523184&#45;&gt;135103040525056 -->\n<g id=\"edge94\" class=\"edge\">\n<title>135103040523184&#45;&gt;135103040525056</title>\n<path fill=\"none\" stroke=\"black\" d=\"M650.23,-1966.95C675.78,-1959.57 708.47,-1946.61 730.5,-1925 759.09,-1896.95 773.53,-1850.75 779.68,-1825.1\"/>\n<polygon fill=\"black\" stroke=\"black\" points=\"783.13,-1825.72 781.89,-1815.2 776.3,-1824.2 783.13,-1825.72\"/>\n</g>\n<!-- 135103040525536 -->\n<g id=\"node68\" class=\"node\">\n<title>135103040525536</title>\n<polygon fill=\"lightgrey\" stroke=\"black\" points=\"755,-1595 678,-1595 678,-1576 755,-1576 755,-1595\"/>\n<text text-anchor=\"middle\" x=\"716.5\" y=\"-1583\" font-family=\"monospace\" font-size=\"10.00\">TBackward0</text>\n</g>\n<!-- 135103040523184&#45;&gt;135103040525536 -->\n<g id=\"edge96\" class=\"edge\">\n<title>135103040523184&#45;&gt;135103040525536</title>\n<path fill=\"none\" stroke=\"black\" d=\"M619.21,-1966.82C627.35,-1957.22 640.02,-1940.99 647.5,-1925 701.05,-1810.57 703.37,-1775.31 719.5,-1650 721.42,-1635.08 720.45,-1618.05 719.11,-1605.39\"/>\n<polygon fill=\"black\" stroke=\"black\" points=\"722.55,-1604.67 717.86,-1595.17 715.6,-1605.52 722.55,-1604.67\"/>\n</g>\n<!-- 135103040526016 -->\n<g id=\"node69\" class=\"node\">\n<title>135103040526016</title>\n<polygon fill=\"lightgrey\" stroke=\"black\" points=\"711,-1650 634,-1650 634,-1631 711,-1631 711,-1650\"/>\n<text text-anchor=\"middle\" x=\"672.5\" y=\"-1638\" font-family=\"monospace\" font-size=\"10.00\">TBackward0</text>\n</g>\n<!-- 135103040523184&#45;&gt;135103040526016 -->\n<g id=\"edge98\" class=\"edge\">\n<title>135103040523184&#45;&gt;135103040526016</title>\n<path fill=\"none\" stroke=\"black\" d=\"M615.29,-1966.82C623.15,-1948.02 640.5,-1901.94 640.5,-1861.5 640.5,-1861.5 640.5,-1861.5 640.5,-1804.5 640.5,-1757.77 666.84,-1751.1 674.5,-1705 675.88,-1696.67 674.69,-1694.44 674.5,-1686 674.31,-1677.49 673.91,-1668.06 673.52,-1660.09\"/>\n<polygon fill=\"black\" stroke=\"black\" points=\"677.01,-1659.83 673,-1650.03 670.02,-1660.2 677.01,-1659.83\"/>\n</g>\n<!-- 135103040527648 -->\n<g id=\"node70\" class=\"node\">\n<title>135103040527648</title>\n<polygon fill=\"lightgrey\" stroke=\"black\" points=\"632,-1705 555,-1705 555,-1686 632,-1686 632,-1705\"/>\n<text text-anchor=\"middle\" x=\"593.5\" y=\"-1693\" font-family=\"monospace\" font-size=\"10.00\">TBackward0</text>\n</g>\n<!-- 135103040523184&#45;&gt;135103040527648 -->\n<g id=\"edge100\" class=\"edge\">\n<title>135103040523184&#45;&gt;135103040527648</title>\n<path fill=\"none\" stroke=\"black\" d=\"M605.16,-1966.85C592.33,-1948.45 564.5,-1903.67 564.5,-1861.5 564.5,-1861.5 564.5,-1861.5 564.5,-1804.5 564.5,-1771.95 576.94,-1735.71 585.53,-1714.57\"/>\n<polygon fill=\"black\" stroke=\"black\" points=\"588.8,-1715.82 589.47,-1705.25 582.35,-1713.09 588.8,-1715.82\"/>\n</g>\n<!-- 135103040526208 -->\n<g id=\"node71\" class=\"node\">\n<title>135103040526208</title>\n<polygon fill=\"lightgrey\" stroke=\"black\" points=\"346,-1760 269,-1760 269,-1741 346,-1741 346,-1760\"/>\n<text text-anchor=\"middle\" x=\"307.5\" y=\"-1748\" font-family=\"monospace\" font-size=\"10.00\">TBackward0</text>\n</g>\n<!-- 135103040523184&#45;&gt;135103040526208 -->\n<g id=\"edge102\" class=\"edge\">\n<title>135103040523184&#45;&gt;135103040526208</title>\n<path fill=\"none\" stroke=\"black\" d=\"M563.41,-1966.99C511.94,-1957.29 434.22,-1940.72 408.5,-1925 350.28,-1889.42 322.04,-1806.81 311.98,-1769.9\"/>\n<polygon fill=\"black\" stroke=\"black\" points=\"315.31,-1768.82 309.42,-1760.01 308.53,-1770.57 315.31,-1768.82\"/>\n</g>\n<!-- 135103040523904 -->\n<g id=\"node72\" class=\"node\">\n<title>135103040523904</title>\n<polygon fill=\"lightgrey\" stroke=\"black\" points=\"270,-1815 193,-1815 193,-1796 270,-1796 270,-1815\"/>\n<text text-anchor=\"middle\" x=\"231.5\" y=\"-1803\" font-family=\"monospace\" font-size=\"10.00\">TBackward0</text>\n</g>\n<!-- 135103040523184&#45;&gt;135103040523904 -->\n<g id=\"edge104\" class=\"edge\">\n<title>135103040523184&#45;&gt;135103040523904</title>\n<path fill=\"none\" stroke=\"black\" d=\"M560.85,-1968.69C483.45,-1957.97 342.57,-1937.15 322.5,-1925 282.15,-1900.57 253.2,-1851.05 239.82,-1824.41\"/>\n<polygon fill=\"black\" stroke=\"black\" points=\"242.84,-1822.6 235.33,-1815.13 236.54,-1825.65 242.84,-1822.6\"/>\n</g>\n<!-- 135103040528944 -->\n<g id=\"node73\" class=\"node\">\n<title>135103040528944</title>\n<polygon fill=\"lightgrey\" stroke=\"black\" points=\"136,-1540 59,-1540 59,-1521 136,-1521 136,-1540\"/>\n<text text-anchor=\"middle\" x=\"97.5\" y=\"-1528\" font-family=\"monospace\" font-size=\"10.00\">TBackward0</text>\n</g>\n<!-- 135103040523184&#45;&gt;135103040528944 -->\n<g id=\"edge106\" class=\"edge\">\n<title>135103040523184&#45;&gt;135103040528944</title>\n<path fill=\"none\" stroke=\"black\" d=\"M560.95,-1968.49C485.12,-1957.78 345.59,-1937.31 296.5,-1925 212.59,-1903.96 112.5,-1948.01 112.5,-1861.5 112.5,-1861.5 112.5,-1861.5 112.5,-1639.5 112.5,-1607.89 106.12,-1571.56 101.68,-1550.13\"/>\n<polygon fill=\"black\" stroke=\"black\" points=\"105.05,-1549.16 99.52,-1540.12 98.21,-1550.64 105.05,-1549.16\"/>\n</g>\n<!-- 135103040528416 -->\n<g id=\"node74\" class=\"node\">\n<title>135103040528416</title>\n<polygon fill=\"lightgrey\" stroke=\"black\" points=\"77,-1485 0,-1485 0,-1466 77,-1466 77,-1485\"/>\n<text text-anchor=\"middle\" x=\"38.5\" y=\"-1473\" font-family=\"monospace\" font-size=\"10.00\">TBackward0</text>\n</g>\n<!-- 135103040523184&#45;&gt;135103040528416 -->\n<g id=\"edge108\" class=\"edge\">\n<title>135103040523184&#45;&gt;135103040528416</title>\n<path fill=\"none\" stroke=\"black\" d=\"M560.93,-1968.24C543.11,-1965.79 522.94,-1963.13 504.5,-1961 397.58,-1948.63 30.5,-1969.13 30.5,-1861.5 30.5,-1861.5 30.5,-1861.5 30.5,-1584.5 30.5,-1553.1 33.9,-1516.71 36.27,-1495.2\"/>\n<polygon fill=\"black\" stroke=\"black\" points=\"39.76,-1495.5 37.42,-1485.16 32.81,-1494.7 39.76,-1495.5\"/>\n</g>\n<!-- 135103111330560 -->\n<g id=\"node65\" class=\"node\">\n<title>135103111330560</title>\n<polygon fill=\"lightblue\" stroke=\"black\" points=\"653,-2059 570,-2059 570,-2028 653,-2028 653,-2059\"/>\n<text text-anchor=\"middle\" x=\"611.5\" y=\"-2035\" font-family=\"monospace\" font-size=\"10.00\"> (120, 120)</text>\n</g>\n<!-- 135103111330560&#45;&gt;135103040523184 -->\n<g id=\"edge90\" class=\"edge\">\n<title>135103111330560&#45;&gt;135103040523184</title>\n<path fill=\"none\" stroke=\"black\" d=\"M611.5,-2027.75C611.5,-2018.39 611.5,-2006.19 611.5,-1996.16\"/>\n<polygon fill=\"black\" stroke=\"black\" points=\"615,-1996.02 611.5,-1986.02 608,-1996.02 615,-1996.02\"/>\n</g>\n<!-- 135103040522368&#45;&gt;135103040525248 -->\n<g id=\"edge91\" class=\"edge\">\n<title>135103040522368&#45;&gt;135103040525248</title>\n<path fill=\"none\" stroke=\"black\" d=\"M852.48,-1740.75C854.07,-1733.72 856.36,-1723.62 858.35,-1714.84\"/>\n<polygon fill=\"black\" stroke=\"black\" points=\"861.76,-1715.62 860.56,-1705.09 854.93,-1714.07 861.76,-1715.62\"/>\n</g>\n<!-- 135103040525056&#45;&gt;135103040525728 -->\n<g id=\"edge93\" class=\"edge\">\n<title>135103040525056&#45;&gt;135103040525728</title>\n<path fill=\"none\" stroke=\"black\" d=\"M783.5,-1795.82C783.5,-1777.48 783.5,-1733.44 783.5,-1696.5 783.5,-1696.5 783.5,-1696.5 783.5,-1639.5 783.5,-1608 788.61,-1571.64 792.16,-1550.16\"/>\n<polygon fill=\"black\" stroke=\"black\" points=\"795.63,-1550.59 793.88,-1540.14 788.74,-1549.4 795.63,-1550.59\"/>\n</g>\n<!-- 135103040525536&#45;&gt;135103040527360 -->\n<g id=\"edge95\" class=\"edge\">\n<title>135103040525536&#45;&gt;135103040527360</title>\n<path fill=\"none\" stroke=\"black\" d=\"M716.85,-1575.95C718.17,-1543.95 722.85,-1430.68 724.72,-1385.4\"/>\n<polygon fill=\"black\" stroke=\"black\" points=\"728.22,-1385.36 725.14,-1375.22 721.23,-1385.07 728.22,-1385.36\"/>\n</g>\n<!-- 135103040526016&#45;&gt;135103040530144 -->\n<g id=\"edge97\" class=\"edge\">\n<title>135103040526016&#45;&gt;135103040530144</title>\n<path fill=\"none\" stroke=\"black\" d=\"M668.99,-1630.99C661.9,-1612.97 646.5,-1569.49 646.5,-1531.5 646.5,-1531.5 646.5,-1531.5 646.5,-1309.5 646.5,-1278.19 646.5,-1241.77 646.5,-1220.23\"/>\n<polygon fill=\"black\" stroke=\"black\" points=\"650,-1220.18 646.5,-1210.18 643,-1220.18 650,-1220.18\"/>\n</g>\n<!-- 135103040527648&#45;&gt;135103040522800 -->\n<g id=\"edge99\" class=\"edge\">\n<title>135103040527648&#45;&gt;135103040522800</title>\n<path fill=\"none\" stroke=\"black\" d=\"M589.47,-1685.75C581.5,-1667.64 564.5,-1624.55 564.5,-1586.5 564.5,-1586.5 564.5,-1586.5 564.5,-1144.5 564.5,-1113.19 564.5,-1076.77 564.5,-1055.23\"/>\n<polygon fill=\"black\" stroke=\"black\" points=\"568,-1055.18 564.5,-1045.18 561,-1055.18 568,-1055.18\"/>\n</g>\n<!-- 135103040526208&#45;&gt;135103040524240 -->\n<g id=\"edge101\" class=\"edge\">\n<title>135103040526208&#45;&gt;135103040524240</title>\n<path fill=\"none\" stroke=\"black\" d=\"M309.39,-1740.87C313.21,-1722.62 321.5,-1678.75 321.5,-1641.5 321.5,-1641.5 321.5,-1641.5 321.5,-979.5 321.5,-930.09 377.58,-899.21 416.63,-883.69\"/>\n<polygon fill=\"black\" stroke=\"black\" points=\"418.04,-886.9 426.15,-880.08 415.56,-880.36 418.04,-886.9\"/>\n</g>\n<!-- 135103040523904&#45;&gt;135103040527168 -->\n<g id=\"edge103\" class=\"edge\">\n<title>135103040523904&#45;&gt;135103040527168</title>\n<path fill=\"none\" stroke=\"black\" d=\"M227.47,-1795.75C219.5,-1777.64 202.5,-1734.55 202.5,-1696.5 202.5,-1696.5 202.5,-1696.5 202.5,-814.5 202.5,-758.97 267.6,-730.89 317.7,-717.5\"/>\n<polygon fill=\"black\" stroke=\"black\" points=\"318.67,-720.86 327.5,-715.01 316.95,-714.08 318.67,-720.86\"/>\n</g>\n<!-- 135103040528944&#45;&gt;135103040527936 -->\n<g id=\"edge105\" class=\"edge\">\n<title>135103040528944&#45;&gt;135103040527936</title>\n<path fill=\"none\" stroke=\"black\" d=\"M100.47,-1520.94C106.47,-1502.83 119.5,-1459.2 119.5,-1421.5 119.5,-1421.5 119.5,-1421.5 119.5,-649.5 119.5,-601.54 172.89,-570.02 209.61,-554.01\"/>\n<polygon fill=\"black\" stroke=\"black\" points=\"211.12,-557.17 219,-550.09 208.42,-550.71 211.12,-557.17\"/>\n</g>\n<!-- 135103040528416&#45;&gt;135103040528272 -->\n<g id=\"edge107\" class=\"edge\">\n<title>135103040528416&#45;&gt;135103040528272</title>\n<path fill=\"none\" stroke=\"black\" d=\"M41.47,-1465.94C47.47,-1447.83 60.5,-1404.2 60.5,-1366.5 60.5,-1366.5 60.5,-1366.5 60.5,-484.5 60.5,-430.89 122.71,-398.41 165.06,-382.5\"/>\n<polygon fill=\"black\" stroke=\"black\" points=\"166.34,-385.76 174.56,-379.08 163.97,-379.18 166.34,-385.76\"/>\n</g>\n<!-- 135103040529376 -->\n<g id=\"node75\" class=\"node\">\n<title>135103040529376</title>\n<polygon fill=\"lightgrey\" stroke=\"black\" points=\"2135,-251 2058,-251 2058,-232 2135,-232 2135,-251\"/>\n<text text-anchor=\"middle\" x=\"2096.5\" y=\"-239\" font-family=\"monospace\" font-size=\"10.00\">TBackward0</text>\n</g>\n<!-- 135103040529376&#45;&gt;135103040529136 -->\n<g id=\"edge109\" class=\"edge\">\n<title>135103040529376&#45;&gt;135103040529136</title>\n<path fill=\"none\" stroke=\"black\" d=\"M2079.15,-231.98C2061.93,-223.54 2035.3,-210.47 2015.35,-200.68\"/>\n<polygon fill=\"black\" stroke=\"black\" points=\"2016.69,-197.43 2006.17,-196.17 2013.6,-203.72 2016.69,-197.43\"/>\n</g>\n<!-- 135103040528032 -->\n<g id=\"node76\" class=\"node\">\n<title>135103040528032</title>\n<polygon fill=\"lightgrey\" stroke=\"black\" points=\"2149,-312 2048,-312 2048,-293 2149,-293 2149,-312\"/>\n<text text-anchor=\"middle\" x=\"2098.5\" y=\"-300\" font-family=\"monospace\" font-size=\"10.00\">AccumulateGrad</text>\n</g>\n<!-- 135103040528032&#45;&gt;135103040529376 -->\n<g id=\"edge110\" class=\"edge\">\n<title>135103040528032&#45;&gt;135103040529376</title>\n<path fill=\"none\" stroke=\"black\" d=\"M2098.2,-292.79C2097.93,-284.6 2097.5,-272.06 2097.15,-261.55\"/>\n<polygon fill=\"black\" stroke=\"black\" points=\"2100.63,-261.12 2096.8,-251.24 2093.64,-261.35 2100.63,-261.12\"/>\n</g>\n<!-- 135103111330720 -->\n<g id=\"node77\" class=\"node\">\n<title>135103111330720</title>\n<polygon fill=\"lightblue\" stroke=\"black\" points=\"2137,-385 2060,-385 2060,-354 2137,-354 2137,-385\"/>\n<text text-anchor=\"middle\" x=\"2098.5\" y=\"-361\" font-family=\"monospace\" font-size=\"10.00\"> (18, 120)</text>\n</g>\n<!-- 135103111330720&#45;&gt;135103040528032 -->\n<g id=\"edge111\" class=\"edge\">\n<title>135103111330720&#45;&gt;135103040528032</title>\n<path fill=\"none\" stroke=\"black\" d=\"M2098.5,-353.75C2098.5,-344.39 2098.5,-332.19 2098.5,-322.16\"/>\n<polygon fill=\"black\" stroke=\"black\" points=\"2102,-322.02 2098.5,-312.02 2095,-322.02 2102,-322.02\"/>\n</g>\n</g>\n</svg>\n",
            "text/plain": [
              "<graphviz.graphs.Digraph at 0x7ae020bd2470>"
            ]
          },
          "metadata": {},
          "execution_count": 22
        }
      ]
    },
    {
      "cell_type": "code",
      "source": [],
      "metadata": {
        "id": "gIwMPr-lNbwS"
      },
      "execution_count": 22,
      "outputs": []
    }
  ]
}