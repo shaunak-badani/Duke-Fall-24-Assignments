{
  "cells": [
    {
      "cell_type": "code",
      "execution_count": 1,
      "metadata": {
        "id": "9HJfWMksjV2z"
      },
      "outputs": [],
      "source": [
        "# For tips on running notebooks in Google Colab, see\n",
        "# https://pytorch.org/tutorials/beginner/colab\n",
        "%matplotlib inline"
      ]
    },
    {
      "cell_type": "markdown",
      "metadata": {
        "id": "aHxBOW_tjV2z"
      },
      "source": [
        "Sequence Models and Long Short-Term Memory Networks\n",
        "===================================================\n",
        "\n",
        "At this point, we have seen various feed-forward networks. That is,\n",
        "there is no state maintained by the network at all. This might not be\n",
        "the behavior we want. Sequence models are central to NLP: they are\n",
        "models where there is some sort of dependence through time between your\n",
        "inputs. The classical example of a sequence model is the Hidden Markov\n",
        "Model for part-of-speech tagging. Another example is the conditional\n",
        "random field.\n",
        "\n",
        "A recurrent neural network is a network that maintains some kind of\n",
        "state. For example, its output could be used as part of the next input,\n",
        "so that information can propagate along as the network passes over the\n",
        "sequence. In the case of an LSTM, for each element in the sequence,\n",
        "there is a corresponding *hidden state* $h_t$, which in principle can\n",
        "contain information from arbitrary points earlier in the sequence. We\n",
        "can use the hidden state to predict words in a language model,\n",
        "part-of-speech tags, and a myriad of other things.\n",
        "\n",
        "LSTMs in Pytorch\n",
        "----------------\n",
        "\n",
        "Before getting to the example, note a few things. Pytorch\\'s LSTM\n",
        "expects all of its inputs to be 3D tensors. The semantics of the axes of\n",
        "these tensors is important. The first axis is the sequence itself, the\n",
        "second indexes instances in the mini-batch, and the third indexes\n",
        "elements of the input. We haven\\'t discussed mini-batching, so let\\'s\n",
        "just ignore that and assume we will always have just 1 dimension on the\n",
        "second axis. If we want to run the sequence model over the sentence\n",
        "\\\"The cow jumped\\\", our input should look like\n",
        "\n",
        "$$\\begin{aligned}\n",
        "\\begin{bmatrix}\n",
        "\\overbrace{q_\\text{The}}^\\text{row vector} \\\\\n",
        "q_\\text{cow} \\\\\n",
        "q_\\text{jumped}\n",
        "\\end{bmatrix}\n",
        "\\end{aligned}$$\n",
        "\n",
        "Except remember there is an additional 2nd dimension with size 1.\n",
        "\n",
        "In addition, you could go through the sequence one at a time, in which\n",
        "case the 1st axis will have size 1 also.\n",
        "\n",
        "Let\\'s see a quick example.\n"
      ]
    },
    {
      "cell_type": "code",
      "execution_count": 2,
      "metadata": {
        "colab": {
          "base_uri": "https://localhost:8080/"
        },
        "id": "ajCH8VcOjV21",
        "outputId": "64a0d977-c3e3-4209-fab9-2d59a7e46395"
      },
      "outputs": [
        {
          "output_type": "execute_result",
          "data": {
            "text/plain": [
              "<torch._C.Generator at 0x7e9820e0e470>"
            ]
          },
          "metadata": {},
          "execution_count": 2
        }
      ],
      "source": [
        "# Author: Robert Guthrie\n",
        "\n",
        "import torch\n",
        "import torch.nn as nn\n",
        "import torch.nn.functional as F\n",
        "import torch.optim as optim\n",
        "\n",
        "torch.manual_seed(1)"
      ]
    },
    {
      "cell_type": "code",
      "execution_count": 3,
      "metadata": {
        "colab": {
          "base_uri": "https://localhost:8080/"
        },
        "id": "Qd3JV-tpjV22",
        "outputId": "5ceecab8-0719-4edf-f06e-7e2871cac110"
      },
      "outputs": [
        {
          "output_type": "stream",
          "name": "stdout",
          "text": [
            "tensor([[[-0.0187,  0.1713, -0.2944]],\n",
            "\n",
            "        [[-0.3521,  0.1026, -0.2971]],\n",
            "\n",
            "        [[-0.3191,  0.0781, -0.1957]],\n",
            "\n",
            "        [[-0.1634,  0.0941, -0.1637]],\n",
            "\n",
            "        [[-0.3368,  0.0959, -0.0538]]], grad_fn=<MkldnnRnnLayerBackward0>)\n",
            "----\n",
            "(tensor([[[-0.3368,  0.0959, -0.0538]]], grad_fn=<StackBackward0>), tensor([[[-0.9825,  0.4715, -0.0633]]], grad_fn=<StackBackward0>))\n"
          ]
        }
      ],
      "source": [
        "lstm = nn.LSTM(3, 3)  # Input dim is 3, output dim is 3\n",
        "inputs = [torch.randn(1, 3) for _ in range(5)]  # make a sequence of length 5\n",
        "\n",
        "# initialize the hidden state.\n",
        "hidden = (torch.randn(1, 1, 3),\n",
        "          torch.randn(1, 1, 3))\n",
        "for i in inputs:\n",
        "    # Step through the sequence one element at a time.\n",
        "    # after each step, hidden contains the hidden state.\n",
        "    out, hidden = lstm(i.view(1, 1, -1), hidden)\n",
        "\n",
        "# alternatively, we can do the entire sequence all at once.\n",
        "# the first value returned by LSTM is all of the hidden states throughout\n",
        "# the sequence. the second is just the most recent hidden state\n",
        "# (compare the last slice of \"out\" with \"hidden\" below, they are the same)\n",
        "# The reason for this is that:\n",
        "# \"out\" will give you access to all hidden states in the sequence\n",
        "# \"hidden\" will allow you to continue the sequence and backpropagate,\n",
        "# by passing it as an argument  to the lstm at a later time\n",
        "# Add the extra 2nd dimension\n",
        "inputs = torch.cat(inputs).view(len(inputs), 1, -1)\n",
        "hidden = (torch.randn(1, 1, 3), torch.randn(1, 1, 3))  # clean out hidden state\n",
        "out, hidden = lstm(inputs, hidden)\n",
        "print(out)\n",
        "print(\"----\")\n",
        "print(hidden)"
      ]
    },
    {
      "cell_type": "markdown",
      "metadata": {
        "id": "UjIOziUOjV22"
      },
      "source": [
        "Example: An LSTM for Part-of-Speech Tagging\n",
        "===========================================\n",
        "\n",
        "In this section, we will use an LSTM to get part of speech tags. We will\n",
        "not use Viterbi or Forward-Backward or anything like that, but as a\n",
        "(challenging) exercise to the reader, think about how Viterbi could be\n",
        "used after you have seen what is going on. In this example, we also\n",
        "refer to embeddings. If you are unfamiliar with embeddings, you can read\n",
        "up about them\n",
        "[here](https://pytorch.org/tutorials/beginner/nlp/word_embeddings_tutorial.html).\n",
        "\n",
        "The model is as follows: let our input sentence be $w_1, \\dots, w_M$,\n",
        "where $w_i \\in V$, our vocab. Also, let $T$ be our tag set, and $y_i$\n",
        "the tag of word $w_i$. Denote our prediction of the tag of word $w_i$ by\n",
        "$\\hat{y}_i$.\n",
        "\n",
        "This is a structure prediction, model, where our output is a sequence\n",
        "$\\hat{y}_1, \\dots, \\hat{y}_M$, where $\\hat{y}_i \\in T$.\n",
        "\n",
        "To do the prediction, pass an LSTM over the sentence. Denote the hidden\n",
        "state at timestep $i$ as $h_i$. Also, assign each tag a unique index\n",
        "(like how we had word\\_to\\_ix in the word embeddings section). Then our\n",
        "prediction rule for $\\hat{y}_i$ is\n",
        "\n",
        "$$\\hat{y}_i = \\text{argmax}_j \\  (\\log \\text{Softmax}(Ah_i + b))_j$$\n",
        "\n",
        "That is, take the log softmax of the affine map of the hidden state, and\n",
        "the predicted tag is the tag that has the maximum value in this vector.\n",
        "Note this implies immediately that the dimensionality of the target\n",
        "space of $A$ is $|T|$.\n",
        "\n",
        "Prepare data:\n"
      ]
    },
    {
      "cell_type": "code",
      "execution_count": 4,
      "metadata": {
        "colab": {
          "base_uri": "https://localhost:8080/"
        },
        "id": "d1tQbPuJjV23",
        "outputId": "247879ef-316a-4268-f6d5-d7be6fed3efe"
      },
      "outputs": [
        {
          "output_type": "stream",
          "name": "stdout",
          "text": [
            "{'The': 0, 'dog': 1, 'ate': 2, 'the': 3, 'apple': 4, 'Everybody': 5, 'read': 6, 'that': 7, 'book': 8}\n"
          ]
        }
      ],
      "source": [
        "def prepare_sequence(seq, to_ix):\n",
        "    idxs = [to_ix[w] for w in seq]\n",
        "    return torch.tensor(idxs, dtype=torch.long)\n",
        "\n",
        "\n",
        "training_data = [\n",
        "    # Tags are: DET - determiner; NN - noun; V - verb\n",
        "    # For example, the word \"The\" is a determiner\n",
        "    (\"The dog ate the apple\".split(), [\"DET\", \"NN\", \"V\", \"DET\", \"NN\"]),\n",
        "    (\"Everybody read that book\".split(), [\"NN\", \"V\", \"DET\", \"NN\"])\n",
        "]\n",
        "word_to_ix = {}\n",
        "# For each words-list (sentence) and tags-list in each tuple of training_data\n",
        "for sent, tags in training_data:\n",
        "    for word in sent:\n",
        "        if word not in word_to_ix:  # word has not been assigned an index yet\n",
        "            word_to_ix[word] = len(word_to_ix)  # Assign each word with a unique index\n",
        "print(word_to_ix)\n",
        "tag_to_ix = {\"DET\": 0, \"NN\": 1, \"V\": 2}  # Assign each tag with a unique index\n",
        "ix_to_tag = [\"DET\", \"NN\", \"V\"]\n",
        "\n",
        "# These will usually be more like 32 or 64 dimensional.\n",
        "# We will keep them small, so we can see how the weights change as we train.\n",
        "EMBEDDING_DIM = 6\n",
        "HIDDEN_DIM = 6"
      ]
    },
    {
      "cell_type": "markdown",
      "source": [
        "Create the model"
      ],
      "metadata": {
        "id": "vFzaCukg0ji2"
      }
    },
    {
      "cell_type": "code",
      "execution_count": 5,
      "metadata": {
        "id": "gP6m_YtajV23"
      },
      "outputs": [],
      "source": [
        "class LSTMTagger(nn.Module):\n",
        "\n",
        "    def __init__(self, embedding_dim, hidden_dim, vocab_size, tagset_size):\n",
        "        super(LSTMTagger, self).__init__()\n",
        "        self.hidden_dim = hidden_dim\n",
        "\n",
        "        self.word_embeddings = nn.Embedding(vocab_size, embedding_dim)\n",
        "\n",
        "        # The LSTM takes word embeddings as inputs, and outputs hidden states\n",
        "        # with dimensionality hidden_dim.\n",
        "        self.lstm = nn.LSTM(embedding_dim, hidden_dim)\n",
        "\n",
        "        # The linear layer that maps from hidden state space to tag space\n",
        "        self.hidden2tag = nn.Linear(hidden_dim, tagset_size)\n",
        "\n",
        "    def forward(self, sentence):\n",
        "        embeds = self.word_embeddings(sentence)\n",
        "        lstm_out, _ = self.lstm(embeds.view(len(sentence), 1, -1))\n",
        "        tag_space = self.hidden2tag(lstm_out.view(len(sentence), -1))\n",
        "        tag_scores = F.log_softmax(tag_space, dim=1)\n",
        "        return tag_scores"
      ]
    },
    {
      "cell_type": "markdown",
      "metadata": {
        "id": "SZSb1kuyjV24"
      },
      "source": [
        "Train the model:\n"
      ]
    },
    {
      "cell_type": "code",
      "execution_count": 6,
      "metadata": {
        "colab": {
          "base_uri": "https://localhost:8080/"
        },
        "id": "SIQ9q42cjV24",
        "outputId": "3b6d3c3e-daae-4b81-e45d-71929a3273b3"
      },
      "outputs": [
        {
          "output_type": "stream",
          "name": "stdout",
          "text": [
            "tensor([[-1.1389, -1.2024, -0.9693],\n",
            "        [-1.1065, -1.2200, -0.9834],\n",
            "        [-1.1286, -1.2093, -0.9726],\n",
            "        [-1.1190, -1.1960, -0.9916],\n",
            "        [-1.0137, -1.2642, -1.0366]])\n",
            "torch.Size([5, 3])\n",
            "['DET', 'NN', 'V', 'DET', 'NN']\n"
          ]
        }
      ],
      "source": [
        "model = LSTMTagger(EMBEDDING_DIM, HIDDEN_DIM, len(word_to_ix), len(tag_to_ix))\n",
        "loss_function = nn.NLLLoss()\n",
        "optimizer = optim.SGD(model.parameters(), lr=0.1)\n",
        "\n",
        "# See what the scores are before training\n",
        "# Note that element i,j of the output is the score for tag j for word i.\n",
        "# Here we don't need to train, so the code is wrapped in torch.no_grad()\n",
        "with torch.no_grad():\n",
        "    inputs = prepare_sequence(training_data[0][0], word_to_ix)\n",
        "    tag_scores = model(inputs)\n",
        "    print(tag_scores)\n",
        "\n",
        "for epoch in range(300):  # again, normally you would NOT do 300 epochs, it is toy data\n",
        "    for sentence, tags in training_data:\n",
        "        # Step 1. Remember that Pytorch accumulates gradients.\n",
        "        # We need to clear them out before each instance\n",
        "        model.zero_grad()\n",
        "\n",
        "        # Step 2. Get our inputs ready for the network, that is, turn them into\n",
        "        # Tensors of word indices.\n",
        "        sentence_in = prepare_sequence(sentence, word_to_ix)\n",
        "        targets = prepare_sequence(tags, tag_to_ix)\n",
        "\n",
        "        # Step 3. Run our forward pass.\n",
        "        tag_scores = model(sentence_in)\n",
        "\n",
        "        # Step 4. Compute the loss, gradients, and update the parameters by\n",
        "        #  calling optimizer.step()\n",
        "        loss = loss_function(tag_scores, targets)\n",
        "        loss.backward()\n",
        "        optimizer.step()\n",
        "\n",
        "# See what the scores are after training\n",
        "with torch.no_grad():\n",
        "    inputs = prepare_sequence(training_data[0][0], word_to_ix)\n",
        "    tag_scores = model(inputs)\n",
        "\n",
        "    # The sentence is \"the dog ate the apple\".  i,j corresponds to score for tag j\n",
        "    # for word i. The predicted tag is the maximum scoring tag.\n",
        "    # Here, we can see the predicted sequence below is 0 1 2 0 1\n",
        "    # since 0 is index of the maximum value of row 1,\n",
        "    # 1 is the index of maximum value of row 2, etc.\n",
        "    # Which is DET NOUN VERB DET NOUN, the correct sequence!\n",
        "    print(tag_scores.shape)\n",
        "    scores = tag_scores.argmax(axis = 1)\n",
        "\n",
        "    predicted_sequence = [ix_to_tag[score] for score in scores]\n",
        "    print(predicted_sequence)"
      ]
    },
    {
      "cell_type": "code",
      "source": [
        "import torch\n",
        "import torch.nn as nn\n",
        "\n",
        "# Define the LSTM\n",
        "lstm = nn.LSTM(input_size=10, hidden_size=20, num_layers=1, batch_first=True)\n",
        "\n",
        "# Example input\n",
        "batch_size = 1\n",
        "sequence_length = 1\n",
        "input_size = 10\n",
        "input_tensor = torch.randn(batch_size, sequence_length, input_size)\n",
        "\n",
        "# Forward pass\n",
        "output, (hidden_state, cell_state) = lstm(input_tensor)"
      ],
      "metadata": {
        "id": "0_4QMhxV7uc-"
      },
      "execution_count": 7,
      "outputs": []
    },
    {
      "cell_type": "code",
      "source": [
        "input_tensor.shape"
      ],
      "metadata": {
        "id": "vfnlhAbz8pXy",
        "outputId": "5a699e1d-1012-49f7-f3a0-a355bf79db0d",
        "colab": {
          "base_uri": "https://localhost:8080/"
        }
      },
      "execution_count": 8,
      "outputs": [
        {
          "output_type": "execute_result",
          "data": {
            "text/plain": [
              "torch.Size([1, 1, 10])"
            ]
          },
          "metadata": {},
          "execution_count": 8
        }
      ]
    },
    {
      "cell_type": "code",
      "source": [
        "hidden_state.shape"
      ],
      "metadata": {
        "id": "hGm-j0X68yPI",
        "outputId": "44e7d6bd-0430-4e22-f41f-c3fa50338fcd",
        "colab": {
          "base_uri": "https://localhost:8080/"
        }
      },
      "execution_count": 9,
      "outputs": [
        {
          "output_type": "execute_result",
          "data": {
            "text/plain": [
              "torch.Size([1, 1, 20])"
            ]
          },
          "metadata": {},
          "execution_count": 9
        }
      ]
    },
    {
      "cell_type": "code",
      "source": [
        "cell_state.shape"
      ],
      "metadata": {
        "id": "BvygDNGi87YL",
        "outputId": "ade200ec-4890-42ae-c950-079ebbd7914e",
        "colab": {
          "base_uri": "https://localhost:8080/"
        }
      },
      "execution_count": 10,
      "outputs": [
        {
          "output_type": "execute_result",
          "data": {
            "text/plain": [
              "torch.Size([1, 1, 20])"
            ]
          },
          "metadata": {},
          "execution_count": 10
        }
      ]
    },
    {
      "cell_type": "code",
      "source": [
        "for weights in lstm.all_weights:\n",
        "  for w in weights:\n",
        "    print(w.shape)\n",
        "  print(\"----\")"
      ],
      "metadata": {
        "id": "wy9V8quz8-e-",
        "outputId": "198e8c55-f503-4981-a64d-cd59f036a991",
        "colab": {
          "base_uri": "https://localhost:8080/"
        }
      },
      "execution_count": 11,
      "outputs": [
        {
          "output_type": "stream",
          "name": "stdout",
          "text": [
            "torch.Size([80, 10])\n",
            "torch.Size([80, 20])\n",
            "torch.Size([80])\n",
            "torch.Size([80])\n",
            "----\n"
          ]
        }
      ]
    },
    {
      "cell_type": "code",
      "source": [
        "lstm.weight_hh_l0.shape"
      ],
      "metadata": {
        "id": "cs3cIpK4DOhZ",
        "outputId": "e6b3b710-82df-45c1-b0b1-b47703ca2616",
        "colab": {
          "base_uri": "https://localhost:8080/"
        }
      },
      "execution_count": 12,
      "outputs": [
        {
          "output_type": "execute_result",
          "data": {
            "text/plain": [
              "torch.Size([80, 20])"
            ]
          },
          "metadata": {},
          "execution_count": 12
        }
      ]
    },
    {
      "cell_type": "code",
      "source": [
        "lstm.weight_ih_l0.shape"
      ],
      "metadata": {
        "id": "lN0xBS6PFfG1",
        "outputId": "b2de4ea3-e0bd-4bc4-f931-dd8cfbbb5386",
        "colab": {
          "base_uri": "https://localhost:8080/"
        }
      },
      "execution_count": 13,
      "outputs": [
        {
          "output_type": "execute_result",
          "data": {
            "text/plain": [
              "torch.Size([80, 10])"
            ]
          },
          "metadata": {},
          "execution_count": 13
        }
      ]
    },
    {
      "cell_type": "code",
      "source": [
        "lstm.bias_hh_l0.shape"
      ],
      "metadata": {
        "id": "SxTij6zRGhse",
        "outputId": "90adb645-d0b6-46be-90b8-86e6e29f9cd5",
        "colab": {
          "base_uri": "https://localhost:8080/"
        }
      },
      "execution_count": 14,
      "outputs": [
        {
          "output_type": "execute_result",
          "data": {
            "text/plain": [
              "torch.Size([80])"
            ]
          },
          "metadata": {},
          "execution_count": 14
        }
      ]
    },
    {
      "cell_type": "code",
      "source": [
        "lstm.bias_ih_l0.shape"
      ],
      "metadata": {
        "id": "fBGxIz2EHsz7",
        "outputId": "88e27a11-1a58-4aab-cf8e-16a393bd673b",
        "colab": {
          "base_uri": "https://localhost:8080/"
        }
      },
      "execution_count": 15,
      "outputs": [
        {
          "output_type": "execute_result",
          "data": {
            "text/plain": [
              "torch.Size([80])"
            ]
          },
          "metadata": {},
          "execution_count": 15
        }
      ]
    },
    {
      "cell_type": "markdown",
      "source": [
        "Vanishing gradient problem in RNNs"
      ],
      "metadata": {
        "id": "xtHAh1wfnJvV"
      }
    },
    {
      "cell_type": "code",
      "source": [
        "import torch\n",
        "import torch.nn as nn\n",
        "\n",
        "class RNNWithReLU(nn.Module):\n",
        "    def __init__(self, input_size, hidden_size, output_size):\n",
        "        super(RNNWithReLU, self).__init__()\n",
        "        self.hidden_size = hidden_size\n",
        "        self.rnn_cell = nn.RNNCell(input_size, hidden_size)\n",
        "        self.output_layer = nn.Linear(hidden_size, output_size)\n",
        "        self.relu = nn.ReLU()\n",
        "\n",
        "    def forward(self, x, seq_length):\n",
        "        h = torch.zeros(x.size(0), self.hidden_size)\n",
        "        for t in range(seq_length):\n",
        "            h = self.relu(self.rnn_cell(x[:, t, :], h))\n",
        "        output = self.output_layer(h)\n",
        "        return output\n",
        "\n",
        "# Create a long sequence\n",
        "seq_length = 1000\n",
        "input_size = 10\n",
        "hidden_size = 20\n",
        "output_size = 1\n",
        "batch_size = 32\n",
        "\n",
        "# Initialize the model\n",
        "model = RNNWithReLU(input_size, hidden_size, output_size)\n",
        "\n",
        "# Create input and target\n",
        "x = torch.randn(batch_size, seq_length, input_size)\n",
        "y = torch.randn(batch_size, output_size)\n",
        "\n",
        "# Train the model\n",
        "optimizer = torch.optim.Adam(model.parameters(), lr=0.001)\n",
        "criterion = nn.MSELoss()\n",
        "\n",
        "for epoch in range(100):\n",
        "    optimizer.zero_grad()\n",
        "    output = model(x, seq_length)\n",
        "    loss = criterion(output, y)\n",
        "    loss.backward()\n",
        "\n",
        "    # Check gradients\n",
        "    if epoch % 10 == 0:\n",
        "        print(f\"Epoch {epoch}, Loss: {loss.item():.4f}\")\n",
        "        print(f\"Gradient norm: {model.rnn_cell.weight_hh.grad.norm().item():.4f}\")\n",
        "\n",
        "    optimizer.step()\n"
      ],
      "metadata": {
        "id": "jnj48G62HwJ7",
        "outputId": "974d3d7e-af03-40a3-a769-bffedc54acd3",
        "colab": {
          "base_uri": "https://localhost:8080/"
        }
      },
      "execution_count": 16,
      "outputs": [
        {
          "output_type": "stream",
          "name": "stdout",
          "text": [
            "Epoch 0, Loss: 1.3160\n",
            "Gradient norm: 0.1498\n",
            "Epoch 10, Loss: 1.2415\n",
            "Gradient norm: 0.1417\n",
            "Epoch 20, Loss: 1.1728\n",
            "Gradient norm: 0.1423\n",
            "Epoch 30, Loss: 1.1015\n",
            "Gradient norm: 0.1494\n",
            "Epoch 40, Loss: 1.0224\n",
            "Gradient norm: 0.1766\n",
            "Epoch 50, Loss: 0.9377\n",
            "Gradient norm: 0.1758\n",
            "Epoch 60, Loss: 0.8472\n",
            "Gradient norm: 0.1998\n",
            "Epoch 70, Loss: 0.7543\n",
            "Gradient norm: 0.1913\n",
            "Epoch 80, Loss: 0.6599\n",
            "Gradient norm: 0.2087\n",
            "Epoch 90, Loss: 0.5642\n",
            "Gradient norm: 0.2052\n"
          ]
        }
      ]
    },
    {
      "cell_type": "code",
      "source": [
        "import torch\n",
        "import torch.nn as nn\n",
        "\n",
        "class LSTMModel(nn.Module):\n",
        "    def __init__(self, input_size, hidden_size, output_size):\n",
        "        super(LSTMModel, self).__init__()\n",
        "        self.hidden_size = hidden_size\n",
        "        self.lstm = nn.LSTM(input_size, hidden_size, batch_first=True)\n",
        "        self.fc = nn.Linear(hidden_size, output_size)\n",
        "\n",
        "    def forward(self, x):\n",
        "        _, (h_n, _) = self.lstm(x)\n",
        "        out = self.fc(h_n[-1])\n",
        "        return out\n",
        "\n",
        "# Create a long sequence\n",
        "seq_length = 1000\n",
        "input_size = 10\n",
        "hidden_size = 20\n",
        "output_size = 1\n",
        "batch_size = 32\n",
        "\n",
        "# Initialize the model\n",
        "model = LSTMModel(input_size, hidden_size, output_size)\n",
        "\n",
        "# Create input and target\n",
        "x = torch.randn(batch_size, seq_length, input_size)\n",
        "y = torch.randn(batch_size, output_size)\n",
        "\n",
        "# Train the model\n",
        "optimizer = torch.optim.Adam(model.parameters(), lr=0.001)\n",
        "criterion = nn.MSELoss()\n",
        "\n",
        "for epoch in range(100):\n",
        "    optimizer.zero_grad()\n",
        "    output = model(x)\n",
        "    loss = criterion(output, y)\n",
        "    loss.backward()\n",
        "\n",
        "    # Check gradients\n",
        "    if epoch % 10 == 0:\n",
        "        print(f\"Epoch {epoch}, Loss: {loss.item():.4f}\")\n",
        "        print(f\"Gradient norm: {model.lstm.weight_hh_l0.grad.norm().item():.4f}\")\n",
        "\n",
        "    optimizer.step()\n"
      ],
      "metadata": {
        "id": "vHS5EBfxLlii",
        "outputId": "098713a2-b5ab-4115-9b5b-bfb11feb6818",
        "colab": {
          "base_uri": "https://localhost:8080/"
        }
      },
      "execution_count": 17,
      "outputs": [
        {
          "output_type": "stream",
          "name": "stdout",
          "text": [
            "Epoch 0, Loss: 0.6817\n",
            "Gradient norm: 0.0325\n",
            "Epoch 10, Loss: 0.6407\n",
            "Gradient norm: 0.0315\n",
            "Epoch 20, Loss: 0.6006\n",
            "Gradient norm: 0.0341\n",
            "Epoch 30, Loss: 0.5582\n",
            "Gradient norm: 0.0399\n",
            "Epoch 40, Loss: 0.5105\n",
            "Gradient norm: 0.0474\n",
            "Epoch 50, Loss: 0.4558\n",
            "Gradient norm: 0.0524\n",
            "Epoch 60, Loss: 0.3960\n",
            "Gradient norm: 0.0511\n",
            "Epoch 70, Loss: 0.3339\n",
            "Gradient norm: 0.0531\n",
            "Epoch 80, Loss: 0.2665\n",
            "Gradient norm: 0.0609\n",
            "Epoch 90, Loss: 0.1937\n",
            "Gradient norm: 0.0686\n"
          ]
        }
      ]
    },
    {
      "cell_type": "markdown",
      "source": [
        "Doing the math manually for the LSTM to understand it better"
      ],
      "metadata": {
        "id": "M18TBNRRqRs9"
      }
    },
    {
      "cell_type": "code",
      "source": [
        "import torch\n",
        "import torch.nn as nn\n",
        "\n",
        "# Define the LSTM\n",
        "lstm = nn.LSTM(input_size=10, hidden_size=20, num_layers=1, batch_first=True)\n",
        "\n",
        "# Example input\n",
        "batch_size = 1\n",
        "sequence_length = 1\n",
        "input_size = 10\n",
        "input_tensor = torch.randn(batch_size, sequence_length, input_size)\n",
        "\n",
        "# Forward pass\n",
        "output, (hidden_state, cell_state) = lstm(input_tensor)"
      ],
      "metadata": {
        "id": "u5Evaa_boeLL"
      },
      "execution_count": 18,
      "outputs": []
    },
    {
      "cell_type": "code",
      "source": [
        "input_tensor"
      ],
      "metadata": {
        "id": "TKKial1Rqb2Y",
        "outputId": "cc998ef6-2641-43b2-f3c9-f64ce13aab35",
        "colab": {
          "base_uri": "https://localhost:8080/"
        }
      },
      "execution_count": 19,
      "outputs": [
        {
          "output_type": "execute_result",
          "data": {
            "text/plain": [
              "tensor([[[-1.7225, -2.0093, -0.1262,  1.9545, -0.1713,  0.1520, -1.9830,\n",
              "           2.2576, -1.2769,  0.7515]]])"
            ]
          },
          "metadata": {},
          "execution_count": 19
        }
      ]
    },
    {
      "cell_type": "code",
      "source": [
        "x_t = input_tensor.squeeze()"
      ],
      "metadata": {
        "id": "Tk5QUte6qetO"
      },
      "execution_count": 20,
      "outputs": []
    },
    {
      "cell_type": "code",
      "source": [
        "W_ii = lstm.weight_ih_l0[:hidden_size]\n",
        "W_if = lstm.weight_ih_l0[hidden_size:2*hidden_size]\n",
        "W_ig = lstm.weight_ih_l0[2*hidden_size:3*hidden_size]\n",
        "W_io = lstm.weight_ih_l0[3*hidden_size:]\n",
        "\n",
        "assert(W_ii.shape == (hidden_size, input_size))\n",
        "assert(W_if.shape == (hidden_size, input_size))\n",
        "assert(W_ig.shape == (hidden_size, input_size))\n",
        "assert(W_io.shape == (hidden_size, input_size))\n",
        "\n",
        "W_hi = lstm.weight_hh_l0[:hidden_size]\n",
        "W_hf = lstm.weight_hh_l0[hidden_size:2*hidden_size]\n",
        "W_hg = lstm.weight_hh_l0[2*hidden_size:3*hidden_size]\n",
        "W_ho = lstm.weight_hh_l0[3*hidden_size:]\n",
        "\n",
        "assert(W_hi.shape == (hidden_size, hidden_size))\n",
        "assert(W_hf.shape == (hidden_size, hidden_size))\n",
        "assert(W_hg.shape == (hidden_size, hidden_size))\n",
        "assert(W_ho.shape == (hidden_size, hidden_size))\n",
        "\n",
        "b_ii = lstm.bias_ih_l0[:hidden_size]\n",
        "b_if = lstm.bias_ih_l0[hidden_size:2*hidden_size]\n",
        "b_ig = lstm.bias_ih_l0[2*hidden_size:3*hidden_size]\n",
        "b_io = lstm.bias_ih_l0[3*hidden_size:4*hidden_size]\n",
        "\n",
        "assert(b_ii.shape == (hidden_size, ))\n",
        "assert(b_if.shape == (hidden_size, ))\n",
        "assert(b_ig.shape == (hidden_size, ))\n",
        "assert(b_io.shape == (hidden_size, ))\n",
        "\n",
        "b_hi = lstm.bias_hh_l0[:hidden_size]\n",
        "b_hf = lstm.bias_hh_l0[hidden_size:2*hidden_size]\n",
        "b_hg = lstm.bias_hh_l0[2*hidden_size:3*hidden_size]\n",
        "b_ho = lstm.bias_hh_l0[3*hidden_size:4*hidden_size]\n",
        "\n",
        "assert(b_ii.shape == (hidden_size, ))\n",
        "assert(b_if.shape == (hidden_size, ))\n",
        "assert(b_ig.shape == (hidden_size, ))"
      ],
      "metadata": {
        "id": "vq7uB1AuqkFF"
      },
      "execution_count": 21,
      "outputs": []
    },
    {
      "cell_type": "code",
      "source": [
        "h_t_1 = torch.zeros((hidden_size,))\n",
        "c_t_1 = torch.zeros((hidden_size,))"
      ],
      "metadata": {
        "id": "DnyzJMs_qq23"
      },
      "execution_count": 22,
      "outputs": []
    },
    {
      "cell_type": "code",
      "source": [
        "i_t = torch.sigmoid(W_ii @ x_t + b_ii + W_hi @ h_t_1 + b_hi)\n",
        "f_t = torch.sigmoid(W_if @ x_t + b_if + W_hf @ h_t_1 + b_hf)\n",
        "g_t = torch.tanh(W_ig @ x_t + b_ig + W_hg @ h_t_1 + b_hg)\n",
        "o_t = torch.sigmoid(W_io @ x_t + b_io + W_ho @ h_t_1 + b_ho)\n",
        "c_t = f_t * c_t_1 + i_t * g_t\n",
        "h_t = o_t * torch.tanh(c_t)"
      ],
      "metadata": {
        "id": "zQpi48X5rKqw"
      },
      "execution_count": 23,
      "outputs": []
    },
    {
      "cell_type": "code",
      "source": [
        "assert(torch.isclose(c_t, cell_state).all().item())\n",
        "assert(torch.isclose(h_t, hidden_state).all().item())\n",
        "assert(torch.isclose(output, hidden_state).all().item())"
      ],
      "metadata": {
        "id": "43Id5Kd1rtK9"
      },
      "execution_count": 24,
      "outputs": []
    },
    {
      "cell_type": "markdown",
      "source": [
        "For multiple sequences"
      ],
      "metadata": {
        "id": "d5OdLoQc0pN6"
      }
    },
    {
      "cell_type": "code",
      "source": [
        "import torch\n",
        "import torch.nn as nn\n",
        "\n",
        "# Define the LSTM\n",
        "lstm = nn.LSTM(input_size=10, hidden_size=20, num_layers=1, batch_first=True)\n",
        "\n",
        "# Example input\n",
        "batch_size = 1\n",
        "sequence_length = 4\n",
        "input_size = 10\n",
        "input_tensor = torch.randn(batch_size, sequence_length, input_size)\n",
        "\n",
        "# Forward pass\n",
        "output, (hidden_state, cell_state) = lstm(input_tensor)"
      ],
      "metadata": {
        "id": "jWUyOd4x0qUU"
      },
      "execution_count": 25,
      "outputs": []
    },
    {
      "cell_type": "code",
      "source": [
        "input_tensor.shape"
      ],
      "metadata": {
        "id": "nXumvwaS0sgu",
        "outputId": "f2dd6ebc-5f80-493c-ad2b-22f3a1489672",
        "colab": {
          "base_uri": "https://localhost:8080/"
        }
      },
      "execution_count": 26,
      "outputs": [
        {
          "output_type": "execute_result",
          "data": {
            "text/plain": [
              "torch.Size([1, 4, 10])"
            ]
          },
          "metadata": {},
          "execution_count": 26
        }
      ]
    },
    {
      "cell_type": "code",
      "source": [
        "i_t_s = input_tensor.squeeze()"
      ],
      "metadata": {
        "id": "kvZenuXU0uO4"
      },
      "execution_count": 35,
      "outputs": []
    },
    {
      "cell_type": "code",
      "source": [
        "W_ii = lstm.weight_ih_l0[:hidden_size]\n",
        "W_if = lstm.weight_ih_l0[hidden_size:2*hidden_size]\n",
        "W_ig = lstm.weight_ih_l0[2*hidden_size:3*hidden_size]\n",
        "W_io = lstm.weight_ih_l0[3*hidden_size:]\n",
        "\n",
        "assert(W_ii.shape == (hidden_size, input_size))\n",
        "assert(W_if.shape == (hidden_size, input_size))\n",
        "assert(W_ig.shape == (hidden_size, input_size))\n",
        "assert(W_io.shape == (hidden_size, input_size))\n",
        "\n",
        "W_hi = lstm.weight_hh_l0[:hidden_size]\n",
        "W_hf = lstm.weight_hh_l0[hidden_size:2*hidden_size]\n",
        "W_hg = lstm.weight_hh_l0[2*hidden_size:3*hidden_size]\n",
        "W_ho = lstm.weight_hh_l0[3*hidden_size:]\n",
        "\n",
        "assert(W_hi.shape == (hidden_size, hidden_size))\n",
        "assert(W_hf.shape == (hidden_size, hidden_size))\n",
        "assert(W_hg.shape == (hidden_size, hidden_size))\n",
        "assert(W_ho.shape == (hidden_size, hidden_size))\n",
        "\n",
        "b_ii = lstm.bias_ih_l0[:hidden_size]\n",
        "b_if = lstm.bias_ih_l0[hidden_size:2*hidden_size]\n",
        "b_ig = lstm.bias_ih_l0[2*hidden_size:3*hidden_size]\n",
        "b_io = lstm.bias_ih_l0[3*hidden_size:4*hidden_size]\n",
        "\n",
        "assert(b_ii.shape == (hidden_size, ))\n",
        "assert(b_if.shape == (hidden_size, ))\n",
        "assert(b_ig.shape == (hidden_size, ))\n",
        "assert(b_io.shape == (hidden_size, ))\n",
        "\n",
        "b_hi = lstm.bias_hh_l0[:hidden_size]\n",
        "b_hf = lstm.bias_hh_l0[hidden_size:2*hidden_size]\n",
        "b_hg = lstm.bias_hh_l0[2*hidden_size:3*hidden_size]\n",
        "b_ho = lstm.bias_hh_l0[3*hidden_size:4*hidden_size]\n",
        "\n",
        "assert(b_ii.shape == (hidden_size, ))\n",
        "assert(b_if.shape == (hidden_size, ))\n",
        "assert(b_ig.shape == (hidden_size, ))"
      ],
      "metadata": {
        "id": "Y1FkBhtkybkS"
      },
      "execution_count": 34,
      "outputs": []
    },
    {
      "cell_type": "code",
      "source": [
        "for weights in lstm.all_weights:\n",
        "  for w in weights:\n",
        "    print(w.shape)\n",
        "  print(\"----\")"
      ],
      "metadata": {
        "id": "1uAcstcXvXqU",
        "outputId": "c1154cce-5c0e-4fe5-ce56-c58b2d0ad1ff",
        "colab": {
          "base_uri": "https://localhost:8080/"
        }
      },
      "execution_count": 33,
      "outputs": [
        {
          "output_type": "stream",
          "name": "stdout",
          "text": [
            "torch.Size([80, 10])\n",
            "torch.Size([80, 20])\n",
            "torch.Size([80])\n",
            "torch.Size([80])\n",
            "----\n"
          ]
        }
      ]
    },
    {
      "cell_type": "code",
      "source": [
        "hidden = []\n",
        "h_t_1 = torch.zeros((hidden_size,))\n",
        "c_t_1 = torch.zeros((hidden_size,))\n",
        "for x_t in i_t_s:\n",
        "    i_t = torch.sigmoid(W_ii @ x_t + b_ii + W_hi @ h_t_1 + b_hi)\n",
        "    f_t = torch.sigmoid(W_if @ x_t + b_if + W_hf @ h_t_1 + b_hf)\n",
        "    g_t = torch.tanh(W_ig @ x_t + b_ig + W_hg @ h_t_1 + b_hg)\n",
        "    o_t = torch.sigmoid(W_io @ x_t + b_io + W_ho @ h_t_1 + b_ho)\n",
        "    c_t = f_t * c_t_1 + i_t * g_t\n",
        "    h_t = o_t * torch.tanh(c_t)\n",
        "    h_t_1 = h_t\n",
        "    c_t_1 = c_t\n",
        "    hidden.append(h_t.view(1, -1))"
      ],
      "metadata": {
        "id": "u-DvB9a3u97k"
      },
      "execution_count": 58,
      "outputs": []
    },
    {
      "cell_type": "code",
      "source": [
        "final_output = torch.cat(hidden)"
      ],
      "metadata": {
        "id": "e4Mk_FQpu_jB"
      },
      "execution_count": 59,
      "outputs": []
    },
    {
      "cell_type": "code",
      "source": [
        "assert(torch.isclose(final_output, output, 1e-4).all().item())"
      ],
      "metadata": {
        "id": "3qikCDN_yqTF"
      },
      "execution_count": 69,
      "outputs": []
    },
    {
      "cell_type": "markdown",
      "source": [
        "Using multiple batches"
      ],
      "metadata": {
        "id": "iEEHeEA71DZp"
      }
    },
    {
      "cell_type": "code",
      "source": [
        "import torch\n",
        "import torch.nn as nn\n",
        "\n",
        "# Define the LSTM\n",
        "lstm = nn.LSTM(input_size=10, hidden_size=20, num_layers=1, batch_first=True)\n",
        "\n",
        "# Example input\n",
        "batch_size = 5\n",
        "sequence_length = 4\n",
        "input_size = 10\n",
        "input_tensor = torch.randn(batch_size, sequence_length, input_size)\n",
        "\n",
        "# Forward pass\n",
        "output, (hidden_state, cell_state) = lstm(input_tensor)"
      ],
      "metadata": {
        "id": "xJOw3X0X1F4L"
      },
      "execution_count": 70,
      "outputs": []
    },
    {
      "cell_type": "code",
      "source": [
        "W_ii = lstm.weight_ih_l0[:hidden_size]\n",
        "W_if = lstm.weight_ih_l0[hidden_size:2*hidden_size]\n",
        "W_ig = lstm.weight_ih_l0[2*hidden_size:3*hidden_size]\n",
        "W_io = lstm.weight_ih_l0[3*hidden_size:]\n",
        "\n",
        "assert(W_ii.shape == (hidden_size, input_size))\n",
        "assert(W_if.shape == (hidden_size, input_size))\n",
        "assert(W_ig.shape == (hidden_size, input_size))\n",
        "assert(W_io.shape == (hidden_size, input_size))\n",
        "\n",
        "W_hi = lstm.weight_hh_l0[:hidden_size]\n",
        "W_hf = lstm.weight_hh_l0[hidden_size:2*hidden_size]\n",
        "W_hg = lstm.weight_hh_l0[2*hidden_size:3*hidden_size]\n",
        "W_ho = lstm.weight_hh_l0[3*hidden_size:]\n",
        "\n",
        "assert(W_hi.shape == (hidden_size, hidden_size))\n",
        "assert(W_hf.shape == (hidden_size, hidden_size))\n",
        "assert(W_hg.shape == (hidden_size, hidden_size))\n",
        "assert(W_ho.shape == (hidden_size, hidden_size))\n",
        "\n",
        "b_ii = lstm.bias_ih_l0[:hidden_size]\n",
        "b_if = lstm.bias_ih_l0[hidden_size:2*hidden_size]\n",
        "b_ig = lstm.bias_ih_l0[2*hidden_size:3*hidden_size]\n",
        "b_io = lstm.bias_ih_l0[3*hidden_size:4*hidden_size]\n",
        "\n",
        "assert(b_ii.shape == (hidden_size, ))\n",
        "assert(b_if.shape == (hidden_size, ))\n",
        "assert(b_ig.shape == (hidden_size, ))\n",
        "assert(b_io.shape == (hidden_size, ))\n",
        "\n",
        "b_hi = lstm.bias_hh_l0[:hidden_size]\n",
        "b_hf = lstm.bias_hh_l0[hidden_size:2*hidden_size]\n",
        "b_hg = lstm.bias_hh_l0[2*hidden_size:3*hidden_size]\n",
        "b_ho = lstm.bias_hh_l0[3*hidden_size:4*hidden_size]\n",
        "\n",
        "assert(b_ii.shape == (hidden_size, ))\n",
        "assert(b_if.shape == (hidden_size, ))\n",
        "assert(b_ig.shape == (hidden_size, ))"
      ],
      "metadata": {
        "id": "W2qGpevp1K1o"
      },
      "execution_count": 71,
      "outputs": []
    },
    {
      "cell_type": "code",
      "source": [
        "input_tensor.shape"
      ],
      "metadata": {
        "id": "dMaVIAoy1OJz",
        "outputId": "8d2b7cc1-5ef8-4c9b-db72-18656fd5a70f",
        "colab": {
          "base_uri": "https://localhost:8080/"
        }
      },
      "execution_count": 73,
      "outputs": [
        {
          "output_type": "execute_result",
          "data": {
            "text/plain": [
              "torch.Size([5, 4, 10])"
            ]
          },
          "metadata": {},
          "execution_count": 73
        }
      ]
    },
    {
      "cell_type": "code",
      "source": [
        "W_ii.shape"
      ],
      "metadata": {
        "id": "-BYM3jlz4FCW",
        "outputId": "e130b86e-6f45-41f4-8467-32c0af1bbb59",
        "colab": {
          "base_uri": "https://localhost:8080/"
        }
      },
      "execution_count": 82,
      "outputs": [
        {
          "output_type": "execute_result",
          "data": {
            "text/plain": [
              "torch.Size([20, 10])"
            ]
          },
          "metadata": {},
          "execution_count": 82
        }
      ]
    },
    {
      "cell_type": "code",
      "source": [
        "output_tensor = torch.zeros((batch_size, sequence_length, hidden_size))\n",
        "h_t_1 = torch.zeros((1, hidden_size))\n",
        "c_t_1 = torch.zeros((1, hidden_size))\n",
        "for i in range(sequence_length):\n",
        "    x_t = input_tensor[:, i, :] # x_t is of shape (input_size, batch_size) now\n",
        "    # print(x_t.shape)\n",
        "    # print(W_ii.T.shape)\n",
        "    # print(W_hi.shape)\n",
        "    # print(h_t_1.shape)\n",
        "    # print(b_hi.shape)\n",
        "    i_t = torch.sigmoid(x_t @ W_ii.T + b_ii + h_t_1 @ W_hi.T + b_hi)\n",
        "    f_t = torch.sigmoid(x_t @ W_if.T  + b_if + h_t_1 @ W_hf.T  + b_hf)\n",
        "    g_t = torch.tanh(x_t @ W_ig.T + b_ig + h_t_1 @ W_hg.T + b_hg)\n",
        "    o_t = torch.sigmoid(x_t @ W_io.T + b_io + h_t_1 @ W_ho.T  + b_ho)\n",
        "    c_t = f_t * c_t_1 + i_t * g_t\n",
        "    h_t = o_t * torch.tanh(c_t)\n",
        "    h_t_1 = h_t\n",
        "    c_t_1 = c_t\n",
        "    output_tensor[:, i, :] = h_t"
      ],
      "metadata": {
        "id": "CZTDdNp01Q1X"
      },
      "execution_count": 93,
      "outputs": []
    },
    {
      "cell_type": "code",
      "source": [
        "output.shape"
      ],
      "metadata": {
        "id": "EXyuM4cO1Zsu",
        "outputId": "02e577f5-447b-4429-fccb-bb4b32dfcb01",
        "colab": {
          "base_uri": "https://localhost:8080/"
        }
      },
      "execution_count": 94,
      "outputs": [
        {
          "output_type": "execute_result",
          "data": {
            "text/plain": [
              "torch.Size([5, 4, 20])"
            ]
          },
          "metadata": {},
          "execution_count": 94
        }
      ]
    },
    {
      "cell_type": "code",
      "source": [
        "output_tensor.shape"
      ],
      "metadata": {
        "id": "LaZvVSmf6Dew",
        "outputId": "f888d3b8-3c6c-41b2-808d-7daf2cb28baa",
        "colab": {
          "base_uri": "https://localhost:8080/"
        }
      },
      "execution_count": 95,
      "outputs": [
        {
          "output_type": "execute_result",
          "data": {
            "text/plain": [
              "torch.Size([5, 4, 20])"
            ]
          },
          "metadata": {},
          "execution_count": 95
        }
      ]
    },
    {
      "cell_type": "code",
      "source": [
        "assert(torch.isclose(output, output_tensor, 1e-4).all().item())"
      ],
      "metadata": {
        "id": "p1Pu2GqK6E5V"
      },
      "execution_count": 99,
      "outputs": []
    },
    {
      "cell_type": "code",
      "source": [],
      "metadata": {
        "id": "TxqpWwk_3Itm"
      },
      "execution_count": null,
      "outputs": []
    }
  ],
  "metadata": {
    "kernelspec": {
      "display_name": "Python 3",
      "language": "python",
      "name": "python3"
    },
    "language_info": {
      "codemirror_mode": {
        "name": "ipython",
        "version": 3
      },
      "file_extension": ".py",
      "mimetype": "text/x-python",
      "name": "python",
      "nbconvert_exporter": "python",
      "pygments_lexer": "ipython3",
      "version": "3.10.12"
    },
    "colab": {
      "provenance": []
    }
  },
  "nbformat": 4,
  "nbformat_minor": 0
}