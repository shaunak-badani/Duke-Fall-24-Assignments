{
 "cells": [
  {
   "cell_type": "markdown",
   "metadata": {
    "id": "_KH0ko-t-76q"
   },
   "source": [
    "<a href='https://ai.meng.duke.edu'> = <img align=\"left\" style=\"padding-top:10px;\" src=https://storage.googleapis.com/aipi_datasets/Duke-AIPI-Logo.png>"
   ]
  },
  {
   "cell_type": "markdown",
   "metadata": {
    "id": "msdp6rgQ-76r"
   },
   "source": [
    "# Validation Curves\n",
    "\n",
    "In this notebook we will look at one technique for comparing models of varying complexity using what is called a validation curve.  Validation curves can help us determine where the optimal tradeoff between bias and variance is for a given dataset and algorithm.  \n",
    "\n",
    "We will again use the sonar dataset we have previously used.  Details on the dataset can be found [here](https://archive.ics.uci.edu/ml/datasets/Connectionist+Bench+(Sonar,+Mines+vs.+Rocks))"
   ]
  },
  {
   "cell_type": "code",
   "execution_count": 1,
   "metadata": {
    "id": "1RsQpo9Z-76s"
   },
   "outputs": [],
   "source": [
    "# Import the libraries we know we need\n",
    "import numpy as np\n",
    "import pandas as pd\n",
    "import matplotlib.pyplot as plt\n",
    "import seaborn as sns\n",
    "from sklearn.model_selection import train_test_split\n",
    "from sklearn.model_selection import validation_curve\n",
    "from sklearn.linear_model import LogisticRegression, Ridge\n",
    "\n",
    "import warnings\n",
    "warnings.filterwarnings(\"ignore\")"
   ]
  },
  {
   "cell_type": "code",
   "execution_count": 2,
   "metadata": {
    "id": "j1STvaU9-76t"
   },
   "outputs": [],
   "source": [
    "def load_data(url):\n",
    "    # Load the data\n",
    "    data = pd.read_csv(url, header=None)\n",
    "\n",
    "    # Separate into X and y\n",
    "    # Create feature matrix using the first 60 columns as the features\n",
    "    X = data.iloc[:,:60].to_numpy()\n",
    "    # Create target vector from the last column\n",
    "    y = data.iloc[:,60].to_numpy()\n",
    "\n",
    "    # Covert the labels to 0s and 1s\n",
    "    y = np.where(y=='M',1,0)\n",
    "\n",
    "    return X,y\n",
    "\n",
    "X,y = load_data('https://raw.githubusercontent.com/jbrownlee/Datasets/master/sonar.csv')"
   ]
  },
  {
   "cell_type": "code",
   "execution_count": 3,
   "metadata": {
    "id": "Zy61PeRt-76t"
   },
   "outputs": [],
   "source": [
    "def split(X,y,pct):\n",
    "    # Split the data into training and test sets\n",
    "    X_train,X_test,y_train,y_test = train_test_split(X, y, random_state=0,test_size=pct)\n",
    "    return X_train, y_train, X_test, y_test\n",
    "\n",
    "X_train, y_train, X_test, y_test = split(X,y,pct=0.3)"
   ]
  },
  {
   "cell_type": "markdown",
   "metadata": {
    "id": "wSIIz7uz-76u"
   },
   "source": [
    "As we can see above, our Logistic Regression model has a hyperparameter C (the inverse of the regularization strength).  Applying more regularization (lower C) yields a simpler model, and less regularization (higher C) yields a more complex model.  We can use a validation curve to visualize the bias-variance tradeoff as we vary the value of C and select the optimal value."
   ]
  },
  {
   "cell_type": "markdown",
   "metadata": {
    "id": "m57LrkDlEKgD"
   },
   "source": [
    "Testing the ridge regression and custom coefficient computation to see if the math maths"
   ]
  },
  {
   "cell_type": "code",
   "execution_count": 4,
   "metadata": {
    "colab": {
     "base_uri": "https://localhost:8080/"
    },
    "id": "DOb2KJY-D8K-",
    "outputId": "b9ef8a90-fa7c-4aef-ab87-6a86129dd969"
   },
   "outputs": [
    {
     "data": {
      "text/plain": [
       "array([ 0.10967633,  0.12547775,  0.08404244,  0.26677585,  0.18258315,\n",
       "        0.01275444, -0.07070733, -0.07370046,  0.22204249,  0.19255432,\n",
       "        0.40110642,  0.37410447,  0.13031257, -0.0554834 , -0.0693545 ,\n",
       "       -0.17304701, -0.14000846,  0.01715386,  0.09724862,  0.08289729,\n",
       "        0.11157475,  0.0770232 ,  0.11651968,  0.12533869, -0.10563528,\n",
       "       -0.08589661,  0.01103846,  0.07783062,  0.05144037,  0.17474665,\n",
       "       -0.34045321,  0.04347291,  0.01683359, -0.12419499,  0.02354927,\n",
       "       -0.30404148, -0.19654663,  0.15642244,  0.11510812, -0.24962119,\n",
       "        0.06394397,  0.10273368,  0.18792467,  0.19665604,  0.27696721,\n",
       "        0.27853716,  0.238321  ,  0.25890818,  0.18230549, -0.00668947,\n",
       "        0.04231239,  0.04683817,  0.01935378,  0.03025635, -0.00444087,\n",
       "        0.0116636 , -0.00689251,  0.0290058 ,  0.03195406,  0.01435284])"
      ]
     },
     "execution_count": 4,
     "metadata": {},
     "output_type": "execute_result"
    }
   ],
   "source": [
    "linear_model = Ridge(alpha = 2)\n",
    "linear_model.fit(X, y)\n",
    "linear_model.coef_"
   ]
  },
  {
   "cell_type": "code",
   "execution_count": 5,
   "metadata": {
    "id": "kpt3PFRX_oJf"
   },
   "outputs": [],
   "source": [
    "def get_coefficients(X, y, lamda):\n",
    "    x_T_x = X.T @ X\n",
    "    i = np.identity(x_T_x.shape[0])\n",
    "    h = np.linalg.inv(x_T_x + lamda * i) @ X.T @ y\n",
    "    return h"
   ]
  },
  {
   "cell_type": "code",
   "execution_count": 6,
   "metadata": {
    "id": "rFQE7slCADAN"
   },
   "outputs": [],
   "source": [
    "\n",
    "computed_coefficients = get_coefficients(X, y, 2)"
   ]
  },
  {
   "cell_type": "code",
   "execution_count": 7,
   "metadata": {
    "colab": {
     "base_uri": "https://localhost:8080/"
    },
    "id": "GjoX3SQKDsUv",
    "outputId": "f96f50b4-3c1d-46a7-d854-7f8bf4d4bbb7"
   },
   "outputs": [
    {
     "data": {
      "text/plain": [
       "0.005307001282793186"
      ]
     },
     "execution_count": 7,
     "metadata": {},
     "output_type": "execute_result"
    }
   ],
   "source": [
    "np.linalg.norm(linear_model.coef_ - computed_coefficients)"
   ]
  },
  {
   "cell_type": "markdown",
   "metadata": {
    "id": "8DrtDesPERre"
   },
   "source": [
    "Back to Logistic Regression"
   ]
  },
  {
   "cell_type": "code",
   "execution_count": 8,
   "metadata": {
    "id": "ZDNe9SD4ECD9"
   },
   "outputs": [],
   "source": [
    "# Create a model - in this case we will use a Logistic Regression classification model\n",
    "model = LogisticRegression(penalty='l2',C=0.5)"
   ]
  },
  {
   "cell_type": "code",
   "execution_count": 9,
   "metadata": {
    "id": "Alh3J5eS-76v"
   },
   "outputs": [],
   "source": [
    "# Set the range of values we want to evaluate for the hyperparameter min_samples_leaf\n",
    "C_range=np.arange(0,1.,0.05)\n",
    "\n",
    "# Set up the validation curve\n",
    "train_scores,val_scores = validation_curve(estimator=model,\n",
    "                                           X=X_train,\n",
    "                                           y=y_train,\n",
    "                                           param_name='C',\n",
    "                                           param_range=C_range,\n",
    "                                           cv=10,\n",
    "                                          scoring='accuracy')"
   ]
  },
  {
   "cell_type": "code",
   "execution_count": 10,
   "metadata": {
    "colab": {
     "base_uri": "https://localhost:8080/",
     "height": 465
    },
    "id": "D6DsfaR6-76w",
    "outputId": "a4550999-6064-4911-f694-9ee8460ae093"
   },
   "outputs": [
    {
     "data": {
      "image/png": "[encoded data removed]",
      "text/plain": [
       "<Figure size 1000x500 with 1 Axes>"
      ]
     },
     "metadata": {},
     "output_type": "display_data"
    }
   ],
   "source": [
    "# Calculate the mean across the folds for the training accuracy and validation accuracy\n",
    "train_means = np.mean(train_scores,axis=1)\n",
    "val_means = np.mean(val_scores,axis=1)\n",
    "\n",
    "# Plot the mean training accuracy and validation accuracy\n",
    "plt.figure(figsize=(10,5))\n",
    "plt.plot(C_range,train_means,color='blue',marker='o',label='Training accuracy')\n",
    "plt.plot(C_range,val_means,color='green',marker='s',label='Validation accuracy')\n",
    "plt.legend()\n",
    "plt.xticks(ticks=np.arange(0,1,0.1))\n",
    "plt.xlabel('C (Inverse of regularization strength)')\n",
    "plt.ylabel('Accuracy')\n",
    "plt.show()"
   ]
  },
  {
   "cell_type": "markdown",
   "metadata": {
    "id": "a966v-pM-76x"
   },
   "source": [
    "As we can see above, there appears to be an optimal value of C around 0.2.  Above this, the training accuracy and validation accuracy diverge - training accuracy continues to improve as the model becomes more complex, but the validation accuracy remains flat or decreases slightly.  This is a good indication that the more complex models are overfitting the data."
   ]
  }
 ],
 "metadata": {
  "colab": {
   "provenance": []
  },
  "kernelspec": {
   "display_name": "ta-fresh-env",
   "language": "python",
   "name": "ta-fresh-env"
  },
  "language_info": {
   "codemirror_mode": {
    "name": "ipython",
    "version": 3
   },
   "file_extension": ".py",
   "mimetype": "text/x-python",
   "name": "python",
   "nbconvert_exporter": "python",
   "pygments_lexer": "ipython3",
   "version": "3.10.12"
  },
  "vscode": {
   "interpreter": {
    "hash": "31cc86d7aac4849c7546154c9b56d60163d5e8a1d83593a5eed18774fbf4fd37"
   }
  }
 },
 "nbformat": 4,
 "nbformat_minor": 1
}
